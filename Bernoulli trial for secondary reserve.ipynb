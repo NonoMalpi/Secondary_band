{
 "cells": [
  {
   "cell_type": "code",
   "execution_count": 1,
   "metadata": {
    "collapsed": true
   },
   "outputs": [],
   "source": [
    "import pandas as pd\n",
    "import numpy as np\n",
    "import matplotlib.pyplot as plt\n",
    "import seaborn.apionly as sns\n",
    "import warnings\n",
    "import json\n",
    "import datetime\n",
    "warnings.filterwarnings('ignore')\n",
    "plt.style.use('ggplot')\n",
    "%matplotlib inline"
   ]
  },
  {
   "cell_type": "code",
   "execution_count": 2,
   "metadata": {
    "collapsed": true
   },
   "outputs": [],
   "source": [
    "def get_clean_data(df_original):\n",
    "    weekday_dict = {\n",
    "        0:'Wd', 1:'Wd', 2:'Wd', 3:'Wd', 4:'Wd', 5:'F', 6:'F' \n",
    "    }\n",
    "    \n",
    "    df = df_original.copy(deep=True)\n",
    "    df['date'] =  pd.to_datetime(df['datetime'].apply(lambda x: x[:10]), format='%Y-%m-%d')\n",
    "    df['year'] = df['date'].dt.year\n",
    "    df['time'] = pd.to_datetime(df['datetime'].apply(lambda x: x[:19])).dt.time\n",
    "    df['month'] = df['date'].dt.month\n",
    "    df['day'] = df['date'].dt.day\n",
    "    df['hour'] = df['datetime'].apply(lambda x: x[11:13]).astype(int)\n",
    "    df['minute'] = df['datetime'].apply(lambda x: x[14:16]).astype(int)\n",
    "    df['weekday'] = df['date'].dt.dayofweek\n",
    "    df['weekday_label'] = df['weekday']\n",
    "    df.replace({'weekday_label':weekday_dict}, inplace=True)\n",
    "    df['season'] = np.where(df['month'].isin(list(range(4,10))), 'summer', 'winter')\n",
    "    df['date_hour'] = df.apply(lambda x: datetime.datetime.combine(x['date'], x['time']), axis=1)\n",
    "    df.set_index('date_hour', inplace=True)\n",
    "    df = df[df.index < '2017']\n",
    "    clean_df = df[['date', 'year', 'month', 'season', 'day','weekday','weekday_label','time', 'hour', 'minute', 'value']]\n",
    "    clean_df = clean_df[~clean_df.index.duplicated()]\n",
    "    clean_df['hour_label'] = np.where(clean_df['hour'].isin(np.arange(9,23)), 'Peak', 'off_peak')\n",
    "    #clean_df['value'] = np.log1p(clean_df['value'])\n",
    "    clean_df_freq = clean_df.asfreq('H')\n",
    "    \n",
    "    return clean_df_freq"
   ]
  },
  {
   "cell_type": "code",
   "execution_count": 3,
   "metadata": {
    "collapsed": false
   },
   "outputs": [],
   "source": [
    "sec_res_up_raw = pd.read_csv('2014_2016_training_files/export_EnergíaUtilizadaDeRegulaciónSecundariaSubir_2017-02-26_18-37.csv', \n",
    "                        encoding='latin1', delimiter=';')\n",
    "sec_res_up = get_clean_data(sec_res_up_raw)"
   ]
  },
  {
   "cell_type": "code",
   "execution_count": 4,
   "metadata": {
    "collapsed": false
   },
   "outputs": [
    {
     "name": "stdout",
     "output_type": "stream",
     "text": [
      "Non-use: 2766\n",
      "Total number of hours: 26304\n",
      "Prob of failure (non-use): 0.105155\n",
      "Prob of sucess: 0.894731 \n"
     ]
    }
   ],
   "source": [
    "#Non-use is defined if the secondary up reserve is lower than 1MW (minimum offer)\n",
    "print('Non-use: %d\\nTotal number of hours: %d\\nProb of failure (non-use): %.6f\\nProb of sucess: %.6f '%(\n",
    "        len(sec_res_up[sec_res_up['value'] < 1]), len(sec_res_up),\n",
    "        len(sec_res_up[sec_res_up['value'] < 1])/len(sec_res_up), len(sec_res_up[sec_res_up['value'] >= 1])/len(sec_res_up) ))"
   ]
  },
  {
   "cell_type": "markdown",
   "metadata": {},
   "source": [
    "The secondary reserve can be modelled through a Bernoulli trial; where the failure is the non-utilisation of secondary reserve with probability p, p=0.105155, regardless of the hour and day of week. Next analysis focuses on possible breakdown of the utilisation looking at hour and kind of day."
   ]
  },
  {
   "cell_type": "code",
   "execution_count": 5,
   "metadata": {
    "collapsed": true
   },
   "outputs": [],
   "source": [
    "#Non-use df\n",
    "no_use_res = sec_res_up[sec_res_up['value'] < 1]"
   ]
  },
  {
   "cell_type": "code",
   "execution_count": 6,
   "metadata": {
    "collapsed": false
   },
   "outputs": [
    {
     "data": {
      "text/html": [
       "<div>\n",
       "<table border=\"1\" class=\"dataframe\">\n",
       "  <thead>\n",
       "    <tr style=\"text-align: right;\">\n",
       "      <th></th>\n",
       "      <th>hour</th>\n",
       "    </tr>\n",
       "  </thead>\n",
       "  <tbody>\n",
       "    <tr>\n",
       "      <th>10.0</th>\n",
       "      <td>240</td>\n",
       "    </tr>\n",
       "    <tr>\n",
       "      <th>9.0</th>\n",
       "      <td>198</td>\n",
       "    </tr>\n",
       "    <tr>\n",
       "      <th>21.0</th>\n",
       "      <td>196</td>\n",
       "    </tr>\n",
       "    <tr>\n",
       "      <th>11.0</th>\n",
       "      <td>170</td>\n",
       "    </tr>\n",
       "    <tr>\n",
       "      <th>22.0</th>\n",
       "      <td>166</td>\n",
       "    </tr>\n",
       "    <tr>\n",
       "      <th>12.0</th>\n",
       "      <td>166</td>\n",
       "    </tr>\n",
       "    <tr>\n",
       "      <th>8.0</th>\n",
       "      <td>160</td>\n",
       "    </tr>\n",
       "    <tr>\n",
       "      <th>20.0</th>\n",
       "      <td>157</td>\n",
       "    </tr>\n",
       "    <tr>\n",
       "      <th>19.0</th>\n",
       "      <td>152</td>\n",
       "    </tr>\n",
       "    <tr>\n",
       "      <th>13.0</th>\n",
       "      <td>147</td>\n",
       "    </tr>\n",
       "    <tr>\n",
       "      <th>7.0</th>\n",
       "      <td>113</td>\n",
       "    </tr>\n",
       "    <tr>\n",
       "      <th>17.0</th>\n",
       "      <td>113</td>\n",
       "    </tr>\n",
       "    <tr>\n",
       "      <th>18.0</th>\n",
       "      <td>112</td>\n",
       "    </tr>\n",
       "    <tr>\n",
       "      <th>14.0</th>\n",
       "      <td>103</td>\n",
       "    </tr>\n",
       "    <tr>\n",
       "      <th>6.0</th>\n",
       "      <td>102</td>\n",
       "    </tr>\n",
       "    <tr>\n",
       "      <th>15.0</th>\n",
       "      <td>98</td>\n",
       "    </tr>\n",
       "    <tr>\n",
       "      <th>16.0</th>\n",
       "      <td>81</td>\n",
       "    </tr>\n",
       "    <tr>\n",
       "      <th>0.0</th>\n",
       "      <td>64</td>\n",
       "    </tr>\n",
       "    <tr>\n",
       "      <th>23.0</th>\n",
       "      <td>60</td>\n",
       "    </tr>\n",
       "    <tr>\n",
       "      <th>1.0</th>\n",
       "      <td>38</td>\n",
       "    </tr>\n",
       "    <tr>\n",
       "      <th>5.0</th>\n",
       "      <td>37</td>\n",
       "    </tr>\n",
       "    <tr>\n",
       "      <th>2.0</th>\n",
       "      <td>32</td>\n",
       "    </tr>\n",
       "    <tr>\n",
       "      <th>4.0</th>\n",
       "      <td>31</td>\n",
       "    </tr>\n",
       "    <tr>\n",
       "      <th>3.0</th>\n",
       "      <td>30</td>\n",
       "    </tr>\n",
       "  </tbody>\n",
       "</table>\n",
       "</div>"
      ],
      "text/plain": [
       "      hour\n",
       "10.0   240\n",
       "9.0    198\n",
       "21.0   196\n",
       "11.0   170\n",
       "22.0   166\n",
       "12.0   166\n",
       "8.0    160\n",
       "20.0   157\n",
       "19.0   152\n",
       "13.0   147\n",
       "7.0    113\n",
       "17.0   113\n",
       "18.0   112\n",
       "14.0   103\n",
       "6.0    102\n",
       "15.0    98\n",
       "16.0    81\n",
       "0.0     64\n",
       "23.0    60\n",
       "1.0     38\n",
       "5.0     37\n",
       "2.0     32\n",
       "4.0     31\n",
       "3.0     30"
      ]
     },
     "execution_count": 6,
     "metadata": {},
     "output_type": "execute_result"
    }
   ],
   "source": [
    "#High variability across hours\n",
    "no_use_res['hour'].value_counts().to_frame()"
   ]
  },
  {
   "cell_type": "code",
   "execution_count": 7,
   "metadata": {
    "collapsed": false
   },
   "outputs": [
    {
     "data": {
      "text/html": [
       "<div>\n",
       "<table border=\"1\" class=\"dataframe\">\n",
       "  <thead>\n",
       "    <tr style=\"text-align: right;\">\n",
       "      <th></th>\n",
       "      <th>hour_label</th>\n",
       "    </tr>\n",
       "  </thead>\n",
       "  <tbody>\n",
       "    <tr>\n",
       "      <th>Peak</th>\n",
       "      <td>2099</td>\n",
       "    </tr>\n",
       "    <tr>\n",
       "      <th>off_peak</th>\n",
       "      <td>667</td>\n",
       "    </tr>\n",
       "  </tbody>\n",
       "</table>\n",
       "</div>"
      ],
      "text/plain": [
       "          hour_label\n",
       "Peak            2099\n",
       "off_peak         667"
      ]
     },
     "execution_count": 7,
     "metadata": {},
     "output_type": "execute_result"
    }
   ],
   "source": [
    "#Difference between peak and off-peak hours\n",
    "no_use_res['hour_label'].value_counts().to_frame()"
   ]
  },
  {
   "cell_type": "code",
   "execution_count": 8,
   "metadata": {
    "collapsed": false
   },
   "outputs": [
    {
     "data": {
      "text/html": [
       "<div>\n",
       "<table border=\"1\" class=\"dataframe\">\n",
       "  <thead>\n",
       "    <tr style=\"text-align: right;\">\n",
       "      <th></th>\n",
       "      <th>weekday</th>\n",
       "    </tr>\n",
       "  </thead>\n",
       "  <tbody>\n",
       "    <tr>\n",
       "      <th>4.0</th>\n",
       "      <td>456</td>\n",
       "    </tr>\n",
       "    <tr>\n",
       "      <th>2.0</th>\n",
       "      <td>439</td>\n",
       "    </tr>\n",
       "    <tr>\n",
       "      <th>1.0</th>\n",
       "      <td>420</td>\n",
       "    </tr>\n",
       "    <tr>\n",
       "      <th>3.0</th>\n",
       "      <td>404</td>\n",
       "    </tr>\n",
       "    <tr>\n",
       "      <th>0.0</th>\n",
       "      <td>371</td>\n",
       "    </tr>\n",
       "    <tr>\n",
       "      <th>5.0</th>\n",
       "      <td>366</td>\n",
       "    </tr>\n",
       "    <tr>\n",
       "      <th>6.0</th>\n",
       "      <td>310</td>\n",
       "    </tr>\n",
       "  </tbody>\n",
       "</table>\n",
       "</div>"
      ],
      "text/plain": [
       "     weekday\n",
       "4.0      456\n",
       "2.0      439\n",
       "1.0      420\n",
       "3.0      404\n",
       "0.0      371\n",
       "5.0      366\n",
       "6.0      310"
      ]
     },
     "execution_count": 8,
     "metadata": {},
     "output_type": "execute_result"
    }
   ],
   "source": [
    "#There is slight difference in day of the week\n",
    "no_use_res['weekday'].value_counts().to_frame()"
   ]
  },
  {
   "cell_type": "code",
   "execution_count": 9,
   "metadata": {
    "collapsed": false
   },
   "outputs": [
    {
     "data": {
      "text/html": [
       "<div>\n",
       "<table border=\"1\" class=\"dataframe\">\n",
       "  <thead>\n",
       "    <tr style=\"text-align: right;\">\n",
       "      <th></th>\n",
       "      <th>weekday_label</th>\n",
       "    </tr>\n",
       "  </thead>\n",
       "  <tbody>\n",
       "    <tr>\n",
       "      <th>Wd</th>\n",
       "      <td>2090</td>\n",
       "    </tr>\n",
       "    <tr>\n",
       "      <th>F</th>\n",
       "      <td>676</td>\n",
       "    </tr>\n",
       "  </tbody>\n",
       "</table>\n",
       "</div>"
      ],
      "text/plain": [
       "    weekday_label\n",
       "Wd           2090\n",
       "F             676"
      ]
     },
     "execution_count": 9,
     "metadata": {},
     "output_type": "execute_result"
    }
   ],
   "source": [
    "#There are more Wd than F\n",
    "no_use_res['weekday_label'].value_counts().to_frame()"
   ]
  },
  {
   "cell_type": "code",
   "execution_count": 10,
   "metadata": {
    "collapsed": false
   },
   "outputs": [
    {
     "data": {
      "image/png": "[encoded data removed]",
      "text/plain": [
       "<matplotlib.figure.Figure at 0x11bd9fe62b0>"
      ]
     },
     "metadata": {},
     "output_type": "display_data"
    }
   ],
   "source": [
    "fig, ax = plt.subplots(1,1, figsize=(20,10))\n",
    "sns.heatmap(no_use_res.groupby(['weekday', 'hour'])[['value']].count().unstack(-1), ax=ax,\n",
    "            vmin=0, vmax=no_use_res.groupby(['weekday', 'hour'])['value'].count().max());\n",
    "ax.set_xlabel('Hour')\n",
    "ax.set_title('Heatmap for non-utilisation of secondary reserve');"
   ]
  },
  {
   "cell_type": "code",
   "execution_count": 11,
   "metadata": {
    "collapsed": false
   },
   "outputs": [
    {
     "data": {
      "text/plain": [
       "summer    1545\n",
       "winter    1221\n",
       "Name: season, dtype: int64"
      ]
     },
     "execution_count": 11,
     "metadata": {},
     "output_type": "execute_result"
    }
   ],
   "source": [
    "#No difference between season\n",
    "no_use_res['season'].value_counts()"
   ]
  },
  {
   "cell_type": "code",
   "execution_count": 12,
   "metadata": {
    "collapsed": false
   },
   "outputs": [],
   "source": [
    "#probability of success hourly\n",
    "number_of_hours = sec_res_up.groupby('hour')['value'].count()\n",
    "success_hour = sec_res_up[sec_res_up['value'] < 1].groupby('hour')['value'].count()\n",
    "hourly_prob_bernoulli_trial = 1 - (success_hour / number_of_hours).to_frame()"
   ]
  },
  {
   "cell_type": "markdown",
   "metadata": {},
   "source": [
    "These probabilities have been computed as $\\frac{s}{T}$, where $s$ represents the number of observed successes and $T$ the number of samples, so they involve the best estimation for Bernoulli trial probability of success $p$, as $\\frac{s}{T}$ maximises the likelihhod function for Bernoulli trial."
   ]
  },
  {
   "cell_type": "code",
   "execution_count": 13,
   "metadata": {
    "collapsed": false
   },
   "outputs": [],
   "source": [
    "#Example of bernoulli trials for montecarlo simulation\n",
    "bernoulli_prob_mc = np.empty((24,10000))\n",
    "for index, prob in zip(range(24), hourly_prob_bernoulli_trial['value'].values.tolist()):\n",
    "    bernoulli_prob_mc[index] = np.random.binomial(1, prob, size=10000)"
   ]
  },
  {
   "cell_type": "code",
   "execution_count": 14,
   "metadata": {
    "collapsed": false
   },
   "outputs": [],
   "source": [
    "#Export hourly probabilities of bernoulli trials\n",
    "bernoulli_prob_dict = {\n",
    "    'hour':hourly_prob_bernoulli_trial.index.tolist(),\n",
    "    'prob':hourly_prob_bernoulli_trial['value'].values.tolist()\n",
    "}\n",
    "\n",
    "with open('bernoulli_prob.json', 'w') as f:\n",
    "     json.dump(bernoulli_prob_dict, f)"
   ]
  }
 ],
 "metadata": {
  "kernelspec": {
   "display_name": "Python [Root]",
   "language": "python",
   "name": "Python [Root]"
  },
  "language_info": {
   "codemirror_mode": {
    "name": "ipython",
    "version": 3
   },
   "file_extension": ".py",
   "mimetype": "text/x-python",
   "name": "python",
   "nbconvert_exporter": "python",
   "pygments_lexer": "ipython3",
   "version": "3.5.2"
  }
 },
 "nbformat": 4,
 "nbformat_minor": 0
}
