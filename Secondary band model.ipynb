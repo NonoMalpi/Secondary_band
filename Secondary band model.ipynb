{
 "cells": [
  {
   "cell_type": "code",
   "execution_count": 104,
   "metadata": {
    "collapsed": true
   },
   "outputs": [],
   "source": [
    "import pandas as pd\n",
    "import numpy as np\n",
    "import matplotlib.pyplot as plt\n",
    "import seaborn.apionly as sns\n",
    "import datetime\n",
    "import warnings\n",
    "%matplotlib inline\n",
    "plt.style.use('ggplot')\n",
    "warnings.filterwarnings('ignore')"
   ]
  },
  {
   "cell_type": "code",
   "execution_count": 220,
   "metadata": {
    "collapsed": true
   },
   "outputs": [],
   "source": [
    "def get_clean_data(df_original):\n",
    "    weekday_dict = {\n",
    "        0:'Wd', 1:'Wd', 2:'Wd', 3:'Wd', 4:'Wd', 5:'F', 6:'F' \n",
    "    }\n",
    "    \n",
    "    df = df_original.copy(deep=True)\n",
    "    df['date'] =  pd.to_datetime(df['datetime'].apply(lambda x: x[:10]), format='%Y-%m-%d')\n",
    "    df['year'] = df['date'].dt.year\n",
    "    df['time'] = pd.to_datetime(df['datetime'].apply(lambda x: x[:19])).dt.time\n",
    "    df['month'] = df['date'].dt.month\n",
    "    df['day'] = df['date'].dt.day\n",
    "    df['hour'] = df['datetime'].apply(lambda x: x[11:13]).astype(int)\n",
    "    df['minute'] = df['datetime'].apply(lambda x: x[14:16]).astype(int)\n",
    "    df['weekday'] = df['date'].dt.dayofweek\n",
    "    df.replace({'weekday':weekday_dict}, inplace=True)\n",
    "    df['season'] = np.where(df['month'].isin(list(range(4,10))), 'summer', 'winter')\n",
    "    df['date_hour'] = df.apply(lambda x: datetime.datetime.combine(x['date'], x['time']), axis=1)\n",
    "    df.set_index('date_hour', inplace=True)\n",
    "    df = df[df.index < '2017']\n",
    "    clean_df = df[['date', 'year', 'month', 'season', 'day','weekday','time', 'hour', 'minute', 'value']]\n",
    "    clean_df = clean_df[~clean_df.index.duplicated()]\n",
    "    \n",
    "    return clean_df"
   ]
  },
  {
   "cell_type": "markdown",
   "metadata": {},
   "source": [
    "### df with secondary band and spot price "
   ]
  },
  {
   "cell_type": "code",
   "execution_count": 221,
   "metadata": {
    "collapsed": false
   },
   "outputs": [],
   "source": [
    "raw_band_price = pd.read_csv('export_PrecioBandaDeRegulaciónSecundaria_2017-01-15_19-11.csv', encoding='latin1', delimiter=';')\n",
    "band_price = get_clean_data(raw_band_price)\n",
    "band_price = band_price.rename(columns={'value':'band'})"
   ]
  },
  {
   "cell_type": "code",
   "execution_count": 222,
   "metadata": {
    "collapsed": false
   },
   "outputs": [],
   "source": [
    "raw_spot_price = pd.read_csv('export_PrecioMercadoSPOTDiario_2017-02-02_09-47.csv', encoding='latin1', delimiter=';')\n",
    "raw_spot_price = raw_spot_price[raw_spot_price['geoid'] == 3]\n",
    "spot_price = get_clean_data(raw_spot_price)\n",
    "spot_price = spot_price.rename(columns={'value':'spot'})"
   ]
  },
  {
   "cell_type": "code",
   "execution_count": 223,
   "metadata": {
    "collapsed": true
   },
   "outputs": [],
   "source": [
    "#Merge both df\n",
    "spot_band = band_price.merge(spot_price[['spot']], how='left', left_index=True, right_index=True)"
   ]
  },
  {
   "cell_type": "code",
   "execution_count": 224,
   "metadata": {
    "collapsed": false
   },
   "outputs": [],
   "source": [
    "#Clean df in order to train a model, output: band price\n",
    "spot_band = spot_band[['hour', 'weekday', 'season', 'spot', 'band']]"
   ]
  },
  {
   "cell_type": "code",
   "execution_count": 225,
   "metadata": {
    "collapsed": false
   },
   "outputs": [],
   "source": [
    "#Create dummy variables\n",
    "for feature in ['hour', 'weekday', 'season']:\n",
    "    spot_band[pd.get_dummies(spot_band[feature], drop_first=False).columns.tolist()] = pd.get_dummies(spot_band[feature], drop_first=False)"
   ]
  },
  {
   "cell_type": "code",
   "execution_count": 226,
   "metadata": {
    "collapsed": false
   },
   "outputs": [],
   "source": [
    "spot_band['spot-1'] = spot_band['spot'].shift()\n",
    "spot_band.dropna(subset=['spot-1'], inplace=True)"
   ]
  },
  {
   "cell_type": "markdown",
   "metadata": {},
   "source": [
    "### df with secondary band, spot price and demand"
   ]
  },
  {
   "cell_type": "code",
   "execution_count": 331,
   "metadata": {
    "collapsed": true
   },
   "outputs": [],
   "source": [
    "raw_demand = pd.read_csv('export_DemandaProgramada_2017-02-02_09-45.csv', encoding='latin1', delimiter=';')\n",
    "demand = get_clean_data(raw_demand)\n",
    "demand = demand.rename(columns={'value':'demand'})"
   ]
  },
  {
   "cell_type": "code",
   "execution_count": 332,
   "metadata": {
    "collapsed": true
   },
   "outputs": [],
   "source": [
    "spot_band_demand = band_price.merge(spot_price[['spot']], how='left', left_index=True, right_index=True)\n",
    "spot_band_demand = spot_band_demand.merge(demand[['demand']], how='left', left_index=True, right_index=True)"
   ]
  },
  {
   "cell_type": "code",
   "execution_count": 333,
   "metadata": {
    "collapsed": false
   },
   "outputs": [],
   "source": [
    "spot_band_demand = spot_band_demand[['hour', 'weekday', 'season', 'spot','demand', 'band']]"
   ]
  },
  {
   "cell_type": "code",
   "execution_count": 334,
   "metadata": {
    "collapsed": true
   },
   "outputs": [],
   "source": [
    "for feature in ['hour', 'weekday', 'season']:\n",
    "    spot_band_demand[pd.get_dummies(spot_band_demand[feature], drop_first=False).columns.tolist()] = pd.get_dummies(spot_band_demand[feature], drop_first=False)"
   ]
  },
  {
   "cell_type": "code",
   "execution_count": 335,
   "metadata": {
    "collapsed": false
   },
   "outputs": [],
   "source": [
    "for feature in ['spot', 'demand']:\n",
    "    spot_band_demand[feature +'-1'] = spot_band_demand[feature].shift(periods=1)\n",
    "    spot_band_demand[feature + '+1'] = spot_band_demand[feature].shift(periods=-1)\n",
    "spot_band_demand.dropna(subset=['spot-1','demand-1', 'spot+1','demand+1'], inplace=True)"
   ]
  },
  {
   "cell_type": "markdown",
   "metadata": {},
   "source": [
    "### Decision tree"
   ]
  },
  {
   "cell_type": "code",
   "execution_count": 337,
   "metadata": {
    "collapsed": false
   },
   "outputs": [],
   "source": [
    "from sklearn.tree import DecisionTreeRegressor\n",
    "from sklearn.model_selection import KFold, train_test_split, RandomizedSearchCV, GridSearchCV\n",
    "from sklearn.metrics import mean_squared_error, mean_absolute_error"
   ]
  },
  {
   "cell_type": "code",
   "execution_count": 382,
   "metadata": {
    "collapsed": true
   },
   "outputs": [],
   "source": [
    "#Set features and output\n",
    "X = spot_band_demand.drop(labels=['hour', 'weekday','season', 'band'], axis=1).values\n",
    "Y = spot_band_demand['band'].values"
   ]
  },
  {
   "cell_type": "code",
   "execution_count": 383,
   "metadata": {
    "collapsed": true
   },
   "outputs": [],
   "source": [
    "#Split data set into train and test\n",
    "x_train, x_test, y_train, y_test = train_test_split(X, Y, train_size=0.8, \n",
    "                                                    test_size=0.2, random_state=100)"
   ]
  },
  {
   "cell_type": "code",
   "execution_count": 390,
   "metadata": {
    "collapsed": false
   },
   "outputs": [],
   "source": [
    "#Decision Tree Regressor\n",
    "tree = DecisionTreeRegressor(max_depth=10, max_features=None, \n",
    "                             min_samples_split=300, min_samples_leaf=150,\n",
    "                            random_state=100)"
   ]
  },
  {
   "cell_type": "code",
   "execution_count": 391,
   "metadata": {
    "collapsed": false
   },
   "outputs": [
    {
     "name": "stdout",
     "output_type": "stream",
     "text": [
      "Mean absolute error: 6.7853 +- 0.2283\n",
      "Mean squared error: 92.2666 +- 12.5171\n"
     ]
    }
   ],
   "source": [
    "#CV with kfold=5\n",
    "kf = KFold(n_splits=5, random_state=100)\n",
    "\n",
    "CV_mae = list()\n",
    "CV_mse = list()\n",
    "\n",
    "for train_index, test_index in kf.split(x_train, y_train):\n",
    "    tree.fit(x_train[train_index], y_train[train_index])\n",
    "    y_pred = tree.predict(x_train[test_index])\n",
    "    CV_mae.append(mean_absolute_error(y_train[test_index], y_pred))\n",
    "    CV_mse.append(mean_squared_error(y_train[test_index], y_pred))\n",
    "    \n",
    "print('Mean absolute error: %0.4f +- %0.4f' %(np.mean(CV_mae), 2*np.std(CV_mae)))\n",
    "print('Mean squared error: %0.4f +- %0.4f' %(np.mean(CV_mse), 2*np.std(CV_mse)))"
   ]
  },
  {
   "cell_type": "code",
   "execution_count": 392,
   "metadata": {
    "collapsed": false
   },
   "outputs": [
    {
     "data": {
      "text/plain": [
       "([6.6305950709744108,\n",
       "  6.7962333122337117,\n",
       "  6.9526161801355713,\n",
       "  6.6934196889940827,\n",
       "  6.8535642814880005],\n",
       " [82.34412268059657,\n",
       "  92.921280725695553,\n",
       "  101.36930170667839,\n",
       "  89.69495604741445,\n",
       "  95.003580502116279])"
      ]
     },
     "execution_count": 392,
     "metadata": {},
     "output_type": "execute_result"
    }
   ],
   "source": [
    "CV_mae, CV_mse"
   ]
  },
  {
   "cell_type": "code",
   "execution_count": 393,
   "metadata": {
    "collapsed": false
   },
   "outputs": [],
   "source": [
    "tree.fit(x_train, y_train);"
   ]
  },
  {
   "cell_type": "code",
   "execution_count": 394,
   "metadata": {
    "collapsed": false
   },
   "outputs": [
    {
     "name": "stdout",
     "output_type": "stream",
     "text": [
      "6.65957294675 85.6635178404\n"
     ]
    }
   ],
   "source": [
    "print(mean_absolute_error(y_test, tree.predict(x_test)), mean_squared_error(y_test, tree.predict(x_test)))"
   ]
  },
  {
   "cell_type": "code",
   "execution_count": 395,
   "metadata": {
    "collapsed": false
   },
   "outputs": [
    {
     "data": {
      "text/plain": [
       "19.421253279592381"
      ]
     },
     "execution_count": 395,
     "metadata": {},
     "output_type": "execute_result"
    }
   ],
   "source": [
    "Y.mean()"
   ]
  },
  {
   "cell_type": "code",
   "execution_count": 396,
   "metadata": {
    "collapsed": false
   },
   "outputs": [
    {
     "data": {
      "text/plain": [
       "12.182203667830006"
      ]
     },
     "execution_count": 396,
     "metadata": {},
     "output_type": "execute_result"
    }
   ],
   "source": [
    "Y.std()"
   ]
  },
  {
   "cell_type": "code",
   "execution_count": 397,
   "metadata": {
    "collapsed": false
   },
   "outputs": [
    {
     "data": {
      "text/plain": [
       "(26299, 34)"
      ]
     },
     "execution_count": 397,
     "metadata": {},
     "output_type": "execute_result"
    }
   ],
   "source": [
    "X.shape"
   ]
  },
  {
   "cell_type": "markdown",
   "metadata": {
    "collapsed": false
   },
   "source": [
    "### Randomized Search CV"
   ]
  },
  {
   "cell_type": "code",
   "execution_count": 398,
   "metadata": {
    "collapsed": false
   },
   "outputs": [],
   "source": [
    "params = {\n",
    "    'criterion':['mse'],\n",
    "    'splitter':['best','random'],\n",
    "    'max_features':['auto','log2', 'sqrt'],\n",
    "    'max_depth':np.arange(2,21), 'min_samples_split':np.linspace(50, 1000, 200).astype(int),\n",
    "    'min_samples_leaf': np.linspace(200, 2500, 50).astype(int), 'max_leaf_nodes': np.linspace(10,180, 40).astype(int)\n",
    "}"
   ]
  },
  {
   "cell_type": "code",
   "execution_count": 399,
   "metadata": {
    "collapsed": false
   },
   "outputs": [],
   "source": [
    "#Random search, set up tree and cross-validation\n",
    "tree = DecisionTreeRegressor()\n",
    "kf = KFold(n_splits=5)\n",
    "\n",
    "#Randomized Search CV for tree\n",
    "random_search = RandomizedSearchCV(tree, param_distributions=params, n_jobs=-1, n_iter=350,\n",
    "                                scoring='neg_mean_squared_error', cv=list(kf.split(x_train,y_train)), random_state=0)"
   ]
  },
  {
   "cell_type": "code",
   "execution_count": 400,
   "metadata": {
    "collapsed": false
   },
   "outputs": [],
   "source": [
    "random_search.fit(x_train, y_train);"
   ]
  },
  {
   "cell_type": "code",
   "execution_count": 401,
   "metadata": {
    "collapsed": false
   },
   "outputs": [
    {
     "name": "stdout",
     "output_type": "stream",
     "text": [
      "{'max_depth': 19, 'min_samples_leaf': 246, 'splitter': 'best', 'max_features': 'auto', 'criterion': 'mse', 'min_samples_split': 732, 'max_leaf_nodes': 127}\n"
     ]
    }
   ],
   "source": [
    "best_params = random_search.cv_results_['params'][np.flatnonzero(random_search.cv_results_['rank_test_score']==1)[0]]\n",
    "print(best_params)"
   ]
  },
  {
   "cell_type": "code",
   "execution_count": 402,
   "metadata": {
    "collapsed": false
   },
   "outputs": [
    {
     "data": {
      "text/plain": [
       "DecisionTreeRegressor(criterion='mse', max_depth=19, max_features='auto',\n",
       "           max_leaf_nodes=127, min_impurity_split=1e-07,\n",
       "           min_samples_leaf=246, min_samples_split=732,\n",
       "           min_weight_fraction_leaf=0.0, presort=False, random_state=0,\n",
       "           splitter='best')"
      ]
     },
     "execution_count": 402,
     "metadata": {},
     "output_type": "execute_result"
    }
   ],
   "source": [
    "tree.set_params(**best_params, random_state=0)"
   ]
  },
  {
   "cell_type": "code",
   "execution_count": 403,
   "metadata": {
    "collapsed": false
   },
   "outputs": [
    {
     "name": "stdout",
     "output_type": "stream",
     "text": [
      "Mean absolute error: 6.8973 +- 0.2842\n",
      "Mean squared error: 94.3758 +- 14.8353\n"
     ]
    }
   ],
   "source": [
    "#CV with kfold=5\n",
    "kf = KFold(n_splits=5, random_state=0)\n",
    "\n",
    "CV_mse = list()\n",
    "CV_mae = list()\n",
    "\n",
    "for train_index, test_index in kf.split(x_train, y_train):\n",
    "    tree.fit(x_train[train_index], y_train[train_index])\n",
    "    y_pred = tree.predict(x_train[test_index])\n",
    "    CV_mae.append(mean_absolute_error(y_train[test_index], y_pred))\n",
    "    CV_mse.append(mean_squared_error(y_train[test_index], y_pred))\n",
    "    \n",
    "print('Mean absolute error: %0.4f +- %0.4f' %(np.mean(CV_mae), 2*np.std(CV_mae)))\n",
    "print('Mean squared error: %0.4f +- %0.4f' %(np.mean(CV_mse), 2*np.std(CV_mse)))"
   ]
  },
  {
   "cell_type": "code",
   "execution_count": 404,
   "metadata": {
    "collapsed": false
   },
   "outputs": [
    {
     "data": {
      "text/plain": [
       "([6.6686824600242902,\n",
       "  6.9694991654932652,\n",
       "  7.1028287694093581,\n",
       "  6.868990414410332,\n",
       "  6.8764406489753318],\n",
       " [82.342407707676827,\n",
       "  95.529808244021353,\n",
       "  105.5611420855721,\n",
       "  92.841946160598852,\n",
       "  95.60367584306951])"
      ]
     },
     "execution_count": 404,
     "metadata": {},
     "output_type": "execute_result"
    }
   ],
   "source": [
    "CV_mae, CV_mse"
   ]
  },
  {
   "cell_type": "code",
   "execution_count": 405,
   "metadata": {
    "collapsed": false
   },
   "outputs": [
    {
     "data": {
      "text/plain": [
       "DecisionTreeRegressor(criterion='mse', max_depth=19, max_features='auto',\n",
       "           max_leaf_nodes=127, min_impurity_split=1e-07,\n",
       "           min_samples_leaf=246, min_samples_split=732,\n",
       "           min_weight_fraction_leaf=0.0, presort=False, random_state=0,\n",
       "           splitter='best')"
      ]
     },
     "execution_count": 405,
     "metadata": {},
     "output_type": "execute_result"
    }
   ],
   "source": [
    "tree.fit(x_train, y_train)"
   ]
  },
  {
   "cell_type": "code",
   "execution_count": 406,
   "metadata": {
    "collapsed": false
   },
   "outputs": [
    {
     "name": "stdout",
     "output_type": "stream",
     "text": [
      "6.72953793214 86.2856923665\n"
     ]
    }
   ],
   "source": [
    "print(mean_absolute_error(y_test, tree.predict(x_test)), mean_squared_error(y_test, tree.predict(x_test)))"
   ]
  },
  {
   "cell_type": "code",
   "execution_count": null,
   "metadata": {
    "collapsed": true
   },
   "outputs": [],
   "source": []
  }
 ],
 "metadata": {
  "anaconda-cloud": {},
  "kernelspec": {
   "display_name": "Python [Root]",
   "language": "python",
   "name": "Python [Root]"
  },
  "language_info": {
   "codemirror_mode": {
    "name": "ipython",
    "version": 3
   },
   "file_extension": ".py",
   "mimetype": "text/x-python",
   "name": "python",
   "nbconvert_exporter": "python",
   "pygments_lexer": "ipython3",
   "version": "3.5.2"
  }
 },
 "nbformat": 4,
 "nbformat_minor": 0
}
