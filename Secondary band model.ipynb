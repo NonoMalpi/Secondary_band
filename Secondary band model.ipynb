{
 "cells": [
  {
   "cell_type": "code",
   "execution_count": 138,
   "metadata": {
    "collapsed": true
   },
   "outputs": [],
   "source": [
    "import pandas as pd\n",
    "import numpy as np\n",
    "import matplotlib.pyplot as plt\n",
    "import seaborn.apionly as sns\n",
    "import datetime\n",
    "import warnings\n",
    "import pickle\n",
    "%matplotlib inline\n",
    "plt.style.use('ggplot')\n",
    "warnings.filterwarnings('ignore')"
   ]
  },
  {
   "cell_type": "code",
   "execution_count": 3,
   "metadata": {
    "collapsed": true
   },
   "outputs": [],
   "source": [
    "def get_clean_data(df_original):\n",
    "    weekday_dict = {\n",
    "        0:'Wd', 1:'Wd', 2:'Wd', 3:'Wd', 4:'Wd', 5:'F', 6:'F' \n",
    "    }\n",
    "    \n",
    "    df = df_original.copy(deep=True)\n",
    "    df['date'] =  pd.to_datetime(df['datetime'].apply(lambda x: x[:10]), format='%Y-%m-%d')\n",
    "    df['year'] = df['date'].dt.year\n",
    "    df['time'] = pd.to_datetime(df['datetime'].apply(lambda x: x[:19])).dt.time\n",
    "    df['month'] = df['date'].dt.month\n",
    "    df['day'] = df['date'].dt.day\n",
    "    df['hour'] = df['datetime'].apply(lambda x: x[11:13]).astype(int)\n",
    "    df['minute'] = df['datetime'].apply(lambda x: x[14:16]).astype(int)\n",
    "    df['weekday'] = df['date'].dt.dayofweek\n",
    "    df.replace({'weekday':weekday_dict}, inplace=True)\n",
    "    df['season'] = np.where(df['month'].isin(list(range(4,10))), 'summer', 'winter')\n",
    "    df['date_hour'] = df.apply(lambda x: datetime.datetime.combine(x['date'], x['time']), axis=1)\n",
    "    df.set_index('date_hour', inplace=True)\n",
    "    df = df[df.index < '2017']\n",
    "    clean_df = df[['date', 'year', 'month', 'season', 'day','weekday','time', 'hour', 'minute', 'value']]\n",
    "    clean_df = clean_df[~clean_df.index.duplicated()]\n",
    "    clean_df['hour'] = np.where(clean_df['hour'].isin(np.arange(9,23)), 'Peak', 'off_peak')\n",
    "    #clean_df['value'] = np.log1p(clean_df['value'])\n",
    "    clean_df_freq = clean_df.asfreq('H')\n",
    "    \n",
    "    return clean_df_freq"
   ]
  },
  {
   "cell_type": "markdown",
   "metadata": {},
   "source": [
    "### df with secondary band, spot price and demand "
   ]
  },
  {
   "cell_type": "code",
   "execution_count": 4,
   "metadata": {
    "collapsed": false
   },
   "outputs": [],
   "source": [
    "raw_band_price = pd.read_csv('2014_2016_training_files/export_PrecioBandaDeRegulaciónSecundaria_2017-01-15_19-11.csv', encoding='latin1', delimiter=';')\n",
    "band_price = get_clean_data(raw_band_price)\n",
    "band_price = band_price.rename(columns={'value':'band'})"
   ]
  },
  {
   "cell_type": "code",
   "execution_count": 5,
   "metadata": {
    "collapsed": false
   },
   "outputs": [],
   "source": [
    "raw_spot_price = pd.read_csv('2014_2016_training_files/export_PrecioMercadoSPOTDiario_2017-02-02_09-47.csv', encoding='latin1', delimiter=';')\n",
    "raw_spot_price = raw_spot_price[raw_spot_price['geoid'] == 3]\n",
    "spot_price = get_clean_data(raw_spot_price)\n",
    "spot_price = spot_price.rename(columns={'value':'spot'})"
   ]
  },
  {
   "cell_type": "code",
   "execution_count": 6,
   "metadata": {
    "collapsed": true
   },
   "outputs": [],
   "source": [
    "raw_demand = pd.read_csv('2014_2016_training_files/export_DemandaProgramada_2017-02-02_09-45.csv', encoding='latin1', delimiter=';')\n",
    "demand = get_clean_data(raw_demand)\n",
    "demand = demand.rename(columns={'value':'demand'})"
   ]
  },
  {
   "cell_type": "code",
   "execution_count": 7,
   "metadata": {
    "collapsed": true
   },
   "outputs": [],
   "source": [
    "spot_band_demand = band_price.merge(spot_price[['spot']], how='left', left_index=True, right_index=True)\n",
    "spot_band_demand = spot_band_demand.merge(demand[['demand']], how='left', left_index=True, right_index=True)"
   ]
  },
  {
   "cell_type": "code",
   "execution_count": 8,
   "metadata": {
    "collapsed": false
   },
   "outputs": [],
   "source": [
    "spot_band_demand = spot_band_demand[['hour', 'weekday', 'season', 'spot','demand', 'band']]"
   ]
  },
  {
   "cell_type": "code",
   "execution_count": 9,
   "metadata": {
    "collapsed": true
   },
   "outputs": [],
   "source": [
    "for feature in ['hour', 'weekday', 'season']:\n",
    "    spot_band_demand[pd.get_dummies(spot_band_demand[feature], drop_first=True).columns.tolist()] = pd.get_dummies(spot_band_demand[feature], drop_first=True)"
   ]
  },
  {
   "cell_type": "code",
   "execution_count": 10,
   "metadata": {
    "collapsed": false
   },
   "outputs": [],
   "source": [
    "for feature in ['demand', 'spot']:\n",
    "    spot_band_demand[feature + '-1'] = spot_band_demand[feature].shift(periods=+1)\n",
    "    spot_band_demand[feature + '-24'] = spot_band_demand[feature].shift(periods=+24)\n",
    "spot_band_demand['band-24'] = spot_band_demand['band'].shift(periods=24)\n",
    "spot_band_demand.dropna(subset=['demand-1', 'spot-1', 'demand-24', 'spot-24', 'band-24'], inplace=True)"
   ]
  },
  {
   "cell_type": "markdown",
   "metadata": {},
   "source": [
    "### Preprocessing for Decision Tree"
   ]
  },
  {
   "cell_type": "code",
   "execution_count": 11,
   "metadata": {
    "collapsed": false
   },
   "outputs": [],
   "source": [
    "from sklearn.tree import DecisionTreeRegressor\n",
    "from sklearn.model_selection import KFold, train_test_split, RandomizedSearchCV, GridSearchCV\n",
    "from sklearn.metrics import mean_squared_error, mean_absolute_error\n",
    "from sklearn import tree as tree_m\n",
    "from sklearn.tree import export_graphviz\n",
    "import graphviz"
   ]
  },
  {
   "cell_type": "code",
   "execution_count": 12,
   "metadata": {
    "collapsed": true
   },
   "outputs": [],
   "source": [
    "#Set features and output\n",
    "X = spot_band_demand.drop(labels=['hour', 'weekday','season', 'band'], axis=1).values\n",
    "Y = spot_band_demand['band'].values"
   ]
  },
  {
   "cell_type": "code",
   "execution_count": 13,
   "metadata": {
    "collapsed": false
   },
   "outputs": [
    {
     "data": {
      "text/html": [
       "<div>\n",
       "<table border=\"1\" class=\"dataframe\">\n",
       "  <thead>\n",
       "    <tr style=\"text-align: right;\">\n",
       "      <th></th>\n",
       "      <th>spot</th>\n",
       "      <th>demand</th>\n",
       "      <th>off_peak</th>\n",
       "      <th>Wd</th>\n",
       "      <th>winter</th>\n",
       "      <th>demand-1</th>\n",
       "      <th>demand-24</th>\n",
       "      <th>spot-1</th>\n",
       "      <th>spot-24</th>\n",
       "      <th>band-24</th>\n",
       "    </tr>\n",
       "  </thead>\n",
       "  <tbody>\n",
       "    <tr>\n",
       "      <th>spot</th>\n",
       "      <td>1.000000</td>\n",
       "      <td>0.439271</td>\n",
       "      <td>-2.782497e-01</td>\n",
       "      <td>2.362048e-01</td>\n",
       "      <td>-3.455513e-02</td>\n",
       "      <td>0.404751</td>\n",
       "      <td>0.329684</td>\n",
       "      <td>0.966815</td>\n",
       "      <td>0.775220</td>\n",
       "      <td>-0.293587</td>\n",
       "    </tr>\n",
       "    <tr>\n",
       "      <th>demand</th>\n",
       "      <td>0.439271</td>\n",
       "      <td>1.000000</td>\n",
       "      <td>-6.632193e-01</td>\n",
       "      <td>3.911550e-01</td>\n",
       "      <td>8.202220e-02</td>\n",
       "      <td>0.950713</td>\n",
       "      <td>0.811719</td>\n",
       "      <td>0.418458</td>\n",
       "      <td>0.330222</td>\n",
       "      <td>-0.304035</td>\n",
       "    </tr>\n",
       "    <tr>\n",
       "      <th>off_peak</th>\n",
       "      <td>-0.278250</td>\n",
       "      <td>-0.663219</td>\n",
       "      <td>1.000000e+00</td>\n",
       "      <td>8.301321e-17</td>\n",
       "      <td>3.785815e-17</td>\n",
       "      <td>-0.630145</td>\n",
       "      <td>-0.662662</td>\n",
       "      <td>-0.259829</td>\n",
       "      <td>-0.277380</td>\n",
       "      <td>0.298587</td>\n",
       "    </tr>\n",
       "    <tr>\n",
       "      <th>Wd</th>\n",
       "      <td>0.236205</td>\n",
       "      <td>0.391155</td>\n",
       "      <td>8.301321e-17</td>\n",
       "      <td>1.000000e+00</td>\n",
       "      <td>-3.754593e-03</td>\n",
       "      <td>0.386605</td>\n",
       "      <td>0.060692</td>\n",
       "      <td>0.234965</td>\n",
       "      <td>0.021821</td>\n",
       "      <td>-0.031532</td>\n",
       "    </tr>\n",
       "    <tr>\n",
       "      <th>winter</th>\n",
       "      <td>-0.034555</td>\n",
       "      <td>0.082022</td>\n",
       "      <td>3.785815e-17</td>\n",
       "      <td>-3.754593e-03</td>\n",
       "      <td>1.000000e+00</td>\n",
       "      <td>0.081945</td>\n",
       "      <td>0.081045</td>\n",
       "      <td>-0.034386</td>\n",
       "      <td>-0.029929</td>\n",
       "      <td>0.135055</td>\n",
       "    </tr>\n",
       "    <tr>\n",
       "      <th>demand-1</th>\n",
       "      <td>0.404751</td>\n",
       "      <td>0.950713</td>\n",
       "      <td>-6.301450e-01</td>\n",
       "      <td>3.866047e-01</td>\n",
       "      <td>8.194535e-02</td>\n",
       "      <td>1.000000</td>\n",
       "      <td>0.772684</td>\n",
       "      <td>0.439311</td>\n",
       "      <td>0.303557</td>\n",
       "      <td>-0.281814</td>\n",
       "    </tr>\n",
       "    <tr>\n",
       "      <th>demand-24</th>\n",
       "      <td>0.329684</td>\n",
       "      <td>0.811719</td>\n",
       "      <td>-6.626618e-01</td>\n",
       "      <td>6.069245e-02</td>\n",
       "      <td>8.104539e-02</td>\n",
       "      <td>0.772684</td>\n",
       "      <td>1.000000</td>\n",
       "      <td>0.313280</td>\n",
       "      <td>0.440859</td>\n",
       "      <td>-0.402910</td>\n",
       "    </tr>\n",
       "    <tr>\n",
       "      <th>spot-1</th>\n",
       "      <td>0.966815</td>\n",
       "      <td>0.418458</td>\n",
       "      <td>-2.598290e-01</td>\n",
       "      <td>2.349651e-01</td>\n",
       "      <td>-3.438614e-02</td>\n",
       "      <td>0.439311</td>\n",
       "      <td>0.313280</td>\n",
       "      <td>1.000000</td>\n",
       "      <td>0.761822</td>\n",
       "      <td>-0.281421</td>\n",
       "    </tr>\n",
       "    <tr>\n",
       "      <th>spot-24</th>\n",
       "      <td>0.775220</td>\n",
       "      <td>0.330222</td>\n",
       "      <td>-2.773799e-01</td>\n",
       "      <td>2.182063e-02</td>\n",
       "      <td>-2.992868e-02</td>\n",
       "      <td>0.303557</td>\n",
       "      <td>0.440859</td>\n",
       "      <td>0.761822</td>\n",
       "      <td>1.000000</td>\n",
       "      <td>-0.481855</td>\n",
       "    </tr>\n",
       "    <tr>\n",
       "      <th>band-24</th>\n",
       "      <td>-0.293587</td>\n",
       "      <td>-0.304035</td>\n",
       "      <td>2.985872e-01</td>\n",
       "      <td>-3.153192e-02</td>\n",
       "      <td>1.350551e-01</td>\n",
       "      <td>-0.281814</td>\n",
       "      <td>-0.402910</td>\n",
       "      <td>-0.281421</td>\n",
       "      <td>-0.481855</td>\n",
       "      <td>1.000000</td>\n",
       "    </tr>\n",
       "  </tbody>\n",
       "</table>\n",
       "</div>"
      ],
      "text/plain": [
       "               spot    demand      off_peak            Wd        winter  \\\n",
       "spot       1.000000  0.439271 -2.782497e-01  2.362048e-01 -3.455513e-02   \n",
       "demand     0.439271  1.000000 -6.632193e-01  3.911550e-01  8.202220e-02   \n",
       "off_peak  -0.278250 -0.663219  1.000000e+00  8.301321e-17  3.785815e-17   \n",
       "Wd         0.236205  0.391155  8.301321e-17  1.000000e+00 -3.754593e-03   \n",
       "winter    -0.034555  0.082022  3.785815e-17 -3.754593e-03  1.000000e+00   \n",
       "demand-1   0.404751  0.950713 -6.301450e-01  3.866047e-01  8.194535e-02   \n",
       "demand-24  0.329684  0.811719 -6.626618e-01  6.069245e-02  8.104539e-02   \n",
       "spot-1     0.966815  0.418458 -2.598290e-01  2.349651e-01 -3.438614e-02   \n",
       "spot-24    0.775220  0.330222 -2.773799e-01  2.182063e-02 -2.992868e-02   \n",
       "band-24   -0.293587 -0.304035  2.985872e-01 -3.153192e-02  1.350551e-01   \n",
       "\n",
       "           demand-1  demand-24    spot-1   spot-24   band-24  \n",
       "spot       0.404751   0.329684  0.966815  0.775220 -0.293587  \n",
       "demand     0.950713   0.811719  0.418458  0.330222 -0.304035  \n",
       "off_peak  -0.630145  -0.662662 -0.259829 -0.277380  0.298587  \n",
       "Wd         0.386605   0.060692  0.234965  0.021821 -0.031532  \n",
       "winter     0.081945   0.081045 -0.034386 -0.029929  0.135055  \n",
       "demand-1   1.000000   0.772684  0.439311  0.303557 -0.281814  \n",
       "demand-24  0.772684   1.000000  0.313280  0.440859 -0.402910  \n",
       "spot-1     0.439311   0.313280  1.000000  0.761822 -0.281421  \n",
       "spot-24    0.303557   0.440859  0.761822  1.000000 -0.481855  \n",
       "band-24   -0.281814  -0.402910 -0.281421 -0.481855  1.000000  "
      ]
     },
     "execution_count": 13,
     "metadata": {},
     "output_type": "execute_result"
    }
   ],
   "source": [
    "spot_band_demand.drop(labels=['hour', 'weekday','season', 'band'], axis=1).corr()"
   ]
  },
  {
   "cell_type": "code",
   "execution_count": 14,
   "metadata": {
    "collapsed": true
   },
   "outputs": [],
   "source": [
    "features_list = spot_band_demand.drop(labels=['hour', 'weekday','season', 'band'], axis=1).columns.tolist()"
   ]
  },
  {
   "cell_type": "code",
   "execution_count": 15,
   "metadata": {
    "collapsed": true
   },
   "outputs": [],
   "source": [
    "#Split data set into train and test\n",
    "x_train, x_test, y_train, y_test = train_test_split(X, Y, train_size=0.8, \n",
    "                                                    test_size=0.2, random_state=1)"
   ]
  },
  {
   "cell_type": "markdown",
   "metadata": {
    "collapsed": false
   },
   "source": [
    "### Randomized Search CV"
   ]
  },
  {
   "cell_type": "code",
   "execution_count": 15,
   "metadata": {
    "collapsed": false
   },
   "outputs": [],
   "source": [
    "params = {\n",
    "    'criterion':['mse'],\n",
    "    'splitter':['best','random'],\n",
    "    'max_features':['auto','log2', 'sqrt'],\n",
    "    'max_depth':np.arange(2,10), 'min_samples_split':np.linspace(50, 1000, 200).astype(int),\n",
    "    'min_samples_leaf': np.linspace(200, 2500, 50).astype(int), 'max_leaf_nodes': np.linspace(10,180, 40).astype(int)\n",
    "}"
   ]
  },
  {
   "cell_type": "code",
   "execution_count": 16,
   "metadata": {
    "collapsed": false
   },
   "outputs": [],
   "source": [
    "#Random search, set up tree and cross-validation\n",
    "tree = DecisionTreeRegressor()\n",
    "kf = KFold(n_splits=5)\n",
    "\n",
    "#Randomized Search CV for tree\n",
    "random_search = RandomizedSearchCV(tree, param_distributions=params, n_jobs=-1, n_iter=350,\n",
    "                                scoring='neg_mean_squared_error', cv=list(kf.split(x_train,y_train)), random_state=0)"
   ]
  },
  {
   "cell_type": "code",
   "execution_count": 17,
   "metadata": {
    "collapsed": false
   },
   "outputs": [],
   "source": [
    "random_search.fit(x_train, y_train);"
   ]
  },
  {
   "cell_type": "code",
   "execution_count": 18,
   "metadata": {
    "collapsed": false
   },
   "outputs": [
    {
     "name": "stdout",
     "output_type": "stream",
     "text": [
      "{'max_leaf_nodes': 140, 'splitter': 'best', 'max_features': 'auto', 'min_samples_leaf': 293, 'max_depth': 6, 'min_samples_split': 408, 'criterion': 'mse'}\n"
     ]
    }
   ],
   "source": [
    "best_params = random_search.cv_results_['params'][np.flatnonzero(random_search.cv_results_['rank_test_score']==1)[0]]\n",
    "print(best_params)"
   ]
  },
  {
   "cell_type": "code",
   "execution_count": 19,
   "metadata": {
    "collapsed": false
   },
   "outputs": [
    {
     "data": {
      "text/plain": [
       "DecisionTreeRegressor(criterion='mse', max_depth=6, max_features='auto',\n",
       "           max_leaf_nodes=140, min_impurity_split=1e-07,\n",
       "           min_samples_leaf=293, min_samples_split=408,\n",
       "           min_weight_fraction_leaf=0.0, presort=False, random_state=0,\n",
       "           splitter='best')"
      ]
     },
     "execution_count": 19,
     "metadata": {},
     "output_type": "execute_result"
    }
   ],
   "source": [
    "tree.set_params(**best_params, random_state=0)"
   ]
  },
  {
   "cell_type": "code",
   "execution_count": 20,
   "metadata": {
    "collapsed": false
   },
   "outputs": [
    {
     "name": "stdout",
     "output_type": "stream",
     "text": [
      "Mean absolute error: 5.6245 +- 0.1562\n",
      "Mean squared error: 70.6660 +- 7.2539\n"
     ]
    }
   ],
   "source": [
    "#CV with kfold=5\n",
    "kf = KFold(n_splits=5, random_state=0)\n",
    "\n",
    "CV_mse = list()\n",
    "CV_mae = list()\n",
    "\n",
    "for train_index, test_index in kf.split(x_train, y_train):\n",
    "    tree.fit(x_train[train_index], y_train[train_index])\n",
    "    y_pred = tree.predict(x_train[test_index])\n",
    "    CV_mae.append(mean_absolute_error(y_train[test_index], y_pred))\n",
    "    CV_mse.append(mean_squared_error(y_train[test_index], y_pred))\n",
    "    \n",
    "print('Mean absolute error: %0.4f +- %0.4f' %(np.mean(CV_mae), 2*np.std(CV_mae)))\n",
    "print('Mean squared error: %0.4f +- %0.4f' %(np.mean(CV_mse), 2*np.std(CV_mse)))"
   ]
  },
  {
   "cell_type": "code",
   "execution_count": 21,
   "metadata": {
    "collapsed": false
   },
   "outputs": [
    {
     "data": {
      "text/plain": [
       "([5.6483176367792698,\n",
       "  5.6516878706406395,\n",
       "  5.6524523246030265,\n",
       "  5.4724808518472141,\n",
       "  5.6973343740178857],\n",
       " [73.044985030447634,\n",
       "  73.73185483890316,\n",
       "  68.649118572286881,\n",
       "  64.436846099798984,\n",
       "  73.46695041432325])"
      ]
     },
     "execution_count": 21,
     "metadata": {},
     "output_type": "execute_result"
    }
   ],
   "source": [
    "CV_mae, CV_mse"
   ]
  },
  {
   "cell_type": "code",
   "execution_count": 22,
   "metadata": {
    "collapsed": false
   },
   "outputs": [
    {
     "name": "stdout",
     "output_type": "stream",
     "text": [
      "MAE: 5.4443461512, MSE: 66.5193109854\n"
     ]
    }
   ],
   "source": [
    "tree.fit(x_train, y_train)\n",
    "print('MAE: ' +str(mean_absolute_error(y_train, tree.predict(x_train)))+', MSE: ' +\n",
    "      str(mean_squared_error(y_train, tree.predict(x_train))))"
   ]
  },
  {
   "cell_type": "code",
   "execution_count": 23,
   "metadata": {
    "collapsed": false
   },
   "outputs": [
    {
     "name": "stdout",
     "output_type": "stream",
     "text": [
      "MAE: 5.64976678096, MSE: 67.2140913528\n"
     ]
    },
    {
     "data": {
      "text/html": [
       "<div>\n",
       "<table border=\"1\" class=\"dataframe\">\n",
       "  <thead>\n",
       "    <tr style=\"text-align: right;\">\n",
       "      <th></th>\n",
       "      <th>0</th>\n",
       "    </tr>\n",
       "  </thead>\n",
       "  <tbody>\n",
       "    <tr>\n",
       "      <th>spot</th>\n",
       "      <td>0.257636</td>\n",
       "    </tr>\n",
       "    <tr>\n",
       "      <th>demand</th>\n",
       "      <td>0.041164</td>\n",
       "    </tr>\n",
       "    <tr>\n",
       "      <th>off_peak</th>\n",
       "      <td>0.002279</td>\n",
       "    </tr>\n",
       "    <tr>\n",
       "      <th>Wd</th>\n",
       "      <td>0.025763</td>\n",
       "    </tr>\n",
       "    <tr>\n",
       "      <th>winter</th>\n",
       "      <td>0.000000</td>\n",
       "    </tr>\n",
       "    <tr>\n",
       "      <th>demand-1</th>\n",
       "      <td>0.000000</td>\n",
       "    </tr>\n",
       "    <tr>\n",
       "      <th>demand-24</th>\n",
       "      <td>0.012536</td>\n",
       "    </tr>\n",
       "    <tr>\n",
       "      <th>spot-1</th>\n",
       "      <td>0.000000</td>\n",
       "    </tr>\n",
       "    <tr>\n",
       "      <th>spot-24</th>\n",
       "      <td>0.068105</td>\n",
       "    </tr>\n",
       "    <tr>\n",
       "      <th>band-24</th>\n",
       "      <td>0.592516</td>\n",
       "    </tr>\n",
       "  </tbody>\n",
       "</table>\n",
       "</div>"
      ],
      "text/plain": [
       "                  0\n",
       "spot       0.257636\n",
       "demand     0.041164\n",
       "off_peak   0.002279\n",
       "Wd         0.025763\n",
       "winter     0.000000\n",
       "demand-1   0.000000\n",
       "demand-24  0.012536\n",
       "spot-1     0.000000\n",
       "spot-24    0.068105\n",
       "band-24    0.592516"
      ]
     },
     "execution_count": 23,
     "metadata": {},
     "output_type": "execute_result"
    }
   ],
   "source": [
    "#Print test error and feature importance\n",
    "print('MAE: ' +str(mean_absolute_error(y_test, tree.predict(x_test)))+', MSE: ' +\n",
    "      str(mean_squared_error(y_test, tree.predict(x_test))))\n",
    "pd.DataFrame(data=tree.feature_importances_, index=features_list)"
   ]
  },
  {
   "cell_type": "code",
   "execution_count": null,
   "metadata": {
    "collapsed": false,
    "scrolled": true
   },
   "outputs": [],
   "source": [
    "#Plot tree with graphviz\n",
    "export_graphviz(tree, out_file=\"mytree.dot\", max_depth=None, feature_names=features_list, label='none',\n",
    "               filled=True, leaves_parallel=False, impurity=False, node_ids=False, proportion=False, rotate=False,\n",
    "               rounded=True, special_characters=False)\n",
    "with open(\"mytree.dot\") as f:\n",
    "    dot_graph = f.read()\n",
    "graphviz.Source(dot_graph)"
   ]
  },
  {
   "cell_type": "code",
   "execution_count": null,
   "metadata": {
    "collapsed": false
   },
   "outputs": [],
   "source": [
    "#Convert tree.dot into pdf\n",
    "#graphviz.render(engine='dot', format='pdf', filepath='C:\\\\Users\\\\Usuario\\\\Desktop\\\\Master_Thesis\\\\Secondary_reserve_TS\\\\mytree.dot')"
   ]
  },
  {
   "cell_type": "markdown",
   "metadata": {
    "collapsed": false
   },
   "source": [
    "### Random forest Regressor"
   ]
  },
  {
   "cell_type": "code",
   "execution_count": 17,
   "metadata": {
    "collapsed": true
   },
   "outputs": [],
   "source": [
    "from sklearn.ensemble import RandomForestRegressor"
   ]
  },
  {
   "cell_type": "code",
   "execution_count": 56,
   "metadata": {
    "collapsed": true
   },
   "outputs": [],
   "source": [
    "rfr = RandomForestRegressor()"
   ]
  },
  {
   "cell_type": "code",
   "execution_count": 57,
   "metadata": {
    "collapsed": false
   },
   "outputs": [],
   "source": [
    "params_forest = {\n",
    "    'n_estimators':np.linspace(5, 200, 50).astype(int),\n",
    "    'n_jobs':[-1],\n",
    "    'criterion':['mse'], 'bootstrap':[True],\n",
    "    'max_features':['log2', 'sqrt'],\n",
    "    'max_depth':np.arange(2,10), 'min_samples_split':np.linspace(50, 1000, 200).astype(int),\n",
    "    'min_samples_leaf': np.linspace(200, 2500, 50).astype(int), 'max_leaf_nodes': np.linspace(10,180, 40).astype(int)\n",
    "}"
   ]
  },
  {
   "cell_type": "code",
   "execution_count": 58,
   "metadata": {
    "collapsed": true
   },
   "outputs": [],
   "source": [
    "kf = KFold(n_splits=5, random_state=0)\n",
    "\n",
    "#Randomized Search CV for random forest\n",
    "random_search = RandomizedSearchCV(rfr, param_distributions=params_forest, n_jobs=-1, n_iter=350,\n",
    "                                scoring='neg_mean_squared_error', cv=list(kf.split(x_train,y_train)), random_state=0)"
   ]
  },
  {
   "cell_type": "code",
   "execution_count": 59,
   "metadata": {
    "collapsed": false
   },
   "outputs": [
    {
     "name": "stdout",
     "output_type": "stream",
     "text": [
      "Wall time: 7min 54s\n"
     ]
    },
    {
     "data": {
      "text/plain": [
       "RandomizedSearchCV(cv=[(array([ 4205,  4206, ..., 21022, 21023]), array([   0,    1, ..., 4203, 4204])), (array([    0,     1, ..., 21022, 21023]), array([4205, 4206, ..., 8408, 8409])), (array([    0,     1, ..., 21022, 21023]), array([ 8410,  8411, ..., 12613, 12614])), (array([    0,     1, ..., 21022, 21023]), array([12615, 12616, ..., 16818, 16819])), (array([    0,     1, ..., 16818, 16819]), array([16820, 16821, ..., 21022, 21023]))],\n",
       "          error_score='raise',\n",
       "          estimator=RandomForestRegressor(bootstrap=True, criterion='mse', max_depth=None,\n",
       "           max_features='auto', max_leaf_nodes=None,\n",
       "           min_impurity_split=1e-07, min_samples_leaf=1,\n",
       "           min_samples_split=2, min_weight_fraction_leaf=0.0,\n",
       "           n_estimators=10, n_jobs=1, oob_score=False, random_state=None,\n",
       "           verbose=0, warm_start=False),\n",
       "          fit_params={}, iid=True, n_iter=350, n_jobs=-1,\n",
       "          param_distributions={'n_jobs': [-1], 'max_depth': array([2, 3, 4, 5, 6, 7, 8, 9]), 'min_samples_leaf': array([ 200,  246,  293,  340,  387,  434,  481,  528,  575,  622,  669,\n",
       "        716,  763,  810,  857,  904,  951,  997, 1044, 1091, 1138, 1185,\n",
       "       1232, 1279, 1326, 1373, 1420, 1467, 1514, 15...8, 192, 196, 200]), 'min_samples_split': array([  50,   54, ...,  995, 1000]), 'criterion': ['mse']},\n",
       "          pre_dispatch='2*n_jobs', random_state=0, refit=True,\n",
       "          return_train_score=True, scoring='neg_mean_squared_error',\n",
       "          verbose=0)"
      ]
     },
     "execution_count": 59,
     "metadata": {},
     "output_type": "execute_result"
    }
   ],
   "source": [
    "%%time\n",
    "random_search.fit(x_train, y_train);"
   ]
  },
  {
   "cell_type": "code",
   "execution_count": 60,
   "metadata": {
    "collapsed": false
   },
   "outputs": [
    {
     "name": "stdout",
     "output_type": "stream",
     "text": [
      "{'n_jobs': -1, 'max_depth': 9, 'min_samples_split': 183, 'max_features': 'log2', 'bootstrap': True, 'max_leaf_nodes': 136, 'n_estimators': 80, 'min_samples_leaf': 200, 'criterion': 'mse'}\n"
     ]
    }
   ],
   "source": [
    "best_params = random_search.cv_results_['params'][np.flatnonzero(random_search.cv_results_['rank_test_score']==1)[0]]\n",
    "print(best_params)"
   ]
  },
  {
   "cell_type": "code",
   "execution_count": 61,
   "metadata": {
    "collapsed": false
   },
   "outputs": [
    {
     "data": {
      "text/plain": [
       "RandomForestRegressor(bootstrap=True, criterion='mse', max_depth=9,\n",
       "           max_features='log2', max_leaf_nodes=136,\n",
       "           min_impurity_split=1e-07, min_samples_leaf=200,\n",
       "           min_samples_split=183, min_weight_fraction_leaf=0.0,\n",
       "           n_estimators=80, n_jobs=-1, oob_score=False, random_state=0,\n",
       "           verbose=0, warm_start=False)"
      ]
     },
     "execution_count": 61,
     "metadata": {},
     "output_type": "execute_result"
    }
   ],
   "source": [
    "rfr.set_params(**best_params, random_state=0)"
   ]
  },
  {
   "cell_type": "code",
   "execution_count": 62,
   "metadata": {
    "collapsed": false
   },
   "outputs": [
    {
     "name": "stdout",
     "output_type": "stream",
     "text": [
      "Mean absolute error: 5.5691 +- 0.1535\n",
      "Mean squared error: 69.2693 +- 5.7433\n"
     ]
    }
   ],
   "source": [
    "#CV with kfold=5\n",
    "kf = KFold(n_splits=5, random_state=0)\n",
    "\n",
    "CV_mse = list()\n",
    "CV_mae = list()\n",
    "\n",
    "for train_index, test_index in kf.split(x_train, y_train):\n",
    "    rfr.fit(x_train[train_index], y_train[train_index])\n",
    "    y_pred = rfr.predict(x_train[test_index])\n",
    "    CV_mae.append(mean_absolute_error(y_train[test_index], y_pred))\n",
    "    CV_mse.append(mean_squared_error(y_train[test_index], y_pred))\n",
    "    \n",
    "print('Mean absolute error: %0.4f +- %0.4f' %(np.mean(CV_mae), 2*np.std(CV_mae)))\n",
    "print('Mean squared error: %0.4f +- %0.4f' %(np.mean(CV_mse), 2*np.std(CV_mse)))"
   ]
  },
  {
   "cell_type": "code",
   "execution_count": 63,
   "metadata": {
    "collapsed": false
   },
   "outputs": [
    {
     "data": {
      "text/plain": [
       "([5.561221239518999,\n",
       "  5.5110105539618326,\n",
       "  5.6262434883880177,\n",
       "  5.4669523694393183,\n",
       "  5.6801075998935513],\n",
       " [71.074514994109478,\n",
       "  70.197814284363332,\n",
       "  66.747460136650858,\n",
       "  65.243620967228424,\n",
       "  73.08316658146407])"
      ]
     },
     "execution_count": 63,
     "metadata": {},
     "output_type": "execute_result"
    }
   ],
   "source": [
    "CV_mae, CV_mse"
   ]
  },
  {
   "cell_type": "code",
   "execution_count": 64,
   "metadata": {
    "collapsed": false
   },
   "outputs": [
    {
     "data": {
      "text/plain": [
       "RandomForestRegressor(bootstrap=True, criterion='mse', max_depth=9,\n",
       "           max_features='log2', max_leaf_nodes=136,\n",
       "           min_impurity_split=1e-07, min_samples_leaf=200,\n",
       "           min_samples_split=183, min_weight_fraction_leaf=0.0,\n",
       "           n_estimators=80, n_jobs=-1, oob_score=False, random_state=0,\n",
       "           verbose=0, warm_start=False)"
      ]
     },
     "execution_count": 64,
     "metadata": {},
     "output_type": "execute_result"
    }
   ],
   "source": [
    "rfr.fit(x_train, y_train)"
   ]
  },
  {
   "cell_type": "code",
   "execution_count": 65,
   "metadata": {
    "collapsed": false
   },
   "outputs": [
    {
     "name": "stdout",
     "output_type": "stream",
     "text": [
      "Training MAE: 5.38882609315, Training MSE: 65.1915876315\n"
     ]
    }
   ],
   "source": [
    "print('Training MAE: ' +str(mean_absolute_error(y_train, rfr.predict(x_train)))+', Training MSE: ' +\n",
    "      str(mean_squared_error(y_train, rfr.predict(x_train))))"
   ]
  },
  {
   "cell_type": "code",
   "execution_count": 66,
   "metadata": {
    "collapsed": false
   },
   "outputs": [
    {
     "name": "stdout",
     "output_type": "stream",
     "text": [
      "MAE: 5.51891621919, MSE: 63.4837158074\n"
     ]
    },
    {
     "data": {
      "text/html": [
       "<div>\n",
       "<table border=\"1\" class=\"dataframe\">\n",
       "  <thead>\n",
       "    <tr style=\"text-align: right;\">\n",
       "      <th></th>\n",
       "      <th>0</th>\n",
       "    </tr>\n",
       "  </thead>\n",
       "  <tbody>\n",
       "    <tr>\n",
       "      <th>spot</th>\n",
       "      <td>0.182390</td>\n",
       "    </tr>\n",
       "    <tr>\n",
       "      <th>demand</th>\n",
       "      <td>0.107564</td>\n",
       "    </tr>\n",
       "    <tr>\n",
       "      <th>off_peak</th>\n",
       "      <td>0.019136</td>\n",
       "    </tr>\n",
       "    <tr>\n",
       "      <th>Wd</th>\n",
       "      <td>0.012870</td>\n",
       "    </tr>\n",
       "    <tr>\n",
       "      <th>winter</th>\n",
       "      <td>0.015531</td>\n",
       "    </tr>\n",
       "    <tr>\n",
       "      <th>demand-1</th>\n",
       "      <td>0.042156</td>\n",
       "    </tr>\n",
       "    <tr>\n",
       "      <th>demand-24</th>\n",
       "      <td>0.010987</td>\n",
       "    </tr>\n",
       "    <tr>\n",
       "      <th>spot-1</th>\n",
       "      <td>0.136388</td>\n",
       "    </tr>\n",
       "    <tr>\n",
       "      <th>spot-24</th>\n",
       "      <td>0.044417</td>\n",
       "    </tr>\n",
       "    <tr>\n",
       "      <th>band-24</th>\n",
       "      <td>0.428561</td>\n",
       "    </tr>\n",
       "  </tbody>\n",
       "</table>\n",
       "</div>"
      ],
      "text/plain": [
       "                  0\n",
       "spot       0.182390\n",
       "demand     0.107564\n",
       "off_peak   0.019136\n",
       "Wd         0.012870\n",
       "winter     0.015531\n",
       "demand-1   0.042156\n",
       "demand-24  0.010987\n",
       "spot-1     0.136388\n",
       "spot-24    0.044417\n",
       "band-24    0.428561"
      ]
     },
     "execution_count": 66,
     "metadata": {},
     "output_type": "execute_result"
    }
   ],
   "source": [
    "#Print test error and feature importance\n",
    "print('MAE: ' +str(mean_absolute_error(y_test, rfr.predict(x_test)))+', MSE: ' +\n",
    "      str(mean_squared_error(y_test, rfr.predict(x_test))))\n",
    "pd.DataFrame(data=rfr.feature_importances_, index=features_list)"
   ]
  },
  {
   "cell_type": "code",
   "execution_count": 130,
   "metadata": {
    "collapsed": false,
    "scrolled": true
   },
   "outputs": [
    {
     "data": {
      "image/svg+xml": [
       "<?xml version=\"1.0\" encoding=\"UTF-8\" standalone=\"no\"?>\r\n",
       "<!DOCTYPE svg PUBLIC \"-//W3C//DTD SVG 1.1//EN\"\r\n",
       " \"http://www.w3.org/Graphics/SVG/1.1/DTD/svg11.dtd\">\r\n",
       "<!-- Generated by graphviz version 2.38.0 (20140413.2041)\r\n",
       " -->\r\n",
       "<!-- Title: Tree Pages: 1 -->\r\n",
       "<svg width=\"2152pt\" height=\"1101pt\"\r\n",
       " viewBox=\"0.00 0.00 2152.00 1101.00\" xmlns=\"http://www.w3.org/2000/svg\" xmlns:xlink=\"http://www.w3.org/1999/xlink\">\r\n",
       "<g id=\"graph0\" class=\"graph\" transform=\"scale(1 1) rotate(0) translate(4 1097)\">\r\n",
       "<title>Tree</title>\r\n",
       "<polygon fill=\"white\" stroke=\"none\" points=\"-4,4 -4,-1097 2148,-1097 2148,4 -4,4\"/>\r\n",
       "<!-- 0 -->\r\n",
       "<g id=\"node1\" class=\"node\"><title>0</title>\r\n",
       "<path fill=\"#e58139\" fill-opacity=\"0.298039\" stroke=\"black\" d=\"M782.5,-1093C782.5,-1093 701.5,-1093 701.5,-1093 695.5,-1093 689.5,-1087 689.5,-1081 689.5,-1081 689.5,-1037 689.5,-1037 689.5,-1031 695.5,-1025 701.5,-1025 701.5,-1025 782.5,-1025 782.5,-1025 788.5,-1025 794.5,-1031 794.5,-1037 794.5,-1037 794.5,-1081 794.5,-1081 794.5,-1087 788.5,-1093 782.5,-1093\"/>\r\n",
       "<text text-anchor=\"middle\" x=\"742\" y=\"-1077.8\" font-family=\"Helvetica,sans-Serif\" font-size=\"14.00\">#0</text>\r\n",
       "<text text-anchor=\"middle\" x=\"742\" y=\"-1062.8\" font-family=\"Helvetica,sans-Serif\" font-size=\"14.00\">spot &lt;= 30.63</text>\r\n",
       "<text text-anchor=\"middle\" x=\"742\" y=\"-1047.8\" font-family=\"Helvetica,sans-Serif\" font-size=\"14.00\">13311</text>\r\n",
       "<text text-anchor=\"middle\" x=\"742\" y=\"-1032.8\" font-family=\"Helvetica,sans-Serif\" font-size=\"14.00\">19.3403</text>\r\n",
       "</g>\r\n",
       "<!-- 1 -->\r\n",
       "<g id=\"node2\" class=\"node\"><title>1</title>\r\n",
       "<path fill=\"#e58139\" fill-opacity=\"0.564706\" stroke=\"black\" d=\"M453,-989C453,-989 379,-989 379,-989 373,-989 367,-983 367,-977 367,-977 367,-933 367,-933 367,-927 373,-921 379,-921 379,-921 453,-921 453,-921 459,-921 465,-927 465,-933 465,-933 465,-977 465,-977 465,-983 459,-989 453,-989\"/>\r\n",
       "<text text-anchor=\"middle\" x=\"416\" y=\"-973.8\" font-family=\"Helvetica,sans-Serif\" font-size=\"14.00\">#1</text>\r\n",
       "<text text-anchor=\"middle\" x=\"416\" y=\"-958.8\" font-family=\"Helvetica,sans-Serif\" font-size=\"14.00\">winter &lt;= 0.5</text>\r\n",
       "<text text-anchor=\"middle\" x=\"416\" y=\"-943.8\" font-family=\"Helvetica,sans-Serif\" font-size=\"14.00\">2515</text>\r\n",
       "<text text-anchor=\"middle\" x=\"416\" y=\"-928.8\" font-family=\"Helvetica,sans-Serif\" font-size=\"14.00\">30.7518</text>\r\n",
       "</g>\r\n",
       "<!-- 0&#45;&gt;1 -->\r\n",
       "<g id=\"edge1\" class=\"edge\"><title>0&#45;&gt;1</title>\r\n",
       "<path fill=\"none\" stroke=\"black\" d=\"M689.26,-1041.5C630.624,-1023.15 536.151,-993.593 475.074,-974.483\"/>\r\n",
       "<polygon fill=\"black\" stroke=\"black\" points=\"475.784,-971.038 465.195,-971.392 473.694,-977.719 475.784,-971.038\"/>\r\n",
       "<text text-anchor=\"middle\" x=\"476.788\" y=\"-989.842\" font-family=\"Helvetica,sans-Serif\" font-size=\"14.00\">True</text>\r\n",
       "</g>\r\n",
       "<!-- 2 -->\r\n",
       "<g id=\"node17\" class=\"node\"><title>2</title>\r\n",
       "<path fill=\"#e58139\" fill-opacity=\"0.235294\" stroke=\"black\" d=\"M1205.5,-989C1205.5,-989 1116.5,-989 1116.5,-989 1110.5,-989 1104.5,-983 1104.5,-977 1104.5,-977 1104.5,-933 1104.5,-933 1104.5,-927 1110.5,-921 1116.5,-921 1116.5,-921 1205.5,-921 1205.5,-921 1211.5,-921 1217.5,-927 1217.5,-933 1217.5,-933 1217.5,-977 1217.5,-977 1217.5,-983 1211.5,-989 1205.5,-989\"/>\r\n",
       "<text text-anchor=\"middle\" x=\"1161\" y=\"-973.8\" font-family=\"Helvetica,sans-Serif\" font-size=\"14.00\">#2</text>\r\n",
       "<text text-anchor=\"middle\" x=\"1161\" y=\"-958.8\" font-family=\"Helvetica,sans-Serif\" font-size=\"14.00\">spot &lt;= 59.955</text>\r\n",
       "<text text-anchor=\"middle\" x=\"1161\" y=\"-943.8\" font-family=\"Helvetica,sans-Serif\" font-size=\"14.00\">10796</text>\r\n",
       "<text text-anchor=\"middle\" x=\"1161\" y=\"-928.8\" font-family=\"Helvetica,sans-Serif\" font-size=\"14.00\">16.6722</text>\r\n",
       "</g>\r\n",
       "<!-- 0&#45;&gt;2 -->\r\n",
       "<g id=\"edge16\" class=\"edge\"><title>0&#45;&gt;2</title>\r\n",
       "<path fill=\"none\" stroke=\"black\" d=\"M794.642,-1045.18C870.678,-1026.68 1011.21,-992.464 1094.38,-972.219\"/>\r\n",
       "<polygon fill=\"black\" stroke=\"black\" points=\"1095.34,-975.587 1104.23,-969.821 1093.68,-968.786 1095.34,-975.587\"/>\r\n",
       "<text text-anchor=\"middle\" x=\"1091.23\" y=\"-987.478\" font-family=\"Helvetica,sans-Serif\" font-size=\"14.00\">False</text>\r\n",
       "</g>\r\n",
       "<!-- 3 -->\r\n",
       "<g id=\"node3\" class=\"node\"><title>3</title>\r\n",
       "<path fill=\"#e58139\" fill-opacity=\"0.435294\" stroke=\"black\" d=\"M272,-885C272,-885 150,-885 150,-885 144,-885 138,-879 138,-873 138,-873 138,-829 138,-829 138,-823 144,-817 150,-817 150,-817 272,-817 272,-817 278,-817 284,-823 284,-829 284,-829 284,-873 284,-873 284,-879 278,-885 272,-885\"/>\r\n",
       "<text text-anchor=\"middle\" x=\"211\" y=\"-869.8\" font-family=\"Helvetica,sans-Serif\" font-size=\"14.00\">#3</text>\r\n",
       "<text text-anchor=\"middle\" x=\"211\" y=\"-854.8\" font-family=\"Helvetica,sans-Serif\" font-size=\"14.00\">demand &lt;= 26541.5</text>\r\n",
       "<text text-anchor=\"middle\" x=\"211\" y=\"-839.8\" font-family=\"Helvetica,sans-Serif\" font-size=\"14.00\">974</text>\r\n",
       "<text text-anchor=\"middle\" x=\"211\" y=\"-824.8\" font-family=\"Helvetica,sans-Serif\" font-size=\"14.00\">25.1982</text>\r\n",
       "</g>\r\n",
       "<!-- 1&#45;&gt;3 -->\r\n",
       "<g id=\"edge2\" class=\"edge\"><title>1&#45;&gt;3</title>\r\n",
       "<path fill=\"none\" stroke=\"black\" d=\"M366.897,-929.568C342.846,-917.601 313.353,-902.927 286.516,-889.574\"/>\r\n",
       "<polygon fill=\"black\" stroke=\"black\" points=\"288.041,-886.423 277.529,-885.102 284.923,-892.69 288.041,-886.423\"/>\r\n",
       "</g>\r\n",
       "<!-- 4 -->\r\n",
       "<g id=\"node8\" class=\"node\"><title>4</title>\r\n",
       "<path fill=\"#e58139\" fill-opacity=\"0.647059\" stroke=\"black\" d=\"M456.5,-885C456.5,-885 375.5,-885 375.5,-885 369.5,-885 363.5,-879 363.5,-873 363.5,-873 363.5,-829 363.5,-829 363.5,-823 369.5,-817 375.5,-817 375.5,-817 456.5,-817 456.5,-817 462.5,-817 468.5,-823 468.5,-829 468.5,-829 468.5,-873 468.5,-873 468.5,-879 462.5,-885 456.5,-885\"/>\r\n",
       "<text text-anchor=\"middle\" x=\"416\" y=\"-869.8\" font-family=\"Helvetica,sans-Serif\" font-size=\"14.00\">#4</text>\r\n",
       "<text text-anchor=\"middle\" x=\"416\" y=\"-854.8\" font-family=\"Helvetica,sans-Serif\" font-size=\"14.00\">spot &lt;= 12.95</text>\r\n",
       "<text text-anchor=\"middle\" x=\"416\" y=\"-839.8\" font-family=\"Helvetica,sans-Serif\" font-size=\"14.00\">1541</text>\r\n",
       "<text text-anchor=\"middle\" x=\"416\" y=\"-824.8\" font-family=\"Helvetica,sans-Serif\" font-size=\"14.00\">34.1959</text>\r\n",
       "</g>\r\n",
       "<!-- 1&#45;&gt;4 -->\r\n",
       "<g id=\"edge7\" class=\"edge\"><title>1&#45;&gt;4</title>\r\n",
       "<path fill=\"none\" stroke=\"black\" d=\"M416,-920.884C416,-912.778 416,-903.982 416,-895.472\"/>\r\n",
       "<polygon fill=\"black\" stroke=\"black\" points=\"419.5,-895.299 416,-885.299 412.5,-895.299 419.5,-895.299\"/>\r\n",
       "</g>\r\n",
       "<!-- 23 -->\r\n",
       "<g id=\"node4\" class=\"node\"><title>23</title>\r\n",
       "<path fill=\"#e58139\" fill-opacity=\"0.486275\" stroke=\"black\" d=\"M146,-781C146,-781 24,-781 24,-781 18,-781 12,-775 12,-769 12,-769 12,-725 12,-725 12,-719 18,-713 24,-713 24,-713 146,-713 146,-713 152,-713 158,-719 158,-725 158,-725 158,-769 158,-769 158,-775 152,-781 146,-781\"/>\r\n",
       "<text text-anchor=\"middle\" x=\"85\" y=\"-765.8\" font-family=\"Helvetica,sans-Serif\" font-size=\"14.00\">#23</text>\r\n",
       "<text text-anchor=\"middle\" x=\"85\" y=\"-750.8\" font-family=\"Helvetica,sans-Serif\" font-size=\"14.00\">demand &lt;= 22874.0</text>\r\n",
       "<text text-anchor=\"middle\" x=\"85\" y=\"-735.8\" font-family=\"Helvetica,sans-Serif\" font-size=\"14.00\">720</text>\r\n",
       "<text text-anchor=\"middle\" x=\"85\" y=\"-720.8\" font-family=\"Helvetica,sans-Serif\" font-size=\"14.00\">27.3526</text>\r\n",
       "</g>\r\n",
       "<!-- 3&#45;&gt;23 -->\r\n",
       "<g id=\"edge3\" class=\"edge\"><title>3&#45;&gt;23</title>\r\n",
       "<path fill=\"none\" stroke=\"black\" d=\"M170.091,-816.884C158.648,-807.62 146.091,-797.455 134.221,-787.845\"/>\r\n",
       "<polygon fill=\"black\" stroke=\"black\" points=\"136.109,-784.871 126.135,-781.299 131.705,-790.312 136.109,-784.871\"/>\r\n",
       "</g>\r\n",
       "<!-- 24 -->\r\n",
       "<g id=\"node7\" class=\"node\"><title>24</title>\r\n",
       "<path fill=\"#e58139\" fill-opacity=\"0.290196\" stroke=\"black\" d=\"M234,-773.5C234,-773.5 188,-773.5 188,-773.5 182,-773.5 176,-767.5 176,-761.5 176,-761.5 176,-732.5 176,-732.5 176,-726.5 182,-720.5 188,-720.5 188,-720.5 234,-720.5 234,-720.5 240,-720.5 246,-726.5 246,-732.5 246,-732.5 246,-761.5 246,-761.5 246,-767.5 240,-773.5 234,-773.5\"/>\r\n",
       "<text text-anchor=\"middle\" x=\"211\" y=\"-758.3\" font-family=\"Helvetica,sans-Serif\" font-size=\"14.00\">#24</text>\r\n",
       "<text text-anchor=\"middle\" x=\"211\" y=\"-743.3\" font-family=\"Helvetica,sans-Serif\" font-size=\"14.00\">254</text>\r\n",
       "<text text-anchor=\"middle\" x=\"211\" y=\"-728.3\" font-family=\"Helvetica,sans-Serif\" font-size=\"14.00\">18.9927</text>\r\n",
       "</g>\r\n",
       "<!-- 3&#45;&gt;24 -->\r\n",
       "<g id=\"edge6\" class=\"edge\"><title>3&#45;&gt;24</title>\r\n",
       "<path fill=\"none\" stroke=\"black\" d=\"M211,-816.884C211,-806.326 211,-794.597 211,-783.854\"/>\r\n",
       "<polygon fill=\"black\" stroke=\"black\" points=\"214.5,-783.52 211,-773.52 207.5,-783.52 214.5,-783.52\"/>\r\n",
       "</g>\r\n",
       "<!-- 59 -->\r\n",
       "<g id=\"node5\" class=\"node\"><title>59</title>\r\n",
       "<path fill=\"#e58139\" fill-opacity=\"0.439216\" stroke=\"black\" d=\"M58,-669.5C58,-669.5 12,-669.5 12,-669.5 6,-669.5 0,-663.5 0,-657.5 0,-657.5 0,-628.5 0,-628.5 0,-622.5 6,-616.5 12,-616.5 12,-616.5 58,-616.5 58,-616.5 64,-616.5 70,-622.5 70,-628.5 70,-628.5 70,-657.5 70,-657.5 70,-663.5 64,-669.5 58,-669.5\"/>\r\n",
       "<text text-anchor=\"middle\" x=\"35\" y=\"-654.3\" font-family=\"Helvetica,sans-Serif\" font-size=\"14.00\">#59</text>\r\n",
       "<text text-anchor=\"middle\" x=\"35\" y=\"-639.3\" font-family=\"Helvetica,sans-Serif\" font-size=\"14.00\">383</text>\r\n",
       "<text text-anchor=\"middle\" x=\"35\" y=\"-624.3\" font-family=\"Helvetica,sans-Serif\" font-size=\"14.00\">25.4401</text>\r\n",
       "</g>\r\n",
       "<!-- 23&#45;&gt;59 -->\r\n",
       "<g id=\"edge4\" class=\"edge\"><title>23&#45;&gt;59</title>\r\n",
       "<path fill=\"none\" stroke=\"black\" d=\"M68.7664,-712.884C63.3753,-701.886 57.3615,-689.617 51.9199,-678.517\"/>\r\n",
       "<polygon fill=\"black\" stroke=\"black\" points=\"55.0541,-676.959 47.5098,-669.52 48.7687,-680.04 55.0541,-676.959\"/>\r\n",
       "</g>\r\n",
       "<!-- 60 -->\r\n",
       "<g id=\"node6\" class=\"node\"><title>60</title>\r\n",
       "<path fill=\"#e58139\" fill-opacity=\"0.537255\" stroke=\"black\" d=\"M146,-669.5C146,-669.5 100,-669.5 100,-669.5 94,-669.5 88,-663.5 88,-657.5 88,-657.5 88,-628.5 88,-628.5 88,-622.5 94,-616.5 100,-616.5 100,-616.5 146,-616.5 146,-616.5 152,-616.5 158,-622.5 158,-628.5 158,-628.5 158,-657.5 158,-657.5 158,-663.5 152,-669.5 146,-669.5\"/>\r\n",
       "<text text-anchor=\"middle\" x=\"123\" y=\"-654.3\" font-family=\"Helvetica,sans-Serif\" font-size=\"14.00\">#60</text>\r\n",
       "<text text-anchor=\"middle\" x=\"123\" y=\"-639.3\" font-family=\"Helvetica,sans-Serif\" font-size=\"14.00\">337</text>\r\n",
       "<text text-anchor=\"middle\" x=\"123\" y=\"-624.3\" font-family=\"Helvetica,sans-Serif\" font-size=\"14.00\">29.4493</text>\r\n",
       "</g>\r\n",
       "<!-- 23&#45;&gt;60 -->\r\n",
       "<g id=\"edge5\" class=\"edge\"><title>23&#45;&gt;60</title>\r\n",
       "<path fill=\"none\" stroke=\"black\" d=\"M97.3375,-712.884C101.353,-702.106 105.823,-690.108 109.892,-679.184\"/>\r\n",
       "<polygon fill=\"black\" stroke=\"black\" points=\"113.281,-680.113 113.493,-669.52 106.722,-677.669 113.281,-680.113\"/>\r\n",
       "</g>\r\n",
       "<!-- 5 -->\r\n",
       "<g id=\"node9\" class=\"node\"><title>5</title>\r\n",
       "<path fill=\"#e58139\" fill-opacity=\"0.800000\" stroke=\"black\" d=\"M382,-781C382,-781 276,-781 276,-781 270,-781 264,-775 264,-769 264,-769 264,-725 264,-725 264,-719 270,-713 276,-713 276,-713 382,-713 382,-713 388,-713 394,-719 394,-725 394,-725 394,-769 394,-769 394,-775 388,-781 382,-781\"/>\r\n",
       "<text text-anchor=\"middle\" x=\"329\" y=\"-765.8\" font-family=\"Helvetica,sans-Serif\" font-size=\"14.00\">#5</text>\r\n",
       "<text text-anchor=\"middle\" x=\"329\" y=\"-750.8\" font-family=\"Helvetica,sans-Serif\" font-size=\"14.00\">band&#45;24 &lt;= 31.19</text>\r\n",
       "<text text-anchor=\"middle\" x=\"329\" y=\"-735.8\" font-family=\"Helvetica,sans-Serif\" font-size=\"14.00\">598</text>\r\n",
       "<text text-anchor=\"middle\" x=\"329\" y=\"-720.8\" font-family=\"Helvetica,sans-Serif\" font-size=\"14.00\">40.6287</text>\r\n",
       "</g>\r\n",
       "<!-- 4&#45;&gt;5 -->\r\n",
       "<g id=\"edge8\" class=\"edge\"><title>4&#45;&gt;5</title>\r\n",
       "<path fill=\"none\" stroke=\"black\" d=\"M387.754,-816.884C380.156,-807.976 371.848,-798.235 363.934,-788.957\"/>\r\n",
       "<polygon fill=\"black\" stroke=\"black\" points=\"366.555,-786.636 357.402,-781.299 361.229,-791.179 366.555,-786.636\"/>\r\n",
       "</g>\r\n",
       "<!-- 6 -->\r\n",
       "<g id=\"node12\" class=\"node\"><title>6</title>\r\n",
       "<path fill=\"#e58139\" fill-opacity=\"0.549020\" stroke=\"black\" d=\"M530,-781C530,-781 424,-781 424,-781 418,-781 412,-775 412,-769 412,-769 412,-725 412,-725 412,-719 418,-713 424,-713 424,-713 530,-713 530,-713 536,-713 542,-719 542,-725 542,-725 542,-769 542,-769 542,-775 536,-781 530,-781\"/>\r\n",
       "<text text-anchor=\"middle\" x=\"477\" y=\"-765.8\" font-family=\"Helvetica,sans-Serif\" font-size=\"14.00\">#6</text>\r\n",
       "<text text-anchor=\"middle\" x=\"477\" y=\"-750.8\" font-family=\"Helvetica,sans-Serif\" font-size=\"14.00\">band&#45;24 &lt;= 31.35</text>\r\n",
       "<text text-anchor=\"middle\" x=\"477\" y=\"-735.8\" font-family=\"Helvetica,sans-Serif\" font-size=\"14.00\">943</text>\r\n",
       "<text text-anchor=\"middle\" x=\"477\" y=\"-720.8\" font-family=\"Helvetica,sans-Serif\" font-size=\"14.00\">30.048</text>\r\n",
       "</g>\r\n",
       "<!-- 4&#45;&gt;6 -->\r\n",
       "<g id=\"edge11\" class=\"edge\"><title>4&#45;&gt;6</title>\r\n",
       "<path fill=\"none\" stroke=\"black\" d=\"M435.805,-816.884C440.919,-808.332 446.492,-799.013 451.839,-790.072\"/>\r\n",
       "<polygon fill=\"black\" stroke=\"black\" points=\"454.957,-791.678 457.086,-781.299 448.949,-788.085 454.957,-791.678\"/>\r\n",
       "</g>\r\n",
       "<!-- 13 -->\r\n",
       "<g id=\"node10\" class=\"node\"><title>13</title>\r\n",
       "<path fill=\"#e58139\" fill-opacity=\"0.650980\" stroke=\"black\" d=\"M264,-669.5C264,-669.5 226,-669.5 226,-669.5 220,-669.5 214,-663.5 214,-657.5 214,-657.5 214,-628.5 214,-628.5 214,-622.5 220,-616.5 226,-616.5 226,-616.5 264,-616.5 264,-616.5 270,-616.5 276,-622.5 276,-628.5 276,-628.5 276,-657.5 276,-657.5 276,-663.5 270,-669.5 264,-669.5\"/>\r\n",
       "<text text-anchor=\"middle\" x=\"245\" y=\"-654.3\" font-family=\"Helvetica,sans-Serif\" font-size=\"14.00\">#13</text>\r\n",
       "<text text-anchor=\"middle\" x=\"245\" y=\"-639.3\" font-family=\"Helvetica,sans-Serif\" font-size=\"14.00\">340</text>\r\n",
       "<text text-anchor=\"middle\" x=\"245\" y=\"-624.3\" font-family=\"Helvetica,sans-Serif\" font-size=\"14.00\">34.305</text>\r\n",
       "</g>\r\n",
       "<!-- 5&#45;&gt;13 -->\r\n",
       "<g id=\"edge9\" class=\"edge\"><title>5&#45;&gt;13</title>\r\n",
       "<path fill=\"none\" stroke=\"black\" d=\"M301.728,-712.884C292.399,-701.556 281.96,-688.88 272.605,-677.521\"/>\r\n",
       "<polygon fill=\"black\" stroke=\"black\" points=\"275.075,-675.014 266.016,-669.52 269.672,-679.464 275.075,-675.014\"/>\r\n",
       "</g>\r\n",
       "<!-- 14 -->\r\n",
       "<g id=\"node11\" class=\"node\"><title>14</title>\r\n",
       "<path fill=\"#e58139\" stroke=\"black\" d=\"M352,-669.5C352,-669.5 306,-669.5 306,-669.5 300,-669.5 294,-663.5 294,-657.5 294,-657.5 294,-628.5 294,-628.5 294,-622.5 300,-616.5 306,-616.5 306,-616.5 352,-616.5 352,-616.5 358,-616.5 364,-622.5 364,-628.5 364,-628.5 364,-657.5 364,-657.5 364,-663.5 358,-669.5 352,-669.5\"/>\r\n",
       "<text text-anchor=\"middle\" x=\"329\" y=\"-654.3\" font-family=\"Helvetica,sans-Serif\" font-size=\"14.00\">#14</text>\r\n",
       "<text text-anchor=\"middle\" x=\"329\" y=\"-639.3\" font-family=\"Helvetica,sans-Serif\" font-size=\"14.00\">258</text>\r\n",
       "<text text-anchor=\"middle\" x=\"329\" y=\"-624.3\" font-family=\"Helvetica,sans-Serif\" font-size=\"14.00\">49.1372</text>\r\n",
       "</g>\r\n",
       "<!-- 5&#45;&gt;14 -->\r\n",
       "<g id=\"edge10\" class=\"edge\"><title>5&#45;&gt;14</title>\r\n",
       "<path fill=\"none\" stroke=\"black\" d=\"M329,-712.884C329,-702.326 329,-690.597 329,-679.854\"/>\r\n",
       "<polygon fill=\"black\" stroke=\"black\" points=\"332.5,-679.52 329,-669.52 325.5,-679.52 332.5,-679.52\"/>\r\n",
       "</g>\r\n",
       "<!-- 11 -->\r\n",
       "<g id=\"node13\" class=\"node\"><title>11</title>\r\n",
       "<path fill=\"#e58139\" fill-opacity=\"0.458824\" stroke=\"black\" d=\"M516,-677C516,-677 394,-677 394,-677 388,-677 382,-671 382,-665 382,-665 382,-621 382,-621 382,-615 388,-609 394,-609 394,-609 516,-609 516,-609 522,-609 528,-615 528,-621 528,-621 528,-665 528,-665 528,-671 522,-677 516,-677\"/>\r\n",
       "<text text-anchor=\"middle\" x=\"455\" y=\"-661.8\" font-family=\"Helvetica,sans-Serif\" font-size=\"14.00\">#11</text>\r\n",
       "<text text-anchor=\"middle\" x=\"455\" y=\"-646.8\" font-family=\"Helvetica,sans-Serif\" font-size=\"14.00\">demand &lt;= 26417.5</text>\r\n",
       "<text text-anchor=\"middle\" x=\"455\" y=\"-631.8\" font-family=\"Helvetica,sans-Serif\" font-size=\"14.00\">683</text>\r\n",
       "<text text-anchor=\"middle\" x=\"455\" y=\"-616.8\" font-family=\"Helvetica,sans-Serif\" font-size=\"14.00\">26.211</text>\r\n",
       "</g>\r\n",
       "<!-- 6&#45;&gt;11 -->\r\n",
       "<g id=\"edge12\" class=\"edge\"><title>6&#45;&gt;11</title>\r\n",
       "<path fill=\"none\" stroke=\"black\" d=\"M469.857,-712.884C468.09,-704.689 466.17,-695.789 464.316,-687.192\"/>\r\n",
       "<polygon fill=\"black\" stroke=\"black\" points=\"467.712,-686.337 462.182,-677.299 460.869,-687.813 467.712,-686.337\"/>\r\n",
       "</g>\r\n",
       "<!-- 12 -->\r\n",
       "<g id=\"node16\" class=\"node\"><title>12</title>\r\n",
       "<path fill=\"#e58139\" fill-opacity=\"0.780392\" stroke=\"black\" d=\"M604,-669.5C604,-669.5 558,-669.5 558,-669.5 552,-669.5 546,-663.5 546,-657.5 546,-657.5 546,-628.5 546,-628.5 546,-622.5 552,-616.5 558,-616.5 558,-616.5 604,-616.5 604,-616.5 610,-616.5 616,-622.5 616,-628.5 616,-628.5 616,-657.5 616,-657.5 616,-663.5 610,-669.5 604,-669.5\"/>\r\n",
       "<text text-anchor=\"middle\" x=\"581\" y=\"-654.3\" font-family=\"Helvetica,sans-Serif\" font-size=\"14.00\">#12</text>\r\n",
       "<text text-anchor=\"middle\" x=\"581\" y=\"-639.3\" font-family=\"Helvetica,sans-Serif\" font-size=\"14.00\">260</text>\r\n",
       "<text text-anchor=\"middle\" x=\"581\" y=\"-624.3\" font-family=\"Helvetica,sans-Serif\" font-size=\"14.00\">39.8041</text>\r\n",
       "</g>\r\n",
       "<!-- 6&#45;&gt;12 -->\r\n",
       "<g id=\"edge15\" class=\"edge\"><title>6&#45;&gt;12</title>\r\n",
       "<path fill=\"none\" stroke=\"black\" d=\"M510.766,-712.884C522.652,-701.226 535.994,-688.141 547.831,-676.532\"/>\r\n",
       "<polygon fill=\"black\" stroke=\"black\" points=\"550.291,-679.021 554.98,-669.52 545.39,-674.023 550.291,-679.021\"/>\r\n",
       "</g>\r\n",
       "<!-- 43 -->\r\n",
       "<g id=\"node14\" class=\"node\"><title>43</title>\r\n",
       "<path fill=\"#e58139\" fill-opacity=\"0.505882\" stroke=\"black\" d=\"M390,-565.5C390,-565.5 344,-565.5 344,-565.5 338,-565.5 332,-559.5 332,-553.5 332,-553.5 332,-524.5 332,-524.5 332,-518.5 338,-512.5 344,-512.5 344,-512.5 390,-512.5 390,-512.5 396,-512.5 402,-518.5 402,-524.5 402,-524.5 402,-553.5 402,-553.5 402,-559.5 396,-565.5 390,-565.5\"/>\r\n",
       "<text text-anchor=\"middle\" x=\"367\" y=\"-550.3\" font-family=\"Helvetica,sans-Serif\" font-size=\"14.00\">#43</text>\r\n",
       "<text text-anchor=\"middle\" x=\"367\" y=\"-535.3\" font-family=\"Helvetica,sans-Serif\" font-size=\"14.00\">401</text>\r\n",
       "<text text-anchor=\"middle\" x=\"367\" y=\"-520.3\" font-family=\"Helvetica,sans-Serif\" font-size=\"14.00\">28.1287</text>\r\n",
       "</g>\r\n",
       "<!-- 11&#45;&gt;43 -->\r\n",
       "<g id=\"edge13\" class=\"edge\"><title>11&#45;&gt;43</title>\r\n",
       "<path fill=\"none\" stroke=\"black\" d=\"M426.429,-608.884C416.561,-597.446 405.508,-584.634 395.635,-573.19\"/>\r\n",
       "<polygon fill=\"black\" stroke=\"black\" points=\"398.2,-570.805 389.017,-565.52 392.9,-575.378 398.2,-570.805\"/>\r\n",
       "</g>\r\n",
       "<!-- 44 -->\r\n",
       "<g id=\"node15\" class=\"node\"><title>44</title>\r\n",
       "<path fill=\"#e58139\" fill-opacity=\"0.400000\" stroke=\"black\" d=\"M478,-565.5C478,-565.5 432,-565.5 432,-565.5 426,-565.5 420,-559.5 420,-553.5 420,-553.5 420,-524.5 420,-524.5 420,-518.5 426,-512.5 432,-512.5 432,-512.5 478,-512.5 478,-512.5 484,-512.5 490,-518.5 490,-524.5 490,-524.5 490,-553.5 490,-553.5 490,-559.5 484,-565.5 478,-565.5\"/>\r\n",
       "<text text-anchor=\"middle\" x=\"455\" y=\"-550.3\" font-family=\"Helvetica,sans-Serif\" font-size=\"14.00\">#44</text>\r\n",
       "<text text-anchor=\"middle\" x=\"455\" y=\"-535.3\" font-family=\"Helvetica,sans-Serif\" font-size=\"14.00\">282</text>\r\n",
       "<text text-anchor=\"middle\" x=\"455\" y=\"-520.3\" font-family=\"Helvetica,sans-Serif\" font-size=\"14.00\">23.6358</text>\r\n",
       "</g>\r\n",
       "<!-- 11&#45;&gt;44 -->\r\n",
       "<g id=\"edge14\" class=\"edge\"><title>11&#45;&gt;44</title>\r\n",
       "<path fill=\"none\" stroke=\"black\" d=\"M455,-608.884C455,-598.326 455,-586.597 455,-575.854\"/>\r\n",
       "<polygon fill=\"black\" stroke=\"black\" points=\"458.5,-575.52 455,-565.52 451.5,-575.52 458.5,-575.52\"/>\r\n",
       "</g>\r\n",
       "<!-- 7 -->\r\n",
       "<g id=\"node18\" class=\"node\"><title>7</title>\r\n",
       "<path fill=\"#e58139\" fill-opacity=\"0.258824\" stroke=\"black\" d=\"M1207.5,-885C1207.5,-885 1114.5,-885 1114.5,-885 1108.5,-885 1102.5,-879 1102.5,-873 1102.5,-873 1102.5,-829 1102.5,-829 1102.5,-823 1108.5,-817 1114.5,-817 1114.5,-817 1207.5,-817 1207.5,-817 1213.5,-817 1219.5,-823 1219.5,-829 1219.5,-829 1219.5,-873 1219.5,-873 1219.5,-879 1213.5,-885 1207.5,-885\"/>\r\n",
       "<text text-anchor=\"middle\" x=\"1161\" y=\"-869.8\" font-family=\"Helvetica,sans-Serif\" font-size=\"14.00\">#7</text>\r\n",
       "<text text-anchor=\"middle\" x=\"1161\" y=\"-854.8\" font-family=\"Helvetica,sans-Serif\" font-size=\"14.00\">off_peak &lt;= 0.5</text>\r\n",
       "<text text-anchor=\"middle\" x=\"1161\" y=\"-839.8\" font-family=\"Helvetica,sans-Serif\" font-size=\"14.00\">8437</text>\r\n",
       "<text text-anchor=\"middle\" x=\"1161\" y=\"-824.8\" font-family=\"Helvetica,sans-Serif\" font-size=\"14.00\">17.6456</text>\r\n",
       "</g>\r\n",
       "<!-- 2&#45;&gt;7 -->\r\n",
       "<g id=\"edge17\" class=\"edge\"><title>2&#45;&gt;7</title>\r\n",
       "<path fill=\"none\" stroke=\"black\" d=\"M1161,-920.884C1161,-912.778 1161,-903.982 1161,-895.472\"/>\r\n",
       "<polygon fill=\"black\" stroke=\"black\" points=\"1164.5,-895.299 1161,-885.299 1157.5,-895.299 1164.5,-895.299\"/>\r\n",
       "</g>\r\n",
       "<!-- 8 -->\r\n",
       "<g id=\"node67\" class=\"node\"><title>8</title>\r\n",
       "<path fill=\"#e58139\" fill-opacity=\"0.152941\" stroke=\"black\" d=\"M1865,-885C1865,-885 1751,-885 1751,-885 1745,-885 1739,-879 1739,-873 1739,-873 1739,-829 1739,-829 1739,-823 1745,-817 1751,-817 1751,-817 1865,-817 1865,-817 1871,-817 1877,-823 1877,-829 1877,-829 1877,-873 1877,-873 1877,-879 1871,-885 1865,-885\"/>\r\n",
       "<text text-anchor=\"middle\" x=\"1808\" y=\"-869.8\" font-family=\"Helvetica,sans-Serif\" font-size=\"14.00\">#8</text>\r\n",
       "<text text-anchor=\"middle\" x=\"1808\" y=\"-854.8\" font-family=\"Helvetica,sans-Serif\" font-size=\"14.00\">band&#45;24 &lt;= 19.415</text>\r\n",
       "<text text-anchor=\"middle\" x=\"1808\" y=\"-839.8\" font-family=\"Helvetica,sans-Serif\" font-size=\"14.00\">2359</text>\r\n",
       "<text text-anchor=\"middle\" x=\"1808\" y=\"-824.8\" font-family=\"Helvetica,sans-Serif\" font-size=\"14.00\">13.2238</text>\r\n",
       "</g>\r\n",
       "<!-- 2&#45;&gt;8 -->\r\n",
       "<g id=\"edge66\" class=\"edge\"><title>2&#45;&gt;8</title>\r\n",
       "<path fill=\"none\" stroke=\"black\" d=\"M1217.57,-945.082C1333.1,-926.868 1596.41,-885.358 1728.84,-864.48\"/>\r\n",
       "<polygon fill=\"black\" stroke=\"black\" points=\"1729.59,-867.905 1738.92,-862.891 1728.5,-860.991 1729.59,-867.905\"/>\r\n",
       "</g>\r\n",
       "<!-- 9 -->\r\n",
       "<g id=\"node19\" class=\"node\"><title>9</title>\r\n",
       "<path fill=\"#e58139\" fill-opacity=\"0.207843\" stroke=\"black\" d=\"M995,-781C995,-781 893,-781 893,-781 887,-781 881,-775 881,-769 881,-769 881,-725 881,-725 881,-719 887,-713 893,-713 893,-713 995,-713 995,-713 1001,-713 1007,-719 1007,-725 1007,-725 1007,-769 1007,-769 1007,-775 1001,-781 995,-781\"/>\r\n",
       "<text text-anchor=\"middle\" x=\"944\" y=\"-765.8\" font-family=\"Helvetica,sans-Serif\" font-size=\"14.00\">#9</text>\r\n",
       "<text text-anchor=\"middle\" x=\"944\" y=\"-750.8\" font-family=\"Helvetica,sans-Serif\" font-size=\"14.00\">spot&#45;24 &lt;= 51.79</text>\r\n",
       "<text text-anchor=\"middle\" x=\"944\" y=\"-735.8\" font-family=\"Helvetica,sans-Serif\" font-size=\"14.00\">4795</text>\r\n",
       "<text text-anchor=\"middle\" x=\"944\" y=\"-720.8\" font-family=\"Helvetica,sans-Serif\" font-size=\"14.00\">15.5032</text>\r\n",
       "</g>\r\n",
       "<!-- 7&#45;&gt;9 -->\r\n",
       "<g id=\"edge18\" class=\"edge\"><title>7&#45;&gt;9</title>\r\n",
       "<path fill=\"none\" stroke=\"black\" d=\"M1102.28,-822.397C1075.89,-809.994 1044.48,-795.232 1016.63,-782.141\"/>\r\n",
       "<polygon fill=\"black\" stroke=\"black\" points=\"1017.88,-778.858 1007.34,-777.771 1014.9,-785.193 1017.88,-778.858\"/>\r\n",
       "</g>\r\n",
       "<!-- 10 -->\r\n",
       "<g id=\"node46\" class=\"node\"><title>10</title>\r\n",
       "<path fill=\"#e58139\" fill-opacity=\"0.325490\" stroke=\"black\" d=\"M1522,-781C1522,-781 1400,-781 1400,-781 1394,-781 1388,-775 1388,-769 1388,-769 1388,-725 1388,-725 1388,-719 1394,-713 1400,-713 1400,-713 1522,-713 1522,-713 1528,-713 1534,-719 1534,-725 1534,-725 1534,-769 1534,-769 1534,-775 1528,-781 1522,-781\"/>\r\n",
       "<text text-anchor=\"middle\" x=\"1461\" y=\"-765.8\" font-family=\"Helvetica,sans-Serif\" font-size=\"14.00\">#10</text>\r\n",
       "<text text-anchor=\"middle\" x=\"1461\" y=\"-750.8\" font-family=\"Helvetica,sans-Serif\" font-size=\"14.00\">demand &lt;= 27941.5</text>\r\n",
       "<text text-anchor=\"middle\" x=\"1461\" y=\"-735.8\" font-family=\"Helvetica,sans-Serif\" font-size=\"14.00\">3642</text>\r\n",
       "<text text-anchor=\"middle\" x=\"1461\" y=\"-720.8\" font-family=\"Helvetica,sans-Serif\" font-size=\"14.00\">20.484</text>\r\n",
       "</g>\r\n",
       "<!-- 7&#45;&gt;10 -->\r\n",
       "<g id=\"edge45\" class=\"edge\"><title>7&#45;&gt;10</title>\r\n",
       "<path fill=\"none\" stroke=\"black\" d=\"M1219.56,-830.091C1264.81,-814.705 1328.02,-793.212 1378.42,-776.079\"/>\r\n",
       "<polygon fill=\"black\" stroke=\"black\" points=\"1379.65,-779.356 1387.99,-772.823 1377.4,-772.728 1379.65,-779.356\"/>\r\n",
       "</g>\r\n",
       "<!-- 17 -->\r\n",
       "<g id=\"node20\" class=\"node\"><title>17</title>\r\n",
       "<path fill=\"#e58139\" fill-opacity=\"0.172549\" stroke=\"black\" d=\"M809.5,-677C809.5,-677 750.5,-677 750.5,-677 744.5,-677 738.5,-671 738.5,-665 738.5,-665 738.5,-621 738.5,-621 738.5,-615 744.5,-609 750.5,-609 750.5,-609 809.5,-609 809.5,-609 815.5,-609 821.5,-615 821.5,-621 821.5,-621 821.5,-665 821.5,-665 821.5,-671 815.5,-677 809.5,-677\"/>\r\n",
       "<text text-anchor=\"middle\" x=\"780\" y=\"-661.8\" font-family=\"Helvetica,sans-Serif\" font-size=\"14.00\">#17</text>\r\n",
       "<text text-anchor=\"middle\" x=\"780\" y=\"-646.8\" font-family=\"Helvetica,sans-Serif\" font-size=\"14.00\">Wd &lt;= 0.5</text>\r\n",
       "<text text-anchor=\"middle\" x=\"780\" y=\"-631.8\" font-family=\"Helvetica,sans-Serif\" font-size=\"14.00\">3099</text>\r\n",
       "<text text-anchor=\"middle\" x=\"780\" y=\"-616.8\" font-family=\"Helvetica,sans-Serif\" font-size=\"14.00\">14.0783</text>\r\n",
       "</g>\r\n",
       "<!-- 9&#45;&gt;17 -->\r\n",
       "<g id=\"edge19\" class=\"edge\"><title>9&#45;&gt;17</title>\r\n",
       "<path fill=\"none\" stroke=\"black\" d=\"M890.754,-712.884C871.288,-700.777 849.347,-687.131 830.16,-675.197\"/>\r\n",
       "<polygon fill=\"black\" stroke=\"black\" points=\"831.896,-672.155 821.556,-669.846 828.199,-678.099 831.896,-672.155\"/>\r\n",
       "</g>\r\n",
       "<!-- 18 -->\r\n",
       "<g id=\"node39\" class=\"node\"><title>18</title>\r\n",
       "<path fill=\"#e58139\" fill-opacity=\"0.266667\" stroke=\"black\" d=\"M995,-677C995,-677 893,-677 893,-677 887,-677 881,-671 881,-665 881,-665 881,-621 881,-621 881,-615 887,-609 893,-609 893,-609 995,-609 995,-609 1001,-609 1007,-615 1007,-621 1007,-621 1007,-665 1007,-665 1007,-671 1001,-677 995,-677\"/>\r\n",
       "<text text-anchor=\"middle\" x=\"944\" y=\"-661.8\" font-family=\"Helvetica,sans-Serif\" font-size=\"14.00\">#18</text>\r\n",
       "<text text-anchor=\"middle\" x=\"944\" y=\"-646.8\" font-family=\"Helvetica,sans-Serif\" font-size=\"14.00\">spot&#45;1 &lt;= 47.425</text>\r\n",
       "<text text-anchor=\"middle\" x=\"944\" y=\"-631.8\" font-family=\"Helvetica,sans-Serif\" font-size=\"14.00\">1696</text>\r\n",
       "<text text-anchor=\"middle\" x=\"944\" y=\"-616.8\" font-family=\"Helvetica,sans-Serif\" font-size=\"14.00\">18.0426</text>\r\n",
       "</g>\r\n",
       "<!-- 9&#45;&gt;18 -->\r\n",
       "<g id=\"edge38\" class=\"edge\"><title>9&#45;&gt;18</title>\r\n",
       "<path fill=\"none\" stroke=\"black\" d=\"M944,-712.884C944,-704.778 944,-695.982 944,-687.472\"/>\r\n",
       "<polygon fill=\"black\" stroke=\"black\" points=\"947.5,-687.299 944,-677.299 940.5,-687.299 947.5,-687.299\"/>\r\n",
       "</g>\r\n",
       "<!-- 19 -->\r\n",
       "<g id=\"node21\" class=\"node\"><title>19</title>\r\n",
       "<path fill=\"#e58139\" fill-opacity=\"0.274510\" stroke=\"black\" d=\"M642,-573C642,-573 520,-573 520,-573 514,-573 508,-567 508,-561 508,-561 508,-517 508,-517 508,-511 514,-505 520,-505 520,-505 642,-505 642,-505 648,-505 654,-511 654,-517 654,-517 654,-561 654,-561 654,-567 648,-573 642,-573\"/>\r\n",
       "<text text-anchor=\"middle\" x=\"581\" y=\"-557.8\" font-family=\"Helvetica,sans-Serif\" font-size=\"14.00\">#19</text>\r\n",
       "<text text-anchor=\"middle\" x=\"581\" y=\"-542.8\" font-family=\"Helvetica,sans-Serif\" font-size=\"14.00\">demand &lt;= 26352.0</text>\r\n",
       "<text text-anchor=\"middle\" x=\"581\" y=\"-527.8\" font-family=\"Helvetica,sans-Serif\" font-size=\"14.00\">808</text>\r\n",
       "<text text-anchor=\"middle\" x=\"581\" y=\"-512.8\" font-family=\"Helvetica,sans-Serif\" font-size=\"14.00\">18.4482</text>\r\n",
       "</g>\r\n",
       "<!-- 17&#45;&gt;19 -->\r\n",
       "<g id=\"edge20\" class=\"edge\"><title>17&#45;&gt;19</title>\r\n",
       "<path fill=\"none\" stroke=\"black\" d=\"M738.283,-620.617C714.013,-608.177 682.723,-592.139 654.451,-577.648\"/>\r\n",
       "<polygon fill=\"black\" stroke=\"black\" points=\"655.886,-574.451 645.391,-573.004 652.693,-580.68 655.886,-574.451\"/>\r\n",
       "</g>\r\n",
       "<!-- 20 -->\r\n",
       "<g id=\"node24\" class=\"node\"><title>20</title>\r\n",
       "<path fill=\"#e58139\" fill-opacity=\"0.137255\" stroke=\"black\" d=\"M824.5,-573C824.5,-573 735.5,-573 735.5,-573 729.5,-573 723.5,-567 723.5,-561 723.5,-561 723.5,-517 723.5,-517 723.5,-511 729.5,-505 735.5,-505 735.5,-505 824.5,-505 824.5,-505 830.5,-505 836.5,-511 836.5,-517 836.5,-517 836.5,-561 836.5,-561 836.5,-567 830.5,-573 824.5,-573\"/>\r\n",
       "<text text-anchor=\"middle\" x=\"780\" y=\"-557.8\" font-family=\"Helvetica,sans-Serif\" font-size=\"14.00\">#20</text>\r\n",
       "<text text-anchor=\"middle\" x=\"780\" y=\"-542.8\" font-family=\"Helvetica,sans-Serif\" font-size=\"14.00\">spot &lt;= 39.315</text>\r\n",
       "<text text-anchor=\"middle\" x=\"780\" y=\"-527.8\" font-family=\"Helvetica,sans-Serif\" font-size=\"14.00\">2291</text>\r\n",
       "<text text-anchor=\"middle\" x=\"780\" y=\"-512.8\" font-family=\"Helvetica,sans-Serif\" font-size=\"14.00\">12.5401</text>\r\n",
       "</g>\r\n",
       "<!-- 17&#45;&gt;20 -->\r\n",
       "<g id=\"edge23\" class=\"edge\"><title>17&#45;&gt;20</title>\r\n",
       "<path fill=\"none\" stroke=\"black\" d=\"M780,-608.884C780,-600.778 780,-591.982 780,-583.472\"/>\r\n",
       "<polygon fill=\"black\" stroke=\"black\" points=\"783.5,-583.299 780,-573.299 776.5,-583.299 783.5,-583.299\"/>\r\n",
       "</g>\r\n",
       "<!-- 25 -->\r\n",
       "<g id=\"node22\" class=\"node\"><title>25</title>\r\n",
       "<path fill=\"#e58139\" fill-opacity=\"0.376471\" stroke=\"black\" d=\"M490,-461.5C490,-461.5 444,-461.5 444,-461.5 438,-461.5 432,-455.5 432,-449.5 432,-449.5 432,-420.5 432,-420.5 432,-414.5 438,-408.5 444,-408.5 444,-408.5 490,-408.5 490,-408.5 496,-408.5 502,-414.5 502,-420.5 502,-420.5 502,-449.5 502,-449.5 502,-455.5 496,-461.5 490,-461.5\"/>\r\n",
       "<text text-anchor=\"middle\" x=\"467\" y=\"-446.3\" font-family=\"Helvetica,sans-Serif\" font-size=\"14.00\">#25</text>\r\n",
       "<text text-anchor=\"middle\" x=\"467\" y=\"-431.3\" font-family=\"Helvetica,sans-Serif\" font-size=\"14.00\">358</text>\r\n",
       "<text text-anchor=\"middle\" x=\"467\" y=\"-416.3\" font-family=\"Helvetica,sans-Serif\" font-size=\"14.00\">22.7771</text>\r\n",
       "</g>\r\n",
       "<!-- 19&#45;&gt;25 -->\r\n",
       "<g id=\"edge21\" class=\"edge\"><title>19&#45;&gt;25</title>\r\n",
       "<path fill=\"none\" stroke=\"black\" d=\"M543.987,-504.884C530.835,-493.116 516.058,-479.894 502.992,-468.203\"/>\r\n",
       "<polygon fill=\"black\" stroke=\"black\" points=\"505.309,-465.58 495.522,-461.52 500.641,-470.796 505.309,-465.58\"/>\r\n",
       "</g>\r\n",
       "<!-- 26 -->\r\n",
       "<g id=\"node23\" class=\"node\"><title>26</title>\r\n",
       "<path fill=\"#e58139\" fill-opacity=\"0.192157\" stroke=\"black\" d=\"M578,-461.5C578,-461.5 532,-461.5 532,-461.5 526,-461.5 520,-455.5 520,-449.5 520,-449.5 520,-420.5 520,-420.5 520,-414.5 526,-408.5 532,-408.5 532,-408.5 578,-408.5 578,-408.5 584,-408.5 590,-414.5 590,-420.5 590,-420.5 590,-449.5 590,-449.5 590,-455.5 584,-461.5 578,-461.5\"/>\r\n",
       "<text text-anchor=\"middle\" x=\"555\" y=\"-446.3\" font-family=\"Helvetica,sans-Serif\" font-size=\"14.00\">#26</text>\r\n",
       "<text text-anchor=\"middle\" x=\"555\" y=\"-431.3\" font-family=\"Helvetica,sans-Serif\" font-size=\"14.00\">450</text>\r\n",
       "<text text-anchor=\"middle\" x=\"555\" y=\"-416.3\" font-family=\"Helvetica,sans-Serif\" font-size=\"14.00\">14.8763</text>\r\n",
       "</g>\r\n",
       "<!-- 19&#45;&gt;26 -->\r\n",
       "<g id=\"edge22\" class=\"edge\"><title>19&#45;&gt;26</title>\r\n",
       "<path fill=\"none\" stroke=\"black\" d=\"M572.559,-504.884C569.839,-494.216 566.815,-482.352 564.054,-471.519\"/>\r\n",
       "<polygon fill=\"black\" stroke=\"black\" points=\"567.367,-470.346 561.505,-461.52 560.584,-472.075 567.367,-470.346\"/>\r\n",
       "</g>\r\n",
       "<!-- 49 -->\r\n",
       "<g id=\"node25\" class=\"node\"><title>49</title>\r\n",
       "<path fill=\"#e58139\" fill-opacity=\"0.188235\" stroke=\"black\" d=\"M726,-469C726,-469 620,-469 620,-469 614,-469 608,-463 608,-457 608,-457 608,-413 608,-413 608,-407 614,-401 620,-401 620,-401 726,-401 726,-401 732,-401 738,-407 738,-413 738,-413 738,-457 738,-457 738,-463 732,-469 726,-469\"/>\r\n",
       "<text text-anchor=\"middle\" x=\"673\" y=\"-453.8\" font-family=\"Helvetica,sans-Serif\" font-size=\"14.00\">#49</text>\r\n",
       "<text text-anchor=\"middle\" x=\"673\" y=\"-438.8\" font-family=\"Helvetica,sans-Serif\" font-size=\"14.00\">band&#45;24 &lt;= 13.49</text>\r\n",
       "<text text-anchor=\"middle\" x=\"673\" y=\"-423.8\" font-family=\"Helvetica,sans-Serif\" font-size=\"14.00\">513</text>\r\n",
       "<text text-anchor=\"middle\" x=\"673\" y=\"-408.8\" font-family=\"Helvetica,sans-Serif\" font-size=\"14.00\">14.6685</text>\r\n",
       "</g>\r\n",
       "<!-- 20&#45;&gt;49 -->\r\n",
       "<g id=\"edge24\" class=\"edge\"><title>20&#45;&gt;49</title>\r\n",
       "<path fill=\"none\" stroke=\"black\" d=\"M745.26,-504.884C735.729,-495.798 725.289,-485.845 715.381,-476.4\"/>\r\n",
       "<polygon fill=\"black\" stroke=\"black\" points=\"717.585,-473.666 707.932,-469.299 712.755,-478.733 717.585,-473.666\"/>\r\n",
       "</g>\r\n",
       "<!-- 50 -->\r\n",
       "<g id=\"node28\" class=\"node\"><title>50</title>\r\n",
       "<path fill=\"#e58139\" fill-opacity=\"0.121569\" stroke=\"black\" d=\"M842,-469C842,-469 768,-469 768,-469 762,-469 756,-463 756,-457 756,-457 756,-413 756,-413 756,-407 762,-401 768,-401 768,-401 842,-401 842,-401 848,-401 854,-407 854,-413 854,-413 854,-457 854,-457 854,-463 848,-469 842,-469\"/>\r\n",
       "<text text-anchor=\"middle\" x=\"805\" y=\"-453.8\" font-family=\"Helvetica,sans-Serif\" font-size=\"14.00\">#50</text>\r\n",
       "<text text-anchor=\"middle\" x=\"805\" y=\"-438.8\" font-family=\"Helvetica,sans-Serif\" font-size=\"14.00\">winter &lt;= 0.5</text>\r\n",
       "<text text-anchor=\"middle\" x=\"805\" y=\"-423.8\" font-family=\"Helvetica,sans-Serif\" font-size=\"14.00\">1778</text>\r\n",
       "<text text-anchor=\"middle\" x=\"805\" y=\"-408.8\" font-family=\"Helvetica,sans-Serif\" font-size=\"14.00\">11.945</text>\r\n",
       "</g>\r\n",
       "<!-- 20&#45;&gt;50 -->\r\n",
       "<g id=\"edge27\" class=\"edge\"><title>20&#45;&gt;50</title>\r\n",
       "<path fill=\"none\" stroke=\"black\" d=\"M788.117,-504.884C790.125,-496.689 792.307,-487.789 794.414,-479.192\"/>\r\n",
       "<polygon fill=\"black\" stroke=\"black\" points=\"797.857,-479.845 796.838,-469.299 791.058,-478.179 797.857,-479.845\"/>\r\n",
       "</g>\r\n",
       "<!-- 55 -->\r\n",
       "<g id=\"node26\" class=\"node\"><title>55</title>\r\n",
       "<path fill=\"#e58139\" fill-opacity=\"0.105882\" stroke=\"black\" d=\"M583,-357.5C583,-357.5 537,-357.5 537,-357.5 531,-357.5 525,-351.5 525,-345.5 525,-345.5 525,-316.5 525,-316.5 525,-310.5 531,-304.5 537,-304.5 537,-304.5 583,-304.5 583,-304.5 589,-304.5 595,-310.5 595,-316.5 595,-316.5 595,-345.5 595,-345.5 595,-351.5 589,-357.5 583,-357.5\"/>\r\n",
       "<text text-anchor=\"middle\" x=\"560\" y=\"-342.3\" font-family=\"Helvetica,sans-Serif\" font-size=\"14.00\">#55</text>\r\n",
       "<text text-anchor=\"middle\" x=\"560\" y=\"-327.3\" font-family=\"Helvetica,sans-Serif\" font-size=\"14.00\">253</text>\r\n",
       "<text text-anchor=\"middle\" x=\"560\" y=\"-312.3\" font-family=\"Helvetica,sans-Serif\" font-size=\"14.00\">11.2973</text>\r\n",
       "</g>\r\n",
       "<!-- 49&#45;&gt;55 -->\r\n",
       "<g id=\"edge25\" class=\"edge\"><title>49&#45;&gt;55</title>\r\n",
       "<path fill=\"none\" stroke=\"black\" d=\"M636.312,-400.884C623.397,-389.226 608.901,-376.141 596.04,-364.532\"/>\r\n",
       "<polygon fill=\"black\" stroke=\"black\" points=\"598.04,-361.622 588.272,-357.52 593.35,-366.819 598.04,-361.622\"/>\r\n",
       "</g>\r\n",
       "<!-- 56 -->\r\n",
       "<g id=\"node27\" class=\"node\"><title>56</title>\r\n",
       "<path fill=\"#e58139\" fill-opacity=\"0.258824\" stroke=\"black\" d=\"M671,-357.5C671,-357.5 625,-357.5 625,-357.5 619,-357.5 613,-351.5 613,-345.5 613,-345.5 613,-316.5 613,-316.5 613,-310.5 619,-304.5 625,-304.5 625,-304.5 671,-304.5 671,-304.5 677,-304.5 683,-310.5 683,-316.5 683,-316.5 683,-345.5 683,-345.5 683,-351.5 677,-357.5 671,-357.5\"/>\r\n",
       "<text text-anchor=\"middle\" x=\"648\" y=\"-342.3\" font-family=\"Helvetica,sans-Serif\" font-size=\"14.00\">#56</text>\r\n",
       "<text text-anchor=\"middle\" x=\"648\" y=\"-327.3\" font-family=\"Helvetica,sans-Serif\" font-size=\"14.00\">260</text>\r\n",
       "<text text-anchor=\"middle\" x=\"648\" y=\"-312.3\" font-family=\"Helvetica,sans-Serif\" font-size=\"14.00\">17.7281</text>\r\n",
       "</g>\r\n",
       "<!-- 49&#45;&gt;56 -->\r\n",
       "<g id=\"edge26\" class=\"edge\"><title>49&#45;&gt;56</title>\r\n",
       "<path fill=\"none\" stroke=\"black\" d=\"M664.883,-400.884C662.269,-390.216 659.361,-378.352 656.706,-367.519\"/>\r\n",
       "<polygon fill=\"black\" stroke=\"black\" points=\"660.035,-366.399 654.255,-357.52 653.236,-368.066 660.035,-366.399\"/>\r\n",
       "</g>\r\n",
       "<!-- 51 -->\r\n",
       "<g id=\"node29\" class=\"node\"><title>51</title>\r\n",
       "<path fill=\"#e58139\" fill-opacity=\"0.090196\" stroke=\"black\" d=\"M794.5,-365C794.5,-365 713.5,-365 713.5,-365 707.5,-365 701.5,-359 701.5,-353 701.5,-353 701.5,-309 701.5,-309 701.5,-303 707.5,-297 713.5,-297 713.5,-297 794.5,-297 794.5,-297 800.5,-297 806.5,-303 806.5,-309 806.5,-309 806.5,-353 806.5,-353 806.5,-359 800.5,-365 794.5,-365\"/>\r\n",
       "<text text-anchor=\"middle\" x=\"754\" y=\"-349.8\" font-family=\"Helvetica,sans-Serif\" font-size=\"14.00\">#51</text>\r\n",
       "<text text-anchor=\"middle\" x=\"754\" y=\"-334.8\" font-family=\"Helvetica,sans-Serif\" font-size=\"14.00\">spot &lt;= 49.78</text>\r\n",
       "<text text-anchor=\"middle\" x=\"754\" y=\"-319.8\" font-family=\"Helvetica,sans-Serif\" font-size=\"14.00\">1086</text>\r\n",
       "<text text-anchor=\"middle\" x=\"754\" y=\"-304.8\" font-family=\"Helvetica,sans-Serif\" font-size=\"14.00\">10.5556</text>\r\n",
       "</g>\r\n",
       "<!-- 50&#45;&gt;51 -->\r\n",
       "<g id=\"edge28\" class=\"edge\"><title>50&#45;&gt;51</title>\r\n",
       "<path fill=\"none\" stroke=\"black\" d=\"M788.442,-400.884C784.211,-392.422 779.604,-383.207 775.176,-374.352\"/>\r\n",
       "<polygon fill=\"black\" stroke=\"black\" points=\"778.252,-372.678 770.65,-365.299 771.991,-375.809 778.252,-372.678\"/>\r\n",
       "</g>\r\n",
       "<!-- 52 -->\r\n",
       "<g id=\"node36\" class=\"node\"><title>52</title>\r\n",
       "<path fill=\"#e58139\" fill-opacity=\"0.172549\" stroke=\"black\" d=\"M951,-365C951,-365 837,-365 837,-365 831,-365 825,-359 825,-353 825,-353 825,-309 825,-309 825,-303 831,-297 837,-297 837,-297 951,-297 951,-297 957,-297 963,-303 963,-309 963,-309 963,-353 963,-353 963,-359 957,-365 951,-365\"/>\r\n",
       "<text text-anchor=\"middle\" x=\"894\" y=\"-349.8\" font-family=\"Helvetica,sans-Serif\" font-size=\"14.00\">#52</text>\r\n",
       "<text text-anchor=\"middle\" x=\"894\" y=\"-334.8\" font-family=\"Helvetica,sans-Serif\" font-size=\"14.00\">band&#45;24 &lt;= 15.915</text>\r\n",
       "<text text-anchor=\"middle\" x=\"894\" y=\"-319.8\" font-family=\"Helvetica,sans-Serif\" font-size=\"14.00\">692</text>\r\n",
       "<text text-anchor=\"middle\" x=\"894\" y=\"-304.8\" font-family=\"Helvetica,sans-Serif\" font-size=\"14.00\">14.0526</text>\r\n",
       "</g>\r\n",
       "<!-- 50&#45;&gt;52 -->\r\n",
       "<g id=\"edge35\" class=\"edge\"><title>50&#45;&gt;52</title>\r\n",
       "<path fill=\"none\" stroke=\"black\" d=\"M833.896,-400.884C841.668,-391.976 850.167,-382.235 858.263,-372.957\"/>\r\n",
       "<polygon fill=\"black\" stroke=\"black\" points=\"861.007,-375.135 864.945,-365.299 855.733,-370.533 861.007,-375.135\"/>\r\n",
       "</g>\r\n",
       "<!-- 57 -->\r\n",
       "<g id=\"node30\" class=\"node\"><title>57</title>\r\n",
       "<path fill=\"#e58139\" fill-opacity=\"0.066667\" stroke=\"black\" d=\"M707,-261C707,-261 597,-261 597,-261 591,-261 585,-255 585,-249 585,-249 585,-205 585,-205 585,-199 591,-193 597,-193 597,-193 707,-193 707,-193 713,-193 719,-199 719,-205 719,-205 719,-249 719,-249 719,-255 713,-261 707,-261\"/>\r\n",
       "<text text-anchor=\"middle\" x=\"652\" y=\"-245.8\" font-family=\"Helvetica,sans-Serif\" font-size=\"14.00\">#57</text>\r\n",
       "<text text-anchor=\"middle\" x=\"652\" y=\"-230.8\" font-family=\"Helvetica,sans-Serif\" font-size=\"14.00\">spot&#45;24 &lt;= 41.695</text>\r\n",
       "<text text-anchor=\"middle\" x=\"652\" y=\"-215.8\" font-family=\"Helvetica,sans-Serif\" font-size=\"14.00\">820</text>\r\n",
       "<text text-anchor=\"middle\" x=\"652\" y=\"-200.8\" font-family=\"Helvetica,sans-Serif\" font-size=\"14.00\">9.5386</text>\r\n",
       "</g>\r\n",
       "<!-- 51&#45;&gt;57 -->\r\n",
       "<g id=\"edge29\" class=\"edge\"><title>51&#45;&gt;57</title>\r\n",
       "<path fill=\"none\" stroke=\"black\" d=\"M720.884,-296.884C711.798,-287.798 701.845,-277.845 692.4,-268.4\"/>\r\n",
       "<polygon fill=\"black\" stroke=\"black\" points=\"694.845,-265.896 685.299,-261.299 689.896,-270.845 694.845,-265.896\"/>\r\n",
       "</g>\r\n",
       "<!-- 58 -->\r\n",
       "<g id=\"node35\" class=\"node\"><title>58</title>\r\n",
       "<path fill=\"#e58139\" fill-opacity=\"0.164706\" stroke=\"black\" d=\"M787,-253.5C787,-253.5 749,-253.5 749,-253.5 743,-253.5 737,-247.5 737,-241.5 737,-241.5 737,-212.5 737,-212.5 737,-206.5 743,-200.5 749,-200.5 749,-200.5 787,-200.5 787,-200.5 793,-200.5 799,-206.5 799,-212.5 799,-212.5 799,-241.5 799,-241.5 799,-247.5 793,-253.5 787,-253.5\"/>\r\n",
       "<text text-anchor=\"middle\" x=\"768\" y=\"-238.3\" font-family=\"Helvetica,sans-Serif\" font-size=\"14.00\">#58</text>\r\n",
       "<text text-anchor=\"middle\" x=\"768\" y=\"-223.3\" font-family=\"Helvetica,sans-Serif\" font-size=\"14.00\">266</text>\r\n",
       "<text text-anchor=\"middle\" x=\"768\" y=\"-208.3\" font-family=\"Helvetica,sans-Serif\" font-size=\"14.00\">13.772</text>\r\n",
       "</g>\r\n",
       "<!-- 51&#45;&gt;58 -->\r\n",
       "<g id=\"edge34\" class=\"edge\"><title>51&#45;&gt;58</title>\r\n",
       "<path fill=\"none\" stroke=\"black\" d=\"M758.545,-296.884C760.01,-286.216 761.638,-274.352 763.125,-263.519\"/>\r\n",
       "<polygon fill=\"black\" stroke=\"black\" points=\"766.605,-263.903 764.497,-253.52 759.67,-262.951 766.605,-263.903\"/>\r\n",
       "</g>\r\n",
       "<!-- 75 -->\r\n",
       "<g id=\"node31\" class=\"node\"><title>75</title>\r\n",
       "<path fill=\"#e58139\" fill-opacity=\"0.082353\" stroke=\"black\" d=\"M612,-149.5C612,-149.5 566,-149.5 566,-149.5 560,-149.5 554,-143.5 554,-137.5 554,-137.5 554,-108.5 554,-108.5 554,-102.5 560,-96.5 566,-96.5 566,-96.5 612,-96.5 612,-96.5 618,-96.5 624,-102.5 624,-108.5 624,-108.5 624,-137.5 624,-137.5 624,-143.5 618,-149.5 612,-149.5\"/>\r\n",
       "<text text-anchor=\"middle\" x=\"589\" y=\"-134.3\" font-family=\"Helvetica,sans-Serif\" font-size=\"14.00\">#75</text>\r\n",
       "<text text-anchor=\"middle\" x=\"589\" y=\"-119.3\" font-family=\"Helvetica,sans-Serif\" font-size=\"14.00\">252</text>\r\n",
       "<text text-anchor=\"middle\" x=\"589\" y=\"-104.3\" font-family=\"Helvetica,sans-Serif\" font-size=\"14.00\">10.1652</text>\r\n",
       "</g>\r\n",
       "<!-- 57&#45;&gt;75 -->\r\n",
       "<g id=\"edge30\" class=\"edge\"><title>57&#45;&gt;75</title>\r\n",
       "<path fill=\"none\" stroke=\"black\" d=\"M631.546,-192.884C624.685,-181.776 617.024,-169.372 610.114,-158.184\"/>\r\n",
       "<polygon fill=\"black\" stroke=\"black\" points=\"612.995,-156.189 604.762,-149.52 607.039,-159.867 612.995,-156.189\"/>\r\n",
       "</g>\r\n",
       "<!-- 76 -->\r\n",
       "<g id=\"node32\" class=\"node\"><title>76</title>\r\n",
       "<path fill=\"#e58139\" fill-opacity=\"0.058824\" stroke=\"black\" d=\"M776,-157C776,-157 654,-157 654,-157 648,-157 642,-151 642,-145 642,-145 642,-101 642,-101 642,-95 648,-89 654,-89 654,-89 776,-89 776,-89 782,-89 788,-95 788,-101 788,-101 788,-145 788,-145 788,-151 782,-157 776,-157\"/>\r\n",
       "<text text-anchor=\"middle\" x=\"715\" y=\"-141.8\" font-family=\"Helvetica,sans-Serif\" font-size=\"14.00\">#76</text>\r\n",
       "<text text-anchor=\"middle\" x=\"715\" y=\"-126.8\" font-family=\"Helvetica,sans-Serif\" font-size=\"14.00\">demand &lt;= 32121.0</text>\r\n",
       "<text text-anchor=\"middle\" x=\"715\" y=\"-111.8\" font-family=\"Helvetica,sans-Serif\" font-size=\"14.00\">568</text>\r\n",
       "<text text-anchor=\"middle\" x=\"715\" y=\"-96.8\" font-family=\"Helvetica,sans-Serif\" font-size=\"14.00\">9.2572</text>\r\n",
       "</g>\r\n",
       "<!-- 57&#45;&gt;76 -->\r\n",
       "<g id=\"edge31\" class=\"edge\"><title>57&#45;&gt;76</title>\r\n",
       "<path fill=\"none\" stroke=\"black\" d=\"M672.454,-192.884C677.736,-184.332 683.492,-175.013 689.014,-166.072\"/>\r\n",
       "<polygon fill=\"black\" stroke=\"black\" points=\"692.156,-167.647 694.433,-157.299 686.2,-163.968 692.156,-167.647\"/>\r\n",
       "</g>\r\n",
       "<!-- 77 -->\r\n",
       "<g id=\"node33\" class=\"node\"><title>77</title>\r\n",
       "<path fill=\"#e58139\" fill-opacity=\"0.113725\" stroke=\"black\" d=\"M696,-53C696,-53 650,-53 650,-53 644,-53 638,-47 638,-41 638,-41 638,-12 638,-12 638,-6 644,-0 650,-0 650,-0 696,-0 696,-0 702,-0 708,-6 708,-12 708,-12 708,-41 708,-41 708,-47 702,-53 696,-53\"/>\r\n",
       "<text text-anchor=\"middle\" x=\"673\" y=\"-37.8\" font-family=\"Helvetica,sans-Serif\" font-size=\"14.00\">#77</text>\r\n",
       "<text text-anchor=\"middle\" x=\"673\" y=\"-22.8\" font-family=\"Helvetica,sans-Serif\" font-size=\"14.00\">250</text>\r\n",
       "<text text-anchor=\"middle\" x=\"673\" y=\"-7.8\" font-family=\"Helvetica,sans-Serif\" font-size=\"14.00\">11.4988</text>\r\n",
       "</g>\r\n",
       "<!-- 76&#45;&gt;77 -->\r\n",
       "<g id=\"edge32\" class=\"edge\"><title>76&#45;&gt;77</title>\r\n",
       "<path fill=\"none\" stroke=\"black\" d=\"M700.31,-88.9485C696.529,-80.4408 692.447,-71.2562 688.621,-62.6464\"/>\r\n",
       "<polygon fill=\"black\" stroke=\"black\" points=\"691.698,-60.9533 684.439,-53.2367 685.302,-63.7963 691.698,-60.9533\"/>\r\n",
       "</g>\r\n",
       "<!-- 78 -->\r\n",
       "<g id=\"node34\" class=\"node\"><title>78</title>\r\n",
       "<path fill=\"#e58139\" fill-opacity=\"0.019608\" stroke=\"black\" d=\"M776,-53C776,-53 738,-53 738,-53 732,-53 726,-47 726,-41 726,-41 726,-12 726,-12 726,-6 732,-0 738,-0 738,-0 776,-0 776,-0 782,-0 788,-6 788,-12 788,-12 788,-41 788,-41 788,-47 782,-53 776,-53\"/>\r\n",
       "<text text-anchor=\"middle\" x=\"757\" y=\"-37.8\" font-family=\"Helvetica,sans-Serif\" font-size=\"14.00\">#78</text>\r\n",
       "<text text-anchor=\"middle\" x=\"757\" y=\"-22.8\" font-family=\"Helvetica,sans-Serif\" font-size=\"14.00\">318</text>\r\n",
       "<text text-anchor=\"middle\" x=\"757\" y=\"-7.8\" font-family=\"Helvetica,sans-Serif\" font-size=\"14.00\">7.5108</text>\r\n",
       "</g>\r\n",
       "<!-- 76&#45;&gt;78 -->\r\n",
       "<g id=\"edge33\" class=\"edge\"><title>76&#45;&gt;78</title>\r\n",
       "<path fill=\"none\" stroke=\"black\" d=\"M729.69,-88.9485C733.471,-80.4408 737.553,-71.2562 741.379,-62.6464\"/>\r\n",
       "<polygon fill=\"black\" stroke=\"black\" points=\"744.698,-63.7963 745.561,-53.2367 738.302,-60.9533 744.698,-63.7963\"/>\r\n",
       "</g>\r\n",
       "<!-- 53 -->\r\n",
       "<g id=\"node37\" class=\"node\"><title>53</title>\r\n",
       "<path fill=\"#e58139\" fill-opacity=\"0.082353\" stroke=\"black\" d=\"M903,-253.5C903,-253.5 857,-253.5 857,-253.5 851,-253.5 845,-247.5 845,-241.5 845,-241.5 845,-212.5 845,-212.5 845,-206.5 851,-200.5 857,-200.5 857,-200.5 903,-200.5 903,-200.5 909,-200.5 915,-206.5 915,-212.5 915,-212.5 915,-241.5 915,-241.5 915,-247.5 909,-253.5 903,-253.5\"/>\r\n",
       "<text text-anchor=\"middle\" x=\"880\" y=\"-238.3\" font-family=\"Helvetica,sans-Serif\" font-size=\"14.00\">#53</text>\r\n",
       "<text text-anchor=\"middle\" x=\"880\" y=\"-223.3\" font-family=\"Helvetica,sans-Serif\" font-size=\"14.00\">301</text>\r\n",
       "<text text-anchor=\"middle\" x=\"880\" y=\"-208.3\" font-family=\"Helvetica,sans-Serif\" font-size=\"14.00\">10.2515</text>\r\n",
       "</g>\r\n",
       "<!-- 52&#45;&gt;53 -->\r\n",
       "<g id=\"edge36\" class=\"edge\"><title>52&#45;&gt;53</title>\r\n",
       "<path fill=\"none\" stroke=\"black\" d=\"M889.455,-296.884C887.99,-286.216 886.362,-274.352 884.875,-263.519\"/>\r\n",
       "<polygon fill=\"black\" stroke=\"black\" points=\"888.33,-262.951 883.503,-253.52 881.395,-263.903 888.33,-262.951\"/>\r\n",
       "</g>\r\n",
       "<!-- 54 -->\r\n",
       "<g id=\"node38\" class=\"node\"><title>54</title>\r\n",
       "<path fill=\"#e58139\" fill-opacity=\"0.243137\" stroke=\"black\" d=\"M991,-253.5C991,-253.5 945,-253.5 945,-253.5 939,-253.5 933,-247.5 933,-241.5 933,-241.5 933,-212.5 933,-212.5 933,-206.5 939,-200.5 945,-200.5 945,-200.5 991,-200.5 991,-200.5 997,-200.5 1003,-206.5 1003,-212.5 1003,-212.5 1003,-241.5 1003,-241.5 1003,-247.5 997,-253.5 991,-253.5\"/>\r\n",
       "<text text-anchor=\"middle\" x=\"968\" y=\"-238.3\" font-family=\"Helvetica,sans-Serif\" font-size=\"14.00\">#54</text>\r\n",
       "<text text-anchor=\"middle\" x=\"968\" y=\"-223.3\" font-family=\"Helvetica,sans-Serif\" font-size=\"14.00\">391</text>\r\n",
       "<text text-anchor=\"middle\" x=\"968\" y=\"-208.3\" font-family=\"Helvetica,sans-Serif\" font-size=\"14.00\">17.0158</text>\r\n",
       "</g>\r\n",
       "<!-- 52&#45;&gt;54 -->\r\n",
       "<g id=\"edge37\" class=\"edge\"><title>52&#45;&gt;54</title>\r\n",
       "<path fill=\"none\" stroke=\"black\" d=\"M918.026,-296.884C926.164,-285.666 935.261,-273.126 943.441,-261.852\"/>\r\n",
       "<polygon fill=\"black\" stroke=\"black\" points=\"946.446,-263.669 949.486,-253.52 940.78,-259.559 946.446,-263.669\"/>\r\n",
       "</g>\r\n",
       "<!-- 21 -->\r\n",
       "<g id=\"node40\" class=\"node\"><title>21</title>\r\n",
       "<path fill=\"#e58139\" fill-opacity=\"0.396078\" stroke=\"black\" d=\"M922,-565.5C922,-565.5 876,-565.5 876,-565.5 870,-565.5 864,-559.5 864,-553.5 864,-553.5 864,-524.5 864,-524.5 864,-518.5 870,-512.5 876,-512.5 876,-512.5 922,-512.5 922,-512.5 928,-512.5 934,-518.5 934,-524.5 934,-524.5 934,-553.5 934,-553.5 934,-559.5 928,-565.5 922,-565.5\"/>\r\n",
       "<text text-anchor=\"middle\" x=\"899\" y=\"-550.3\" font-family=\"Helvetica,sans-Serif\" font-size=\"14.00\">#21</text>\r\n",
       "<text text-anchor=\"middle\" x=\"899\" y=\"-535.3\" font-family=\"Helvetica,sans-Serif\" font-size=\"14.00\">468</text>\r\n",
       "<text text-anchor=\"middle\" x=\"899\" y=\"-520.3\" font-family=\"Helvetica,sans-Serif\" font-size=\"14.00\">23.5786</text>\r\n",
       "</g>\r\n",
       "<!-- 18&#45;&gt;21 -->\r\n",
       "<g id=\"edge39\" class=\"edge\"><title>18&#45;&gt;21</title>\r\n",
       "<path fill=\"none\" stroke=\"black\" d=\"M929.39,-608.884C924.586,-597.996 919.234,-585.863 914.375,-574.85\"/>\r\n",
       "<polygon fill=\"black\" stroke=\"black\" points=\"917.497,-573.256 910.259,-565.52 911.093,-576.082 917.497,-573.256\"/>\r\n",
       "</g>\r\n",
       "<!-- 22 -->\r\n",
       "<g id=\"node41\" class=\"node\"><title>22</title>\r\n",
       "<path fill=\"#e58139\" fill-opacity=\"0.215686\" stroke=\"black\" d=\"M1023.5,-573C1023.5,-573 964.5,-573 964.5,-573 958.5,-573 952.5,-567 952.5,-561 952.5,-561 952.5,-517 952.5,-517 952.5,-511 958.5,-505 964.5,-505 964.5,-505 1023.5,-505 1023.5,-505 1029.5,-505 1035.5,-511 1035.5,-517 1035.5,-517 1035.5,-561 1035.5,-561 1035.5,-567 1029.5,-573 1023.5,-573\"/>\r\n",
       "<text text-anchor=\"middle\" x=\"994\" y=\"-557.8\" font-family=\"Helvetica,sans-Serif\" font-size=\"14.00\">#22</text>\r\n",
       "<text text-anchor=\"middle\" x=\"994\" y=\"-542.8\" font-family=\"Helvetica,sans-Serif\" font-size=\"14.00\">Wd &lt;= 0.5</text>\r\n",
       "<text text-anchor=\"middle\" x=\"994\" y=\"-527.8\" font-family=\"Helvetica,sans-Serif\" font-size=\"14.00\">1228</text>\r\n",
       "<text text-anchor=\"middle\" x=\"994\" y=\"-512.8\" font-family=\"Helvetica,sans-Serif\" font-size=\"14.00\">15.9565</text>\r\n",
       "</g>\r\n",
       "<!-- 18&#45;&gt;22 -->\r\n",
       "<g id=\"edge40\" class=\"edge\"><title>18&#45;&gt;22</title>\r\n",
       "<path fill=\"none\" stroke=\"black\" d=\"M960.234,-608.884C964.382,-600.422 968.898,-591.207 973.239,-582.352\"/>\r\n",
       "<polygon fill=\"black\" stroke=\"black\" points=\"976.418,-583.819 977.677,-573.299 970.132,-580.738 976.418,-583.819\"/>\r\n",
       "</g>\r\n",
       "<!-- 29 -->\r\n",
       "<g id=\"node42\" class=\"node\"><title>29</title>\r\n",
       "<path fill=\"#e58139\" fill-opacity=\"0.298039\" stroke=\"black\" d=\"M980,-461.5C980,-461.5 934,-461.5 934,-461.5 928,-461.5 922,-455.5 922,-449.5 922,-449.5 922,-420.5 922,-420.5 922,-414.5 928,-408.5 934,-408.5 934,-408.5 980,-408.5 980,-408.5 986,-408.5 992,-414.5 992,-420.5 992,-420.5 992,-449.5 992,-449.5 992,-455.5 986,-461.5 980,-461.5\"/>\r\n",
       "<text text-anchor=\"middle\" x=\"957\" y=\"-446.3\" font-family=\"Helvetica,sans-Serif\" font-size=\"14.00\">#29</text>\r\n",
       "<text text-anchor=\"middle\" x=\"957\" y=\"-431.3\" font-family=\"Helvetica,sans-Serif\" font-size=\"14.00\">374</text>\r\n",
       "<text text-anchor=\"middle\" x=\"957\" y=\"-416.3\" font-family=\"Helvetica,sans-Serif\" font-size=\"14.00\">19.3268</text>\r\n",
       "</g>\r\n",
       "<!-- 22&#45;&gt;29 -->\r\n",
       "<g id=\"edge41\" class=\"edge\"><title>22&#45;&gt;29</title>\r\n",
       "<path fill=\"none\" stroke=\"black\" d=\"M981.987,-504.884C978.078,-494.106 973.725,-482.108 969.763,-471.184\"/>\r\n",
       "<polygon fill=\"black\" stroke=\"black\" points=\"972.958,-469.727 966.257,-461.52 966.377,-472.114 972.958,-469.727\"/>\r\n",
       "</g>\r\n",
       "<!-- 30 -->\r\n",
       "<g id=\"node43\" class=\"node\"><title>30</title>\r\n",
       "<path fill=\"#e58139\" fill-opacity=\"0.184314\" stroke=\"black\" d=\"M1136,-469C1136,-469 1022,-469 1022,-469 1016,-469 1010,-463 1010,-457 1010,-457 1010,-413 1010,-413 1010,-407 1016,-401 1022,-401 1022,-401 1136,-401 1136,-401 1142,-401 1148,-407 1148,-413 1148,-413 1148,-457 1148,-457 1148,-463 1142,-469 1136,-469\"/>\r\n",
       "<text text-anchor=\"middle\" x=\"1079\" y=\"-453.8\" font-family=\"Helvetica,sans-Serif\" font-size=\"14.00\">#30</text>\r\n",
       "<text text-anchor=\"middle\" x=\"1079\" y=\"-438.8\" font-family=\"Helvetica,sans-Serif\" font-size=\"14.00\">band&#45;24 &lt;= 12.875</text>\r\n",
       "<text text-anchor=\"middle\" x=\"1079\" y=\"-423.8\" font-family=\"Helvetica,sans-Serif\" font-size=\"14.00\">854</text>\r\n",
       "<text text-anchor=\"middle\" x=\"1079\" y=\"-408.8\" font-family=\"Helvetica,sans-Serif\" font-size=\"14.00\">14.5504</text>\r\n",
       "</g>\r\n",
       "<!-- 22&#45;&gt;30 -->\r\n",
       "<g id=\"edge42\" class=\"edge\"><title>22&#45;&gt;30</title>\r\n",
       "<path fill=\"none\" stroke=\"black\" d=\"M1021.6,-504.884C1028.95,-496.065 1036.97,-486.43 1044.64,-477.235\"/>\r\n",
       "<polygon fill=\"black\" stroke=\"black\" points=\"1047.54,-479.222 1051.25,-469.299 1042.16,-474.741 1047.54,-479.222\"/>\r\n",
       "</g>\r\n",
       "<!-- 31 -->\r\n",
       "<g id=\"node44\" class=\"node\"><title>31</title>\r\n",
       "<path fill=\"#e58139\" fill-opacity=\"0.121569\" stroke=\"black\" d=\"M1039,-357.5C1039,-357.5 993,-357.5 993,-357.5 987,-357.5 981,-351.5 981,-345.5 981,-345.5 981,-316.5 981,-316.5 981,-310.5 987,-304.5 993,-304.5 993,-304.5 1039,-304.5 1039,-304.5 1045,-304.5 1051,-310.5 1051,-316.5 1051,-316.5 1051,-345.5 1051,-345.5 1051,-351.5 1045,-357.5 1039,-357.5\"/>\r\n",
       "<text text-anchor=\"middle\" x=\"1016\" y=\"-342.3\" font-family=\"Helvetica,sans-Serif\" font-size=\"14.00\">#31</text>\r\n",
       "<text text-anchor=\"middle\" x=\"1016\" y=\"-327.3\" font-family=\"Helvetica,sans-Serif\" font-size=\"14.00\">456</text>\r\n",
       "<text text-anchor=\"middle\" x=\"1016\" y=\"-312.3\" font-family=\"Helvetica,sans-Serif\" font-size=\"14.00\">11.9613</text>\r\n",
       "</g>\r\n",
       "<!-- 30&#45;&gt;31 -->\r\n",
       "<g id=\"edge43\" class=\"edge\"><title>30&#45;&gt;31</title>\r\n",
       "<path fill=\"none\" stroke=\"black\" d=\"M1058.55,-400.884C1051.68,-389.776 1044.02,-377.372 1037.11,-366.184\"/>\r\n",
       "<polygon fill=\"black\" stroke=\"black\" points=\"1040,-364.189 1031.76,-357.52 1034.04,-367.867 1040,-364.189\"/>\r\n",
       "</g>\r\n",
       "<!-- 32 -->\r\n",
       "<g id=\"node45\" class=\"node\"><title>32</title>\r\n",
       "<path fill=\"#e58139\" fill-opacity=\"0.258824\" stroke=\"black\" d=\"M1127,-357.5C1127,-357.5 1081,-357.5 1081,-357.5 1075,-357.5 1069,-351.5 1069,-345.5 1069,-345.5 1069,-316.5 1069,-316.5 1069,-310.5 1075,-304.5 1081,-304.5 1081,-304.5 1127,-304.5 1127,-304.5 1133,-304.5 1139,-310.5 1139,-316.5 1139,-316.5 1139,-345.5 1139,-345.5 1139,-351.5 1133,-357.5 1127,-357.5\"/>\r\n",
       "<text text-anchor=\"middle\" x=\"1104\" y=\"-342.3\" font-family=\"Helvetica,sans-Serif\" font-size=\"14.00\">#32</text>\r\n",
       "<text text-anchor=\"middle\" x=\"1104\" y=\"-327.3\" font-family=\"Helvetica,sans-Serif\" font-size=\"14.00\">398</text>\r\n",
       "<text text-anchor=\"middle\" x=\"1104\" y=\"-312.3\" font-family=\"Helvetica,sans-Serif\" font-size=\"14.00\">17.7309</text>\r\n",
       "</g>\r\n",
       "<!-- 30&#45;&gt;32 -->\r\n",
       "<g id=\"edge44\" class=\"edge\"><title>30&#45;&gt;32</title>\r\n",
       "<path fill=\"none\" stroke=\"black\" d=\"M1087.12,-400.884C1089.73,-390.216 1092.64,-378.352 1095.29,-367.519\"/>\r\n",
       "<polygon fill=\"black\" stroke=\"black\" points=\"1098.76,-368.066 1097.75,-357.52 1091.97,-366.399 1098.76,-368.066\"/>\r\n",
       "</g>\r\n",
       "<!-- 33 -->\r\n",
       "<g id=\"node47\" class=\"node\"><title>33</title>\r\n",
       "<path fill=\"#e58139\" fill-opacity=\"0.333333\" stroke=\"black\" d=\"M1498,-677C1498,-677 1424,-677 1424,-677 1418,-677 1412,-671 1412,-665 1412,-665 1412,-621 1412,-621 1412,-615 1418,-609 1424,-609 1424,-609 1498,-609 1498,-609 1504,-609 1510,-615 1510,-621 1510,-621 1510,-665 1510,-665 1510,-671 1504,-677 1498,-677\"/>\r\n",
       "<text text-anchor=\"middle\" x=\"1461\" y=\"-661.8\" font-family=\"Helvetica,sans-Serif\" font-size=\"14.00\">#33</text>\r\n",
       "<text text-anchor=\"middle\" x=\"1461\" y=\"-646.8\" font-family=\"Helvetica,sans-Serif\" font-size=\"14.00\">winter &lt;= 0.5</text>\r\n",
       "<text text-anchor=\"middle\" x=\"1461\" y=\"-631.8\" font-family=\"Helvetica,sans-Serif\" font-size=\"14.00\">3057</text>\r\n",
       "<text text-anchor=\"middle\" x=\"1461\" y=\"-616.8\" font-family=\"Helvetica,sans-Serif\" font-size=\"14.00\">20.9586</text>\r\n",
       "</g>\r\n",
       "<!-- 10&#45;&gt;33 -->\r\n",
       "<g id=\"edge46\" class=\"edge\"><title>10&#45;&gt;33</title>\r\n",
       "<path fill=\"none\" stroke=\"black\" d=\"M1461,-712.884C1461,-704.778 1461,-695.982 1461,-687.472\"/>\r\n",
       "<polygon fill=\"black\" stroke=\"black\" points=\"1464.5,-687.299 1461,-677.299 1457.5,-687.299 1464.5,-687.299\"/>\r\n",
       "</g>\r\n",
       "<!-- 34 -->\r\n",
       "<g id=\"node64\" class=\"node\"><title>34</title>\r\n",
       "<path fill=\"#e58139\" fill-opacity=\"0.262745\" stroke=\"black\" d=\"M1706,-677C1706,-677 1632,-677 1632,-677 1626,-677 1620,-671 1620,-665 1620,-665 1620,-621 1620,-621 1620,-615 1626,-609 1632,-609 1632,-609 1706,-609 1706,-609 1712,-609 1718,-615 1718,-621 1718,-621 1718,-665 1718,-665 1718,-671 1712,-677 1706,-677\"/>\r\n",
       "<text text-anchor=\"middle\" x=\"1669\" y=\"-661.8\" font-family=\"Helvetica,sans-Serif\" font-size=\"14.00\">#34</text>\r\n",
       "<text text-anchor=\"middle\" x=\"1669\" y=\"-646.8\" font-family=\"Helvetica,sans-Serif\" font-size=\"14.00\">winter &lt;= 0.5</text>\r\n",
       "<text text-anchor=\"middle\" x=\"1669\" y=\"-631.8\" font-family=\"Helvetica,sans-Serif\" font-size=\"14.00\">585</text>\r\n",
       "<text text-anchor=\"middle\" x=\"1669\" y=\"-616.8\" font-family=\"Helvetica,sans-Serif\" font-size=\"14.00\">17.9474</text>\r\n",
       "</g>\r\n",
       "<!-- 10&#45;&gt;34 -->\r\n",
       "<g id=\"edge63\" class=\"edge\"><title>10&#45;&gt;34</title>\r\n",
       "<path fill=\"none\" stroke=\"black\" d=\"M1528.53,-712.884C1555.05,-699.88 1585.19,-685.1 1610.73,-672.574\"/>\r\n",
       "<polygon fill=\"black\" stroke=\"black\" points=\"1612.48,-675.614 1619.92,-668.068 1609.4,-669.329 1612.48,-675.614\"/>\r\n",
       "</g>\r\n",
       "<!-- 35 -->\r\n",
       "<g id=\"node48\" class=\"node\"><title>35</title>\r\n",
       "<path fill=\"#e58139\" fill-opacity=\"0.309804\" stroke=\"black\" d=\"M1433,-573C1433,-573 1327,-573 1327,-573 1321,-573 1315,-567 1315,-561 1315,-561 1315,-517 1315,-517 1315,-511 1321,-505 1327,-505 1327,-505 1433,-505 1433,-505 1439,-505 1445,-511 1445,-517 1445,-517 1445,-561 1445,-561 1445,-567 1439,-573 1433,-573\"/>\r\n",
       "<text text-anchor=\"middle\" x=\"1380\" y=\"-557.8\" font-family=\"Helvetica,sans-Serif\" font-size=\"14.00\">#35</text>\r\n",
       "<text text-anchor=\"middle\" x=\"1380\" y=\"-542.8\" font-family=\"Helvetica,sans-Serif\" font-size=\"14.00\">band&#45;24 &lt;= 20.71</text>\r\n",
       "<text text-anchor=\"middle\" x=\"1380\" y=\"-527.8\" font-family=\"Helvetica,sans-Serif\" font-size=\"14.00\">1775</text>\r\n",
       "<text text-anchor=\"middle\" x=\"1380\" y=\"-512.8\" font-family=\"Helvetica,sans-Serif\" font-size=\"14.00\">19.9493</text>\r\n",
       "</g>\r\n",
       "<!-- 33&#45;&gt;35 -->\r\n",
       "<g id=\"edge47\" class=\"edge\"><title>33&#45;&gt;35</title>\r\n",
       "<path fill=\"none\" stroke=\"black\" d=\"M1434.7,-608.884C1427.7,-600.065 1420.05,-590.43 1412.75,-581.235\"/>\r\n",
       "<polygon fill=\"black\" stroke=\"black\" points=\"1415.4,-578.954 1406.44,-573.299 1409.92,-583.307 1415.4,-578.954\"/>\r\n",
       "</g>\r\n",
       "<!-- 36 -->\r\n",
       "<g id=\"node59\" class=\"node\"><title>36</title>\r\n",
       "<path fill=\"#e58139\" fill-opacity=\"0.368627\" stroke=\"black\" d=\"M1609,-573C1609,-573 1475,-573 1475,-573 1469,-573 1463,-567 1463,-561 1463,-561 1463,-517 1463,-517 1463,-511 1469,-505 1475,-505 1475,-505 1609,-505 1609,-505 1615,-505 1621,-511 1621,-517 1621,-517 1621,-561 1621,-561 1621,-567 1615,-573 1609,-573\"/>\r\n",
       "<text text-anchor=\"middle\" x=\"1542\" y=\"-557.8\" font-family=\"Helvetica,sans-Serif\" font-size=\"14.00\">#36</text>\r\n",
       "<text text-anchor=\"middle\" x=\"1542\" y=\"-542.8\" font-family=\"Helvetica,sans-Serif\" font-size=\"14.00\">demand&#45;1 &lt;= 22049.5</text>\r\n",
       "<text text-anchor=\"middle\" x=\"1542\" y=\"-527.8\" font-family=\"Helvetica,sans-Serif\" font-size=\"14.00\">1282</text>\r\n",
       "<text text-anchor=\"middle\" x=\"1542\" y=\"-512.8\" font-family=\"Helvetica,sans-Serif\" font-size=\"14.00\">22.3131</text>\r\n",
       "</g>\r\n",
       "<!-- 33&#45;&gt;36 -->\r\n",
       "<g id=\"edge58\" class=\"edge\"><title>33&#45;&gt;36</title>\r\n",
       "<path fill=\"none\" stroke=\"black\" d=\"M1487.3,-608.884C1494.3,-600.065 1501.95,-590.43 1509.25,-581.235\"/>\r\n",
       "<polygon fill=\"black\" stroke=\"black\" points=\"1512.08,-583.307 1515.56,-573.299 1506.6,-578.954 1512.08,-583.307\"/>\r\n",
       "</g>\r\n",
       "<!-- 37 -->\r\n",
       "<g id=\"node49\" class=\"node\"><title>37</title>\r\n",
       "<path fill=\"#e58139\" fill-opacity=\"0.207843\" stroke=\"black\" d=\"M1321,-469C1321,-469 1207,-469 1207,-469 1201,-469 1195,-463 1195,-457 1195,-457 1195,-413 1195,-413 1195,-407 1201,-401 1207,-401 1207,-401 1321,-401 1321,-401 1327,-401 1333,-407 1333,-413 1333,-413 1333,-457 1333,-457 1333,-463 1327,-469 1321,-469\"/>\r\n",
       "<text text-anchor=\"middle\" x=\"1264\" y=\"-453.8\" font-family=\"Helvetica,sans-Serif\" font-size=\"14.00\">#37</text>\r\n",
       "<text text-anchor=\"middle\" x=\"1264\" y=\"-438.8\" font-family=\"Helvetica,sans-Serif\" font-size=\"14.00\">band&#45;24 &lt;= 13.265</text>\r\n",
       "<text text-anchor=\"middle\" x=\"1264\" y=\"-423.8\" font-family=\"Helvetica,sans-Serif\" font-size=\"14.00\">984</text>\r\n",
       "<text text-anchor=\"middle\" x=\"1264\" y=\"-408.8\" font-family=\"Helvetica,sans-Serif\" font-size=\"14.00\">15.5628</text>\r\n",
       "</g>\r\n",
       "<!-- 35&#45;&gt;37 -->\r\n",
       "<g id=\"edge48\" class=\"edge\"><title>35&#45;&gt;37</title>\r\n",
       "<path fill=\"none\" stroke=\"black\" d=\"M1342.34,-504.884C1331.9,-495.709 1320.46,-485.65 1309.63,-476.123\"/>\r\n",
       "<polygon fill=\"black\" stroke=\"black\" points=\"1311.69,-473.274 1301.87,-469.299 1307.07,-478.531 1311.69,-473.274\"/>\r\n",
       "</g>\r\n",
       "<!-- 38 -->\r\n",
       "<g id=\"node54\" class=\"node\"><title>38</title>\r\n",
       "<path fill=\"#e58139\" fill-opacity=\"0.439216\" stroke=\"black\" d=\"M1485,-469C1485,-469 1363,-469 1363,-469 1357,-469 1351,-463 1351,-457 1351,-457 1351,-413 1351,-413 1351,-407 1357,-401 1363,-401 1363,-401 1485,-401 1485,-401 1491,-401 1497,-407 1497,-413 1497,-413 1497,-457 1497,-457 1497,-463 1491,-469 1485,-469\"/>\r\n",
       "<text text-anchor=\"middle\" x=\"1424\" y=\"-453.8\" font-family=\"Helvetica,sans-Serif\" font-size=\"14.00\">#38</text>\r\n",
       "<text text-anchor=\"middle\" x=\"1424\" y=\"-438.8\" font-family=\"Helvetica,sans-Serif\" font-size=\"14.00\">demand &lt;= 22718.5</text>\r\n",
       "<text text-anchor=\"middle\" x=\"1424\" y=\"-423.8\" font-family=\"Helvetica,sans-Serif\" font-size=\"14.00\">791</text>\r\n",
       "<text text-anchor=\"middle\" x=\"1424\" y=\"-408.8\" font-family=\"Helvetica,sans-Serif\" font-size=\"14.00\">25.2991</text>\r\n",
       "</g>\r\n",
       "<!-- 35&#45;&gt;38 -->\r\n",
       "<g id=\"edge53\" class=\"edge\"><title>35&#45;&gt;38</title>\r\n",
       "<path fill=\"none\" stroke=\"black\" d=\"M1394.29,-504.884C1397.9,-496.511 1401.83,-487.401 1405.61,-478.631\"/>\r\n",
       "<polygon fill=\"black\" stroke=\"black\" points=\"1408.89,-479.868 1409.64,-469.299 1402.46,-477.095 1408.89,-479.868\"/>\r\n",
       "</g>\r\n",
       "<!-- 39 -->\r\n",
       "<g id=\"node50\" class=\"node\"><title>39</title>\r\n",
       "<path fill=\"#e58139\" fill-opacity=\"0.133333\" stroke=\"black\" d=\"M1215,-357.5C1215,-357.5 1169,-357.5 1169,-357.5 1163,-357.5 1157,-351.5 1157,-345.5 1157,-345.5 1157,-316.5 1157,-316.5 1157,-310.5 1163,-304.5 1169,-304.5 1169,-304.5 1215,-304.5 1215,-304.5 1221,-304.5 1227,-310.5 1227,-316.5 1227,-316.5 1227,-345.5 1227,-345.5 1227,-351.5 1221,-357.5 1215,-357.5\"/>\r\n",
       "<text text-anchor=\"middle\" x=\"1192\" y=\"-342.3\" font-family=\"Helvetica,sans-Serif\" font-size=\"14.00\">#39</text>\r\n",
       "<text text-anchor=\"middle\" x=\"1192\" y=\"-327.3\" font-family=\"Helvetica,sans-Serif\" font-size=\"14.00\">417</text>\r\n",
       "<text text-anchor=\"middle\" x=\"1192\" y=\"-312.3\" font-family=\"Helvetica,sans-Serif\" font-size=\"14.00\">12.3685</text>\r\n",
       "</g>\r\n",
       "<!-- 37&#45;&gt;39 -->\r\n",
       "<g id=\"edge49\" class=\"edge\"><title>37&#45;&gt;39</title>\r\n",
       "<path fill=\"none\" stroke=\"black\" d=\"M1240.62,-400.884C1232.71,-389.666 1223.85,-377.126 1215.9,-365.852\"/>\r\n",
       "<polygon fill=\"black\" stroke=\"black\" points=\"1218.64,-363.671 1210.01,-357.52 1212.92,-367.708 1218.64,-363.671\"/>\r\n",
       "</g>\r\n",
       "<!-- 40 -->\r\n",
       "<g id=\"node51\" class=\"node\"><title>40</title>\r\n",
       "<path fill=\"#e58139\" fill-opacity=\"0.262745\" stroke=\"black\" d=\"M1359,-365C1359,-365 1257,-365 1257,-365 1251,-365 1245,-359 1245,-353 1245,-353 1245,-309 1245,-309 1245,-303 1251,-297 1257,-297 1257,-297 1359,-297 1359,-297 1365,-297 1371,-303 1371,-309 1371,-309 1371,-353 1371,-353 1371,-359 1365,-365 1359,-365\"/>\r\n",
       "<text text-anchor=\"middle\" x=\"1308\" y=\"-349.8\" font-family=\"Helvetica,sans-Serif\" font-size=\"14.00\">#40</text>\r\n",
       "<text text-anchor=\"middle\" x=\"1308\" y=\"-334.8\" font-family=\"Helvetica,sans-Serif\" font-size=\"14.00\">spot&#45;24 &lt;= 43.77</text>\r\n",
       "<text text-anchor=\"middle\" x=\"1308\" y=\"-319.8\" font-family=\"Helvetica,sans-Serif\" font-size=\"14.00\">567</text>\r\n",
       "<text text-anchor=\"middle\" x=\"1308\" y=\"-304.8\" font-family=\"Helvetica,sans-Serif\" font-size=\"14.00\">17.9091</text>\r\n",
       "</g>\r\n",
       "<!-- 37&#45;&gt;40 -->\r\n",
       "<g id=\"edge50\" class=\"edge\"><title>37&#45;&gt;40</title>\r\n",
       "<path fill=\"none\" stroke=\"black\" d=\"M1278.29,-400.884C1281.9,-392.511 1285.83,-383.401 1289.61,-374.631\"/>\r\n",
       "<polygon fill=\"black\" stroke=\"black\" points=\"1292.89,-375.868 1293.64,-365.299 1286.46,-373.095 1292.89,-375.868\"/>\r\n",
       "</g>\r\n",
       "<!-- 41 -->\r\n",
       "<g id=\"node52\" class=\"node\"><title>41</title>\r\n",
       "<path fill=\"#e58139\" fill-opacity=\"0.192157\" stroke=\"black\" d=\"M1285,-253.5C1285,-253.5 1247,-253.5 1247,-253.5 1241,-253.5 1235,-247.5 1235,-241.5 1235,-241.5 1235,-212.5 1235,-212.5 1235,-206.5 1241,-200.5 1247,-200.5 1247,-200.5 1285,-200.5 1285,-200.5 1291,-200.5 1297,-206.5 1297,-212.5 1297,-212.5 1297,-241.5 1297,-241.5 1297,-247.5 1291,-253.5 1285,-253.5\"/>\r\n",
       "<text text-anchor=\"middle\" x=\"1266\" y=\"-238.3\" font-family=\"Helvetica,sans-Serif\" font-size=\"14.00\">#41</text>\r\n",
       "<text text-anchor=\"middle\" x=\"1266\" y=\"-223.3\" font-family=\"Helvetica,sans-Serif\" font-size=\"14.00\">252</text>\r\n",
       "<text text-anchor=\"middle\" x=\"1266\" y=\"-208.3\" font-family=\"Helvetica,sans-Serif\" font-size=\"14.00\">14.952</text>\r\n",
       "</g>\r\n",
       "<!-- 40&#45;&gt;41 -->\r\n",
       "<g id=\"edge51\" class=\"edge\"><title>40&#45;&gt;41</title>\r\n",
       "<path fill=\"none\" stroke=\"black\" d=\"M1294.36,-296.884C1289.88,-285.996 1284.88,-273.863 1280.35,-262.85\"/>\r\n",
       "<polygon fill=\"black\" stroke=\"black\" points=\"1283.55,-261.434 1276.51,-253.52 1277.08,-264.099 1283.55,-261.434\"/>\r\n",
       "</g>\r\n",
       "<!-- 42 -->\r\n",
       "<g id=\"node53\" class=\"node\"><title>42</title>\r\n",
       "<path fill=\"#e58139\" fill-opacity=\"0.321569\" stroke=\"black\" d=\"M1373,-253.5C1373,-253.5 1327,-253.5 1327,-253.5 1321,-253.5 1315,-247.5 1315,-241.5 1315,-241.5 1315,-212.5 1315,-212.5 1315,-206.5 1321,-200.5 1327,-200.5 1327,-200.5 1373,-200.5 1373,-200.5 1379,-200.5 1385,-206.5 1385,-212.5 1385,-212.5 1385,-241.5 1385,-241.5 1385,-247.5 1379,-253.5 1373,-253.5\"/>\r\n",
       "<text text-anchor=\"middle\" x=\"1350\" y=\"-238.3\" font-family=\"Helvetica,sans-Serif\" font-size=\"14.00\">#42</text>\r\n",
       "<text text-anchor=\"middle\" x=\"1350\" y=\"-223.3\" font-family=\"Helvetica,sans-Serif\" font-size=\"14.00\">315</text>\r\n",
       "<text text-anchor=\"middle\" x=\"1350\" y=\"-208.3\" font-family=\"Helvetica,sans-Serif\" font-size=\"14.00\">20.4627</text>\r\n",
       "</g>\r\n",
       "<!-- 40&#45;&gt;42 -->\r\n",
       "<g id=\"edge52\" class=\"edge\"><title>40&#45;&gt;42</title>\r\n",
       "<path fill=\"none\" stroke=\"black\" d=\"M1321.64,-296.884C1326.12,-285.996 1331.12,-273.863 1335.65,-262.85\"/>\r\n",
       "<polygon fill=\"black\" stroke=\"black\" points=\"1338.92,-264.099 1339.49,-253.52 1332.45,-261.434 1338.92,-264.099\"/>\r\n",
       "</g>\r\n",
       "<!-- 69 -->\r\n",
       "<g id=\"node55\" class=\"node\"><title>69</title>\r\n",
       "<path fill=\"#e58139\" fill-opacity=\"0.415686\" stroke=\"black\" d=\"M1447,-357.5C1447,-357.5 1401,-357.5 1401,-357.5 1395,-357.5 1389,-351.5 1389,-345.5 1389,-345.5 1389,-316.5 1389,-316.5 1389,-310.5 1395,-304.5 1401,-304.5 1401,-304.5 1447,-304.5 1447,-304.5 1453,-304.5 1459,-310.5 1459,-316.5 1459,-316.5 1459,-345.5 1459,-345.5 1459,-351.5 1453,-357.5 1447,-357.5\"/>\r\n",
       "<text text-anchor=\"middle\" x=\"1424\" y=\"-342.3\" font-family=\"Helvetica,sans-Serif\" font-size=\"14.00\">#69</text>\r\n",
       "<text text-anchor=\"middle\" x=\"1424\" y=\"-327.3\" font-family=\"Helvetica,sans-Serif\" font-size=\"14.00\">258</text>\r\n",
       "<text text-anchor=\"middle\" x=\"1424\" y=\"-312.3\" font-family=\"Helvetica,sans-Serif\" font-size=\"14.00\">24.3334</text>\r\n",
       "</g>\r\n",
       "<!-- 38&#45;&gt;69 -->\r\n",
       "<g id=\"edge54\" class=\"edge\"><title>38&#45;&gt;69</title>\r\n",
       "<path fill=\"none\" stroke=\"black\" d=\"M1424,-400.884C1424,-390.326 1424,-378.597 1424,-367.854\"/>\r\n",
       "<polygon fill=\"black\" stroke=\"black\" points=\"1427.5,-367.52 1424,-357.52 1420.5,-367.52 1427.5,-367.52\"/>\r\n",
       "</g>\r\n",
       "<!-- 70 -->\r\n",
       "<g id=\"node56\" class=\"node\"><title>70</title>\r\n",
       "<path fill=\"#e58139\" fill-opacity=\"0.447059\" stroke=\"black\" d=\"M1611,-365C1611,-365 1489,-365 1489,-365 1483,-365 1477,-359 1477,-353 1477,-353 1477,-309 1477,-309 1477,-303 1483,-297 1489,-297 1489,-297 1611,-297 1611,-297 1617,-297 1623,-303 1623,-309 1623,-309 1623,-353 1623,-353 1623,-359 1617,-365 1611,-365\"/>\r\n",
       "<text text-anchor=\"middle\" x=\"1550\" y=\"-349.8\" font-family=\"Helvetica,sans-Serif\" font-size=\"14.00\">#70</text>\r\n",
       "<text text-anchor=\"middle\" x=\"1550\" y=\"-334.8\" font-family=\"Helvetica,sans-Serif\" font-size=\"14.00\">demand &lt;= 24727.0</text>\r\n",
       "<text text-anchor=\"middle\" x=\"1550\" y=\"-319.8\" font-family=\"Helvetica,sans-Serif\" font-size=\"14.00\">533</text>\r\n",
       "<text text-anchor=\"middle\" x=\"1550\" y=\"-304.8\" font-family=\"Helvetica,sans-Serif\" font-size=\"14.00\">25.7507</text>\r\n",
       "</g>\r\n",
       "<!-- 38&#45;&gt;70 -->\r\n",
       "<g id=\"edge55\" class=\"edge\"><title>38&#45;&gt;70</title>\r\n",
       "<path fill=\"none\" stroke=\"black\" d=\"M1464.91,-400.884C1476.35,-391.62 1488.91,-381.455 1500.78,-371.845\"/>\r\n",
       "<polygon fill=\"black\" stroke=\"black\" points=\"1503.3,-374.312 1508.87,-365.299 1498.89,-368.871 1503.3,-374.312\"/>\r\n",
       "</g>\r\n",
       "<!-- 73 -->\r\n",
       "<g id=\"node57\" class=\"node\"><title>73</title>\r\n",
       "<path fill=\"#e58139\" fill-opacity=\"0.462745\" stroke=\"black\" d=\"M1529,-253.5C1529,-253.5 1483,-253.5 1483,-253.5 1477,-253.5 1471,-247.5 1471,-241.5 1471,-241.5 1471,-212.5 1471,-212.5 1471,-206.5 1477,-200.5 1483,-200.5 1483,-200.5 1529,-200.5 1529,-200.5 1535,-200.5 1541,-206.5 1541,-212.5 1541,-212.5 1541,-241.5 1541,-241.5 1541,-247.5 1535,-253.5 1529,-253.5\"/>\r\n",
       "<text text-anchor=\"middle\" x=\"1506\" y=\"-238.3\" font-family=\"Helvetica,sans-Serif\" font-size=\"14.00\">#73</text>\r\n",
       "<text text-anchor=\"middle\" x=\"1506\" y=\"-223.3\" font-family=\"Helvetica,sans-Serif\" font-size=\"14.00\">268</text>\r\n",
       "<text text-anchor=\"middle\" x=\"1506\" y=\"-208.3\" font-family=\"Helvetica,sans-Serif\" font-size=\"14.00\">26.4106</text>\r\n",
       "</g>\r\n",
       "<!-- 70&#45;&gt;73 -->\r\n",
       "<g id=\"edge56\" class=\"edge\"><title>70&#45;&gt;73</title>\r\n",
       "<path fill=\"none\" stroke=\"black\" d=\"M1535.71,-296.884C1531.02,-285.996 1525.78,-273.863 1521.03,-262.85\"/>\r\n",
       "<polygon fill=\"black\" stroke=\"black\" points=\"1524.18,-261.316 1517.01,-253.52 1517.76,-264.088 1524.18,-261.316\"/>\r\n",
       "</g>\r\n",
       "<!-- 74 -->\r\n",
       "<g id=\"node58\" class=\"node\"><title>74</title>\r\n",
       "<path fill=\"#e58139\" fill-opacity=\"0.431373\" stroke=\"black\" d=\"M1617,-253.5C1617,-253.5 1571,-253.5 1571,-253.5 1565,-253.5 1559,-247.5 1559,-241.5 1559,-241.5 1559,-212.5 1559,-212.5 1559,-206.5 1565,-200.5 1571,-200.5 1571,-200.5 1617,-200.5 1617,-200.5 1623,-200.5 1629,-206.5 1629,-212.5 1629,-212.5 1629,-241.5 1629,-241.5 1629,-247.5 1623,-253.5 1617,-253.5\"/>\r\n",
       "<text text-anchor=\"middle\" x=\"1594\" y=\"-238.3\" font-family=\"Helvetica,sans-Serif\" font-size=\"14.00\">#74</text>\r\n",
       "<text text-anchor=\"middle\" x=\"1594\" y=\"-223.3\" font-family=\"Helvetica,sans-Serif\" font-size=\"14.00\">265</text>\r\n",
       "<text text-anchor=\"middle\" x=\"1594\" y=\"-208.3\" font-family=\"Helvetica,sans-Serif\" font-size=\"14.00\">25.1138</text>\r\n",
       "</g>\r\n",
       "<!-- 70&#45;&gt;74 -->\r\n",
       "<g id=\"edge57\" class=\"edge\"><title>70&#45;&gt;74</title>\r\n",
       "<path fill=\"none\" stroke=\"black\" d=\"M1564.29,-296.884C1568.98,-285.996 1574.22,-273.863 1578.97,-262.85\"/>\r\n",
       "<polygon fill=\"black\" stroke=\"black\" points=\"1582.24,-264.088 1582.99,-253.52 1575.82,-261.316 1582.24,-264.088\"/>\r\n",
       "</g>\r\n",
       "<!-- 65 -->\r\n",
       "<g id=\"node60\" class=\"node\"><title>65</title>\r\n",
       "<path fill=\"#e58139\" fill-opacity=\"0.403922\" stroke=\"black\" d=\"M1573,-461.5C1573,-461.5 1527,-461.5 1527,-461.5 1521,-461.5 1515,-455.5 1515,-449.5 1515,-449.5 1515,-420.5 1515,-420.5 1515,-414.5 1521,-408.5 1527,-408.5 1527,-408.5 1573,-408.5 1573,-408.5 1579,-408.5 1585,-414.5 1585,-420.5 1585,-420.5 1585,-449.5 1585,-449.5 1585,-455.5 1579,-461.5 1573,-461.5\"/>\r\n",
       "<text text-anchor=\"middle\" x=\"1550\" y=\"-446.3\" font-family=\"Helvetica,sans-Serif\" font-size=\"14.00\">#65</text>\r\n",
       "<text text-anchor=\"middle\" x=\"1550\" y=\"-431.3\" font-family=\"Helvetica,sans-Serif\" font-size=\"14.00\">351</text>\r\n",
       "<text text-anchor=\"middle\" x=\"1550\" y=\"-416.3\" font-family=\"Helvetica,sans-Serif\" font-size=\"14.00\">23.8325</text>\r\n",
       "</g>\r\n",
       "<!-- 36&#45;&gt;65 -->\r\n",
       "<g id=\"edge59\" class=\"edge\"><title>36&#45;&gt;65</title>\r\n",
       "<path fill=\"none\" stroke=\"black\" d=\"M1544.6,-504.884C1545.43,-494.216 1546.36,-482.352 1547.21,-471.519\"/>\r\n",
       "<polygon fill=\"black\" stroke=\"black\" points=\"1550.71,-471.763 1548,-461.52 1543.73,-471.216 1550.71,-471.763\"/>\r\n",
       "</g>\r\n",
       "<!-- 66 -->\r\n",
       "<g id=\"node61\" class=\"node\"><title>66</title>\r\n",
       "<path fill=\"#e58139\" fill-opacity=\"0.352941\" stroke=\"black\" d=\"M1720.5,-469C1720.5,-469 1631.5,-469 1631.5,-469 1625.5,-469 1619.5,-463 1619.5,-457 1619.5,-457 1619.5,-413 1619.5,-413 1619.5,-407 1625.5,-401 1631.5,-401 1631.5,-401 1720.5,-401 1720.5,-401 1726.5,-401 1732.5,-407 1732.5,-413 1732.5,-413 1732.5,-457 1732.5,-457 1732.5,-463 1726.5,-469 1720.5,-469\"/>\r\n",
       "<text text-anchor=\"middle\" x=\"1676\" y=\"-453.8\" font-family=\"Helvetica,sans-Serif\" font-size=\"14.00\">#66</text>\r\n",
       "<text text-anchor=\"middle\" x=\"1676\" y=\"-438.8\" font-family=\"Helvetica,sans-Serif\" font-size=\"14.00\">spot &lt;= 44.325</text>\r\n",
       "<text text-anchor=\"middle\" x=\"1676\" y=\"-423.8\" font-family=\"Helvetica,sans-Serif\" font-size=\"14.00\">931</text>\r\n",
       "<text text-anchor=\"middle\" x=\"1676\" y=\"-408.8\" font-family=\"Helvetica,sans-Serif\" font-size=\"14.00\">21.7541</text>\r\n",
       "</g>\r\n",
       "<!-- 36&#45;&gt;66 -->\r\n",
       "<g id=\"edge60\" class=\"edge\"><title>36&#45;&gt;66</title>\r\n",
       "<path fill=\"none\" stroke=\"black\" d=\"M1585.51,-504.884C1597.79,-495.531 1611.29,-485.259 1624.02,-475.568\"/>\r\n",
       "<polygon fill=\"black\" stroke=\"black\" points=\"1626.42,-478.141 1632.25,-469.299 1622.18,-472.571 1626.42,-478.141\"/>\r\n",
       "</g>\r\n",
       "<!-- 67 -->\r\n",
       "<g id=\"node62\" class=\"node\"><title>67</title>\r\n",
       "<path fill=\"#e58139\" fill-opacity=\"0.415686\" stroke=\"black\" d=\"M1699,-357.5C1699,-357.5 1653,-357.5 1653,-357.5 1647,-357.5 1641,-351.5 1641,-345.5 1641,-345.5 1641,-316.5 1641,-316.5 1641,-310.5 1647,-304.5 1653,-304.5 1653,-304.5 1699,-304.5 1699,-304.5 1705,-304.5 1711,-310.5 1711,-316.5 1711,-316.5 1711,-345.5 1711,-345.5 1711,-351.5 1705,-357.5 1699,-357.5\"/>\r\n",
       "<text text-anchor=\"middle\" x=\"1676\" y=\"-342.3\" font-family=\"Helvetica,sans-Serif\" font-size=\"14.00\">#67</text>\r\n",
       "<text text-anchor=\"middle\" x=\"1676\" y=\"-327.3\" font-family=\"Helvetica,sans-Serif\" font-size=\"14.00\">463</text>\r\n",
       "<text text-anchor=\"middle\" x=\"1676\" y=\"-312.3\" font-family=\"Helvetica,sans-Serif\" font-size=\"14.00\">24.2984</text>\r\n",
       "</g>\r\n",
       "<!-- 66&#45;&gt;67 -->\r\n",
       "<g id=\"edge61\" class=\"edge\"><title>66&#45;&gt;67</title>\r\n",
       "<path fill=\"none\" stroke=\"black\" d=\"M1676,-400.884C1676,-390.326 1676,-378.597 1676,-367.854\"/>\r\n",
       "<polygon fill=\"black\" stroke=\"black\" points=\"1679.5,-367.52 1676,-357.52 1672.5,-367.52 1679.5,-367.52\"/>\r\n",
       "</g>\r\n",
       "<!-- 68 -->\r\n",
       "<g id=\"node63\" class=\"node\"><title>68</title>\r\n",
       "<path fill=\"#e58139\" fill-opacity=\"0.294118\" stroke=\"black\" d=\"M1771,-357.5C1771,-357.5 1741,-357.5 1741,-357.5 1735,-357.5 1729,-351.5 1729,-345.5 1729,-345.5 1729,-316.5 1729,-316.5 1729,-310.5 1735,-304.5 1741,-304.5 1741,-304.5 1771,-304.5 1771,-304.5 1777,-304.5 1783,-310.5 1783,-316.5 1783,-316.5 1783,-345.5 1783,-345.5 1783,-351.5 1777,-357.5 1771,-357.5\"/>\r\n",
       "<text text-anchor=\"middle\" x=\"1756\" y=\"-342.3\" font-family=\"Helvetica,sans-Serif\" font-size=\"14.00\">#68</text>\r\n",
       "<text text-anchor=\"middle\" x=\"1756\" y=\"-327.3\" font-family=\"Helvetica,sans-Serif\" font-size=\"14.00\">468</text>\r\n",
       "<text text-anchor=\"middle\" x=\"1756\" y=\"-312.3\" font-family=\"Helvetica,sans-Serif\" font-size=\"14.00\">19.26</text>\r\n",
       "</g>\r\n",
       "<!-- 66&#45;&gt;68 -->\r\n",
       "<g id=\"edge62\" class=\"edge\"><title>66&#45;&gt;68</title>\r\n",
       "<path fill=\"none\" stroke=\"black\" d=\"M1701.97,-400.884C1710.86,-389.556 1720.8,-376.88 1729.71,-365.521\"/>\r\n",
       "<polygon fill=\"black\" stroke=\"black\" points=\"1732.57,-367.548 1735.98,-357.52 1727.06,-363.228 1732.57,-367.548\"/>\r\n",
       "</g>\r\n",
       "<!-- 61 -->\r\n",
       "<g id=\"node65\" class=\"node\"><title>61</title>\r\n",
       "<path fill=\"#e58139\" fill-opacity=\"0.215686\" stroke=\"black\" d=\"M1697,-565.5C1697,-565.5 1651,-565.5 1651,-565.5 1645,-565.5 1639,-559.5 1639,-553.5 1639,-553.5 1639,-524.5 1639,-524.5 1639,-518.5 1645,-512.5 1651,-512.5 1651,-512.5 1697,-512.5 1697,-512.5 1703,-512.5 1709,-518.5 1709,-524.5 1709,-524.5 1709,-553.5 1709,-553.5 1709,-559.5 1703,-565.5 1697,-565.5\"/>\r\n",
       "<text text-anchor=\"middle\" x=\"1674\" y=\"-550.3\" font-family=\"Helvetica,sans-Serif\" font-size=\"14.00\">#61</text>\r\n",
       "<text text-anchor=\"middle\" x=\"1674\" y=\"-535.3\" font-family=\"Helvetica,sans-Serif\" font-size=\"14.00\">294</text>\r\n",
       "<text text-anchor=\"middle\" x=\"1674\" y=\"-520.3\" font-family=\"Helvetica,sans-Serif\" font-size=\"14.00\">15.8946</text>\r\n",
       "</g>\r\n",
       "<!-- 34&#45;&gt;61 -->\r\n",
       "<g id=\"edge64\" class=\"edge\"><title>34&#45;&gt;61</title>\r\n",
       "<path fill=\"none\" stroke=\"black\" d=\"M1670.62,-608.884C1671.15,-598.216 1671.73,-586.352 1672.26,-575.519\"/>\r\n",
       "<polygon fill=\"black\" stroke=\"black\" points=\"1675.76,-575.679 1672.75,-565.52 1668.76,-575.337 1675.76,-575.679\"/>\r\n",
       "</g>\r\n",
       "<!-- 62 -->\r\n",
       "<g id=\"node66\" class=\"node\"><title>62</title>\r\n",
       "<path fill=\"#e58139\" fill-opacity=\"0.309804\" stroke=\"black\" d=\"M1785,-565.5C1785,-565.5 1739,-565.5 1739,-565.5 1733,-565.5 1727,-559.5 1727,-553.5 1727,-553.5 1727,-524.5 1727,-524.5 1727,-518.5 1733,-512.5 1739,-512.5 1739,-512.5 1785,-512.5 1785,-512.5 1791,-512.5 1797,-518.5 1797,-524.5 1797,-524.5 1797,-553.5 1797,-553.5 1797,-559.5 1791,-565.5 1785,-565.5\"/>\r\n",
       "<text text-anchor=\"middle\" x=\"1762\" y=\"-550.3\" font-family=\"Helvetica,sans-Serif\" font-size=\"14.00\">#62</text>\r\n",
       "<text text-anchor=\"middle\" x=\"1762\" y=\"-535.3\" font-family=\"Helvetica,sans-Serif\" font-size=\"14.00\">291</text>\r\n",
       "<text text-anchor=\"middle\" x=\"1762\" y=\"-520.3\" font-family=\"Helvetica,sans-Serif\" font-size=\"14.00\">19.9419</text>\r\n",
       "</g>\r\n",
       "<!-- 34&#45;&gt;62 -->\r\n",
       "<g id=\"edge65\" class=\"edge\"><title>34&#45;&gt;62</title>\r\n",
       "<path fill=\"none\" stroke=\"black\" d=\"M1699.19,-608.884C1709.62,-597.446 1721.3,-584.634 1731.74,-573.19\"/>\r\n",
       "<polygon fill=\"black\" stroke=\"black\" points=\"1734.58,-575.268 1738.73,-565.52 1729.41,-570.551 1734.58,-575.268\"/>\r\n",
       "</g>\r\n",
       "<!-- 15 -->\r\n",
       "<g id=\"node68\" class=\"node\"><title>15</title>\r\n",
       "<path fill=\"#e58139\" fill-opacity=\"0.101961\" stroke=\"black\" d=\"M1875,-781C1875,-781 1741,-781 1741,-781 1735,-781 1729,-775 1729,-769 1729,-769 1729,-725 1729,-725 1729,-719 1735,-713 1741,-713 1741,-713 1875,-713 1875,-713 1881,-713 1887,-719 1887,-725 1887,-725 1887,-769 1887,-769 1887,-775 1881,-781 1875,-781\"/>\r\n",
       "<text text-anchor=\"middle\" x=\"1808\" y=\"-765.8\" font-family=\"Helvetica,sans-Serif\" font-size=\"14.00\">#15</text>\r\n",
       "<text text-anchor=\"middle\" x=\"1808\" y=\"-750.8\" font-family=\"Helvetica,sans-Serif\" font-size=\"14.00\">demand&#45;1 &lt;= 30521.5</text>\r\n",
       "<text text-anchor=\"middle\" x=\"1808\" y=\"-735.8\" font-family=\"Helvetica,sans-Serif\" font-size=\"14.00\">1696</text>\r\n",
       "<text text-anchor=\"middle\" x=\"1808\" y=\"-720.8\" font-family=\"Helvetica,sans-Serif\" font-size=\"14.00\">11.0158</text>\r\n",
       "</g>\r\n",
       "<!-- 8&#45;&gt;15 -->\r\n",
       "<g id=\"edge67\" class=\"edge\"><title>8&#45;&gt;15</title>\r\n",
       "<path fill=\"none\" stroke=\"black\" d=\"M1808,-816.884C1808,-808.778 1808,-799.982 1808,-791.472\"/>\r\n",
       "<polygon fill=\"black\" stroke=\"black\" points=\"1811.5,-791.299 1808,-781.299 1804.5,-791.299 1811.5,-791.299\"/>\r\n",
       "</g>\r\n",
       "<!-- 16 -->\r\n",
       "<g id=\"node77\" class=\"node\"><title>16</title>\r\n",
       "<path fill=\"#e58139\" fill-opacity=\"0.286275\" stroke=\"black\" d=\"M2076,-781C2076,-781 1954,-781 1954,-781 1948,-781 1942,-775 1942,-769 1942,-769 1942,-725 1942,-725 1942,-719 1948,-713 1954,-713 1954,-713 2076,-713 2076,-713 2082,-713 2088,-719 2088,-725 2088,-725 2088,-769 2088,-769 2088,-775 2082,-781 2076,-781\"/>\r\n",
       "<text text-anchor=\"middle\" x=\"2015\" y=\"-765.8\" font-family=\"Helvetica,sans-Serif\" font-size=\"14.00\">#16</text>\r\n",
       "<text text-anchor=\"middle\" x=\"2015\" y=\"-750.8\" font-family=\"Helvetica,sans-Serif\" font-size=\"14.00\">demand &lt;= 29610.5</text>\r\n",
       "<text text-anchor=\"middle\" x=\"2015\" y=\"-735.8\" font-family=\"Helvetica,sans-Serif\" font-size=\"14.00\">663</text>\r\n",
       "<text text-anchor=\"middle\" x=\"2015\" y=\"-720.8\" font-family=\"Helvetica,sans-Serif\" font-size=\"14.00\">18.8663</text>\r\n",
       "</g>\r\n",
       "<!-- 8&#45;&gt;16 -->\r\n",
       "<g id=\"edge76\" class=\"edge\"><title>8&#45;&gt;16</title>\r\n",
       "<path fill=\"none\" stroke=\"black\" d=\"M1875.21,-816.884C1895.47,-806.901 1917.85,-795.872 1938.65,-785.619\"/>\r\n",
       "<polygon fill=\"black\" stroke=\"black\" points=\"1940.35,-788.684 1947.78,-781.125 1937.26,-782.405 1940.35,-788.684\"/>\r\n",
       "</g>\r\n",
       "<!-- 45 -->\r\n",
       "<g id=\"node69\" class=\"node\"><title>45</title>\r\n",
       "<path fill=\"#e58139\" fill-opacity=\"0.152941\" stroke=\"black\" d=\"M1794,-669.5C1794,-669.5 1748,-669.5 1748,-669.5 1742,-669.5 1736,-663.5 1736,-657.5 1736,-657.5 1736,-628.5 1736,-628.5 1736,-622.5 1742,-616.5 1748,-616.5 1748,-616.5 1794,-616.5 1794,-616.5 1800,-616.5 1806,-622.5 1806,-628.5 1806,-628.5 1806,-657.5 1806,-657.5 1806,-663.5 1800,-669.5 1794,-669.5\"/>\r\n",
       "<text text-anchor=\"middle\" x=\"1771\" y=\"-654.3\" font-family=\"Helvetica,sans-Serif\" font-size=\"14.00\">#45</text>\r\n",
       "<text text-anchor=\"middle\" x=\"1771\" y=\"-639.3\" font-family=\"Helvetica,sans-Serif\" font-size=\"14.00\">491</text>\r\n",
       "<text text-anchor=\"middle\" x=\"1771\" y=\"-624.3\" font-family=\"Helvetica,sans-Serif\" font-size=\"14.00\">13.1621</text>\r\n",
       "</g>\r\n",
       "<!-- 15&#45;&gt;45 -->\r\n",
       "<g id=\"edge68\" class=\"edge\"><title>15&#45;&gt;45</title>\r\n",
       "<path fill=\"none\" stroke=\"black\" d=\"M1795.99,-712.884C1792.08,-702.106 1787.73,-690.108 1783.76,-679.184\"/>\r\n",
       "<polygon fill=\"black\" stroke=\"black\" points=\"1786.96,-677.727 1780.26,-669.52 1780.38,-680.114 1786.96,-677.727\"/>\r\n",
       "</g>\r\n",
       "<!-- 46 -->\r\n",
       "<g id=\"node70\" class=\"node\"><title>46</title>\r\n",
       "<path fill=\"#e58139\" fill-opacity=\"0.082353\" stroke=\"black\" d=\"M1950,-677C1950,-677 1836,-677 1836,-677 1830,-677 1824,-671 1824,-665 1824,-665 1824,-621 1824,-621 1824,-615 1830,-609 1836,-609 1836,-609 1950,-609 1950,-609 1956,-609 1962,-615 1962,-621 1962,-621 1962,-665 1962,-665 1962,-671 1956,-677 1950,-677\"/>\r\n",
       "<text text-anchor=\"middle\" x=\"1893\" y=\"-661.8\" font-family=\"Helvetica,sans-Serif\" font-size=\"14.00\">#46</text>\r\n",
       "<text text-anchor=\"middle\" x=\"1893\" y=\"-646.8\" font-family=\"Helvetica,sans-Serif\" font-size=\"14.00\">band&#45;24 &lt;= 11.085</text>\r\n",
       "<text text-anchor=\"middle\" x=\"1893\" y=\"-631.8\" font-family=\"Helvetica,sans-Serif\" font-size=\"14.00\">1205</text>\r\n",
       "<text text-anchor=\"middle\" x=\"1893\" y=\"-616.8\" font-family=\"Helvetica,sans-Serif\" font-size=\"14.00\">10.1686</text>\r\n",
       "</g>\r\n",
       "<!-- 15&#45;&gt;46 -->\r\n",
       "<g id=\"edge69\" class=\"edge\"><title>15&#45;&gt;46</title>\r\n",
       "<path fill=\"none\" stroke=\"black\" d=\"M1835.6,-712.884C1842.95,-704.065 1850.97,-694.43 1858.64,-685.235\"/>\r\n",
       "<polygon fill=\"black\" stroke=\"black\" points=\"1861.54,-687.222 1865.25,-677.299 1856.16,-682.741 1861.54,-687.222\"/>\r\n",
       "</g>\r\n",
       "<!-- 47 -->\r\n",
       "<g id=\"node71\" class=\"node\"><title>47</title>\r\n",
       "<path fill=\"#e58139\" fill-opacity=\"0.043137\" stroke=\"black\" d=\"M1931,-573C1931,-573 1833,-573 1833,-573 1827,-573 1821,-567 1821,-561 1821,-561 1821,-517 1821,-517 1821,-511 1827,-505 1833,-505 1833,-505 1931,-505 1931,-505 1937,-505 1943,-511 1943,-517 1943,-517 1943,-561 1943,-561 1943,-567 1937,-573 1931,-573\"/>\r\n",
       "<text text-anchor=\"middle\" x=\"1882\" y=\"-557.8\" font-family=\"Helvetica,sans-Serif\" font-size=\"14.00\">#47</text>\r\n",
       "<text text-anchor=\"middle\" x=\"1882\" y=\"-542.8\" font-family=\"Helvetica,sans-Serif\" font-size=\"14.00\">band&#45;24 &lt;= 6.69</text>\r\n",
       "<text text-anchor=\"middle\" x=\"1882\" y=\"-527.8\" font-family=\"Helvetica,sans-Serif\" font-size=\"14.00\">698</text>\r\n",
       "<text text-anchor=\"middle\" x=\"1882\" y=\"-512.8\" font-family=\"Helvetica,sans-Serif\" font-size=\"14.00\">8.5222</text>\r\n",
       "</g>\r\n",
       "<!-- 46&#45;&gt;47 -->\r\n",
       "<g id=\"edge70\" class=\"edge\"><title>46&#45;&gt;47</title>\r\n",
       "<path fill=\"none\" stroke=\"black\" d=\"M1889.43,-608.884C1888.55,-600.778 1887.61,-591.982 1886.69,-583.472\"/>\r\n",
       "<polygon fill=\"black\" stroke=\"black\" points=\"1890.14,-582.866 1885.59,-573.299 1883.18,-583.617 1890.14,-582.866\"/>\r\n",
       "</g>\r\n",
       "<!-- 48 -->\r\n",
       "<g id=\"node74\" class=\"node\"><title>48</title>\r\n",
       "<path fill=\"#e58139\" fill-opacity=\"0.137255\" stroke=\"black\" d=\"M2095,-573C2095,-573 1973,-573 1973,-573 1967,-573 1961,-567 1961,-561 1961,-561 1961,-517 1961,-517 1961,-511 1967,-505 1973,-505 1973,-505 2095,-505 2095,-505 2101,-505 2107,-511 2107,-517 2107,-517 2107,-561 2107,-561 2107,-567 2101,-573 2095,-573\"/>\r\n",
       "<text text-anchor=\"middle\" x=\"2034\" y=\"-557.8\" font-family=\"Helvetica,sans-Serif\" font-size=\"14.00\">#48</text>\r\n",
       "<text text-anchor=\"middle\" x=\"2034\" y=\"-542.8\" font-family=\"Helvetica,sans-Serif\" font-size=\"14.00\">demand &lt;= 33576.0</text>\r\n",
       "<text text-anchor=\"middle\" x=\"2034\" y=\"-527.8\" font-family=\"Helvetica,sans-Serif\" font-size=\"14.00\">507</text>\r\n",
       "<text text-anchor=\"middle\" x=\"2034\" y=\"-512.8\" font-family=\"Helvetica,sans-Serif\" font-size=\"14.00\">12.5003</text>\r\n",
       "</g>\r\n",
       "<!-- 46&#45;&gt;48 -->\r\n",
       "<g id=\"edge73\" class=\"edge\"><title>46&#45;&gt;48</title>\r\n",
       "<path fill=\"none\" stroke=\"black\" d=\"M1938.78,-608.884C1951.83,-599.442 1966.18,-589.064 1979.69,-579.292\"/>\r\n",
       "<polygon fill=\"black\" stroke=\"black\" points=\"1981.92,-581.996 1987.97,-573.299 1977.81,-576.325 1981.92,-581.996\"/>\r\n",
       "</g>\r\n",
       "<!-- 63 -->\r\n",
       "<g id=\"node72\" class=\"node\"><title>63</title>\r\n",
       "<path fill=\"none\" stroke=\"black\" d=\"M1851,-461.5C1851,-461.5 1813,-461.5 1813,-461.5 1807,-461.5 1801,-455.5 1801,-449.5 1801,-449.5 1801,-420.5 1801,-420.5 1801,-414.5 1807,-408.5 1813,-408.5 1813,-408.5 1851,-408.5 1851,-408.5 1857,-408.5 1863,-414.5 1863,-420.5 1863,-420.5 1863,-449.5 1863,-449.5 1863,-455.5 1857,-461.5 1851,-461.5\"/>\r\n",
       "<text text-anchor=\"middle\" x=\"1832\" y=\"-446.3\" font-family=\"Helvetica,sans-Serif\" font-size=\"14.00\">#63</text>\r\n",
       "<text text-anchor=\"middle\" x=\"1832\" y=\"-431.3\" font-family=\"Helvetica,sans-Serif\" font-size=\"14.00\">265</text>\r\n",
       "<text text-anchor=\"middle\" x=\"1832\" y=\"-416.3\" font-family=\"Helvetica,sans-Serif\" font-size=\"14.00\">6.7578</text>\r\n",
       "</g>\r\n",
       "<!-- 47&#45;&gt;63 -->\r\n",
       "<g id=\"edge71\" class=\"edge\"><title>47&#45;&gt;63</title>\r\n",
       "<path fill=\"none\" stroke=\"black\" d=\"M1865.77,-504.884C1860.38,-493.886 1854.36,-481.617 1848.92,-470.517\"/>\r\n",
       "<polygon fill=\"black\" stroke=\"black\" points=\"1852.05,-468.959 1844.51,-461.52 1845.77,-472.04 1852.05,-468.959\"/>\r\n",
       "</g>\r\n",
       "<!-- 64 -->\r\n",
       "<g id=\"node73\" class=\"node\"><title>64</title>\r\n",
       "<path fill=\"#e58139\" fill-opacity=\"0.066667\" stroke=\"black\" d=\"M1931,-461.5C1931,-461.5 1893,-461.5 1893,-461.5 1887,-461.5 1881,-455.5 1881,-449.5 1881,-449.5 1881,-420.5 1881,-420.5 1881,-414.5 1887,-408.5 1893,-408.5 1893,-408.5 1931,-408.5 1931,-408.5 1937,-408.5 1943,-414.5 1943,-420.5 1943,-420.5 1943,-449.5 1943,-449.5 1943,-455.5 1937,-461.5 1931,-461.5\"/>\r\n",
       "<text text-anchor=\"middle\" x=\"1912\" y=\"-446.3\" font-family=\"Helvetica,sans-Serif\" font-size=\"14.00\">#64</text>\r\n",
       "<text text-anchor=\"middle\" x=\"1912\" y=\"-431.3\" font-family=\"Helvetica,sans-Serif\" font-size=\"14.00\">433</text>\r\n",
       "<text text-anchor=\"middle\" x=\"1912\" y=\"-416.3\" font-family=\"Helvetica,sans-Serif\" font-size=\"14.00\">9.5734</text>\r\n",
       "</g>\r\n",
       "<!-- 47&#45;&gt;64 -->\r\n",
       "<g id=\"edge72\" class=\"edge\"><title>47&#45;&gt;64</title>\r\n",
       "<path fill=\"none\" stroke=\"black\" d=\"M1891.74,-504.884C1894.91,-494.106 1898.44,-482.108 1901.65,-471.184\"/>\r\n",
       "<polygon fill=\"black\" stroke=\"black\" points=\"1905.03,-472.101 1904.49,-461.52 1898.31,-470.126 1905.03,-472.101\"/>\r\n",
       "</g>\r\n",
       "<!-- 71 -->\r\n",
       "<g id=\"node75\" class=\"node\"><title>71</title>\r\n",
       "<path fill=\"#e58139\" fill-opacity=\"0.152941\" stroke=\"black\" d=\"M2044,-461.5C2044,-461.5 1998,-461.5 1998,-461.5 1992,-461.5 1986,-455.5 1986,-449.5 1986,-449.5 1986,-420.5 1986,-420.5 1986,-414.5 1992,-408.5 1998,-408.5 1998,-408.5 2044,-408.5 2044,-408.5 2050,-408.5 2056,-414.5 2056,-420.5 2056,-420.5 2056,-449.5 2056,-449.5 2056,-455.5 2050,-461.5 2044,-461.5\"/>\r\n",
       "<text text-anchor=\"middle\" x=\"2021\" y=\"-446.3\" font-family=\"Helvetica,sans-Serif\" font-size=\"14.00\">#71</text>\r\n",
       "<text text-anchor=\"middle\" x=\"2021\" y=\"-431.3\" font-family=\"Helvetica,sans-Serif\" font-size=\"14.00\">257</text>\r\n",
       "<text text-anchor=\"middle\" x=\"2021\" y=\"-416.3\" font-family=\"Helvetica,sans-Serif\" font-size=\"14.00\">13.2026</text>\r\n",
       "</g>\r\n",
       "<!-- 48&#45;&gt;71 -->\r\n",
       "<g id=\"edge74\" class=\"edge\"><title>48&#45;&gt;71</title>\r\n",
       "<path fill=\"none\" stroke=\"black\" d=\"M2029.78,-504.884C2028.42,-494.216 2026.91,-482.352 2025.53,-471.519\"/>\r\n",
       "<polygon fill=\"black\" stroke=\"black\" points=\"2028.99,-470.997 2024.25,-461.52 2022.04,-471.882 2028.99,-470.997\"/>\r\n",
       "</g>\r\n",
       "<!-- 72 -->\r\n",
       "<g id=\"node76\" class=\"node\"><title>72</title>\r\n",
       "<path fill=\"#e58139\" fill-opacity=\"0.117647\" stroke=\"black\" d=\"M2132,-461.5C2132,-461.5 2086,-461.5 2086,-461.5 2080,-461.5 2074,-455.5 2074,-449.5 2074,-449.5 2074,-420.5 2074,-420.5 2074,-414.5 2080,-408.5 2086,-408.5 2086,-408.5 2132,-408.5 2132,-408.5 2138,-408.5 2144,-414.5 2144,-420.5 2144,-420.5 2144,-449.5 2144,-449.5 2144,-455.5 2138,-461.5 2132,-461.5\"/>\r\n",
       "<text text-anchor=\"middle\" x=\"2109\" y=\"-446.3\" font-family=\"Helvetica,sans-Serif\" font-size=\"14.00\">#72</text>\r\n",
       "<text text-anchor=\"middle\" x=\"2109\" y=\"-431.3\" font-family=\"Helvetica,sans-Serif\" font-size=\"14.00\">250</text>\r\n",
       "<text text-anchor=\"middle\" x=\"2109\" y=\"-416.3\" font-family=\"Helvetica,sans-Serif\" font-size=\"14.00\">11.7944</text>\r\n",
       "</g>\r\n",
       "<!-- 48&#45;&gt;72 -->\r\n",
       "<g id=\"edge75\" class=\"edge\"><title>48&#45;&gt;72</title>\r\n",
       "<path fill=\"none\" stroke=\"black\" d=\"M2058.35,-504.884C2066.6,-493.666 2075.82,-481.126 2084.11,-469.852\"/>\r\n",
       "<polygon fill=\"black\" stroke=\"black\" points=\"2087.13,-471.65 2090.24,-461.52 2081.49,-467.503 2087.13,-471.65\"/>\r\n",
       "</g>\r\n",
       "<!-- 27 -->\r\n",
       "<g id=\"node78\" class=\"node\"><title>27</title>\r\n",
       "<path fill=\"#e58139\" fill-opacity=\"0.380392\" stroke=\"black\" d=\"M2038,-669.5C2038,-669.5 1992,-669.5 1992,-669.5 1986,-669.5 1980,-663.5 1980,-657.5 1980,-657.5 1980,-628.5 1980,-628.5 1980,-622.5 1986,-616.5 1992,-616.5 1992,-616.5 2038,-616.5 2038,-616.5 2044,-616.5 2050,-622.5 2050,-628.5 2050,-628.5 2050,-657.5 2050,-657.5 2050,-663.5 2044,-669.5 2038,-669.5\"/>\r\n",
       "<text text-anchor=\"middle\" x=\"2015\" y=\"-654.3\" font-family=\"Helvetica,sans-Serif\" font-size=\"14.00\">#27</text>\r\n",
       "<text text-anchor=\"middle\" x=\"2015\" y=\"-639.3\" font-family=\"Helvetica,sans-Serif\" font-size=\"14.00\">265</text>\r\n",
       "<text text-anchor=\"middle\" x=\"2015\" y=\"-624.3\" font-family=\"Helvetica,sans-Serif\" font-size=\"14.00\">22.8073</text>\r\n",
       "</g>\r\n",
       "<!-- 16&#45;&gt;27 -->\r\n",
       "<g id=\"edge77\" class=\"edge\"><title>16&#45;&gt;27</title>\r\n",
       "<path fill=\"none\" stroke=\"black\" d=\"M2015,-712.884C2015,-702.326 2015,-690.597 2015,-679.854\"/>\r\n",
       "<polygon fill=\"black\" stroke=\"black\" points=\"2018.5,-679.52 2015,-669.52 2011.5,-679.52 2018.5,-679.52\"/>\r\n",
       "</g>\r\n",
       "<!-- 28 -->\r\n",
       "<g id=\"node79\" class=\"node\"><title>28</title>\r\n",
       "<path fill=\"#e58139\" fill-opacity=\"0.223529\" stroke=\"black\" d=\"M2126,-669.5C2126,-669.5 2080,-669.5 2080,-669.5 2074,-669.5 2068,-663.5 2068,-657.5 2068,-657.5 2068,-628.5 2068,-628.5 2068,-622.5 2074,-616.5 2080,-616.5 2080,-616.5 2126,-616.5 2126,-616.5 2132,-616.5 2138,-622.5 2138,-628.5 2138,-628.5 2138,-657.5 2138,-657.5 2138,-663.5 2132,-669.5 2126,-669.5\"/>\r\n",
       "<text text-anchor=\"middle\" x=\"2103\" y=\"-654.3\" font-family=\"Helvetica,sans-Serif\" font-size=\"14.00\">#28</text>\r\n",
       "<text text-anchor=\"middle\" x=\"2103\" y=\"-639.3\" font-family=\"Helvetica,sans-Serif\" font-size=\"14.00\">398</text>\r\n",
       "<text text-anchor=\"middle\" x=\"2103\" y=\"-624.3\" font-family=\"Helvetica,sans-Serif\" font-size=\"14.00\">16.1971</text>\r\n",
       "</g>\r\n",
       "<!-- 16&#45;&gt;28 -->\r\n",
       "<g id=\"edge78\" class=\"edge\"><title>16&#45;&gt;28</title>\r\n",
       "<path fill=\"none\" stroke=\"black\" d=\"M2043.57,-712.884C2053.44,-701.446 2064.49,-688.634 2074.37,-677.19\"/>\r\n",
       "<polygon fill=\"black\" stroke=\"black\" points=\"2077.1,-679.378 2080.98,-669.52 2071.8,-674.805 2077.1,-679.378\"/>\r\n",
       "</g>\r\n",
       "</g>\r\n",
       "</svg>\r\n"
      ],
      "text/plain": [
       "<graphviz.files.Source at 0x1e72865fcc0>"
      ]
     },
     "execution_count": 130,
     "metadata": {},
     "output_type": "execute_result"
    }
   ],
   "source": [
    "export_graphviz(rfr.estimators_[12], out_file=\"0.dot\", max_depth=None, feature_names=features_list, label='none',\n",
    "               filled=True, leaves_parallel=False, impurity=False, node_ids=True, proportion=False, rotate=False,\n",
    "               rounded=True, special_characters=False)\n",
    "with open(\"0.dot\") as f:\n",
    "    dot_graph = f.read()\n",
    "graphviz.Source(dot_graph)"
   ]
  },
  {
   "cell_type": "code",
   "execution_count": 131,
   "metadata": {
    "collapsed": false
   },
   "outputs": [],
   "source": [
    "# Customised random forest, this is the final model\n",
    "rfr = RandomForestRegressor(bootstrap=True, criterion='mse', max_depth=9,\n",
    "           max_features='log2', max_leaf_nodes=130,\n",
    "           min_impurity_split=1e-07, min_samples_leaf=250,\n",
    "           min_samples_split=500, min_weight_fraction_leaf=0.0,\n",
    "           n_estimators=80, n_jobs=-1, oob_score=False, random_state=0,\n",
    "           verbose=0, warm_start=False)"
   ]
  },
  {
   "cell_type": "code",
   "execution_count": 132,
   "metadata": {
    "collapsed": false,
    "scrolled": false
   },
   "outputs": [
    {
     "name": "stdout",
     "output_type": "stream",
     "text": [
      "Mean absolute error: 5.6607 +- 0.1533\n",
      "Mean squared error: 71.2615 +- 6.1246\n"
     ]
    }
   ],
   "source": [
    "rfr.fit(x_train, y_train)\n",
    "#CV with kfold=5\n",
    "kf = KFold(n_splits=5, random_state=0)\n",
    "\n",
    "CV_mse = list()\n",
    "CV_mae = list()\n",
    "\n",
    "for train_index, test_index in kf.split(x_train, y_train):\n",
    "    rfr.fit(x_train[train_index], y_train[train_index])\n",
    "    y_pred = rfr.predict(x_train[test_index])\n",
    "    CV_mae.append(mean_absolute_error(y_train[test_index], y_pred))\n",
    "    CV_mse.append(mean_squared_error(y_train[test_index], y_pred))\n",
    "    \n",
    "print('Mean absolute error: %0.4f +- %0.4f' %(np.mean(CV_mae), 2*np.std(CV_mae)))\n",
    "print('Mean squared error: %0.4f +- %0.4f' %(np.mean(CV_mse), 2*np.std(CV_mse)))"
   ]
  },
  {
   "cell_type": "code",
   "execution_count": 133,
   "metadata": {
    "collapsed": false
   },
   "outputs": [
    {
     "data": {
      "text/plain": [
       "([5.6552807005202128,\n",
       "  5.6052862804133943,\n",
       "  5.7059859110401927,\n",
       "  5.5586898120609538,\n",
       "  5.778325470229305],\n",
       " [73.146736876330706,\n",
       "  72.158021729650969,\n",
       "  68.624229840367093,\n",
       "  66.972320261247717,\n",
       "  75.406169363893014])"
      ]
     },
     "execution_count": 133,
     "metadata": {},
     "output_type": "execute_result"
    }
   ],
   "source": [
    "CV_mae, CV_mse"
   ]
  },
  {
   "cell_type": "code",
   "execution_count": 134,
   "metadata": {
    "collapsed": false
   },
   "outputs": [
    {
     "data": {
      "text/plain": [
       "RandomForestRegressor(bootstrap=True, criterion='mse', max_depth=9,\n",
       "           max_features='log2', max_leaf_nodes=130,\n",
       "           min_impurity_split=1e-07, min_samples_leaf=250,\n",
       "           min_samples_split=500, min_weight_fraction_leaf=0.0,\n",
       "           n_estimators=80, n_jobs=-1, oob_score=False, random_state=0,\n",
       "           verbose=0, warm_start=False)"
      ]
     },
     "execution_count": 134,
     "metadata": {},
     "output_type": "execute_result"
    }
   ],
   "source": [
    "rfr.fit(x_train, y_train)"
   ]
  },
  {
   "cell_type": "code",
   "execution_count": 135,
   "metadata": {
    "collapsed": false
   },
   "outputs": [
    {
     "name": "stdout",
     "output_type": "stream",
     "text": [
      "Training MAE: 5.508771271, Training MSE: 67.7326390798\n"
     ]
    }
   ],
   "source": [
    "print('Training MAE: ' +str(mean_absolute_error(y_train, rfr.predict(x_train)))+', Training MSE: ' +\n",
    "      str(mean_squared_error(y_train, rfr.predict(x_train))))"
   ]
  },
  {
   "cell_type": "code",
   "execution_count": 136,
   "metadata": {
    "collapsed": false
   },
   "outputs": [
    {
     "name": "stdout",
     "output_type": "stream",
     "text": [
      "MAE: 5.63210064918, MSE: 65.8646996199\n"
     ]
    },
    {
     "data": {
      "text/html": [
       "<div>\n",
       "<table border=\"1\" class=\"dataframe\">\n",
       "  <thead>\n",
       "    <tr style=\"text-align: right;\">\n",
       "      <th></th>\n",
       "      <th>0</th>\n",
       "    </tr>\n",
       "  </thead>\n",
       "  <tbody>\n",
       "    <tr>\n",
       "      <th>spot</th>\n",
       "      <td>0.183870</td>\n",
       "    </tr>\n",
       "    <tr>\n",
       "      <th>demand</th>\n",
       "      <td>0.112686</td>\n",
       "    </tr>\n",
       "    <tr>\n",
       "      <th>off_peak</th>\n",
       "      <td>0.019808</td>\n",
       "    </tr>\n",
       "    <tr>\n",
       "      <th>Wd</th>\n",
       "      <td>0.012148</td>\n",
       "    </tr>\n",
       "    <tr>\n",
       "      <th>winter</th>\n",
       "      <td>0.015286</td>\n",
       "    </tr>\n",
       "    <tr>\n",
       "      <th>demand-1</th>\n",
       "      <td>0.042858</td>\n",
       "    </tr>\n",
       "    <tr>\n",
       "      <th>demand-24</th>\n",
       "      <td>0.009177</td>\n",
       "    </tr>\n",
       "    <tr>\n",
       "      <th>spot-1</th>\n",
       "      <td>0.136489</td>\n",
       "    </tr>\n",
       "    <tr>\n",
       "      <th>spot-24</th>\n",
       "      <td>0.036785</td>\n",
       "    </tr>\n",
       "    <tr>\n",
       "      <th>band-24</th>\n",
       "      <td>0.430893</td>\n",
       "    </tr>\n",
       "  </tbody>\n",
       "</table>\n",
       "</div>"
      ],
      "text/plain": [
       "                  0\n",
       "spot       0.183870\n",
       "demand     0.112686\n",
       "off_peak   0.019808\n",
       "Wd         0.012148\n",
       "winter     0.015286\n",
       "demand-1   0.042858\n",
       "demand-24  0.009177\n",
       "spot-1     0.136489\n",
       "spot-24    0.036785\n",
       "band-24    0.430893"
      ]
     },
     "execution_count": 136,
     "metadata": {},
     "output_type": "execute_result"
    }
   ],
   "source": [
    "print('MAE: ' +str(mean_absolute_error(y_test, rfr.predict(x_test)))+', MSE: ' +\n",
    "      str(mean_squared_error(y_test, rfr.predict(x_test))))\n",
    "pd.DataFrame(data=rfr.feature_importances_, index=features_list)"
   ]
  },
  {
   "cell_type": "code",
   "execution_count": 137,
   "metadata": {
    "collapsed": false
   },
   "outputs": [],
   "source": [
    "#Transform y_true and y_pred from last model into log scale for the residual fitting\n",
    "rfr.fit(X, Y)\n",
    "Y_log = np.log1p(Y)\n",
    "Y_pred_log = np.log1p(rfr.predict(X))\n",
    "residuals = Y_log - Y_pred_log\n",
    "res_index = spot_band_demand.drop(labels=['hour', 'weekday','season', 'band'], axis=1).index\n",
    "residuals_random_forest = pd.DataFrame(data=residuals, index=res_index, columns=['residuals'])\n",
    "residuals_random_forest.to_csv('Residuals_from_random_forest.csv')"
   ]
  },
  {
   "cell_type": "code",
   "execution_count": 144,
   "metadata": {
    "collapsed": true
   },
   "outputs": [],
   "source": [
    "#Save fitted model into a pickle\n",
    "with open('random_forest_p', 'wb') as f:\n",
    "    pickle.dump(rfr, f)"
   ]
  }
 ],
 "metadata": {
  "anaconda-cloud": {},
  "kernelspec": {
   "display_name": "Python [Root]",
   "language": "python",
   "name": "Python [Root]"
  },
  "language_info": {
   "codemirror_mode": {
    "name": "ipython",
    "version": 3
   },
   "file_extension": ".py",
   "mimetype": "text/x-python",
   "name": "python",
   "nbconvert_exporter": "python",
   "pygments_lexer": "ipython3",
   "version": "3.5.2"
  }
 },
 "nbformat": 4,
 "nbformat_minor": 0
}
