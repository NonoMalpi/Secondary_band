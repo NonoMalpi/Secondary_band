{
 "cells": [
  {
   "cell_type": "code",
   "execution_count": 1,
   "metadata": {
    "collapsed": true
   },
   "outputs": [],
   "source": [
    "import pandas as pd\n",
    "import numpy as np\n",
    "import matplotlib.pyplot as plt\n",
    "import seaborn.apionly as sns\n",
    "import datetime\n",
    "import warnings\n",
    "%matplotlib inline\n",
    "plt.style.use('ggplot')\n",
    "warnings.filterwarnings('ignore')"
   ]
  },
  {
   "cell_type": "code",
   "execution_count": 2,
   "metadata": {
    "collapsed": true
   },
   "outputs": [],
   "source": [
    "def get_clean_data(df_original):\n",
    "    weekday_dict = {\n",
    "        0:'Wd', 1:'Wd', 2:'Wd', 3:'Wd', 4:'Wd', 5:'F', 6:'F' \n",
    "    }\n",
    "    \n",
    "    df = df_original.copy(deep=True)\n",
    "    df['date'] =  pd.to_datetime(df['datetime'].apply(lambda x: x[:10]), format='%Y-%m-%d')\n",
    "    df['year'] = df['date'].dt.year\n",
    "    df['time'] = pd.to_datetime(df['datetime'].apply(lambda x: x[:19])).dt.time\n",
    "    df['month'] = df['date'].dt.month\n",
    "    df['day'] = df['date'].dt.day\n",
    "    df['hour'] = df['datetime'].apply(lambda x: x[11:13]).astype(int)\n",
    "    df['minute'] = df['datetime'].apply(lambda x: x[14:16]).astype(int)\n",
    "    df['weekday'] = df['date'].dt.dayofweek\n",
    "    df.replace({'weekday':weekday_dict}, inplace=True)\n",
    "    df['season'] = np.where(df['month'].isin(list(range(4,10))), 'summer', 'winter')\n",
    "    df['date_hour'] = df.apply(lambda x: datetime.datetime.combine(x['date'], x['time']), axis=1)\n",
    "    df.set_index('date_hour', inplace=True)\n",
    "    df = df[df.index < '2017']\n",
    "    clean_df = df[['date', 'year', 'month', 'season', 'day','weekday','time', 'hour', 'minute', 'value']]\n",
    "    clean_df = clean_df[~clean_df.index.duplicated()]\n",
    "    clean_df['hour'] = np.where(clean_df['hour'].isin(np.arange(9,23)), 'Peak', 'off_peak')\n",
    "    #clean_df['value'] = np.log1p(clean_df['value'])\n",
    "    \n",
    "    return clean_df"
   ]
  },
  {
   "cell_type": "markdown",
   "metadata": {},
   "source": [
    "### df with secondary band, spot price and demand "
   ]
  },
  {
   "cell_type": "code",
   "execution_count": 3,
   "metadata": {
    "collapsed": false
   },
   "outputs": [],
   "source": [
    "raw_band_price = pd.read_csv('export_PrecioBandaDeRegulaciónSecundaria_2017-01-15_19-11.csv', encoding='latin1', delimiter=';')\n",
    "band_price = get_clean_data(raw_band_price)\n",
    "band_price = band_price.rename(columns={'value':'band'})"
   ]
  },
  {
   "cell_type": "code",
   "execution_count": 4,
   "metadata": {
    "collapsed": false
   },
   "outputs": [],
   "source": [
    "raw_spot_price = pd.read_csv('export_PrecioMercadoSPOTDiario_2017-02-02_09-47.csv', encoding='latin1', delimiter=';')\n",
    "raw_spot_price = raw_spot_price[raw_spot_price['geoid'] == 3]\n",
    "spot_price = get_clean_data(raw_spot_price)\n",
    "spot_price = spot_price.rename(columns={'value':'spot'})"
   ]
  },
  {
   "cell_type": "code",
   "execution_count": 5,
   "metadata": {
    "collapsed": true
   },
   "outputs": [],
   "source": [
    "raw_demand = pd.read_csv('export_DemandaProgramada_2017-02-02_09-45.csv', encoding='latin1', delimiter=';')\n",
    "demand = get_clean_data(raw_demand)\n",
    "demand = demand.rename(columns={'value':'demand'})"
   ]
  },
  {
   "cell_type": "code",
   "execution_count": 6,
   "metadata": {
    "collapsed": true
   },
   "outputs": [],
   "source": [
    "spot_band_demand = band_price.merge(spot_price[['spot']], how='left', left_index=True, right_index=True)\n",
    "spot_band_demand = spot_band_demand.merge(demand[['demand']], how='left', left_index=True, right_index=True)"
   ]
  },
  {
   "cell_type": "code",
   "execution_count": 7,
   "metadata": {
    "collapsed": false
   },
   "outputs": [],
   "source": [
    "spot_band_demand = spot_band_demand[['hour', 'weekday', 'season', 'spot','demand', 'band']]"
   ]
  },
  {
   "cell_type": "code",
   "execution_count": 8,
   "metadata": {
    "collapsed": true
   },
   "outputs": [],
   "source": [
    "for feature in ['hour', 'weekday', 'season']:\n",
    "    spot_band_demand[pd.get_dummies(spot_band_demand[feature], drop_first=True).columns.tolist()] = pd.get_dummies(spot_band_demand[feature], drop_first=True)"
   ]
  },
  {
   "cell_type": "code",
   "execution_count": 9,
   "metadata": {
    "collapsed": false
   },
   "outputs": [],
   "source": [
    "spot_band_demand['demand+1'] = spot_band_demand['demand'].shift(periods=-1)\n",
    "spot_band_demand['band-24'] = spot_band_demand['band'].shift(periods=24)\n",
    "spot_band_demand.dropna(subset=['demand+1', 'band-24'], inplace=True)"
   ]
  },
  {
   "cell_type": "markdown",
   "metadata": {},
   "source": [
    "### Preprocessing for Decision Tree"
   ]
  },
  {
   "cell_type": "code",
   "execution_count": 10,
   "metadata": {
    "collapsed": false
   },
   "outputs": [],
   "source": [
    "from sklearn.tree import DecisionTreeRegressor\n",
    "from sklearn.model_selection import KFold, train_test_split, RandomizedSearchCV, GridSearchCV\n",
    "from sklearn.metrics import mean_squared_error, mean_absolute_error\n",
    "from sklearn import tree as tree_m\n",
    "from sklearn.tree import export_graphviz\n",
    "import graphviz"
   ]
  },
  {
   "cell_type": "code",
   "execution_count": 46,
   "metadata": {
    "collapsed": true
   },
   "outputs": [],
   "source": [
    "#Set features and output\n",
    "X = spot_band_demand.drop(labels=['hour', 'weekday','season', 'band'], axis=1).values\n",
    "Y = spot_band_demand['band'].values"
   ]
  },
  {
   "cell_type": "code",
   "execution_count": 47,
   "metadata": {
    "collapsed": false
   },
   "outputs": [
    {
     "data": {
      "text/html": [
       "<div>\n",
       "<table border=\"1\" class=\"dataframe\">\n",
       "  <thead>\n",
       "    <tr style=\"text-align: right;\">\n",
       "      <th></th>\n",
       "      <th>spot</th>\n",
       "      <th>demand</th>\n",
       "      <th>off_peak</th>\n",
       "      <th>Wd</th>\n",
       "      <th>winter</th>\n",
       "      <th>demand+1</th>\n",
       "      <th>band-24</th>\n",
       "    </tr>\n",
       "  </thead>\n",
       "  <tbody>\n",
       "    <tr>\n",
       "      <th>spot</th>\n",
       "      <td>1.000000</td>\n",
       "      <td>0.439178</td>\n",
       "      <td>-0.278173</td>\n",
       "      <td>0.236085</td>\n",
       "      <td>-0.034434</td>\n",
       "      <td>0.418266</td>\n",
       "      <td>-0.293524</td>\n",
       "    </tr>\n",
       "    <tr>\n",
       "      <th>demand</th>\n",
       "      <td>0.439178</td>\n",
       "      <td>1.000000</td>\n",
       "      <td>-0.663151</td>\n",
       "      <td>0.390982</td>\n",
       "      <td>0.082227</td>\n",
       "      <td>0.950706</td>\n",
       "      <td>-0.304060</td>\n",
       "    </tr>\n",
       "    <tr>\n",
       "      <th>off_peak</th>\n",
       "      <td>-0.278173</td>\n",
       "      <td>-0.663151</td>\n",
       "      <td>1.000000</td>\n",
       "      <td>0.000285</td>\n",
       "      <td>-0.000181</td>\n",
       "      <td>-0.621351</td>\n",
       "      <td>0.298453</td>\n",
       "    </tr>\n",
       "    <tr>\n",
       "      <th>Wd</th>\n",
       "      <td>0.236085</td>\n",
       "      <td>0.390982</td>\n",
       "      <td>0.000285</td>\n",
       "      <td>1.000000</td>\n",
       "      <td>-0.003514</td>\n",
       "      <td>0.396874</td>\n",
       "      <td>-0.031628</td>\n",
       "    </tr>\n",
       "    <tr>\n",
       "      <th>winter</th>\n",
       "      <td>-0.034434</td>\n",
       "      <td>0.082227</td>\n",
       "      <td>-0.000181</td>\n",
       "      <td>-0.003514</td>\n",
       "      <td>1.000000</td>\n",
       "      <td>0.082313</td>\n",
       "      <td>0.135029</td>\n",
       "    </tr>\n",
       "    <tr>\n",
       "      <th>demand+1</th>\n",
       "      <td>0.418266</td>\n",
       "      <td>0.950706</td>\n",
       "      <td>-0.621351</td>\n",
       "      <td>0.396874</td>\n",
       "      <td>0.082313</td>\n",
       "      <td>1.000000</td>\n",
       "      <td>-0.286607</td>\n",
       "    </tr>\n",
       "    <tr>\n",
       "      <th>band-24</th>\n",
       "      <td>-0.293524</td>\n",
       "      <td>-0.304060</td>\n",
       "      <td>0.298453</td>\n",
       "      <td>-0.031628</td>\n",
       "      <td>0.135029</td>\n",
       "      <td>-0.286607</td>\n",
       "      <td>1.000000</td>\n",
       "    </tr>\n",
       "  </tbody>\n",
       "</table>\n",
       "</div>"
      ],
      "text/plain": [
       "              spot    demand  off_peak        Wd    winter  demand+1   band-24\n",
       "spot      1.000000  0.439178 -0.278173  0.236085 -0.034434  0.418266 -0.293524\n",
       "demand    0.439178  1.000000 -0.663151  0.390982  0.082227  0.950706 -0.304060\n",
       "off_peak -0.278173 -0.663151  1.000000  0.000285 -0.000181 -0.621351  0.298453\n",
       "Wd        0.236085  0.390982  0.000285  1.000000 -0.003514  0.396874 -0.031628\n",
       "winter   -0.034434  0.082227 -0.000181 -0.003514  1.000000  0.082313  0.135029\n",
       "demand+1  0.418266  0.950706 -0.621351  0.396874  0.082313  1.000000 -0.286607\n",
       "band-24  -0.293524 -0.304060  0.298453 -0.031628  0.135029 -0.286607  1.000000"
      ]
     },
     "execution_count": 47,
     "metadata": {},
     "output_type": "execute_result"
    }
   ],
   "source": [
    "spot_band_demand.drop(labels=['hour', 'weekday','season', 'band'], axis=1).corr()"
   ]
  },
  {
   "cell_type": "code",
   "execution_count": 48,
   "metadata": {
    "collapsed": true
   },
   "outputs": [],
   "source": [
    "features_list = spot_band_demand.drop(labels=['hour', 'weekday','season', 'band'], axis=1).columns.tolist()"
   ]
  },
  {
   "cell_type": "code",
   "execution_count": 49,
   "metadata": {
    "collapsed": true
   },
   "outputs": [],
   "source": [
    "#Split data set into train and test\n",
    "x_train, x_test, y_train, y_test = train_test_split(X, Y, train_size=0.8, \n",
    "                                                    test_size=0.2, random_state=100)"
   ]
  },
  {
   "cell_type": "markdown",
   "metadata": {
    "collapsed": false
   },
   "source": [
    "### Randomized Search CV"
   ]
  },
  {
   "cell_type": "code",
   "execution_count": 15,
   "metadata": {
    "collapsed": false
   },
   "outputs": [],
   "source": [
    "params = {\n",
    "    'criterion':['mse'],\n",
    "    'splitter':['best','random'],\n",
    "    'max_features':['auto','log2', 'sqrt'],\n",
    "    'max_depth':np.arange(2,21), 'min_samples_split':np.linspace(50, 1000, 200).astype(int),\n",
    "    'min_samples_leaf': np.linspace(200, 2500, 50).astype(int), 'max_leaf_nodes': np.linspace(10,180, 40).astype(int)\n",
    "}"
   ]
  },
  {
   "cell_type": "code",
   "execution_count": 16,
   "metadata": {
    "collapsed": false
   },
   "outputs": [],
   "source": [
    "#Random search, set up tree and cross-validation\n",
    "tree = DecisionTreeRegressor()\n",
    "kf = KFold(n_splits=5)\n",
    "\n",
    "#Randomized Search CV for tree\n",
    "random_search = RandomizedSearchCV(tree, param_distributions=params, n_jobs=-1, n_iter=350,\n",
    "                                scoring='neg_mean_squared_error', cv=list(kf.split(x_train,y_train)), random_state=0)"
   ]
  },
  {
   "cell_type": "code",
   "execution_count": 17,
   "metadata": {
    "collapsed": false
   },
   "outputs": [],
   "source": [
    "random_search.fit(x_train, y_train);"
   ]
  },
  {
   "cell_type": "code",
   "execution_count": 18,
   "metadata": {
    "collapsed": false
   },
   "outputs": [
    {
     "name": "stdout",
     "output_type": "stream",
     "text": [
      "{'criterion': 'mse', 'min_samples_split': 408, 'min_samples_leaf': 293, 'max_leaf_nodes': 140, 'max_depth': 6, 'splitter': 'best', 'max_features': 'auto'}\n"
     ]
    }
   ],
   "source": [
    "best_params = random_search.cv_results_['params'][np.flatnonzero(random_search.cv_results_['rank_test_score']==1)[0]]\n",
    "print(best_params)"
   ]
  },
  {
   "cell_type": "code",
   "execution_count": 19,
   "metadata": {
    "collapsed": false
   },
   "outputs": [
    {
     "data": {
      "text/plain": [
       "DecisionTreeRegressor(criterion='mse', max_depth=6, max_features='auto',\n",
       "           max_leaf_nodes=140, min_impurity_split=1e-07,\n",
       "           min_samples_leaf=293, min_samples_split=408,\n",
       "           min_weight_fraction_leaf=0.0, presort=False, random_state=0,\n",
       "           splitter='best')"
      ]
     },
     "execution_count": 19,
     "metadata": {},
     "output_type": "execute_result"
    }
   ],
   "source": [
    "tree.set_params(**best_params, random_state=0)"
   ]
  },
  {
   "cell_type": "code",
   "execution_count": 20,
   "metadata": {
    "collapsed": false
   },
   "outputs": [
    {
     "name": "stdout",
     "output_type": "stream",
     "text": [
      "Mean absolute error: 5.8932 +- 0.1796\n",
      "Mean squared error: 75.1949 +- 11.8469\n"
     ]
    }
   ],
   "source": [
    "#CV with kfold=5\n",
    "kf = KFold(n_splits=5, random_state=0)\n",
    "\n",
    "CV_mse = list()\n",
    "CV_mae = list()\n",
    "\n",
    "for train_index, test_index in kf.split(x_train, y_train):\n",
    "    tree.fit(x_train[train_index], y_train[train_index])\n",
    "    y_pred = tree.predict(x_train[test_index])\n",
    "    CV_mae.append(mean_absolute_error(y_train[test_index], y_pred))\n",
    "    CV_mse.append(mean_squared_error(y_train[test_index], y_pred))\n",
    "    \n",
    "print('Mean absolute error: %0.4f +- %0.4f' %(np.mean(CV_mae), 2*np.std(CV_mae)))\n",
    "print('Mean squared error: %0.4f +- %0.4f' %(np.mean(CV_mse), 2*np.std(CV_mse)))"
   ]
  },
  {
   "cell_type": "code",
   "execution_count": 21,
   "metadata": {
    "collapsed": false
   },
   "outputs": [
    {
     "data": {
      "text/plain": [
       "([5.987045987401916,\n",
       "  5.8993223831418993,\n",
       "  5.9939268949214455,\n",
       "  5.8170826726904972,\n",
       "  5.7685835027511558],\n",
       " [80.215228482525646,\n",
       "  70.739244564726675,\n",
       "  83.922081510439511,\n",
       "  72.898859397885232,\n",
       "  68.198903071965233])"
      ]
     },
     "execution_count": 21,
     "metadata": {},
     "output_type": "execute_result"
    }
   ],
   "source": [
    "CV_mae, CV_mse"
   ]
  },
  {
   "cell_type": "code",
   "execution_count": 22,
   "metadata": {
    "collapsed": false
   },
   "outputs": [
    {
     "data": {
      "text/plain": [
       "DecisionTreeRegressor(criterion='mse', max_depth=6, max_features='auto',\n",
       "           max_leaf_nodes=140, min_impurity_split=1e-07,\n",
       "           min_samples_leaf=293, min_samples_split=408,\n",
       "           min_weight_fraction_leaf=0.0, presort=False, random_state=0,\n",
       "           splitter='best')"
      ]
     },
     "execution_count": 22,
     "metadata": {},
     "output_type": "execute_result"
    }
   ],
   "source": [
    "tree.fit(x_train, y_train)"
   ]
  },
  {
   "cell_type": "code",
   "execution_count": 23,
   "metadata": {
    "collapsed": false
   },
   "outputs": [
    {
     "name": "stdout",
     "output_type": "stream",
     "text": [
      "MAE: 5.85328370779, MSE: 73.0134919203\n"
     ]
    },
    {
     "data": {
      "text/html": [
       "<div>\n",
       "<table border=\"1\" class=\"dataframe\">\n",
       "  <thead>\n",
       "    <tr style=\"text-align: right;\">\n",
       "      <th></th>\n",
       "      <th>0</th>\n",
       "    </tr>\n",
       "  </thead>\n",
       "  <tbody>\n",
       "    <tr>\n",
       "      <th>spot</th>\n",
       "      <td>0.266688</td>\n",
       "    </tr>\n",
       "    <tr>\n",
       "      <th>demand</th>\n",
       "      <td>0.060340</td>\n",
       "    </tr>\n",
       "    <tr>\n",
       "      <th>off_peak</th>\n",
       "      <td>0.009218</td>\n",
       "    </tr>\n",
       "    <tr>\n",
       "      <th>Wd</th>\n",
       "      <td>0.017693</td>\n",
       "    </tr>\n",
       "    <tr>\n",
       "      <th>demand+1</th>\n",
       "      <td>0.006754</td>\n",
       "    </tr>\n",
       "    <tr>\n",
       "      <th>band-24</th>\n",
       "      <td>0.639307</td>\n",
       "    </tr>\n",
       "  </tbody>\n",
       "</table>\n",
       "</div>"
      ],
      "text/plain": [
       "                 0\n",
       "spot      0.266688\n",
       "demand    0.060340\n",
       "off_peak  0.009218\n",
       "Wd        0.017693\n",
       "demand+1  0.006754\n",
       "band-24   0.639307"
      ]
     },
     "execution_count": 23,
     "metadata": {},
     "output_type": "execute_result"
    }
   ],
   "source": [
    "#Print test error and feature importance\n",
    "print('MAE: ' +str(mean_absolute_error(y_test, tree.predict(x_test)))+', MSE: ' +\n",
    "      str(mean_squared_error(y_test, tree.predict(x_test))))\n",
    "pd.DataFrame(data=tree.feature_importances_, index=features_list)"
   ]
  },
  {
   "cell_type": "code",
   "execution_count": null,
   "metadata": {
    "collapsed": false,
    "scrolled": true
   },
   "outputs": [],
   "source": [
    "#Plot tree with graphviz\n",
    "export_graphviz(tree, out_file=\"mytree.dot\", max_depth=None, feature_names=features_list, label='none',\n",
    "               filled=True, leaves_parallel=False, impurity=False, node_ids=False, proportion=False, rotate=False,\n",
    "               rounded=True, special_characters=False)\n",
    "with open(\"mytree.dot\") as f:\n",
    "    dot_graph = f.read()\n",
    "graphviz.Source(dot_graph)"
   ]
  },
  {
   "cell_type": "code",
   "execution_count": null,
   "metadata": {
    "collapsed": false
   },
   "outputs": [],
   "source": [
    "#Convert tree.dot into pdf\n",
    "#graphviz.render(engine='dot', format='pdf', filepath='C:\\\\Users\\\\Usuario\\\\Desktop\\\\Master_Thesis\\\\Secondary_reserve_TS\\\\mytree.dot')"
   ]
  },
  {
   "cell_type": "markdown",
   "metadata": {
    "collapsed": false
   },
   "source": [
    "### Random forest Regressor"
   ]
  },
  {
   "cell_type": "code",
   "execution_count": 24,
   "metadata": {
    "collapsed": true
   },
   "outputs": [],
   "source": [
    "from sklearn.ensemble import RandomForestRegressor"
   ]
  },
  {
   "cell_type": "code",
   "execution_count": 63,
   "metadata": {
    "collapsed": true
   },
   "outputs": [],
   "source": [
    "rfr = RandomForestRegressor()"
   ]
  },
  {
   "cell_type": "code",
   "execution_count": 72,
   "metadata": {
    "collapsed": false
   },
   "outputs": [],
   "source": [
    "params_forest = {\n",
    "    'n_estimators':np.linspace(5, 200, 50).astype(int),\n",
    "    'n_jobs':[-1],\n",
    "    'criterion':['mse'], 'bootstrap':[True],\n",
    "    'max_features':['auto','log2', 'sqrt'],\n",
    "    'max_depth':np.arange(2,10), 'min_samples_split':np.linspace(50, 1000, 200).astype(int),\n",
    "    'min_samples_leaf': np.linspace(200, 2500, 50).astype(int), 'max_leaf_nodes': np.linspace(10,180, 40).astype(int)\n",
    "}"
   ]
  },
  {
   "cell_type": "code",
   "execution_count": 73,
   "metadata": {
    "collapsed": true
   },
   "outputs": [],
   "source": [
    "kf = KFold(n_splits=5)\n",
    "\n",
    "#Randomized Search CV for random forest\n",
    "random_search = RandomizedSearchCV(rfr, param_distributions=params_forest, n_jobs=-1, n_iter=350,\n",
    "                                scoring='neg_mean_squared_error', cv=list(kf.split(x_train,y_train)), random_state=0)"
   ]
  },
  {
   "cell_type": "code",
   "execution_count": 74,
   "metadata": {
    "collapsed": false
   },
   "outputs": [
    {
     "name": "stdout",
     "output_type": "stream",
     "text": [
      "Wall time: 11min 11s\n"
     ]
    },
    {
     "data": {
      "text/plain": [
       "RandomizedSearchCV(cv=[(array([ 4204,  4205, ..., 21018, 21019]), array([   0,    1, ..., 4202, 4203])), (array([    0,     1, ..., 21018, 21019]), array([4204, 4205, ..., 8406, 8407])), (array([    0,     1, ..., 21018, 21019]), array([ 8408,  8409, ..., 12610, 12611])), (array([    0,     1, ..., 21018, 21019]), array([12612, 12613, ..., 16814, 16815])), (array([    0,     1, ..., 16814, 16815]), array([16816, 16817, ..., 21018, 21019]))],\n",
       "          error_score='raise',\n",
       "          estimator=RandomForestRegressor(bootstrap=True, criterion='mse', max_depth=3,\n",
       "           max_features='auto', max_leaf_nodes=100,\n",
       "           min_impurity_split=1e-07, min_samples_leaf=200,\n",
       "           min_samples_split=135, min_weight_fraction_leaf=0.0,\n",
       "           n_estimators=150, n_jobs=-1, oob_score=False, random_state=0,\n",
       "           verbose=0, warm_start=False),\n",
       "          fit_params={}, iid=True, n_iter=350, n_jobs=-1,\n",
       "          param_distributions={'criterion': ['mse'], 'n_estimators': array([  5,   8,  12,  16,  20,  24,  28,  32,  36,  40,  44,  48,  52,\n",
       "        56,  60,  64,  68,  72,  76,  80,  84,  88,  92,  96, 100, 104,\n",
       "       108, 112, 116, 120, 124, 128, 132, 136, 140, 144, 148, 152, 156,\n",
       "       160, 164, 168, 172...th': array([2, 3, 4, 5, 6, 7, 8, 9]), 'bootstrap': [True], 'max_features': ['auto', 'log2', 'sqrt']},\n",
       "          pre_dispatch='2*n_jobs', random_state=0, refit=True,\n",
       "          return_train_score=True, scoring='neg_mean_squared_error',\n",
       "          verbose=0)"
      ]
     },
     "execution_count": 74,
     "metadata": {},
     "output_type": "execute_result"
    }
   ],
   "source": [
    "%%time\n",
    "random_search.fit(x_train, y_train);"
   ]
  },
  {
   "cell_type": "code",
   "execution_count": 92,
   "metadata": {
    "collapsed": false
   },
   "outputs": [
    {
     "name": "stdout",
     "output_type": "stream",
     "text": [
      "{'criterion': 'mse', 'n_estimators': 104, 'min_samples_split': 350, 'min_samples_leaf': 246, 'max_leaf_nodes': 149, 'n_jobs': -1, 'max_depth': 5, 'bootstrap': True, 'max_features': 'auto'}\n"
     ]
    }
   ],
   "source": [
    "best_params = random_search.cv_results_['params'][np.flatnonzero(random_search.cv_results_['rank_test_score']==1)[0]]\n",
    "print(best_params)"
   ]
  },
  {
   "cell_type": "code",
   "execution_count": 93,
   "metadata": {
    "collapsed": false
   },
   "outputs": [
    {
     "data": {
      "text/plain": [
       "RandomForestRegressor(bootstrap=True, criterion='mse', max_depth=5,\n",
       "           max_features='auto', max_leaf_nodes=149,\n",
       "           min_impurity_split=1e-07, min_samples_leaf=246,\n",
       "           min_samples_split=350, min_weight_fraction_leaf=0.0,\n",
       "           n_estimators=104, n_jobs=-1, oob_score=False, random_state=0,\n",
       "           verbose=0, warm_start=False)"
      ]
     },
     "execution_count": 93,
     "metadata": {},
     "output_type": "execute_result"
    }
   ],
   "source": [
    "rfr.set_params(**best_params, random_state=0)"
   ]
  },
  {
   "cell_type": "code",
   "execution_count": 94,
   "metadata": {
    "collapsed": false
   },
   "outputs": [
    {
     "name": "stdout",
     "output_type": "stream",
     "text": [
      "Mean absolute error: 5.7679 +- 0.1916\n",
      "Mean squared error: 72.2884 +- 12.2519\n"
     ]
    }
   ],
   "source": [
    "#CV with kfold=5\n",
    "kf = KFold(n_splits=5, random_state=0)\n",
    "\n",
    "CV_mse = list()\n",
    "CV_mae = list()\n",
    "\n",
    "for train_index, test_index in kf.split(x_train, y_train):\n",
    "    rfr.fit(x_train[train_index], y_train[train_index])\n",
    "    y_pred = rfr.predict(x_train[test_index])\n",
    "    CV_mae.append(mean_absolute_error(y_train[test_index], y_pred))\n",
    "    CV_mse.append(mean_squared_error(y_train[test_index], y_pred))\n",
    "    \n",
    "print('Mean absolute error: %0.4f +- %0.4f' %(np.mean(CV_mae), 2*np.std(CV_mae)))\n",
    "print('Mean squared error: %0.4f +- %0.4f' %(np.mean(CV_mse), 2*np.std(CV_mse)))"
   ]
  },
  {
   "cell_type": "code",
   "execution_count": 95,
   "metadata": {
    "collapsed": false
   },
   "outputs": [
    {
     "data": {
      "text/plain": [
       "([5.8353608459965818,\n",
       "  5.7717422506835137,\n",
       "  5.9064001354358684,\n",
       "  5.669881677689153,\n",
       "  5.6559655855443136],\n",
       " [76.345400078303086,\n",
       "  67.801611505725674,\n",
       "  82.120771959818356,\n",
       "  69.841496439920562,\n",
       "  65.332618570035478])"
      ]
     },
     "execution_count": 95,
     "metadata": {},
     "output_type": "execute_result"
    }
   ],
   "source": [
    "CV_mae, CV_mse"
   ]
  },
  {
   "cell_type": "code",
   "execution_count": 96,
   "metadata": {
    "collapsed": false
   },
   "outputs": [
    {
     "data": {
      "text/plain": [
       "RandomForestRegressor(bootstrap=True, criterion='mse', max_depth=5,\n",
       "           max_features='auto', max_leaf_nodes=149,\n",
       "           min_impurity_split=1e-07, min_samples_leaf=246,\n",
       "           min_samples_split=350, min_weight_fraction_leaf=0.0,\n",
       "           n_estimators=104, n_jobs=-1, oob_score=False, random_state=0,\n",
       "           verbose=0, warm_start=False)"
      ]
     },
     "execution_count": 96,
     "metadata": {},
     "output_type": "execute_result"
    }
   ],
   "source": [
    "rfr.fit(x_train, y_train)"
   ]
  },
  {
   "cell_type": "code",
   "execution_count": 97,
   "metadata": {
    "collapsed": false
   },
   "outputs": [
    {
     "name": "stdout",
     "output_type": "stream",
     "text": [
      "MAE: 5.74653333402, MSE: 70.2929333961\n"
     ]
    },
    {
     "data": {
      "text/html": [
       "<div>\n",
       "<table border=\"1\" class=\"dataframe\">\n",
       "  <thead>\n",
       "    <tr style=\"text-align: right;\">\n",
       "      <th></th>\n",
       "      <th>0</th>\n",
       "    </tr>\n",
       "  </thead>\n",
       "  <tbody>\n",
       "    <tr>\n",
       "      <th>spot</th>\n",
       "      <td>0.257440</td>\n",
       "    </tr>\n",
       "    <tr>\n",
       "      <th>demand</th>\n",
       "      <td>0.059851</td>\n",
       "    </tr>\n",
       "    <tr>\n",
       "      <th>off_peak</th>\n",
       "      <td>0.005589</td>\n",
       "    </tr>\n",
       "    <tr>\n",
       "      <th>Wd</th>\n",
       "      <td>0.022133</td>\n",
       "    </tr>\n",
       "    <tr>\n",
       "      <th>winter</th>\n",
       "      <td>0.004219</td>\n",
       "    </tr>\n",
       "    <tr>\n",
       "      <th>demand+1</th>\n",
       "      <td>0.006044</td>\n",
       "    </tr>\n",
       "    <tr>\n",
       "      <th>band-24</th>\n",
       "      <td>0.644725</td>\n",
       "    </tr>\n",
       "  </tbody>\n",
       "</table>\n",
       "</div>"
      ],
      "text/plain": [
       "                 0\n",
       "spot      0.257440\n",
       "demand    0.059851\n",
       "off_peak  0.005589\n",
       "Wd        0.022133\n",
       "winter    0.004219\n",
       "demand+1  0.006044\n",
       "band-24   0.644725"
      ]
     },
     "execution_count": 97,
     "metadata": {},
     "output_type": "execute_result"
    }
   ],
   "source": [
    "#Print test error and feature importance\n",
    "print('MAE: ' +str(mean_absolute_error(y_test, rfr.predict(x_test)))+', MSE: ' +\n",
    "      str(mean_squared_error(y_test, rfr.predict(x_test))))\n",
    "pd.DataFrame(data=rfr.feature_importances_, index=features_list)"
   ]
  },
  {
   "cell_type": "code",
   "execution_count": 91,
   "metadata": {
    "collapsed": false,
    "scrolled": true
   },
   "outputs": [
    {
     "data": {
      "image/svg+xml": [
       "<?xml version=\"1.0\" encoding=\"UTF-8\" standalone=\"no\"?>\r\n",
       "<!DOCTYPE svg PUBLIC \"-//W3C//DTD SVG 1.1//EN\"\r\n",
       " \"http://www.w3.org/Graphics/SVG/1.1/DTD/svg11.dtd\">\r\n",
       "<!-- Generated by graphviz version 2.38.0 (20140413.2041)\r\n",
       " -->\r\n",
       "<!-- Title: Tree Pages: 1 -->\r\n",
       "<svg width=\"1965pt\" height=\"580pt\"\r\n",
       " viewBox=\"0.00 0.00 1965.00 580.00\" xmlns=\"http://www.w3.org/2000/svg\" xmlns:xlink=\"http://www.w3.org/1999/xlink\">\r\n",
       "<g id=\"graph0\" class=\"graph\" transform=\"scale(1 1) rotate(0) translate(4 576)\">\r\n",
       "<title>Tree</title>\r\n",
       "<polygon fill=\"white\" stroke=\"none\" points=\"-4,4 -4,-576 1961,-576 1961,4 -4,4\"/>\r\n",
       "<!-- 0 -->\r\n",
       "<g id=\"node1\" class=\"node\"><title>0</title>\r\n",
       "<path fill=\"#e58139\" fill-opacity=\"0.270588\" stroke=\"black\" d=\"M914.5,-572C914.5,-572 821.5,-572 821.5,-572 815.5,-572 809.5,-566 809.5,-560 809.5,-560 809.5,-531 809.5,-531 809.5,-525 815.5,-519 821.5,-519 821.5,-519 914.5,-519 914.5,-519 920.5,-519 926.5,-525 926.5,-531 926.5,-531 926.5,-560 926.5,-560 926.5,-566 920.5,-572 914.5,-572\"/>\r\n",
       "<text text-anchor=\"middle\" x=\"868\" y=\"-556.8\" font-family=\"Helvetica,sans-Serif\" font-size=\"14.00\">off_peak &lt;= 0.5</text>\r\n",
       "<text text-anchor=\"middle\" x=\"868\" y=\"-541.8\" font-family=\"Helvetica,sans-Serif\" font-size=\"14.00\">13309</text>\r\n",
       "<text text-anchor=\"middle\" x=\"868\" y=\"-526.8\" font-family=\"Helvetica,sans-Serif\" font-size=\"14.00\">19.0879</text>\r\n",
       "</g>\r\n",
       "<!-- 1 -->\r\n",
       "<g id=\"node2\" class=\"node\"><title>1</title>\r\n",
       "<path fill=\"#e58139\" fill-opacity=\"0.172549\" stroke=\"black\" d=\"M740.5,-483C740.5,-483 681.5,-483 681.5,-483 675.5,-483 669.5,-477 669.5,-471 669.5,-471 669.5,-442 669.5,-442 669.5,-436 675.5,-430 681.5,-430 681.5,-430 740.5,-430 740.5,-430 746.5,-430 752.5,-436 752.5,-442 752.5,-442 752.5,-471 752.5,-471 752.5,-477 746.5,-483 740.5,-483\"/>\r\n",
       "<text text-anchor=\"middle\" x=\"711\" y=\"-467.8\" font-family=\"Helvetica,sans-Serif\" font-size=\"14.00\">Wd &lt;= 0.5</text>\r\n",
       "<text text-anchor=\"middle\" x=\"711\" y=\"-452.8\" font-family=\"Helvetica,sans-Serif\" font-size=\"14.00\">7784</text>\r\n",
       "<text text-anchor=\"middle\" x=\"711\" y=\"-437.8\" font-family=\"Helvetica,sans-Serif\" font-size=\"14.00\">16.0341</text>\r\n",
       "</g>\r\n",
       "<!-- 0&#45;&gt;1 -->\r\n",
       "<g id=\"edge1\" class=\"edge\"><title>0&#45;&gt;1</title>\r\n",
       "<path fill=\"none\" stroke=\"black\" d=\"M821.744,-518.868C802.847,-508.396 780.934,-496.253 761.611,-485.546\"/>\r\n",
       "<polygon fill=\"black\" stroke=\"black\" points=\"763.091,-482.364 752.648,-480.579 759.698,-488.487 763.091,-482.364\"/>\r\n",
       "<text text-anchor=\"middle\" x=\"759.542\" y=\"-500.91\" font-family=\"Helvetica,sans-Serif\" font-size=\"14.00\">True</text>\r\n",
       "</g>\r\n",
       "<!-- 2 -->\r\n",
       "<g id=\"node29\" class=\"node\"><title>2</title>\r\n",
       "<path fill=\"#e58139\" fill-opacity=\"0.407843\" stroke=\"black\" d=\"M1069.5,-483C1069.5,-483 980.5,-483 980.5,-483 974.5,-483 968.5,-477 968.5,-471 968.5,-471 968.5,-442 968.5,-442 968.5,-436 974.5,-430 980.5,-430 980.5,-430 1069.5,-430 1069.5,-430 1075.5,-430 1081.5,-436 1081.5,-442 1081.5,-442 1081.5,-471 1081.5,-471 1081.5,-477 1075.5,-483 1069.5,-483\"/>\r\n",
       "<text text-anchor=\"middle\" x=\"1025\" y=\"-467.8\" font-family=\"Helvetica,sans-Serif\" font-size=\"14.00\">spot &lt;= 31.105</text>\r\n",
       "<text text-anchor=\"middle\" x=\"1025\" y=\"-452.8\" font-family=\"Helvetica,sans-Serif\" font-size=\"14.00\">5525</text>\r\n",
       "<text text-anchor=\"middle\" x=\"1025\" y=\"-437.8\" font-family=\"Helvetica,sans-Serif\" font-size=\"14.00\">23.3989</text>\r\n",
       "</g>\r\n",
       "<!-- 0&#45;&gt;2 -->\r\n",
       "<g id=\"edge28\" class=\"edge\"><title>0&#45;&gt;2</title>\r\n",
       "<path fill=\"none\" stroke=\"black\" d=\"M914.256,-518.868C931.746,-509.176 951.82,-498.052 970.032,-487.96\"/>\r\n",
       "<polygon fill=\"black\" stroke=\"black\" points=\"971.753,-491.008 978.804,-483.099 968.36,-484.885 971.753,-491.008\"/>\r\n",
       "<text text-anchor=\"middle\" x=\"971.909\" y=\"-503.43\" font-family=\"Helvetica,sans-Serif\" font-size=\"14.00\">False</text>\r\n",
       "</g>\r\n",
       "<!-- 5 -->\r\n",
       "<g id=\"node3\" class=\"node\"><title>5</title>\r\n",
       "<path fill=\"#e58139\" fill-opacity=\"0.368627\" stroke=\"black\" d=\"M419,-394C419,-394 345,-394 345,-394 339,-394 333,-388 333,-382 333,-382 333,-353 333,-353 333,-347 339,-341 345,-341 345,-341 419,-341 419,-341 425,-341 431,-347 431,-353 431,-353 431,-382 431,-382 431,-388 425,-394 419,-394\"/>\r\n",
       "<text text-anchor=\"middle\" x=\"382\" y=\"-378.8\" font-family=\"Helvetica,sans-Serif\" font-size=\"14.00\">winter &lt;= 0.5</text>\r\n",
       "<text text-anchor=\"middle\" x=\"382\" y=\"-363.8\" font-family=\"Helvetica,sans-Serif\" font-size=\"14.00\">2214</text>\r\n",
       "<text text-anchor=\"middle\" x=\"382\" y=\"-348.8\" font-family=\"Helvetica,sans-Serif\" font-size=\"14.00\">22.1648</text>\r\n",
       "</g>\r\n",
       "<!-- 1&#45;&gt;5 -->\r\n",
       "<g id=\"edge2\" class=\"edge\"><title>1&#45;&gt;5</title>\r\n",
       "<path fill=\"none\" stroke=\"black\" d=\"M669.332,-444.481C611.522,-429.194 506.691,-401.473 440.899,-384.075\"/>\r\n",
       "<polygon fill=\"black\" stroke=\"black\" points=\"441.649,-380.653 431.087,-381.48 439.859,-387.421 441.649,-380.653\"/>\r\n",
       "</g>\r\n",
       "<!-- 6 -->\r\n",
       "<g id=\"node14\" class=\"node\"><title>6</title>\r\n",
       "<path fill=\"#e58139\" fill-opacity=\"0.098039\" stroke=\"black\" d=\"M755.5,-394C755.5,-394 666.5,-394 666.5,-394 660.5,-394 654.5,-388 654.5,-382 654.5,-382 654.5,-353 654.5,-353 654.5,-347 660.5,-341 666.5,-341 666.5,-341 755.5,-341 755.5,-341 761.5,-341 767.5,-347 767.5,-353 767.5,-353 767.5,-382 767.5,-382 767.5,-388 761.5,-394 755.5,-394\"/>\r\n",
       "<text text-anchor=\"middle\" x=\"711\" y=\"-378.8\" font-family=\"Helvetica,sans-Serif\" font-size=\"14.00\">spot &lt;= 28.775</text>\r\n",
       "<text text-anchor=\"middle\" x=\"711\" y=\"-363.8\" font-family=\"Helvetica,sans-Serif\" font-size=\"14.00\">5570</text>\r\n",
       "<text text-anchor=\"middle\" x=\"711\" y=\"-348.8\" font-family=\"Helvetica,sans-Serif\" font-size=\"14.00\">13.6259</text>\r\n",
       "</g>\r\n",
       "<!-- 1&#45;&gt;6 -->\r\n",
       "<g id=\"edge13\" class=\"edge\"><title>1&#45;&gt;6</title>\r\n",
       "<path fill=\"none\" stroke=\"black\" d=\"M711,-429.868C711,-421.886 711,-412.932 711,-404.384\"/>\r\n",
       "<polygon fill=\"black\" stroke=\"black\" points=\"714.5,-404.25 711,-394.25 707.5,-404.25 714.5,-404.25\"/>\r\n",
       "</g>\r\n",
       "<!-- 17 -->\r\n",
       "<g id=\"node4\" class=\"node\"><title>17</title>\r\n",
       "<path fill=\"#e58139\" fill-opacity=\"0.329412\" stroke=\"black\" d=\"M258,-305C258,-305 152,-305 152,-305 146,-305 140,-299 140,-293 140,-293 140,-264 140,-264 140,-258 146,-252 152,-252 152,-252 258,-252 258,-252 264,-252 270,-258 270,-264 270,-264 270,-293 270,-293 270,-299 264,-305 258,-305\"/>\r\n",
       "<text text-anchor=\"middle\" x=\"205\" y=\"-289.8\" font-family=\"Helvetica,sans-Serif\" font-size=\"14.00\">band&#45;24 &lt;= 16.45</text>\r\n",
       "<text text-anchor=\"middle\" x=\"205\" y=\"-274.8\" font-family=\"Helvetica,sans-Serif\" font-size=\"14.00\">1080</text>\r\n",
       "<text text-anchor=\"middle\" x=\"205\" y=\"-259.8\" font-family=\"Helvetica,sans-Serif\" font-size=\"14.00\">20.9326</text>\r\n",
       "</g>\r\n",
       "<!-- 5&#45;&gt;17 -->\r\n",
       "<g id=\"edge3\" class=\"edge\"><title>5&#45;&gt;17</title>\r\n",
       "<path fill=\"none\" stroke=\"black\" d=\"M332.696,-342.266C312.11,-332.147 287.978,-320.286 266.268,-309.615\"/>\r\n",
       "<polygon fill=\"black\" stroke=\"black\" points=\"267.648,-306.393 257.13,-305.123 264.56,-312.675 267.648,-306.393\"/>\r\n",
       "</g>\r\n",
       "<!-- 18 -->\r\n",
       "<g id=\"node9\" class=\"node\"><title>18</title>\r\n",
       "<path fill=\"#e58139\" fill-opacity=\"0.403922\" stroke=\"black\" d=\"M426.5,-305C426.5,-305 337.5,-305 337.5,-305 331.5,-305 325.5,-299 325.5,-293 325.5,-293 325.5,-264 325.5,-264 325.5,-258 331.5,-252 337.5,-252 337.5,-252 426.5,-252 426.5,-252 432.5,-252 438.5,-258 438.5,-264 438.5,-264 438.5,-293 438.5,-293 438.5,-299 432.5,-305 426.5,-305\"/>\r\n",
       "<text text-anchor=\"middle\" x=\"382\" y=\"-289.8\" font-family=\"Helvetica,sans-Serif\" font-size=\"14.00\">spot &lt;= 34.875</text>\r\n",
       "<text text-anchor=\"middle\" x=\"382\" y=\"-274.8\" font-family=\"Helvetica,sans-Serif\" font-size=\"14.00\">1134</text>\r\n",
       "<text text-anchor=\"middle\" x=\"382\" y=\"-259.8\" font-family=\"Helvetica,sans-Serif\" font-size=\"14.00\">23.3186</text>\r\n",
       "</g>\r\n",
       "<!-- 5&#45;&gt;18 -->\r\n",
       "<g id=\"edge8\" class=\"edge\"><title>5&#45;&gt;18</title>\r\n",
       "<path fill=\"none\" stroke=\"black\" d=\"M382,-340.868C382,-332.886 382,-323.932 382,-315.384\"/>\r\n",
       "<polygon fill=\"black\" stroke=\"black\" points=\"385.5,-315.25 382,-305.25 378.5,-315.25 385.5,-315.25\"/>\r\n",
       "</g>\r\n",
       "<!-- 21 -->\r\n",
       "<g id=\"node5\" class=\"node\"><title>21</title>\r\n",
       "<path fill=\"#e58139\" fill-opacity=\"0.196078\" stroke=\"black\" d=\"M140,-216C140,-216 18,-216 18,-216 12,-216 6,-210 6,-204 6,-204 6,-175 6,-175 6,-169 12,-163 18,-163 18,-163 140,-163 140,-163 146,-163 152,-169 152,-175 152,-175 152,-204 152,-204 152,-210 146,-216 140,-216\"/>\r\n",
       "<text text-anchor=\"middle\" x=\"79\" y=\"-200.8\" font-family=\"Helvetica,sans-Serif\" font-size=\"14.00\">demand &lt;= 27305.5</text>\r\n",
       "<text text-anchor=\"middle\" x=\"79\" y=\"-185.8\" font-family=\"Helvetica,sans-Serif\" font-size=\"14.00\">600</text>\r\n",
       "<text text-anchor=\"middle\" x=\"79\" y=\"-170.8\" font-family=\"Helvetica,sans-Serif\" font-size=\"14.00\">16.7439</text>\r\n",
       "</g>\r\n",
       "<!-- 17&#45;&gt;21 -->\r\n",
       "<g id=\"edge4\" class=\"edge\"><title>17&#45;&gt;21</title>\r\n",
       "<path fill=\"none\" stroke=\"black\" d=\"M167.877,-251.868C154.412,-242.57 139.037,-231.954 124.904,-222.196\"/>\r\n",
       "<polygon fill=\"black\" stroke=\"black\" points=\"126.51,-219.052 116.293,-216.25 122.533,-224.812 126.51,-219.052\"/>\r\n",
       "</g>\r\n",
       "<!-- 22 -->\r\n",
       "<g id=\"node8\" class=\"node\"><title>22</title>\r\n",
       "<path fill=\"#e58139\" fill-opacity=\"0.486275\" stroke=\"black\" d=\"M228,-208.5C228,-208.5 182,-208.5 182,-208.5 176,-208.5 170,-202.5 170,-196.5 170,-196.5 170,-182.5 170,-182.5 170,-176.5 176,-170.5 182,-170.5 182,-170.5 228,-170.5 228,-170.5 234,-170.5 240,-176.5 240,-182.5 240,-182.5 240,-196.5 240,-196.5 240,-202.5 234,-208.5 228,-208.5\"/>\r\n",
       "<text text-anchor=\"middle\" x=\"205\" y=\"-193.3\" font-family=\"Helvetica,sans-Serif\" font-size=\"14.00\">480</text>\r\n",
       "<text text-anchor=\"middle\" x=\"205\" y=\"-178.3\" font-family=\"Helvetica,sans-Serif\" font-size=\"14.00\">25.8839</text>\r\n",
       "</g>\r\n",
       "<!-- 17&#45;&gt;22 -->\r\n",
       "<g id=\"edge7\" class=\"edge\"><title>17&#45;&gt;22</title>\r\n",
       "<path fill=\"none\" stroke=\"black\" d=\"M205,-251.868C205,-241.417 205,-229.301 205,-218.609\"/>\r\n",
       "<polygon fill=\"black\" stroke=\"black\" points=\"208.5,-218.507 205,-208.507 201.5,-218.507 208.5,-218.507\"/>\r\n",
       "</g>\r\n",
       "<!-- 25 -->\r\n",
       "<g id=\"node6\" class=\"node\"><title>25</title>\r\n",
       "<path fill=\"#e58139\" fill-opacity=\"0.278431\" stroke=\"black\" d=\"M58,-119.5C58,-119.5 12,-119.5 12,-119.5 6,-119.5 0,-113.5 0,-107.5 0,-107.5 0,-93.5 0,-93.5 0,-87.5 6,-81.5 12,-81.5 12,-81.5 58,-81.5 58,-81.5 64,-81.5 70,-87.5 70,-93.5 70,-93.5 70,-107.5 70,-107.5 70,-113.5 64,-119.5 58,-119.5\"/>\r\n",
       "<text text-anchor=\"middle\" x=\"35\" y=\"-104.3\" font-family=\"Helvetica,sans-Serif\" font-size=\"14.00\">291</text>\r\n",
       "<text text-anchor=\"middle\" x=\"35\" y=\"-89.3\" font-family=\"Helvetica,sans-Serif\" font-size=\"14.00\">19.3018</text>\r\n",
       "</g>\r\n",
       "<!-- 21&#45;&gt;25 -->\r\n",
       "<g id=\"edge5\" class=\"edge\"><title>21&#45;&gt;25</title>\r\n",
       "<path fill=\"none\" stroke=\"black\" d=\"M66.0365,-162.868C60.586,-152.091 54.2398,-139.542 48.7115,-128.611\"/>\r\n",
       "<polygon fill=\"black\" stroke=\"black\" points=\"51.7433,-126.851 44.1068,-119.507 45.4967,-130.01 51.7433,-126.851\"/>\r\n",
       "</g>\r\n",
       "<!-- 26 -->\r\n",
       "<g id=\"node7\" class=\"node\"><title>26</title>\r\n",
       "<path fill=\"#e58139\" fill-opacity=\"0.117647\" stroke=\"black\" d=\"M146,-119.5C146,-119.5 100,-119.5 100,-119.5 94,-119.5 88,-113.5 88,-107.5 88,-107.5 88,-93.5 88,-93.5 88,-87.5 94,-81.5 100,-81.5 100,-81.5 146,-81.5 146,-81.5 152,-81.5 158,-87.5 158,-93.5 158,-93.5 158,-107.5 158,-107.5 158,-113.5 152,-119.5 146,-119.5\"/>\r\n",
       "<text text-anchor=\"middle\" x=\"123\" y=\"-104.3\" font-family=\"Helvetica,sans-Serif\" font-size=\"14.00\">309</text>\r\n",
       "<text text-anchor=\"middle\" x=\"123\" y=\"-89.3\" font-family=\"Helvetica,sans-Serif\" font-size=\"14.00\">14.2472</text>\r\n",
       "</g>\r\n",
       "<!-- 21&#45;&gt;26 -->\r\n",
       "<g id=\"edge6\" class=\"edge\"><title>21&#45;&gt;26</title>\r\n",
       "<path fill=\"none\" stroke=\"black\" d=\"M91.9635,-162.868C97.414,-152.091 103.76,-139.542 109.289,-128.611\"/>\r\n",
       "<polygon fill=\"black\" stroke=\"black\" points=\"112.503,-130.01 113.893,-119.507 106.257,-126.851 112.503,-130.01\"/>\r\n",
       "</g>\r\n",
       "<!-- 19 -->\r\n",
       "<g id=\"node10\" class=\"node\"><title>19</title>\r\n",
       "<path fill=\"#e58139\" fill-opacity=\"0.713725\" stroke=\"black\" d=\"M316,-208.5C316,-208.5 270,-208.5 270,-208.5 264,-208.5 258,-202.5 258,-196.5 258,-196.5 258,-182.5 258,-182.5 258,-176.5 264,-170.5 270,-170.5 270,-170.5 316,-170.5 316,-170.5 322,-170.5 328,-176.5 328,-182.5 328,-182.5 328,-196.5 328,-196.5 328,-202.5 322,-208.5 316,-208.5\"/>\r\n",
       "<text text-anchor=\"middle\" x=\"293\" y=\"-193.3\" font-family=\"Helvetica,sans-Serif\" font-size=\"14.00\">372</text>\r\n",
       "<text text-anchor=\"middle\" x=\"293\" y=\"-178.3\" font-family=\"Helvetica,sans-Serif\" font-size=\"14.00\">33.1654</text>\r\n",
       "</g>\r\n",
       "<!-- 18&#45;&gt;19 -->\r\n",
       "<g id=\"edge9\" class=\"edge\"><title>18&#45;&gt;19</title>\r\n",
       "<path fill=\"none\" stroke=\"black\" d=\"M355.778,-251.868C344.085,-240.437 330.354,-227.015 318.72,-215.642\"/>\r\n",
       "<polygon fill=\"black\" stroke=\"black\" points=\"321.018,-212.994 311.421,-208.507 316.125,-218 321.018,-212.994\"/>\r\n",
       "</g>\r\n",
       "<!-- 20 -->\r\n",
       "<g id=\"node11\" class=\"node\"><title>20</title>\r\n",
       "<path fill=\"#e58139\" fill-opacity=\"0.254902\" stroke=\"black\" d=\"M480,-216C480,-216 358,-216 358,-216 352,-216 346,-210 346,-204 346,-204 346,-175 346,-175 346,-169 352,-163 358,-163 358,-163 480,-163 480,-163 486,-163 492,-169 492,-175 492,-175 492,-204 492,-204 492,-210 486,-216 480,-216\"/>\r\n",
       "<text text-anchor=\"middle\" x=\"419\" y=\"-200.8\" font-family=\"Helvetica,sans-Serif\" font-size=\"14.00\">demand &lt;= 27021.0</text>\r\n",
       "<text text-anchor=\"middle\" x=\"419\" y=\"-185.8\" font-family=\"Helvetica,sans-Serif\" font-size=\"14.00\">762</text>\r\n",
       "<text text-anchor=\"middle\" x=\"419\" y=\"-170.8\" font-family=\"Helvetica,sans-Serif\" font-size=\"14.00\">18.6184</text>\r\n",
       "</g>\r\n",
       "<!-- 18&#45;&gt;20 -->\r\n",
       "<g id=\"edge10\" class=\"edge\"><title>18&#45;&gt;20</title>\r\n",
       "<path fill=\"none\" stroke=\"black\" d=\"M392.901,-251.868C396.408,-243.622 400.355,-234.341 404.098,-225.54\"/>\r\n",
       "<polygon fill=\"black\" stroke=\"black\" points=\"407.356,-226.822 408.049,-216.25 400.914,-224.082 407.356,-226.822\"/>\r\n",
       "</g>\r\n",
       "<!-- 23 -->\r\n",
       "<g id=\"node12\" class=\"node\"><title>23</title>\r\n",
       "<path fill=\"#e58139\" fill-opacity=\"0.384314\" stroke=\"black\" d=\"M354,-119.5C354,-119.5 308,-119.5 308,-119.5 302,-119.5 296,-113.5 296,-107.5 296,-107.5 296,-93.5 296,-93.5 296,-87.5 302,-81.5 308,-81.5 308,-81.5 354,-81.5 354,-81.5 360,-81.5 366,-87.5 366,-93.5 366,-93.5 366,-107.5 366,-107.5 366,-113.5 360,-119.5 354,-119.5\"/>\r\n",
       "<text text-anchor=\"middle\" x=\"331\" y=\"-104.3\" font-family=\"Helvetica,sans-Serif\" font-size=\"14.00\">276</text>\r\n",
       "<text text-anchor=\"middle\" x=\"331\" y=\"-89.3\" font-family=\"Helvetica,sans-Serif\" font-size=\"14.00\">22.7185</text>\r\n",
       "</g>\r\n",
       "<!-- 20&#45;&gt;23 -->\r\n",
       "<g id=\"edge11\" class=\"edge\"><title>20&#45;&gt;23</title>\r\n",
       "<path fill=\"none\" stroke=\"black\" d=\"M393.073,-162.868C381.511,-151.437 367.935,-138.015 356.431,-126.642\"/>\r\n",
       "<polygon fill=\"black\" stroke=\"black\" points=\"358.786,-124.048 349.214,-119.507 353.864,-129.026 358.786,-124.048\"/>\r\n",
       "</g>\r\n",
       "<!-- 24 -->\r\n",
       "<g id=\"node13\" class=\"node\"><title>24</title>\r\n",
       "<path fill=\"#e58139\" fill-opacity=\"0.184314\" stroke=\"black\" d=\"M442,-119.5C442,-119.5 396,-119.5 396,-119.5 390,-119.5 384,-113.5 384,-107.5 384,-107.5 384,-93.5 384,-93.5 384,-87.5 390,-81.5 396,-81.5 396,-81.5 442,-81.5 442,-81.5 448,-81.5 454,-87.5 454,-93.5 454,-93.5 454,-107.5 454,-107.5 454,-113.5 448,-119.5 442,-119.5\"/>\r\n",
       "<text text-anchor=\"middle\" x=\"419\" y=\"-104.3\" font-family=\"Helvetica,sans-Serif\" font-size=\"14.00\">486</text>\r\n",
       "<text text-anchor=\"middle\" x=\"419\" y=\"-89.3\" font-family=\"Helvetica,sans-Serif\" font-size=\"14.00\">16.3668</text>\r\n",
       "</g>\r\n",
       "<!-- 20&#45;&gt;24 -->\r\n",
       "<g id=\"edge12\" class=\"edge\"><title>20&#45;&gt;24</title>\r\n",
       "<path fill=\"none\" stroke=\"black\" d=\"M419,-162.868C419,-152.417 419,-140.301 419,-129.609\"/>\r\n",
       "<polygon fill=\"black\" stroke=\"black\" points=\"422.5,-129.507 419,-119.507 415.5,-129.507 422.5,-129.507\"/>\r\n",
       "</g>\r\n",
       "<!-- 9 -->\r\n",
       "<g id=\"node15\" class=\"node\"><title>9</title>\r\n",
       "<path fill=\"#e58139\" fill-opacity=\"0.396078\" stroke=\"black\" d=\"M671,-297.5C671,-297.5 625,-297.5 625,-297.5 619,-297.5 613,-291.5 613,-285.5 613,-285.5 613,-271.5 613,-271.5 613,-265.5 619,-259.5 625,-259.5 625,-259.5 671,-259.5 671,-259.5 677,-259.5 683,-265.5 683,-271.5 683,-271.5 683,-285.5 683,-285.5 683,-291.5 677,-297.5 671,-297.5\"/>\r\n",
       "<text text-anchor=\"middle\" x=\"648\" y=\"-282.3\" font-family=\"Helvetica,sans-Serif\" font-size=\"14.00\">381</text>\r\n",
       "<text text-anchor=\"middle\" x=\"648\" y=\"-267.3\" font-family=\"Helvetica,sans-Serif\" font-size=\"14.00\">23.1396</text>\r\n",
       "</g>\r\n",
       "<!-- 6&#45;&gt;9 -->\r\n",
       "<g id=\"edge14\" class=\"edge\"><title>6&#45;&gt;9</title>\r\n",
       "<path fill=\"none\" stroke=\"black\" d=\"M692.439,-340.868C684.398,-329.764 674.996,-316.78 666.916,-305.622\"/>\r\n",
       "<polygon fill=\"black\" stroke=\"black\" points=\"669.739,-303.553 661.039,-297.507 664.07,-307.659 669.739,-303.553\"/>\r\n",
       "</g>\r\n",
       "<!-- 10 -->\r\n",
       "<g id=\"node16\" class=\"node\"><title>10</title>\r\n",
       "<path fill=\"#e58139\" fill-opacity=\"0.074510\" stroke=\"black\" d=\"M835,-305C835,-305 713,-305 713,-305 707,-305 701,-299 701,-293 701,-293 701,-264 701,-264 701,-258 707,-252 713,-252 713,-252 835,-252 835,-252 841,-252 847,-258 847,-264 847,-264 847,-293 847,-293 847,-299 841,-305 835,-305\"/>\r\n",
       "<text text-anchor=\"middle\" x=\"774\" y=\"-289.8\" font-family=\"Helvetica,sans-Serif\" font-size=\"14.00\">demand &lt;= 30525.0</text>\r\n",
       "<text text-anchor=\"middle\" x=\"774\" y=\"-274.8\" font-family=\"Helvetica,sans-Serif\" font-size=\"14.00\">5189</text>\r\n",
       "<text text-anchor=\"middle\" x=\"774\" y=\"-259.8\" font-family=\"Helvetica,sans-Serif\" font-size=\"14.00\">12.9153</text>\r\n",
       "</g>\r\n",
       "<!-- 6&#45;&gt;10 -->\r\n",
       "<g id=\"edge15\" class=\"edge\"><title>6&#45;&gt;10</title>\r\n",
       "<path fill=\"none\" stroke=\"black\" d=\"M729.561,-340.868C735.786,-332.272 742.827,-322.549 749.438,-313.419\"/>\r\n",
       "<polygon fill=\"black\" stroke=\"black\" points=\"752.323,-315.402 755.354,-305.25 746.654,-311.296 752.323,-315.402\"/>\r\n",
       "</g>\r\n",
       "<!-- 13 -->\r\n",
       "<g id=\"node17\" class=\"node\"><title>13</title>\r\n",
       "<path fill=\"#e58139\" fill-opacity=\"0.156863\" stroke=\"black\" d=\"M668,-216C668,-216 554,-216 554,-216 548,-216 542,-210 542,-204 542,-204 542,-175 542,-175 542,-169 548,-163 554,-163 554,-163 668,-163 668,-163 674,-163 680,-169 680,-175 680,-175 680,-204 680,-204 680,-210 674,-216 668,-216\"/>\r\n",
       "<text text-anchor=\"middle\" x=\"611\" y=\"-200.8\" font-family=\"Helvetica,sans-Serif\" font-size=\"14.00\">band&#45;24 &lt;= 12.185</text>\r\n",
       "<text text-anchor=\"middle\" x=\"611\" y=\"-185.8\" font-family=\"Helvetica,sans-Serif\" font-size=\"14.00\">1332</text>\r\n",
       "<text text-anchor=\"middle\" x=\"611\" y=\"-170.8\" font-family=\"Helvetica,sans-Serif\" font-size=\"14.00\">15.5324</text>\r\n",
       "</g>\r\n",
       "<!-- 10&#45;&gt;13 -->\r\n",
       "<g id=\"edge16\" class=\"edge\"><title>10&#45;&gt;13</title>\r\n",
       "<path fill=\"none\" stroke=\"black\" d=\"M725.976,-251.868C707.736,-242.132 686.787,-230.951 667.811,-220.822\"/>\r\n",
       "<polygon fill=\"black\" stroke=\"black\" points=\"669.432,-217.72 658.962,-216.099 666.136,-223.896 669.432,-217.72\"/>\r\n",
       "</g>\r\n",
       "<!-- 14 -->\r\n",
       "<g id=\"node22\" class=\"node\"><title>14</title>\r\n",
       "<path fill=\"#e58139\" fill-opacity=\"0.047059\" stroke=\"black\" d=\"M848,-216C848,-216 710,-216 710,-216 704,-216 698,-210 698,-204 698,-204 698,-175 698,-175 698,-169 704,-163 710,-163 710,-163 848,-163 848,-163 854,-163 860,-169 860,-175 860,-175 860,-204 860,-204 860,-210 854,-216 848,-216\"/>\r\n",
       "<text text-anchor=\"middle\" x=\"779\" y=\"-200.8\" font-family=\"Helvetica,sans-Serif\" font-size=\"14.00\">demand+1 &lt;= 30949.5</text>\r\n",
       "<text text-anchor=\"middle\" x=\"779\" y=\"-185.8\" font-family=\"Helvetica,sans-Serif\" font-size=\"14.00\">3857</text>\r\n",
       "<text text-anchor=\"middle\" x=\"779\" y=\"-170.8\" font-family=\"Helvetica,sans-Serif\" font-size=\"14.00\">12.0304</text>\r\n",
       "</g>\r\n",
       "<!-- 10&#45;&gt;14 -->\r\n",
       "<g id=\"edge21\" class=\"edge\"><title>10&#45;&gt;14</title>\r\n",
       "<path fill=\"none\" stroke=\"black\" d=\"M775.473,-251.868C775.932,-243.886 776.446,-234.932 776.938,-226.384\"/>\r\n",
       "<polygon fill=\"black\" stroke=\"black\" points=\"780.441,-226.434 777.52,-216.25 773.452,-226.032 780.441,-226.434\"/>\r\n",
       "</g>\r\n",
       "<!-- 15 -->\r\n",
       "<g id=\"node18\" class=\"node\"><title>15</title>\r\n",
       "<path fill=\"#e58139\" fill-opacity=\"0.023529\" stroke=\"black\" d=\"M530,-119.5C530,-119.5 484,-119.5 484,-119.5 478,-119.5 472,-113.5 472,-107.5 472,-107.5 472,-93.5 472,-93.5 472,-87.5 478,-81.5 484,-81.5 484,-81.5 530,-81.5 530,-81.5 536,-81.5 542,-87.5 542,-93.5 542,-93.5 542,-107.5 542,-107.5 542,-113.5 536,-119.5 530,-119.5\"/>\r\n",
       "<text text-anchor=\"middle\" x=\"507\" y=\"-104.3\" font-family=\"Helvetica,sans-Serif\" font-size=\"14.00\">467</text>\r\n",
       "<text text-anchor=\"middle\" x=\"507\" y=\"-89.3\" font-family=\"Helvetica,sans-Serif\" font-size=\"14.00\">11.2714</text>\r\n",
       "</g>\r\n",
       "<!-- 13&#45;&gt;15 -->\r\n",
       "<g id=\"edge17\" class=\"edge\"><title>13&#45;&gt;15</title>\r\n",
       "<path fill=\"none\" stroke=\"black\" d=\"M580.359,-162.868C566.435,-151.22 550.038,-137.503 536.281,-125.995\"/>\r\n",
       "<polygon fill=\"black\" stroke=\"black\" points=\"538.441,-123.238 528.525,-119.507 533.95,-128.608 538.441,-123.238\"/>\r\n",
       "</g>\r\n",
       "<!-- 16 -->\r\n",
       "<g id=\"node19\" class=\"node\"><title>16</title>\r\n",
       "<path fill=\"#e58139\" fill-opacity=\"0.231373\" stroke=\"black\" d=\"M661.5,-127C661.5,-127 572.5,-127 572.5,-127 566.5,-127 560.5,-121 560.5,-115 560.5,-115 560.5,-86 560.5,-86 560.5,-80 566.5,-74 572.5,-74 572.5,-74 661.5,-74 661.5,-74 667.5,-74 673.5,-80 673.5,-86 673.5,-86 673.5,-115 673.5,-115 673.5,-121 667.5,-127 661.5,-127\"/>\r\n",
       "<text text-anchor=\"middle\" x=\"617\" y=\"-111.8\" font-family=\"Helvetica,sans-Serif\" font-size=\"14.00\">spot &lt;= 48.585</text>\r\n",
       "<text text-anchor=\"middle\" x=\"617\" y=\"-96.8\" font-family=\"Helvetica,sans-Serif\" font-size=\"14.00\">865</text>\r\n",
       "<text text-anchor=\"middle\" x=\"617\" y=\"-81.8\" font-family=\"Helvetica,sans-Serif\" font-size=\"14.00\">17.8808</text>\r\n",
       "</g>\r\n",
       "<!-- 13&#45;&gt;16 -->\r\n",
       "<g id=\"edge18\" class=\"edge\"><title>13&#45;&gt;16</title>\r\n",
       "<path fill=\"none\" stroke=\"black\" d=\"M612.768,-162.868C613.318,-154.886 613.936,-145.932 614.525,-137.384\"/>\r\n",
       "<polygon fill=\"black\" stroke=\"black\" points=\"618.028,-137.467 615.224,-127.25 611.044,-136.985 618.028,-137.467\"/>\r\n",
       "</g>\r\n",
       "<!-- 41 -->\r\n",
       "<g id=\"node20\" class=\"node\"><title>41</title>\r\n",
       "<path fill=\"#e58139\" fill-opacity=\"0.262745\" stroke=\"black\" d=\"M557,-38C557,-38 511,-38 511,-38 505,-38 499,-32 499,-26 499,-26 499,-12 499,-12 499,-6 505,-0 511,-0 511,-0 557,-0 557,-0 563,-0 569,-6 569,-12 569,-12 569,-26 569,-26 569,-32 563,-38 557,-38\"/>\r\n",
       "<text text-anchor=\"middle\" x=\"534\" y=\"-22.8\" font-family=\"Helvetica,sans-Serif\" font-size=\"14.00\">361</text>\r\n",
       "<text text-anchor=\"middle\" x=\"534\" y=\"-7.8\" font-family=\"Helvetica,sans-Serif\" font-size=\"14.00\">18.9053</text>\r\n",
       "</g>\r\n",
       "<!-- 16&#45;&gt;41 -->\r\n",
       "<g id=\"edge19\" class=\"edge\"><title>16&#45;&gt;41</title>\r\n",
       "<path fill=\"none\" stroke=\"black\" d=\"M590.281,-73.9081C580.709,-64.739 569.929,-54.4139 560.385,-45.2721\"/>\r\n",
       "<polygon fill=\"black\" stroke=\"black\" points=\"562.685,-42.6285 553.042,-38.2389 557.843,-47.6837 562.685,-42.6285\"/>\r\n",
       "</g>\r\n",
       "<!-- 42 -->\r\n",
       "<g id=\"node21\" class=\"node\"><title>42</title>\r\n",
       "<path fill=\"#e58139\" fill-opacity=\"0.207843\" stroke=\"black\" d=\"M645,-38C645,-38 599,-38 599,-38 593,-38 587,-32 587,-26 587,-26 587,-12 587,-12 587,-6 593,-0 599,-0 599,-0 645,-0 645,-0 651,-0 657,-6 657,-12 657,-12 657,-26 657,-26 657,-32 651,-38 645,-38\"/>\r\n",
       "<text text-anchor=\"middle\" x=\"622\" y=\"-22.8\" font-family=\"Helvetica,sans-Serif\" font-size=\"14.00\">504</text>\r\n",
       "<text text-anchor=\"middle\" x=\"622\" y=\"-7.8\" font-family=\"Helvetica,sans-Serif\" font-size=\"14.00\">17.1099</text>\r\n",
       "</g>\r\n",
       "<!-- 16&#45;&gt;42 -->\r\n",
       "<g id=\"edge20\" class=\"edge\"><title>16&#45;&gt;42</title>\r\n",
       "<path fill=\"none\" stroke=\"black\" d=\"M618.61,-73.9081C619.123,-65.7377 619.695,-56.6492 620.22,-48.2981\"/>\r\n",
       "<polygon fill=\"black\" stroke=\"black\" points=\"623.718,-48.4389 620.853,-38.2389 616.732,-47.9995 623.718,-48.4389\"/>\r\n",
       "</g>\r\n",
       "<!-- 27 -->\r\n",
       "<g id=\"node23\" class=\"node\"><title>27</title>\r\n",
       "<path fill=\"#e58139\" fill-opacity=\"0.101961\" stroke=\"black\" d=\"M842,-127C842,-127 704,-127 704,-127 698,-127 692,-121 692,-115 692,-115 692,-86 692,-86 692,-80 698,-74 704,-74 704,-74 842,-74 842,-74 848,-74 854,-80 854,-86 854,-86 854,-115 854,-115 854,-121 848,-127 842,-127\"/>\r\n",
       "<text text-anchor=\"middle\" x=\"773\" y=\"-111.8\" font-family=\"Helvetica,sans-Serif\" font-size=\"14.00\">demand+1 &lt;= 30024.0</text>\r\n",
       "<text text-anchor=\"middle\" x=\"773\" y=\"-96.8\" font-family=\"Helvetica,sans-Serif\" font-size=\"14.00\">632</text>\r\n",
       "<text text-anchor=\"middle\" x=\"773\" y=\"-81.8\" font-family=\"Helvetica,sans-Serif\" font-size=\"14.00\">13.7029</text>\r\n",
       "</g>\r\n",
       "<!-- 14&#45;&gt;27 -->\r\n",
       "<g id=\"edge22\" class=\"edge\"><title>14&#45;&gt;27</title>\r\n",
       "<path fill=\"none\" stroke=\"black\" d=\"M777.232,-162.868C776.682,-154.886 776.064,-145.932 775.475,-137.384\"/>\r\n",
       "<polygon fill=\"black\" stroke=\"black\" points=\"778.956,-136.985 774.776,-127.25 771.972,-137.467 778.956,-136.985\"/>\r\n",
       "</g>\r\n",
       "<!-- 28 -->\r\n",
       "<g id=\"node26\" class=\"node\"><title>28</title>\r\n",
       "<path fill=\"#e58139\" fill-opacity=\"0.039216\" stroke=\"black\" d=\"M965.5,-127C965.5,-127 884.5,-127 884.5,-127 878.5,-127 872.5,-121 872.5,-115 872.5,-115 872.5,-86 872.5,-86 872.5,-80 878.5,-74 884.5,-74 884.5,-74 965.5,-74 965.5,-74 971.5,-74 977.5,-80 977.5,-86 977.5,-86 977.5,-115 977.5,-115 977.5,-121 971.5,-127 965.5,-127\"/>\r\n",
       "<text text-anchor=\"middle\" x=\"925\" y=\"-111.8\" font-family=\"Helvetica,sans-Serif\" font-size=\"14.00\">spot &lt;= 61.14</text>\r\n",
       "<text text-anchor=\"middle\" x=\"925\" y=\"-96.8\" font-family=\"Helvetica,sans-Serif\" font-size=\"14.00\">3225</text>\r\n",
       "<text text-anchor=\"middle\" x=\"925\" y=\"-81.8\" font-family=\"Helvetica,sans-Serif\" font-size=\"14.00\">11.7091</text>\r\n",
       "</g>\r\n",
       "<!-- 14&#45;&gt;28 -->\r\n",
       "<g id=\"edge25\" class=\"edge\"><title>14&#45;&gt;28</title>\r\n",
       "<path fill=\"none\" stroke=\"black\" d=\"M822.015,-162.868C838.132,-153.264 856.608,-142.254 873.421,-132.235\"/>\r\n",
       "<polygon fill=\"black\" stroke=\"black\" points=\"875.241,-135.225 882.04,-127.099 871.658,-129.212 875.241,-135.225\"/>\r\n",
       "</g>\r\n",
       "<!-- 53 -->\r\n",
       "<g id=\"node24\" class=\"node\"><title>53</title>\r\n",
       "<path fill=\"#e58139\" fill-opacity=\"0.086275\" stroke=\"black\" d=\"M744,-38C744,-38 698,-38 698,-38 692,-38 686,-32 686,-26 686,-26 686,-12 686,-12 686,-6 692,-0 698,-0 698,-0 744,-0 744,-0 750,-0 756,-6 756,-12 756,-12 756,-26 756,-26 756,-32 750,-38 744,-38\"/>\r\n",
       "<text text-anchor=\"middle\" x=\"721\" y=\"-22.8\" font-family=\"Helvetica,sans-Serif\" font-size=\"14.00\">295</text>\r\n",
       "<text text-anchor=\"middle\" x=\"721\" y=\"-7.8\" font-family=\"Helvetica,sans-Serif\" font-size=\"14.00\">13.2266</text>\r\n",
       "</g>\r\n",
       "<!-- 27&#45;&gt;53 -->\r\n",
       "<g id=\"edge23\" class=\"edge\"><title>27&#45;&gt;53</title>\r\n",
       "<path fill=\"none\" stroke=\"black\" d=\"M756.261,-73.9081C750.56,-65.193 744.177,-55.4333 738.424,-46.6382\"/>\r\n",
       "<polygon fill=\"black\" stroke=\"black\" points=\"741.333,-44.6918 732.93,-38.2389 735.475,-48.5236 741.333,-44.6918\"/>\r\n",
       "</g>\r\n",
       "<!-- 54 -->\r\n",
       "<g id=\"node25\" class=\"node\"><title>54</title>\r\n",
       "<path fill=\"#e58139\" fill-opacity=\"0.113725\" stroke=\"black\" d=\"M832,-38C832,-38 786,-38 786,-38 780,-38 774,-32 774,-26 774,-26 774,-12 774,-12 774,-6 780,-0 786,-0 786,-0 832,-0 832,-0 838,-0 844,-6 844,-12 844,-12 844,-26 844,-26 844,-32 838,-38 832,-38\"/>\r\n",
       "<text text-anchor=\"middle\" x=\"809\" y=\"-22.8\" font-family=\"Helvetica,sans-Serif\" font-size=\"14.00\">337</text>\r\n",
       "<text text-anchor=\"middle\" x=\"809\" y=\"-7.8\" font-family=\"Helvetica,sans-Serif\" font-size=\"14.00\">14.1281</text>\r\n",
       "</g>\r\n",
       "<!-- 27&#45;&gt;54 -->\r\n",
       "<g id=\"edge24\" class=\"edge\"><title>27&#45;&gt;54</title>\r\n",
       "<path fill=\"none\" stroke=\"black\" d=\"M784.589,-73.9081C788.412,-65.4653 792.679,-56.0423 796.563,-47.4655\"/>\r\n",
       "<polygon fill=\"black\" stroke=\"black\" points=\"799.804,-48.7923 800.741,-38.2389 793.427,-45.9047 799.804,-48.7923\"/>\r\n",
       "</g>\r\n",
       "<!-- 29 -->\r\n",
       "<g id=\"node27\" class=\"node\"><title>29</title>\r\n",
       "<path fill=\"#e58139\" fill-opacity=\"0.054902\" stroke=\"black\" d=\"M942,-38C942,-38 896,-38 896,-38 890,-38 884,-32 884,-26 884,-26 884,-12 884,-12 884,-6 890,-0 896,-0 896,-0 942,-0 942,-0 948,-0 954,-6 954,-12 954,-12 954,-26 954,-26 954,-32 948,-38 942,-38\"/>\r\n",
       "<text text-anchor=\"middle\" x=\"919\" y=\"-22.8\" font-family=\"Helvetica,sans-Serif\" font-size=\"14.00\">2155</text>\r\n",
       "<text text-anchor=\"middle\" x=\"919\" y=\"-7.8\" font-family=\"Helvetica,sans-Serif\" font-size=\"14.00\">12.3156</text>\r\n",
       "</g>\r\n",
       "<!-- 28&#45;&gt;29 -->\r\n",
       "<g id=\"edge26\" class=\"edge\"><title>28&#45;&gt;29</title>\r\n",
       "<path fill=\"none\" stroke=\"black\" d=\"M923.069,-73.9081C922.452,-65.7377 921.766,-56.6492 921.136,-48.2981\"/>\r\n",
       "<polygon fill=\"black\" stroke=\"black\" points=\"924.619,-47.9471 920.377,-38.2389 917.639,-48.474 924.619,-47.9471\"/>\r\n",
       "</g>\r\n",
       "<!-- 30 -->\r\n",
       "<g id=\"node28\" class=\"node\"><title>30</title>\r\n",
       "<path fill=\"none\" stroke=\"black\" d=\"M1030,-38C1030,-38 984,-38 984,-38 978,-38 972,-32 972,-26 972,-26 972,-12 972,-12 972,-6 978,-0 984,-0 984,-0 1030,-0 1030,-0 1036,-0 1042,-6 1042,-12 1042,-12 1042,-26 1042,-26 1042,-32 1036,-38 1030,-38\"/>\r\n",
       "<text text-anchor=\"middle\" x=\"1007\" y=\"-22.8\" font-family=\"Helvetica,sans-Serif\" font-size=\"14.00\">1070</text>\r\n",
       "<text text-anchor=\"middle\" x=\"1007\" y=\"-7.8\" font-family=\"Helvetica,sans-Serif\" font-size=\"14.00\">10.5124</text>\r\n",
       "</g>\r\n",
       "<!-- 28&#45;&gt;30 -->\r\n",
       "<g id=\"edge27\" class=\"edge\"><title>28&#45;&gt;30</title>\r\n",
       "<path fill=\"none\" stroke=\"black\" d=\"M951.397,-73.9081C960.854,-64.739 971.504,-54.4139 980.933,-45.2721\"/>\r\n",
       "<polygon fill=\"black\" stroke=\"black\" points=\"983.444,-47.7126 988.188,-38.2389 978.572,-42.6868 983.444,-47.7126\"/>\r\n",
       "</g>\r\n",
       "<!-- 3 -->\r\n",
       "<g id=\"node30\" class=\"node\"><title>3</title>\r\n",
       "<path fill=\"#e58139\" fill-opacity=\"0.678431\" stroke=\"black\" d=\"M1062,-394C1062,-394 988,-394 988,-394 982,-394 976,-388 976,-382 976,-382 976,-353 976,-353 976,-347 982,-341 988,-341 988,-341 1062,-341 1062,-341 1068,-341 1074,-347 1074,-353 1074,-353 1074,-382 1074,-382 1074,-388 1068,-394 1062,-394\"/>\r\n",
       "<text text-anchor=\"middle\" x=\"1025\" y=\"-378.8\" font-family=\"Helvetica,sans-Serif\" font-size=\"14.00\">winter &lt;= 0.5</text>\r\n",
       "<text text-anchor=\"middle\" x=\"1025\" y=\"-363.8\" font-family=\"Helvetica,sans-Serif\" font-size=\"14.00\">1492</text>\r\n",
       "<text text-anchor=\"middle\" x=\"1025\" y=\"-348.8\" font-family=\"Helvetica,sans-Serif\" font-size=\"14.00\">31.9926</text>\r\n",
       "</g>\r\n",
       "<!-- 2&#45;&gt;3 -->\r\n",
       "<g id=\"edge29\" class=\"edge\"><title>2&#45;&gt;3</title>\r\n",
       "<path fill=\"none\" stroke=\"black\" d=\"M1025,-429.868C1025,-421.886 1025,-412.932 1025,-404.384\"/>\r\n",
       "<polygon fill=\"black\" stroke=\"black\" points=\"1028.5,-404.25 1025,-394.25 1021.5,-404.25 1028.5,-404.25\"/>\r\n",
       "</g>\r\n",
       "<!-- 4 -->\r\n",
       "<g id=\"node39\" class=\"node\"><title>4</title>\r\n",
       "<path fill=\"#e58139\" fill-opacity=\"0.305882\" stroke=\"black\" d=\"M1458,-394C1458,-394 1384,-394 1384,-394 1378,-394 1372,-388 1372,-382 1372,-382 1372,-353 1372,-353 1372,-347 1378,-341 1384,-341 1384,-341 1458,-341 1458,-341 1464,-341 1470,-347 1470,-353 1470,-353 1470,-382 1470,-382 1470,-388 1464,-394 1458,-394\"/>\r\n",
       "<text text-anchor=\"middle\" x=\"1421\" y=\"-378.8\" font-family=\"Helvetica,sans-Serif\" font-size=\"14.00\">winter &lt;= 0.5</text>\r\n",
       "<text text-anchor=\"middle\" x=\"1421\" y=\"-363.8\" font-family=\"Helvetica,sans-Serif\" font-size=\"14.00\">4033</text>\r\n",
       "<text text-anchor=\"middle\" x=\"1421\" y=\"-348.8\" font-family=\"Helvetica,sans-Serif\" font-size=\"14.00\">20.2671</text>\r\n",
       "</g>\r\n",
       "<!-- 2&#45;&gt;4 -->\r\n",
       "<g id=\"edge38\" class=\"edge\"><title>2&#45;&gt;4</title>\r\n",
       "<path fill=\"none\" stroke=\"black\" d=\"M1081.74,-443.035C1156.24,-426.667 1286.41,-398.068 1362.02,-381.459\"/>\r\n",
       "<polygon fill=\"black\" stroke=\"black\" points=\"1362.84,-384.861 1371.86,-379.296 1361.34,-378.024 1362.84,-384.861\"/>\r\n",
       "</g>\r\n",
       "<!-- 7 -->\r\n",
       "<g id=\"node31\" class=\"node\"><title>7</title>\r\n",
       "<path fill=\"#e58139\" fill-opacity=\"0.462745\" stroke=\"black\" d=\"M1004,-305C1004,-305 882,-305 882,-305 876,-305 870,-299 870,-293 870,-293 870,-264 870,-264 870,-258 876,-252 882,-252 882,-252 1004,-252 1004,-252 1010,-252 1016,-258 1016,-264 1016,-264 1016,-293 1016,-293 1016,-299 1010,-305 1004,-305\"/>\r\n",
       "<text text-anchor=\"middle\" x=\"943\" y=\"-289.8\" font-family=\"Helvetica,sans-Serif\" font-size=\"14.00\">demand &lt;= 21960.5</text>\r\n",
       "<text text-anchor=\"middle\" x=\"943\" y=\"-274.8\" font-family=\"Helvetica,sans-Serif\" font-size=\"14.00\">564</text>\r\n",
       "<text text-anchor=\"middle\" x=\"943\" y=\"-259.8\" font-family=\"Helvetica,sans-Serif\" font-size=\"14.00\">25.2465</text>\r\n",
       "</g>\r\n",
       "<!-- 3&#45;&gt;7 -->\r\n",
       "<g id=\"edge30\" class=\"edge\"><title>3&#45;&gt;7</title>\r\n",
       "<path fill=\"none\" stroke=\"black\" d=\"M1000.84,-340.868C992.491,-332.008 983.013,-321.953 974.181,-312.582\"/>\r\n",
       "<polygon fill=\"black\" stroke=\"black\" points=\"976.676,-310.126 967.27,-305.25 971.582,-314.927 976.676,-310.126\"/>\r\n",
       "</g>\r\n",
       "<!-- 8 -->\r\n",
       "<g id=\"node34\" class=\"node\"><title>8</title>\r\n",
       "<path fill=\"#e58139\" fill-opacity=\"0.807843\" stroke=\"black\" d=\"M1168,-305C1168,-305 1046,-305 1046,-305 1040,-305 1034,-299 1034,-293 1034,-293 1034,-264 1034,-264 1034,-258 1040,-252 1046,-252 1046,-252 1168,-252 1168,-252 1174,-252 1180,-258 1180,-264 1180,-264 1180,-293 1180,-293 1180,-299 1174,-305 1168,-305\"/>\r\n",
       "<text text-anchor=\"middle\" x=\"1107\" y=\"-289.8\" font-family=\"Helvetica,sans-Serif\" font-size=\"14.00\">demand &lt;= 24431.0</text>\r\n",
       "<text text-anchor=\"middle\" x=\"1107\" y=\"-274.8\" font-family=\"Helvetica,sans-Serif\" font-size=\"14.00\">928</text>\r\n",
       "<text text-anchor=\"middle\" x=\"1107\" y=\"-259.8\" font-family=\"Helvetica,sans-Serif\" font-size=\"14.00\">36.1984</text>\r\n",
       "</g>\r\n",
       "<!-- 3&#45;&gt;8 -->\r\n",
       "<g id=\"edge33\" class=\"edge\"><title>3&#45;&gt;8</title>\r\n",
       "<path fill=\"none\" stroke=\"black\" d=\"M1049.16,-340.868C1057.51,-332.008 1066.99,-321.953 1075.82,-312.582\"/>\r\n",
       "<polygon fill=\"black\" stroke=\"black\" points=\"1078.42,-314.927 1082.73,-305.25 1073.32,-310.126 1078.42,-314.927\"/>\r\n",
       "</g>\r\n",
       "<!-- 51 -->\r\n",
       "<g id=\"node32\" class=\"node\"><title>51</title>\r\n",
       "<path fill=\"#e58139\" fill-opacity=\"0.482353\" stroke=\"black\" d=\"M940,-208.5C940,-208.5 894,-208.5 894,-208.5 888,-208.5 882,-202.5 882,-196.5 882,-196.5 882,-182.5 882,-182.5 882,-176.5 888,-170.5 894,-170.5 894,-170.5 940,-170.5 940,-170.5 946,-170.5 952,-176.5 952,-182.5 952,-182.5 952,-196.5 952,-196.5 952,-202.5 946,-208.5 940,-208.5\"/>\r\n",
       "<text text-anchor=\"middle\" x=\"917\" y=\"-193.3\" font-family=\"Helvetica,sans-Serif\" font-size=\"14.00\">246</text>\r\n",
       "<text text-anchor=\"middle\" x=\"917\" y=\"-178.3\" font-family=\"Helvetica,sans-Serif\" font-size=\"14.00\">25.8711</text>\r\n",
       "</g>\r\n",
       "<!-- 7&#45;&gt;51 -->\r\n",
       "<g id=\"edge31\" class=\"edge\"><title>7&#45;&gt;51</title>\r\n",
       "<path fill=\"none\" stroke=\"black\" d=\"M935.34,-251.868C932.184,-241.308 928.52,-229.049 925.301,-218.276\"/>\r\n",
       "<polygon fill=\"black\" stroke=\"black\" points=\"928.598,-217.086 922.381,-208.507 921.891,-219.09 928.598,-217.086\"/>\r\n",
       "</g>\r\n",
       "<!-- 52 -->\r\n",
       "<g id=\"node33\" class=\"node\"><title>52</title>\r\n",
       "<path fill=\"#e58139\" fill-opacity=\"0.447059\" stroke=\"black\" d=\"M1028,-208.5C1028,-208.5 982,-208.5 982,-208.5 976,-208.5 970,-202.5 970,-196.5 970,-196.5 970,-182.5 970,-182.5 970,-176.5 976,-170.5 982,-170.5 982,-170.5 1028,-170.5 1028,-170.5 1034,-170.5 1040,-176.5 1040,-182.5 1040,-182.5 1040,-196.5 1040,-196.5 1040,-202.5 1034,-208.5 1028,-208.5\"/>\r\n",
       "<text text-anchor=\"middle\" x=\"1005\" y=\"-193.3\" font-family=\"Helvetica,sans-Serif\" font-size=\"14.00\">318</text>\r\n",
       "<text text-anchor=\"middle\" x=\"1005\" y=\"-178.3\" font-family=\"Helvetica,sans-Serif\" font-size=\"14.00\">24.7475</text>\r\n",
       "</g>\r\n",
       "<!-- 7&#45;&gt;52 -->\r\n",
       "<g id=\"edge32\" class=\"edge\"><title>7&#45;&gt;52</title>\r\n",
       "<path fill=\"none\" stroke=\"black\" d=\"M961.267,-251.868C969.102,-240.873 978.251,-228.035 986.15,-216.951\"/>\r\n",
       "<polygon fill=\"black\" stroke=\"black\" points=\"989.214,-218.682 992.168,-208.507 983.514,-214.619 989.214,-218.682\"/>\r\n",
       "</g>\r\n",
       "<!-- 11 -->\r\n",
       "<g id=\"node35\" class=\"node\"><title>11</title>\r\n",
       "<path fill=\"#e58139\" fill-opacity=\"0.729412\" stroke=\"black\" d=\"M1132.5,-216C1132.5,-216 1073.5,-216 1073.5,-216 1067.5,-216 1061.5,-210 1061.5,-204 1061.5,-204 1061.5,-175 1061.5,-175 1061.5,-169 1067.5,-163 1073.5,-163 1073.5,-163 1132.5,-163 1132.5,-163 1138.5,-163 1144.5,-169 1144.5,-175 1144.5,-175 1144.5,-204 1144.5,-204 1144.5,-210 1138.5,-216 1132.5,-216\"/>\r\n",
       "<text text-anchor=\"middle\" x=\"1103\" y=\"-200.8\" font-family=\"Helvetica,sans-Serif\" font-size=\"14.00\">Wd &lt;= 0.5</text>\r\n",
       "<text text-anchor=\"middle\" x=\"1103\" y=\"-185.8\" font-family=\"Helvetica,sans-Serif\" font-size=\"14.00\">653</text>\r\n",
       "<text text-anchor=\"middle\" x=\"1103\" y=\"-170.8\" font-family=\"Helvetica,sans-Serif\" font-size=\"14.00\">33.6009</text>\r\n",
       "</g>\r\n",
       "<!-- 8&#45;&gt;11 -->\r\n",
       "<g id=\"edge34\" class=\"edge\"><title>8&#45;&gt;11</title>\r\n",
       "<path fill=\"none\" stroke=\"black\" d=\"M1105.82,-251.868C1105.45,-243.886 1105.04,-234.932 1104.65,-226.384\"/>\r\n",
       "<polygon fill=\"black\" stroke=\"black\" points=\"1108.14,-226.078 1104.18,-216.25 1101.15,-226.4 1108.14,-226.078\"/>\r\n",
       "</g>\r\n",
       "<!-- 12 -->\r\n",
       "<g id=\"node38\" class=\"node\"><title>12</title>\r\n",
       "<path fill=\"#e58139\" stroke=\"black\" d=\"M1221,-208.5C1221,-208.5 1175,-208.5 1175,-208.5 1169,-208.5 1163,-202.5 1163,-196.5 1163,-196.5 1163,-182.5 1163,-182.5 1163,-176.5 1169,-170.5 1175,-170.5 1175,-170.5 1221,-170.5 1221,-170.5 1227,-170.5 1233,-176.5 1233,-182.5 1233,-182.5 1233,-196.5 1233,-196.5 1233,-202.5 1227,-208.5 1221,-208.5\"/>\r\n",
       "<text text-anchor=\"middle\" x=\"1198\" y=\"-193.3\" font-family=\"Helvetica,sans-Serif\" font-size=\"14.00\">275</text>\r\n",
       "<text text-anchor=\"middle\" x=\"1198\" y=\"-178.3\" font-family=\"Helvetica,sans-Serif\" font-size=\"14.00\">42.2431</text>\r\n",
       "</g>\r\n",
       "<!-- 8&#45;&gt;12 -->\r\n",
       "<g id=\"edge37\" class=\"edge\"><title>8&#45;&gt;12</title>\r\n",
       "<path fill=\"none\" stroke=\"black\" d=\"M1133.81,-251.868C1145.77,-240.437 1159.81,-227.015 1171.7,-215.642\"/>\r\n",
       "<polygon fill=\"black\" stroke=\"black\" points=\"1174.36,-217.947 1179.17,-208.507 1169.52,-212.887 1174.36,-217.947\"/>\r\n",
       "</g>\r\n",
       "<!-- 55 -->\r\n",
       "<g id=\"node36\" class=\"node\"><title>55</title>\r\n",
       "<path fill=\"#e58139\" fill-opacity=\"0.721569\" stroke=\"black\" d=\"M1054,-119.5C1054,-119.5 1008,-119.5 1008,-119.5 1002,-119.5 996,-113.5 996,-107.5 996,-107.5 996,-93.5 996,-93.5 996,-87.5 1002,-81.5 1008,-81.5 1008,-81.5 1054,-81.5 1054,-81.5 1060,-81.5 1066,-87.5 1066,-93.5 1066,-93.5 1066,-107.5 1066,-107.5 1066,-113.5 1060,-119.5 1054,-119.5\"/>\r\n",
       "<text text-anchor=\"middle\" x=\"1031\" y=\"-104.3\" font-family=\"Helvetica,sans-Serif\" font-size=\"14.00\">274</text>\r\n",
       "<text text-anchor=\"middle\" x=\"1031\" y=\"-89.3\" font-family=\"Helvetica,sans-Serif\" font-size=\"14.00\">33.3924</text>\r\n",
       "</g>\r\n",
       "<!-- 11&#45;&gt;55 -->\r\n",
       "<g id=\"edge35\" class=\"edge\"><title>11&#45;&gt;55</title>\r\n",
       "<path fill=\"none\" stroke=\"black\" d=\"M1081.79,-162.868C1072.51,-151.655 1061.64,-138.525 1052.35,-127.294\"/>\r\n",
       "<polygon fill=\"black\" stroke=\"black\" points=\"1054.97,-124.979 1045.9,-119.507 1049.58,-129.442 1054.97,-124.979\"/>\r\n",
       "</g>\r\n",
       "<!-- 56 -->\r\n",
       "<g id=\"node37\" class=\"node\"><title>56</title>\r\n",
       "<path fill=\"#e58139\" fill-opacity=\"0.733333\" stroke=\"black\" d=\"M1142,-119.5C1142,-119.5 1096,-119.5 1096,-119.5 1090,-119.5 1084,-113.5 1084,-107.5 1084,-107.5 1084,-93.5 1084,-93.5 1084,-87.5 1090,-81.5 1096,-81.5 1096,-81.5 1142,-81.5 1142,-81.5 1148,-81.5 1154,-87.5 1154,-93.5 1154,-93.5 1154,-107.5 1154,-107.5 1154,-113.5 1148,-119.5 1142,-119.5\"/>\r\n",
       "<text text-anchor=\"middle\" x=\"1119\" y=\"-104.3\" font-family=\"Helvetica,sans-Serif\" font-size=\"14.00\">379</text>\r\n",
       "<text text-anchor=\"middle\" x=\"1119\" y=\"-89.3\" font-family=\"Helvetica,sans-Serif\" font-size=\"14.00\">33.7573</text>\r\n",
       "</g>\r\n",
       "<!-- 11&#45;&gt;56 -->\r\n",
       "<g id=\"edge36\" class=\"edge\"><title>11&#45;&gt;56</title>\r\n",
       "<path fill=\"none\" stroke=\"black\" d=\"M1107.71,-162.868C1109.64,-152.417 1111.86,-140.301 1113.83,-129.609\"/>\r\n",
       "<polygon fill=\"black\" stroke=\"black\" points=\"1117.32,-129.975 1115.69,-119.507 1110.44,-128.709 1117.32,-129.975\"/>\r\n",
       "</g>\r\n",
       "<!-- 31 -->\r\n",
       "<g id=\"node40\" class=\"node\"><title>31</title>\r\n",
       "<path fill=\"#e58139\" fill-opacity=\"0.290196\" stroke=\"black\" d=\"M1478,-305C1478,-305 1364,-305 1364,-305 1358,-305 1352,-299 1352,-293 1352,-293 1352,-264 1352,-264 1352,-258 1358,-252 1364,-252 1364,-252 1478,-252 1478,-252 1484,-252 1490,-258 1490,-264 1490,-264 1490,-293 1490,-293 1490,-299 1484,-305 1478,-305\"/>\r\n",
       "<text text-anchor=\"middle\" x=\"1421\" y=\"-289.8\" font-family=\"Helvetica,sans-Serif\" font-size=\"14.00\">band&#45;24 &lt;= 19.305</text>\r\n",
       "<text text-anchor=\"middle\" x=\"1421\" y=\"-274.8\" font-family=\"Helvetica,sans-Serif\" font-size=\"14.00\">2259</text>\r\n",
       "<text text-anchor=\"middle\" x=\"1421\" y=\"-259.8\" font-family=\"Helvetica,sans-Serif\" font-size=\"14.00\">19.7459</text>\r\n",
       "</g>\r\n",
       "<!-- 4&#45;&gt;31 -->\r\n",
       "<g id=\"edge39\" class=\"edge\"><title>4&#45;&gt;31</title>\r\n",
       "<path fill=\"none\" stroke=\"black\" d=\"M1421,-340.868C1421,-332.886 1421,-323.932 1421,-315.384\"/>\r\n",
       "<polygon fill=\"black\" stroke=\"black\" points=\"1424.5,-315.25 1421,-305.25 1417.5,-315.25 1424.5,-315.25\"/>\r\n",
       "</g>\r\n",
       "<!-- 32 -->\r\n",
       "<g id=\"node51\" class=\"node\"><title>32</title>\r\n",
       "<path fill=\"#e58139\" fill-opacity=\"0.329412\" stroke=\"black\" d=\"M1664.5,-305C1664.5,-305 1605.5,-305 1605.5,-305 1599.5,-305 1593.5,-299 1593.5,-293 1593.5,-293 1593.5,-264 1593.5,-264 1593.5,-258 1599.5,-252 1605.5,-252 1605.5,-252 1664.5,-252 1664.5,-252 1670.5,-252 1676.5,-258 1676.5,-264 1676.5,-264 1676.5,-293 1676.5,-293 1676.5,-299 1670.5,-305 1664.5,-305\"/>\r\n",
       "<text text-anchor=\"middle\" x=\"1635\" y=\"-289.8\" font-family=\"Helvetica,sans-Serif\" font-size=\"14.00\">Wd &lt;= 0.5</text>\r\n",
       "<text text-anchor=\"middle\" x=\"1635\" y=\"-274.8\" font-family=\"Helvetica,sans-Serif\" font-size=\"14.00\">1774</text>\r\n",
       "<text text-anchor=\"middle\" x=\"1635\" y=\"-259.8\" font-family=\"Helvetica,sans-Serif\" font-size=\"14.00\">20.927</text>\r\n",
       "</g>\r\n",
       "<!-- 4&#45;&gt;32 -->\r\n",
       "<g id=\"edge50\" class=\"edge\"><title>4&#45;&gt;32</title>\r\n",
       "<path fill=\"none\" stroke=\"black\" d=\"M1470.1,-346.54C1504.16,-332.692 1549.43,-314.289 1583.92,-300.268\"/>\r\n",
       "<polygon fill=\"black\" stroke=\"black\" points=\"1585.39,-303.445 1593.34,-296.437 1582.76,-296.96 1585.39,-303.445\"/>\r\n",
       "</g>\r\n",
       "<!-- 33 -->\r\n",
       "<g id=\"node41\" class=\"node\"><title>33</title>\r\n",
       "<path fill=\"#e58139\" fill-opacity=\"0.145098\" stroke=\"black\" d=\"M1370.5,-216C1370.5,-216 1311.5,-216 1311.5,-216 1305.5,-216 1299.5,-210 1299.5,-204 1299.5,-204 1299.5,-175 1299.5,-175 1299.5,-169 1305.5,-163 1311.5,-163 1311.5,-163 1370.5,-163 1370.5,-163 1376.5,-163 1382.5,-169 1382.5,-175 1382.5,-175 1382.5,-204 1382.5,-204 1382.5,-210 1376.5,-216 1370.5,-216\"/>\r\n",
       "<text text-anchor=\"middle\" x=\"1341\" y=\"-200.8\" font-family=\"Helvetica,sans-Serif\" font-size=\"14.00\">Wd &lt;= 0.5</text>\r\n",
       "<text text-anchor=\"middle\" x=\"1341\" y=\"-185.8\" font-family=\"Helvetica,sans-Serif\" font-size=\"14.00\">1147</text>\r\n",
       "<text text-anchor=\"middle\" x=\"1341\" y=\"-170.8\" font-family=\"Helvetica,sans-Serif\" font-size=\"14.00\">15.1609</text>\r\n",
       "</g>\r\n",
       "<!-- 31&#45;&gt;33 -->\r\n",
       "<g id=\"edge40\" class=\"edge\"><title>31&#45;&gt;33</title>\r\n",
       "<path fill=\"none\" stroke=\"black\" d=\"M1397.43,-251.868C1389.36,-243.096 1380.22,-233.152 1371.68,-223.86\"/>\r\n",
       "<polygon fill=\"black\" stroke=\"black\" points=\"1374.02,-221.242 1364.68,-216.25 1368.87,-225.98 1374.02,-221.242\"/>\r\n",
       "</g>\r\n",
       "<!-- 34 -->\r\n",
       "<g id=\"node46\" class=\"node\"><title>34</title>\r\n",
       "<path fill=\"#e58139\" fill-opacity=\"0.443137\" stroke=\"black\" d=\"M1570,-216C1570,-216 1432,-216 1432,-216 1426,-216 1420,-210 1420,-204 1420,-204 1420,-175 1420,-175 1420,-169 1426,-163 1432,-163 1432,-163 1570,-163 1570,-163 1576,-163 1582,-169 1582,-175 1582,-175 1582,-204 1582,-204 1582,-210 1576,-216 1570,-216\"/>\r\n",
       "<text text-anchor=\"middle\" x=\"1501\" y=\"-200.8\" font-family=\"Helvetica,sans-Serif\" font-size=\"14.00\">demand+1 &lt;= 25448.5</text>\r\n",
       "<text text-anchor=\"middle\" x=\"1501\" y=\"-185.8\" font-family=\"Helvetica,sans-Serif\" font-size=\"14.00\">1112</text>\r\n",
       "<text text-anchor=\"middle\" x=\"1501\" y=\"-170.8\" font-family=\"Helvetica,sans-Serif\" font-size=\"14.00\">24.6253</text>\r\n",
       "</g>\r\n",
       "<!-- 31&#45;&gt;34 -->\r\n",
       "<g id=\"edge45\" class=\"edge\"><title>31&#45;&gt;34</title>\r\n",
       "<path fill=\"none\" stroke=\"black\" d=\"M1444.57,-251.868C1452.64,-243.096 1461.78,-233.152 1470.32,-223.86\"/>\r\n",
       "<polygon fill=\"black\" stroke=\"black\" points=\"1473.13,-225.98 1477.32,-216.25 1467.98,-221.242 1473.13,-225.98\"/>\r\n",
       "</g>\r\n",
       "<!-- 43 -->\r\n",
       "<g id=\"node42\" class=\"node\"><title>43</title>\r\n",
       "<path fill=\"#e58139\" fill-opacity=\"0.184314\" stroke=\"black\" d=\"M1230,-119.5C1230,-119.5 1184,-119.5 1184,-119.5 1178,-119.5 1172,-113.5 1172,-107.5 1172,-107.5 1172,-93.5 1172,-93.5 1172,-87.5 1178,-81.5 1184,-81.5 1184,-81.5 1230,-81.5 1230,-81.5 1236,-81.5 1242,-87.5 1242,-93.5 1242,-93.5 1242,-107.5 1242,-107.5 1242,-113.5 1236,-119.5 1230,-119.5\"/>\r\n",
       "<text text-anchor=\"middle\" x=\"1207\" y=\"-104.3\" font-family=\"Helvetica,sans-Serif\" font-size=\"14.00\">312</text>\r\n",
       "<text text-anchor=\"middle\" x=\"1207\" y=\"-89.3\" font-family=\"Helvetica,sans-Serif\" font-size=\"14.00\">16.3875</text>\r\n",
       "</g>\r\n",
       "<!-- 33&#45;&gt;43 -->\r\n",
       "<g id=\"edge41\" class=\"edge\"><title>33&#45;&gt;43</title>\r\n",
       "<path fill=\"none\" stroke=\"black\" d=\"M1301.52,-162.868C1283.08,-150.893 1261.27,-136.732 1243.24,-125.032\"/>\r\n",
       "<polygon fill=\"black\" stroke=\"black\" points=\"1245.03,-122.017 1234.73,-119.507 1241.22,-127.888 1245.03,-122.017\"/>\r\n",
       "</g>\r\n",
       "<!-- 44 -->\r\n",
       "<g id=\"node43\" class=\"node\"><title>44</title>\r\n",
       "<path fill=\"#e58139\" fill-opacity=\"0.133333\" stroke=\"black\" d=\"M1410,-127C1410,-127 1272,-127 1272,-127 1266,-127 1260,-121 1260,-115 1260,-115 1260,-86 1260,-86 1260,-80 1266,-74 1272,-74 1272,-74 1410,-74 1410,-74 1416,-74 1422,-80 1422,-86 1422,-86 1422,-115 1422,-115 1422,-121 1416,-127 1410,-127\"/>\r\n",
       "<text text-anchor=\"middle\" x=\"1341\" y=\"-111.8\" font-family=\"Helvetica,sans-Serif\" font-size=\"14.00\">demand+1 &lt;= 24329.5</text>\r\n",
       "<text text-anchor=\"middle\" x=\"1341\" y=\"-96.8\" font-family=\"Helvetica,sans-Serif\" font-size=\"14.00\">835</text>\r\n",
       "<text text-anchor=\"middle\" x=\"1341\" y=\"-81.8\" font-family=\"Helvetica,sans-Serif\" font-size=\"14.00\">14.7194</text>\r\n",
       "</g>\r\n",
       "<!-- 33&#45;&gt;44 -->\r\n",
       "<g id=\"edge42\" class=\"edge\"><title>33&#45;&gt;44</title>\r\n",
       "<path fill=\"none\" stroke=\"black\" d=\"M1341,-162.868C1341,-154.886 1341,-145.932 1341,-137.384\"/>\r\n",
       "<polygon fill=\"black\" stroke=\"black\" points=\"1344.5,-137.25 1341,-127.25 1337.5,-137.25 1344.5,-137.25\"/>\r\n",
       "</g>\r\n",
       "<!-- 49 -->\r\n",
       "<g id=\"node44\" class=\"node\"><title>49</title>\r\n",
       "<path fill=\"#e58139\" fill-opacity=\"0.156863\" stroke=\"black\" d=\"M1323,-38C1323,-38 1277,-38 1277,-38 1271,-38 1265,-32 1265,-26 1265,-26 1265,-12 1265,-12 1265,-6 1271,-0 1277,-0 1277,-0 1323,-0 1323,-0 1329,-0 1335,-6 1335,-12 1335,-12 1335,-26 1335,-26 1335,-32 1329,-38 1323,-38\"/>\r\n",
       "<text text-anchor=\"middle\" x=\"1300\" y=\"-22.8\" font-family=\"Helvetica,sans-Serif\" font-size=\"14.00\">281</text>\r\n",
       "<text text-anchor=\"middle\" x=\"1300\" y=\"-7.8\" font-family=\"Helvetica,sans-Serif\" font-size=\"14.00\">15.4894</text>\r\n",
       "</g>\r\n",
       "<!-- 44&#45;&gt;49 -->\r\n",
       "<g id=\"edge43\" class=\"edge\"><title>44&#45;&gt;49</title>\r\n",
       "<path fill=\"none\" stroke=\"black\" d=\"M1327.8,-73.9081C1323.4,-65.3745 1318.48,-55.8395 1314.02,-47.1891\"/>\r\n",
       "<polygon fill=\"black\" stroke=\"black\" points=\"1317.1,-45.5223 1309.41,-38.2389 1310.88,-48.7309 1317.1,-45.5223\"/>\r\n",
       "</g>\r\n",
       "<!-- 50 -->\r\n",
       "<g id=\"node45\" class=\"node\"><title>50</title>\r\n",
       "<path fill=\"#e58139\" fill-opacity=\"0.121569\" stroke=\"black\" d=\"M1403,-38C1403,-38 1365,-38 1365,-38 1359,-38 1353,-32 1353,-26 1353,-26 1353,-12 1353,-12 1353,-6 1359,-0 1365,-0 1365,-0 1403,-0 1403,-0 1409,-0 1415,-6 1415,-12 1415,-12 1415,-26 1415,-26 1415,-32 1409,-38 1403,-38\"/>\r\n",
       "<text text-anchor=\"middle\" x=\"1384\" y=\"-22.8\" font-family=\"Helvetica,sans-Serif\" font-size=\"14.00\">554</text>\r\n",
       "<text text-anchor=\"middle\" x=\"1384\" y=\"-7.8\" font-family=\"Helvetica,sans-Serif\" font-size=\"14.00\">14.347</text>\r\n",
       "</g>\r\n",
       "<!-- 44&#45;&gt;50 -->\r\n",
       "<g id=\"edge44\" class=\"edge\"><title>44&#45;&gt;50</title>\r\n",
       "<path fill=\"none\" stroke=\"black\" d=\"M1354.84,-73.9081C1359.46,-65.3745 1364.62,-55.8395 1369.29,-47.1891\"/>\r\n",
       "<polygon fill=\"black\" stroke=\"black\" points=\"1372.46,-48.6999 1374.13,-38.2389 1366.3,-45.3696 1372.46,-48.6999\"/>\r\n",
       "</g>\r\n",
       "<!-- 45 -->\r\n",
       "<g id=\"node47\" class=\"node\"><title>45</title>\r\n",
       "<path fill=\"#e58139\" fill-opacity=\"0.458824\" stroke=\"black\" d=\"M1590,-127C1590,-127 1452,-127 1452,-127 1446,-127 1440,-121 1440,-115 1440,-115 1440,-86 1440,-86 1440,-80 1446,-74 1452,-74 1452,-74 1590,-74 1590,-74 1596,-74 1602,-80 1602,-86 1602,-86 1602,-115 1602,-115 1602,-121 1596,-127 1590,-127\"/>\r\n",
       "<text text-anchor=\"middle\" x=\"1521\" y=\"-111.8\" font-family=\"Helvetica,sans-Serif\" font-size=\"14.00\">demand+1 &lt;= 22429.0</text>\r\n",
       "<text text-anchor=\"middle\" x=\"1521\" y=\"-96.8\" font-family=\"Helvetica,sans-Serif\" font-size=\"14.00\">752</text>\r\n",
       "<text text-anchor=\"middle\" x=\"1521\" y=\"-81.8\" font-family=\"Helvetica,sans-Serif\" font-size=\"14.00\">25.0421</text>\r\n",
       "</g>\r\n",
       "<!-- 34&#45;&gt;45 -->\r\n",
       "<g id=\"edge46\" class=\"edge\"><title>34&#45;&gt;45</title>\r\n",
       "<path fill=\"none\" stroke=\"black\" d=\"M1506.89,-162.868C1508.75,-154.798 1510.83,-145.735 1512.82,-137.102\"/>\r\n",
       "<polygon fill=\"black\" stroke=\"black\" points=\"1516.25,-137.78 1515.08,-127.25 1509.43,-136.211 1516.25,-137.78\"/>\r\n",
       "</g>\r\n",
       "<!-- 46 -->\r\n",
       "<g id=\"node50\" class=\"node\"><title>46</title>\r\n",
       "<path fill=\"#e58139\" fill-opacity=\"0.419608\" stroke=\"black\" d=\"M1678,-119.5C1678,-119.5 1632,-119.5 1632,-119.5 1626,-119.5 1620,-113.5 1620,-107.5 1620,-107.5 1620,-93.5 1620,-93.5 1620,-87.5 1626,-81.5 1632,-81.5 1632,-81.5 1678,-81.5 1678,-81.5 1684,-81.5 1690,-87.5 1690,-93.5 1690,-93.5 1690,-107.5 1690,-107.5 1690,-113.5 1684,-119.5 1678,-119.5\"/>\r\n",
       "<text text-anchor=\"middle\" x=\"1655\" y=\"-104.3\" font-family=\"Helvetica,sans-Serif\" font-size=\"14.00\">360</text>\r\n",
       "<text text-anchor=\"middle\" x=\"1655\" y=\"-89.3\" font-family=\"Helvetica,sans-Serif\" font-size=\"14.00\">23.7778</text>\r\n",
       "</g>\r\n",
       "<!-- 34&#45;&gt;46 -->\r\n",
       "<g id=\"edge49\" class=\"edge\"><title>34&#45;&gt;46</title>\r\n",
       "<path fill=\"none\" stroke=\"black\" d=\"M1547.12,-162.925C1566.83,-151.936 1590.08,-138.907 1611,-127 1612.29,-126.263 1613.61,-125.512 1614.94,-124.753\"/>\r\n",
       "<polygon fill=\"black\" stroke=\"black\" points=\"1616.86,-127.685 1623.79,-119.669 1613.37,-121.616 1616.86,-127.685\"/>\r\n",
       "</g>\r\n",
       "<!-- 47 -->\r\n",
       "<g id=\"node48\" class=\"node\"><title>47</title>\r\n",
       "<path fill=\"#e58139\" fill-opacity=\"0.427451\" stroke=\"black\" d=\"M1497,-38C1497,-38 1451,-38 1451,-38 1445,-38 1439,-32 1439,-26 1439,-26 1439,-12 1439,-12 1439,-6 1445,-0 1451,-0 1451,-0 1497,-0 1497,-0 1503,-0 1509,-6 1509,-12 1509,-12 1509,-26 1509,-26 1509,-32 1503,-38 1497,-38\"/>\r\n",
       "<text text-anchor=\"middle\" x=\"1474\" y=\"-22.8\" font-family=\"Helvetica,sans-Serif\" font-size=\"14.00\">302</text>\r\n",
       "<text text-anchor=\"middle\" x=\"1474\" y=\"-7.8\" font-family=\"Helvetica,sans-Serif\" font-size=\"14.00\">24.0987</text>\r\n",
       "</g>\r\n",
       "<!-- 45&#45;&gt;47 -->\r\n",
       "<g id=\"edge47\" class=\"edge\"><title>45&#45;&gt;47</title>\r\n",
       "<path fill=\"none\" stroke=\"black\" d=\"M1505.87,-73.9081C1500.77,-65.2837 1495.07,-55.6366 1489.91,-46.9133\"/>\r\n",
       "<polygon fill=\"black\" stroke=\"black\" points=\"1492.88,-45.0659 1484.78,-38.2389 1486.86,-48.6283 1492.88,-45.0659\"/>\r\n",
       "</g>\r\n",
       "<!-- 48 -->\r\n",
       "<g id=\"node49\" class=\"node\"><title>48</title>\r\n",
       "<path fill=\"#e58139\" fill-opacity=\"0.478431\" stroke=\"black\" d=\"M1585,-38C1585,-38 1539,-38 1539,-38 1533,-38 1527,-32 1527,-26 1527,-26 1527,-12 1527,-12 1527,-6 1533,-0 1539,-0 1539,-0 1585,-0 1585,-0 1591,-0 1597,-6 1597,-12 1597,-12 1597,-26 1597,-26 1597,-32 1591,-38 1585,-38\"/>\r\n",
       "<text text-anchor=\"middle\" x=\"1562\" y=\"-22.8\" font-family=\"Helvetica,sans-Serif\" font-size=\"14.00\">450</text>\r\n",
       "<text text-anchor=\"middle\" x=\"1562\" y=\"-7.8\" font-family=\"Helvetica,sans-Serif\" font-size=\"14.00\">25.6497</text>\r\n",
       "</g>\r\n",
       "<!-- 45&#45;&gt;48 -->\r\n",
       "<g id=\"edge48\" class=\"edge\"><title>45&#45;&gt;48</title>\r\n",
       "<path fill=\"none\" stroke=\"black\" d=\"M1534.2,-73.9081C1538.6,-65.3745 1543.52,-55.8395 1547.98,-47.1891\"/>\r\n",
       "<polygon fill=\"black\" stroke=\"black\" points=\"1551.12,-48.7309 1552.59,-38.2389 1544.9,-45.5223 1551.12,-48.7309\"/>\r\n",
       "</g>\r\n",
       "<!-- 35 -->\r\n",
       "<g id=\"node52\" class=\"node\"><title>35</title>\r\n",
       "<path fill=\"#e58139\" fill-opacity=\"0.368627\" stroke=\"black\" d=\"M1658,-208.5C1658,-208.5 1612,-208.5 1612,-208.5 1606,-208.5 1600,-202.5 1600,-196.5 1600,-196.5 1600,-182.5 1600,-182.5 1600,-176.5 1606,-170.5 1612,-170.5 1612,-170.5 1658,-170.5 1658,-170.5 1664,-170.5 1670,-176.5 1670,-182.5 1670,-182.5 1670,-196.5 1670,-196.5 1670,-202.5 1664,-208.5 1658,-208.5\"/>\r\n",
       "<text text-anchor=\"middle\" x=\"1635\" y=\"-193.3\" font-family=\"Helvetica,sans-Serif\" font-size=\"14.00\">459</text>\r\n",
       "<text text-anchor=\"middle\" x=\"1635\" y=\"-178.3\" font-family=\"Helvetica,sans-Serif\" font-size=\"14.00\">22.2271</text>\r\n",
       "</g>\r\n",
       "<!-- 32&#45;&gt;35 -->\r\n",
       "<g id=\"edge51\" class=\"edge\"><title>32&#45;&gt;35</title>\r\n",
       "<path fill=\"none\" stroke=\"black\" d=\"M1635,-251.868C1635,-241.417 1635,-229.301 1635,-218.609\"/>\r\n",
       "<polygon fill=\"black\" stroke=\"black\" points=\"1638.5,-218.507 1635,-208.507 1631.5,-218.507 1638.5,-218.507\"/>\r\n",
       "</g>\r\n",
       "<!-- 36 -->\r\n",
       "<g id=\"node53\" class=\"node\"><title>36</title>\r\n",
       "<path fill=\"#e58139\" fill-opacity=\"0.313725\" stroke=\"black\" d=\"M1838,-216C1838,-216 1700,-216 1700,-216 1694,-216 1688,-210 1688,-204 1688,-204 1688,-175 1688,-175 1688,-169 1694,-163 1700,-163 1700,-163 1838,-163 1838,-163 1844,-163 1850,-169 1850,-175 1850,-175 1850,-204 1850,-204 1850,-210 1844,-216 1838,-216\"/>\r\n",
       "<text text-anchor=\"middle\" x=\"1769\" y=\"-200.8\" font-family=\"Helvetica,sans-Serif\" font-size=\"14.00\">demand+1 &lt;= 22405.5</text>\r\n",
       "<text text-anchor=\"middle\" x=\"1769\" y=\"-185.8\" font-family=\"Helvetica,sans-Serif\" font-size=\"14.00\">1315</text>\r\n",
       "<text text-anchor=\"middle\" x=\"1769\" y=\"-170.8\" font-family=\"Helvetica,sans-Serif\" font-size=\"14.00\">20.4659</text>\r\n",
       "</g>\r\n",
       "<!-- 32&#45;&gt;36 -->\r\n",
       "<g id=\"edge52\" class=\"edge\"><title>32&#45;&gt;36</title>\r\n",
       "<path fill=\"none\" stroke=\"black\" d=\"M1674.48,-251.868C1688.94,-242.482 1705.46,-231.754 1720.61,-221.92\"/>\r\n",
       "<polygon fill=\"black\" stroke=\"black\" points=\"1722.86,-224.631 1729.34,-216.25 1719.05,-218.76 1722.86,-224.631\"/>\r\n",
       "</g>\r\n",
       "<!-- 37 -->\r\n",
       "<g id=\"node54\" class=\"node\"><title>37</title>\r\n",
       "<path fill=\"#e58139\" fill-opacity=\"0.372549\" stroke=\"black\" d=\"M1779,-119.5C1779,-119.5 1733,-119.5 1733,-119.5 1727,-119.5 1721,-113.5 1721,-107.5 1721,-107.5 1721,-93.5 1721,-93.5 1721,-87.5 1727,-81.5 1733,-81.5 1733,-81.5 1779,-81.5 1779,-81.5 1785,-81.5 1791,-87.5 1791,-93.5 1791,-93.5 1791,-107.5 1791,-107.5 1791,-113.5 1785,-119.5 1779,-119.5\"/>\r\n",
       "<text text-anchor=\"middle\" x=\"1756\" y=\"-104.3\" font-family=\"Helvetica,sans-Serif\" font-size=\"14.00\">258</text>\r\n",
       "<text text-anchor=\"middle\" x=\"1756\" y=\"-89.3\" font-family=\"Helvetica,sans-Serif\" font-size=\"14.00\">22.3293</text>\r\n",
       "</g>\r\n",
       "<!-- 36&#45;&gt;37 -->\r\n",
       "<g id=\"edge53\" class=\"edge\"><title>36&#45;&gt;37</title>\r\n",
       "<path fill=\"none\" stroke=\"black\" d=\"M1765.17,-162.868C1763.61,-152.417 1761.8,-140.301 1760.2,-129.609\"/>\r\n",
       "<polygon fill=\"black\" stroke=\"black\" points=\"1763.63,-128.88 1758.69,-119.507 1756.71,-129.914 1763.63,-128.88\"/>\r\n",
       "</g>\r\n",
       "<!-- 38 -->\r\n",
       "<g id=\"node55\" class=\"node\"><title>38</title>\r\n",
       "<path fill=\"#e58139\" fill-opacity=\"0.298039\" stroke=\"black\" d=\"M1935,-127C1935,-127 1821,-127 1821,-127 1815,-127 1809,-121 1809,-115 1809,-115 1809,-86 1809,-86 1809,-80 1815,-74 1821,-74 1821,-74 1935,-74 1935,-74 1941,-74 1947,-80 1947,-86 1947,-86 1947,-115 1947,-115 1947,-121 1941,-127 1935,-127\"/>\r\n",
       "<text text-anchor=\"middle\" x=\"1878\" y=\"-111.8\" font-family=\"Helvetica,sans-Serif\" font-size=\"14.00\">band&#45;24 &lt;= 20.705</text>\r\n",
       "<text text-anchor=\"middle\" x=\"1878\" y=\"-96.8\" font-family=\"Helvetica,sans-Serif\" font-size=\"14.00\">1057</text>\r\n",
       "<text text-anchor=\"middle\" x=\"1878\" y=\"-81.8\" font-family=\"Helvetica,sans-Serif\" font-size=\"14.00\">20.0031</text>\r\n",
       "</g>\r\n",
       "<!-- 36&#45;&gt;38 -->\r\n",
       "<g id=\"edge54\" class=\"edge\"><title>36&#45;&gt;38</title>\r\n",
       "<path fill=\"none\" stroke=\"black\" d=\"M1801.11,-162.868C1812.54,-153.745 1825.56,-143.354 1837.6,-133.749\"/>\r\n",
       "<polygon fill=\"black\" stroke=\"black\" points=\"1840.11,-136.223 1845.74,-127.25 1835.74,-130.752 1840.11,-136.223\"/>\r\n",
       "</g>\r\n",
       "<!-- 39 -->\r\n",
       "<g id=\"node56\" class=\"node\"><title>39</title>\r\n",
       "<path fill=\"#e58139\" fill-opacity=\"0.137255\" stroke=\"black\" d=\"M1857,-38C1857,-38 1811,-38 1811,-38 1805,-38 1799,-32 1799,-26 1799,-26 1799,-12 1799,-12 1799,-6 1805,-0 1811,-0 1811,-0 1857,-0 1857,-0 1863,-0 1869,-6 1869,-12 1869,-12 1869,-26 1869,-26 1869,-32 1863,-38 1857,-38\"/>\r\n",
       "<text text-anchor=\"middle\" x=\"1834\" y=\"-22.8\" font-family=\"Helvetica,sans-Serif\" font-size=\"14.00\">564</text>\r\n",
       "<text text-anchor=\"middle\" x=\"1834\" y=\"-7.8\" font-family=\"Helvetica,sans-Serif\" font-size=\"14.00\">14.8175</text>\r\n",
       "</g>\r\n",
       "<!-- 38&#45;&gt;39 -->\r\n",
       "<g id=\"edge55\" class=\"edge\"><title>38&#45;&gt;39</title>\r\n",
       "<path fill=\"none\" stroke=\"black\" d=\"M1863.84,-73.9081C1859.11,-65.3745 1853.84,-55.8395 1849.05,-47.1891\"/>\r\n",
       "<polygon fill=\"black\" stroke=\"black\" points=\"1852,-45.2934 1844.09,-38.2389 1845.87,-48.6831 1852,-45.2934\"/>\r\n",
       "</g>\r\n",
       "<!-- 40 -->\r\n",
       "<g id=\"node57\" class=\"node\"><title>40</title>\r\n",
       "<path fill=\"#e58139\" fill-opacity=\"0.486275\" stroke=\"black\" d=\"M1945,-38C1945,-38 1899,-38 1899,-38 1893,-38 1887,-32 1887,-26 1887,-26 1887,-12 1887,-12 1887,-6 1893,-0 1899,-0 1899,-0 1945,-0 1945,-0 1951,-0 1957,-6 1957,-12 1957,-12 1957,-26 1957,-26 1957,-32 1951,-38 1945,-38\"/>\r\n",
       "<text text-anchor=\"middle\" x=\"1922\" y=\"-22.8\" font-family=\"Helvetica,sans-Serif\" font-size=\"14.00\">493</text>\r\n",
       "<text text-anchor=\"middle\" x=\"1922\" y=\"-7.8\" font-family=\"Helvetica,sans-Serif\" font-size=\"14.00\">25.9142</text>\r\n",
       "</g>\r\n",
       "<!-- 38&#45;&gt;40 -->\r\n",
       "<g id=\"edge56\" class=\"edge\"><title>38&#45;&gt;40</title>\r\n",
       "<path fill=\"none\" stroke=\"black\" d=\"M1892.16,-73.9081C1896.89,-65.3745 1902.16,-55.8395 1906.95,-47.1891\"/>\r\n",
       "<polygon fill=\"black\" stroke=\"black\" points=\"1910.13,-48.6831 1911.91,-38.2389 1904,-45.2934 1910.13,-48.6831\"/>\r\n",
       "</g>\r\n",
       "</g>\r\n",
       "</svg>\r\n"
      ],
      "text/plain": [
       "<graphviz.files.Source at 0x200820e13c8>"
      ]
     },
     "execution_count": 91,
     "metadata": {},
     "output_type": "execute_result"
    }
   ],
   "source": [
    "export_graphviz(rfr.estimators_[12], out_file=\"0.dot\", max_depth=None, feature_names=features_list, label='none',\n",
    "               filled=True, leaves_parallel=False, impurity=False, node_ids=False, proportion=False, rotate=False,\n",
    "               rounded=True, special_characters=False)\n",
    "with open(\"0.dot\") as f:\n",
    "    dot_graph = f.read()\n",
    "graphviz.Source(dot_graph)"
   ]
  },
  {
   "cell_type": "code",
   "execution_count": null,
   "metadata": {
    "collapsed": true
   },
   "outputs": [],
   "source": []
  }
 ],
 "metadata": {
  "anaconda-cloud": {},
  "kernelspec": {
   "display_name": "Python [Root]",
   "language": "python",
   "name": "Python [Root]"
  },
  "language_info": {
   "codemirror_mode": {
    "name": "ipython",
    "version": 3
   },
   "file_extension": ".py",
   "mimetype": "text/x-python",
   "name": "python",
   "nbconvert_exporter": "python",
   "pygments_lexer": "ipython3",
   "version": "3.5.2"
  }
 },
 "nbformat": 4,
 "nbformat_minor": 0
}
