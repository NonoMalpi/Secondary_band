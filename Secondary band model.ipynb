{
 "cells": [
  {
   "cell_type": "code",
   "execution_count": 1,
   "metadata": {
    "collapsed": true
   },
   "outputs": [],
   "source": [
    "import pandas as pd\n",
    "import numpy as np\n",
    "import matplotlib.pyplot as plt\n",
    "import seaborn.apionly as sns\n",
    "import datetime\n",
    "import warnings\n",
    "%matplotlib inline\n",
    "plt.style.use('ggplot')\n",
    "warnings.filterwarnings('ignore')"
   ]
  },
  {
   "cell_type": "code",
   "execution_count": 2,
   "metadata": {
    "collapsed": true
   },
   "outputs": [],
   "source": [
    "def get_clean_data(df_original):\n",
    "    weekday_dict = {\n",
    "        0:'Wd', 1:'Wd', 2:'Wd', 3:'Wd', 4:'Wd', 5:'F', 6:'F' \n",
    "    }\n",
    "    \n",
    "    df = df_original.copy(deep=True)\n",
    "    df['date'] =  pd.to_datetime(df['datetime'].apply(lambda x: x[:10]), format='%Y-%m-%d')\n",
    "    df['year'] = df['date'].dt.year\n",
    "    df['time'] = pd.to_datetime(df['datetime'].apply(lambda x: x[:19])).dt.time\n",
    "    df['month'] = df['date'].dt.month\n",
    "    df['day'] = df['date'].dt.day\n",
    "    df['hour'] = df['datetime'].apply(lambda x: x[11:13]).astype(int)\n",
    "    df['minute'] = df['datetime'].apply(lambda x: x[14:16]).astype(int)\n",
    "    df['weekday'] = df['date'].dt.dayofweek\n",
    "    df.replace({'weekday':weekday_dict}, inplace=True)\n",
    "    df['season'] = np.where(df['month'].isin(list(range(4,10))), 'summer', 'winter')\n",
    "    df['date_hour'] = df.apply(lambda x: datetime.datetime.combine(x['date'], x['time']), axis=1)\n",
    "    df.set_index('date_hour', inplace=True)\n",
    "    df = df[df.index < '2017']\n",
    "    clean_df = df[['date', 'year', 'month', 'season', 'day','weekday','time', 'hour', 'minute', 'value']]\n",
    "    clean_df = clean_df[~clean_df.index.duplicated()]\n",
    "    clean_df['hour'] = np.where(clean_df['hour'].isin(np.arange(9,23)), 'Peak', 'off_peak')\n",
    "    clean_df['value'] = np.log1p(clean_df['value'])\n",
    "    clean_df_freq = clean_df.asfreq('H')\n",
    "    \n",
    "    return clean_df_freq"
   ]
  },
  {
   "cell_type": "markdown",
   "metadata": {},
   "source": [
    "### df with secondary band, spot price and demand "
   ]
  },
  {
   "cell_type": "code",
   "execution_count": 3,
   "metadata": {
    "collapsed": false
   },
   "outputs": [],
   "source": [
    "raw_band_price = pd.read_csv('export_PrecioBandaDeRegulaciónSecundaria_2017-01-15_19-11.csv', encoding='latin1', delimiter=';')\n",
    "band_price = get_clean_data(raw_band_price)\n",
    "band_price = band_price.rename(columns={'value':'band'})"
   ]
  },
  {
   "cell_type": "code",
   "execution_count": 4,
   "metadata": {
    "collapsed": false
   },
   "outputs": [],
   "source": [
    "raw_spot_price = pd.read_csv('export_PrecioMercadoSPOTDiario_2017-02-02_09-47.csv', encoding='latin1', delimiter=';')\n",
    "raw_spot_price = raw_spot_price[raw_spot_price['geoid'] == 3]\n",
    "spot_price = get_clean_data(raw_spot_price)\n",
    "spot_price = spot_price.rename(columns={'value':'spot'})"
   ]
  },
  {
   "cell_type": "code",
   "execution_count": 5,
   "metadata": {
    "collapsed": true
   },
   "outputs": [],
   "source": [
    "raw_demand = pd.read_csv('export_DemandaProgramada_2017-02-02_09-45.csv', encoding='latin1', delimiter=';')\n",
    "demand = get_clean_data(raw_demand)\n",
    "demand = demand.rename(columns={'value':'demand'})"
   ]
  },
  {
   "cell_type": "code",
   "execution_count": 6,
   "metadata": {
    "collapsed": true
   },
   "outputs": [],
   "source": [
    "spot_band_demand = band_price.merge(spot_price[['spot']], how='left', left_index=True, right_index=True)\n",
    "spot_band_demand = spot_band_demand.merge(demand[['demand']], how='left', left_index=True, right_index=True)"
   ]
  },
  {
   "cell_type": "code",
   "execution_count": 7,
   "metadata": {
    "collapsed": false
   },
   "outputs": [],
   "source": [
    "spot_band_demand = spot_band_demand[['hour', 'weekday', 'season', 'spot','demand', 'band']]"
   ]
  },
  {
   "cell_type": "code",
   "execution_count": 8,
   "metadata": {
    "collapsed": true
   },
   "outputs": [],
   "source": [
    "for feature in ['hour', 'weekday', 'season']:\n",
    "    spot_band_demand[pd.get_dummies(spot_band_demand[feature], drop_first=True).columns.tolist()] = pd.get_dummies(spot_band_demand[feature], drop_first=True)"
   ]
  },
  {
   "cell_type": "code",
   "execution_count": 9,
   "metadata": {
    "collapsed": false
   },
   "outputs": [],
   "source": [
    "for feature in ['demand', 'spot']:\n",
    "    spot_band_demand[feature + '-1'] = spot_band_demand[feature].shift(periods=+1)\n",
    "    spot_band_demand[feature + '-24'] = spot_band_demand[feature].shift(periods=+24)\n",
    "spot_band_demand['band-24'] = spot_band_demand['band'].shift(periods=24)\n",
    "spot_band_demand.dropna(subset=['demand-1', 'spot-1', 'demand-24', 'spot-24', 'band-24'], inplace=True)"
   ]
  },
  {
   "cell_type": "markdown",
   "metadata": {},
   "source": [
    "### Preprocessing for Decision Tree"
   ]
  },
  {
   "cell_type": "code",
   "execution_count": 11,
   "metadata": {
    "collapsed": false
   },
   "outputs": [],
   "source": [
    "from sklearn.tree import DecisionTreeRegressor\n",
    "from sklearn.model_selection import KFold, train_test_split, RandomizedSearchCV, GridSearchCV\n",
    "from sklearn.metrics import mean_squared_error, mean_absolute_error\n",
    "from sklearn import tree as tree_m\n",
    "from sklearn.tree import export_graphviz\n",
    "import graphviz"
   ]
  },
  {
   "cell_type": "code",
   "execution_count": 12,
   "metadata": {
    "collapsed": true
   },
   "outputs": [],
   "source": [
    "#Set features and output\n",
    "X = spot_band_demand.drop(labels=['hour', 'weekday','season', 'band'], axis=1).values\n",
    "Y = spot_band_demand['band'].values"
   ]
  },
  {
   "cell_type": "code",
   "execution_count": 13,
   "metadata": {
    "collapsed": false
   },
   "outputs": [
    {
     "data": {
      "text/html": [
       "<div>\n",
       "<table border=\"1\" class=\"dataframe\">\n",
       "  <thead>\n",
       "    <tr style=\"text-align: right;\">\n",
       "      <th></th>\n",
       "      <th>spot</th>\n",
       "      <th>demand</th>\n",
       "      <th>off_peak</th>\n",
       "      <th>Wd</th>\n",
       "      <th>winter</th>\n",
       "      <th>demand-1</th>\n",
       "      <th>demand-24</th>\n",
       "      <th>spot-1</th>\n",
       "      <th>spot-24</th>\n",
       "      <th>band-24</th>\n",
       "    </tr>\n",
       "  </thead>\n",
       "  <tbody>\n",
       "    <tr>\n",
       "      <th>spot</th>\n",
       "      <td>1.000000</td>\n",
       "      <td>0.331452</td>\n",
       "      <td>-2.107577e-01</td>\n",
       "      <td>1.954997e-01</td>\n",
       "      <td>-1.118234e-01</td>\n",
       "      <td>0.308300</td>\n",
       "      <td>0.244857</td>\n",
       "      <td>0.967238</td>\n",
       "      <td>0.743800</td>\n",
       "      <td>-0.295832</td>\n",
       "    </tr>\n",
       "    <tr>\n",
       "      <th>demand</th>\n",
       "      <td>0.331452</td>\n",
       "      <td>1.000000</td>\n",
       "      <td>-6.699812e-01</td>\n",
       "      <td>3.851586e-01</td>\n",
       "      <td>7.240360e-02</td>\n",
       "      <td>0.950607</td>\n",
       "      <td>0.811914</td>\n",
       "      <td>0.311336</td>\n",
       "      <td>0.240190</td>\n",
       "      <td>-0.353952</td>\n",
       "    </tr>\n",
       "    <tr>\n",
       "      <th>off_peak</th>\n",
       "      <td>-0.210758</td>\n",
       "      <td>-0.669981</td>\n",
       "      <td>1.000000e+00</td>\n",
       "      <td>8.301321e-17</td>\n",
       "      <td>3.785815e-17</td>\n",
       "      <td>-0.633823</td>\n",
       "      <td>-0.669360</td>\n",
       "      <td>-0.192752</td>\n",
       "      <td>-0.209136</td>\n",
       "      <td>0.335134</td>\n",
       "    </tr>\n",
       "    <tr>\n",
       "      <th>Wd</th>\n",
       "      <td>0.195500</td>\n",
       "      <td>0.385159</td>\n",
       "      <td>8.301321e-17</td>\n",
       "      <td>1.000000e+00</td>\n",
       "      <td>-3.754593e-03</td>\n",
       "      <td>0.380531</td>\n",
       "      <td>0.048825</td>\n",
       "      <td>0.194077</td>\n",
       "      <td>0.012664</td>\n",
       "      <td>-0.054205</td>\n",
       "    </tr>\n",
       "    <tr>\n",
       "      <th>winter</th>\n",
       "      <td>-0.111823</td>\n",
       "      <td>0.072404</td>\n",
       "      <td>3.785815e-17</td>\n",
       "      <td>-3.754593e-03</td>\n",
       "      <td>1.000000e+00</td>\n",
       "      <td>0.072325</td>\n",
       "      <td>0.071415</td>\n",
       "      <td>-0.111743</td>\n",
       "      <td>-0.110365</td>\n",
       "      <td>0.089186</td>\n",
       "    </tr>\n",
       "    <tr>\n",
       "      <th>demand-1</th>\n",
       "      <td>0.308300</td>\n",
       "      <td>0.950607</td>\n",
       "      <td>-6.338228e-01</td>\n",
       "      <td>3.805307e-01</td>\n",
       "      <td>7.232508e-02</td>\n",
       "      <td>1.000000</td>\n",
       "      <td>0.773877</td>\n",
       "      <td>0.331478</td>\n",
       "      <td>0.224937</td>\n",
       "      <td>-0.330597</td>\n",
       "    </tr>\n",
       "    <tr>\n",
       "      <th>demand-24</th>\n",
       "      <td>0.244857</td>\n",
       "      <td>0.811914</td>\n",
       "      <td>-6.693597e-01</td>\n",
       "      <td>4.882523e-02</td>\n",
       "      <td>7.141492e-02</td>\n",
       "      <td>0.773877</td>\n",
       "      <td>1.000000</td>\n",
       "      <td>0.229392</td>\n",
       "      <td>0.333904</td>\n",
       "      <td>-0.452303</td>\n",
       "    </tr>\n",
       "    <tr>\n",
       "      <th>spot-1</th>\n",
       "      <td>0.967238</td>\n",
       "      <td>0.311336</td>\n",
       "      <td>-1.927516e-01</td>\n",
       "      <td>1.940771e-01</td>\n",
       "      <td>-1.117432e-01</td>\n",
       "      <td>0.331478</td>\n",
       "      <td>0.229392</td>\n",
       "      <td>1.000000</td>\n",
       "      <td>0.736396</td>\n",
       "      <td>-0.286688</td>\n",
       "    </tr>\n",
       "    <tr>\n",
       "      <th>spot-24</th>\n",
       "      <td>0.743800</td>\n",
       "      <td>0.240190</td>\n",
       "      <td>-2.091356e-01</td>\n",
       "      <td>1.266361e-02</td>\n",
       "      <td>-1.103646e-01</td>\n",
       "      <td>0.224937</td>\n",
       "      <td>0.333904</td>\n",
       "      <td>0.736396</td>\n",
       "      <td>1.000000</td>\n",
       "      <td>-0.436683</td>\n",
       "    </tr>\n",
       "    <tr>\n",
       "      <th>band-24</th>\n",
       "      <td>-0.295832</td>\n",
       "      <td>-0.353952</td>\n",
       "      <td>3.351342e-01</td>\n",
       "      <td>-5.420461e-02</td>\n",
       "      <td>8.918638e-02</td>\n",
       "      <td>-0.330597</td>\n",
       "      <td>-0.452303</td>\n",
       "      <td>-0.286688</td>\n",
       "      <td>-0.436683</td>\n",
       "      <td>1.000000</td>\n",
       "    </tr>\n",
       "  </tbody>\n",
       "</table>\n",
       "</div>"
      ],
      "text/plain": [
       "               spot    demand      off_peak            Wd        winter  \\\n",
       "spot       1.000000  0.331452 -2.107577e-01  1.954997e-01 -1.118234e-01   \n",
       "demand     0.331452  1.000000 -6.699812e-01  3.851586e-01  7.240360e-02   \n",
       "off_peak  -0.210758 -0.669981  1.000000e+00  8.301321e-17  3.785815e-17   \n",
       "Wd         0.195500  0.385159  8.301321e-17  1.000000e+00 -3.754593e-03   \n",
       "winter    -0.111823  0.072404  3.785815e-17 -3.754593e-03  1.000000e+00   \n",
       "demand-1   0.308300  0.950607 -6.338228e-01  3.805307e-01  7.232508e-02   \n",
       "demand-24  0.244857  0.811914 -6.693597e-01  4.882523e-02  7.141492e-02   \n",
       "spot-1     0.967238  0.311336 -1.927516e-01  1.940771e-01 -1.117432e-01   \n",
       "spot-24    0.743800  0.240190 -2.091356e-01  1.266361e-02 -1.103646e-01   \n",
       "band-24   -0.295832 -0.353952  3.351342e-01 -5.420461e-02  8.918638e-02   \n",
       "\n",
       "           demand-1  demand-24    spot-1   spot-24   band-24  \n",
       "spot       0.308300   0.244857  0.967238  0.743800 -0.295832  \n",
       "demand     0.950607   0.811914  0.311336  0.240190 -0.353952  \n",
       "off_peak  -0.633823  -0.669360 -0.192752 -0.209136  0.335134  \n",
       "Wd         0.380531   0.048825  0.194077  0.012664 -0.054205  \n",
       "winter     0.072325   0.071415 -0.111743 -0.110365  0.089186  \n",
       "demand-1   1.000000   0.773877  0.331478  0.224937 -0.330597  \n",
       "demand-24  0.773877   1.000000  0.229392  0.333904 -0.452303  \n",
       "spot-1     0.331478   0.229392  1.000000  0.736396 -0.286688  \n",
       "spot-24    0.224937   0.333904  0.736396  1.000000 -0.436683  \n",
       "band-24   -0.330597  -0.452303 -0.286688 -0.436683  1.000000  "
      ]
     },
     "execution_count": 13,
     "metadata": {},
     "output_type": "execute_result"
    }
   ],
   "source": [
    "spot_band_demand.drop(labels=['hour', 'weekday','season', 'band'], axis=1).corr()"
   ]
  },
  {
   "cell_type": "code",
   "execution_count": 14,
   "metadata": {
    "collapsed": true
   },
   "outputs": [],
   "source": [
    "features_list = spot_band_demand.drop(labels=['hour', 'weekday','season', 'band'], axis=1).columns.tolist()"
   ]
  },
  {
   "cell_type": "code",
   "execution_count": 55,
   "metadata": {
    "collapsed": true
   },
   "outputs": [],
   "source": [
    "#Split data set into train and test\n",
    "x_train, x_test, y_train, y_test = train_test_split(X, Y, train_size=0.8, \n",
    "                                                    test_size=0.2, random_state=1)"
   ]
  },
  {
   "cell_type": "markdown",
   "metadata": {
    "collapsed": false
   },
   "source": [
    "### Randomized Search CV"
   ]
  },
  {
   "cell_type": "code",
   "execution_count": 16,
   "metadata": {
    "collapsed": false
   },
   "outputs": [],
   "source": [
    "params = {\n",
    "    'criterion':['mse'],\n",
    "    'splitter':['best','random'],\n",
    "    'max_features':['auto','log2', 'sqrt'],\n",
    "    'max_depth':np.arange(2,10), 'min_samples_split':np.linspace(50, 1000, 200).astype(int),\n",
    "    'min_samples_leaf': np.linspace(200, 2500, 50).astype(int), 'max_leaf_nodes': np.linspace(10,180, 40).astype(int)\n",
    "}"
   ]
  },
  {
   "cell_type": "code",
   "execution_count": 17,
   "metadata": {
    "collapsed": false
   },
   "outputs": [],
   "source": [
    "#Random search, set up tree and cross-validation\n",
    "tree = DecisionTreeRegressor()\n",
    "kf = KFold(n_splits=5)\n",
    "\n",
    "#Randomized Search CV for tree\n",
    "random_search = RandomizedSearchCV(tree, param_distributions=params, n_jobs=-1, n_iter=350,\n",
    "                                scoring='neg_mean_squared_error', cv=list(kf.split(x_train,y_train)), random_state=0)"
   ]
  },
  {
   "cell_type": "code",
   "execution_count": 18,
   "metadata": {
    "collapsed": false
   },
   "outputs": [],
   "source": [
    "random_search.fit(x_train, y_train);"
   ]
  },
  {
   "cell_type": "code",
   "execution_count": 21,
   "metadata": {
    "collapsed": false
   },
   "outputs": [
    {
     "name": "stdout",
     "output_type": "stream",
     "text": [
      "{'min_samples_leaf': 293, 'splitter': 'best', 'max_features': 'auto', 'min_samples_split': 408, 'criterion': 'mse', 'max_leaf_nodes': 140, 'max_depth': 6}\n"
     ]
    }
   ],
   "source": [
    "best_params = random_search.cv_results_['params'][np.flatnonzero(random_search.cv_results_['rank_test_score']==1)[0]]\n",
    "print(best_params)"
   ]
  },
  {
   "cell_type": "code",
   "execution_count": 22,
   "metadata": {
    "collapsed": false
   },
   "outputs": [
    {
     "data": {
      "text/plain": [
       "DecisionTreeRegressor(criterion='mse', max_depth=6, max_features='auto',\n",
       "           max_leaf_nodes=140, min_impurity_split=1e-07,\n",
       "           min_samples_leaf=293, min_samples_split=408,\n",
       "           min_weight_fraction_leaf=0.0, presort=False, random_state=0,\n",
       "           splitter='best')"
      ]
     },
     "execution_count": 22,
     "metadata": {},
     "output_type": "execute_result"
    }
   ],
   "source": [
    "tree.set_params(**best_params, random_state=0)"
   ]
  },
  {
   "cell_type": "code",
   "execution_count": 23,
   "metadata": {
    "collapsed": false
   },
   "outputs": [
    {
     "name": "stdout",
     "output_type": "stream",
     "text": [
      "Mean absolute error: 5.6736 +- 0.1224\n",
      "Mean squared error: 74.6409 +- 7.3130\n"
     ]
    }
   ],
   "source": [
    "#CV with kfold=5\n",
    "kf = KFold(n_splits=5, random_state=0)\n",
    "\n",
    "CV_mse = list()\n",
    "CV_mae = list()\n",
    "\n",
    "for train_index, test_index in kf.split(x_train, y_train):\n",
    "    tree.fit(x_train[train_index], y_train[train_index])\n",
    "    y_pred = tree.predict(x_train[test_index])\n",
    "    CV_mae.append(mean_absolute_error(np.exp(y_train[test_index]), np.exp(y_pred)))\n",
    "    CV_mse.append(mean_squared_error(np.exp(y_train[test_index]), np.exp(y_pred)))\n",
    "    \n",
    "print('Mean absolute error: %0.4f +- %0.4f' %(np.mean(CV_mae), 2*np.std(CV_mae)))\n",
    "print('Mean squared error: %0.4f +- %0.4f' %(np.mean(CV_mse), 2*np.std(CV_mse)))"
   ]
  },
  {
   "cell_type": "code",
   "execution_count": 24,
   "metadata": {
    "collapsed": false
   },
   "outputs": [
    {
     "data": {
      "text/plain": [
       "([5.6920443561673677,\n",
       "  5.7568515011122958,\n",
       "  5.652656678001561,\n",
       "  5.6955584492812781,\n",
       "  5.5710125094500595],\n",
       " [73.198639443948068,\n",
       "  78.06729186196533,\n",
       "  69.412998328704404,\n",
       "  79.459508584056422,\n",
       "  73.066234894199425])"
      ]
     },
     "execution_count": 24,
     "metadata": {},
     "output_type": "execute_result"
    }
   ],
   "source": [
    "CV_mae, CV_mse"
   ]
  },
  {
   "cell_type": "code",
   "execution_count": 25,
   "metadata": {
    "collapsed": false
   },
   "outputs": [
    {
     "name": "stdout",
     "output_type": "stream",
     "text": [
      "MAE: 5.4608076777, MSE: 69.8308737933\n"
     ]
    }
   ],
   "source": [
    "tree.fit(x_train, y_train)\n",
    "print('MAE: ' +str(mean_absolute_error(np.exp(y_train), np.exp(tree.predict(x_train))))+', MSE: ' +\n",
    "      str(mean_squared_error(np.exp(y_train), np.exp(tree.predict(x_train)))))"
   ]
  },
  {
   "cell_type": "code",
   "execution_count": 26,
   "metadata": {
    "collapsed": false
   },
   "outputs": [
    {
     "name": "stdout",
     "output_type": "stream",
     "text": [
      "MAE: 5.45480276258, MSE: 69.0471404626\n"
     ]
    },
    {
     "data": {
      "text/html": [
       "<div>\n",
       "<table border=\"1\" class=\"dataframe\">\n",
       "  <thead>\n",
       "    <tr style=\"text-align: right;\">\n",
       "      <th></th>\n",
       "      <th>0</th>\n",
       "    </tr>\n",
       "  </thead>\n",
       "  <tbody>\n",
       "    <tr>\n",
       "      <th>spot</th>\n",
       "      <td>0.127965</td>\n",
       "    </tr>\n",
       "    <tr>\n",
       "      <th>demand</th>\n",
       "      <td>0.102587</td>\n",
       "    </tr>\n",
       "    <tr>\n",
       "      <th>off_peak</th>\n",
       "      <td>0.000000</td>\n",
       "    </tr>\n",
       "    <tr>\n",
       "      <th>Wd</th>\n",
       "      <td>0.043122</td>\n",
       "    </tr>\n",
       "    <tr>\n",
       "      <th>winter</th>\n",
       "      <td>0.000000</td>\n",
       "    </tr>\n",
       "    <tr>\n",
       "      <th>demand-1</th>\n",
       "      <td>0.000000</td>\n",
       "    </tr>\n",
       "    <tr>\n",
       "      <th>demand-24</th>\n",
       "      <td>0.016356</td>\n",
       "    </tr>\n",
       "    <tr>\n",
       "      <th>spot-1</th>\n",
       "      <td>0.002283</td>\n",
       "    </tr>\n",
       "    <tr>\n",
       "      <th>spot-24</th>\n",
       "      <td>0.042762</td>\n",
       "    </tr>\n",
       "    <tr>\n",
       "      <th>band-24</th>\n",
       "      <td>0.664925</td>\n",
       "    </tr>\n",
       "  </tbody>\n",
       "</table>\n",
       "</div>"
      ],
      "text/plain": [
       "                  0\n",
       "spot       0.127965\n",
       "demand     0.102587\n",
       "off_peak   0.000000\n",
       "Wd         0.043122\n",
       "winter     0.000000\n",
       "demand-1   0.000000\n",
       "demand-24  0.016356\n",
       "spot-1     0.002283\n",
       "spot-24    0.042762\n",
       "band-24    0.664925"
      ]
     },
     "execution_count": 26,
     "metadata": {},
     "output_type": "execute_result"
    }
   ],
   "source": [
    "#Print test error and feature importance\n",
    "print('MAE: ' +str(mean_absolute_error(np.exp(y_test), np.exp(tree.predict(x_test))))+', MSE: ' +\n",
    "      str(mean_squared_error(np.exp(y_test), np.exp(tree.predict(x_test)))))\n",
    "pd.DataFrame(data=tree.feature_importances_, index=features_list)"
   ]
  },
  {
   "cell_type": "code",
   "execution_count": null,
   "metadata": {
    "collapsed": false,
    "scrolled": true
   },
   "outputs": [],
   "source": [
    "#Plot tree with graphviz\n",
    "export_graphviz(tree, out_file=\"mytree.dot\", max_depth=None, feature_names=features_list, label='none',\n",
    "               filled=True, leaves_parallel=False, impurity=False, node_ids=False, proportion=False, rotate=False,\n",
    "               rounded=True, special_characters=False)\n",
    "with open(\"mytree.dot\") as f:\n",
    "    dot_graph = f.read()\n",
    "graphviz.Source(dot_graph)"
   ]
  },
  {
   "cell_type": "code",
   "execution_count": null,
   "metadata": {
    "collapsed": false
   },
   "outputs": [],
   "source": [
    "#Convert tree.dot into pdf\n",
    "#graphviz.render(engine='dot', format='pdf', filepath='C:\\\\Users\\\\Usuario\\\\Desktop\\\\Master_Thesis\\\\Secondary_reserve_TS\\\\mytree.dot')"
   ]
  },
  {
   "cell_type": "markdown",
   "metadata": {
    "collapsed": false
   },
   "source": [
    "### Random forest Regressor"
   ]
  },
  {
   "cell_type": "code",
   "execution_count": 27,
   "metadata": {
    "collapsed": true
   },
   "outputs": [],
   "source": [
    "from sklearn.ensemble import RandomForestRegressor"
   ]
  },
  {
   "cell_type": "code",
   "execution_count": 28,
   "metadata": {
    "collapsed": true
   },
   "outputs": [],
   "source": [
    "rfr = RandomForestRegressor()"
   ]
  },
  {
   "cell_type": "code",
   "execution_count": 29,
   "metadata": {
    "collapsed": false
   },
   "outputs": [],
   "source": [
    "params_forest = {\n",
    "    'n_estimators':np.linspace(5, 200, 50).astype(int),\n",
    "    'n_jobs':[-1],\n",
    "    'criterion':['mse'], 'bootstrap':[True],\n",
    "    'max_features':['auto','log2', 'sqrt'],\n",
    "    'max_depth':np.arange(2,10), 'min_samples_split':np.linspace(50, 1000, 200).astype(int),\n",
    "    'min_samples_leaf': np.linspace(200, 2500, 50).astype(int), 'max_leaf_nodes': np.linspace(10,180, 40).astype(int)\n",
    "}"
   ]
  },
  {
   "cell_type": "code",
   "execution_count": 30,
   "metadata": {
    "collapsed": true
   },
   "outputs": [],
   "source": [
    "kf = KFold(n_splits=5, random_state=0)\n",
    "\n",
    "#Randomized Search CV for random forest\n",
    "random_search = RandomizedSearchCV(rfr, param_distributions=params_forest, n_jobs=-1, n_iter=350,\n",
    "                                scoring='neg_mean_squared_error', cv=list(kf.split(x_train,y_train)), random_state=0)"
   ]
  },
  {
   "cell_type": "code",
   "execution_count": 31,
   "metadata": {
    "collapsed": false
   },
   "outputs": [
    {
     "name": "stdout",
     "output_type": "stream",
     "text": [
      "Wall time: 10min 19s\n"
     ]
    },
    {
     "data": {
      "text/plain": [
       "RandomizedSearchCV(cv=[(array([ 4205,  4206, ..., 21022, 21023]), array([   0,    1, ..., 4203, 4204])), (array([    0,     1, ..., 21022, 21023]), array([4205, 4206, ..., 8408, 8409])), (array([    0,     1, ..., 21022, 21023]), array([ 8410,  8411, ..., 12613, 12614])), (array([    0,     1, ..., 21022, 21023]), array([12615, 12616, ..., 16818, 16819])), (array([    0,     1, ..., 16818, 16819]), array([16820, 16821, ..., 21022, 21023]))],\n",
       "          error_score='raise',\n",
       "          estimator=RandomForestRegressor(bootstrap=True, criterion='mse', max_depth=None,\n",
       "           max_features='auto', max_leaf_nodes=None,\n",
       "           min_impurity_split=1e-07, min_samples_leaf=1,\n",
       "           min_samples_split=2, min_weight_fraction_leaf=0.0,\n",
       "           n_estimators=10, n_jobs=1, oob_score=False, random_state=None,\n",
       "           verbose=0, warm_start=False),\n",
       "          fit_params={}, iid=True, n_iter=350, n_jobs=-1,\n",
       "          param_distributions={'min_samples_leaf': array([ 200,  246,  293,  340,  387,  434,  481,  528,  575,  622,  669,\n",
       "        716,  763,  810,  857,  904,  951,  997, 1044, 1091, 1138, 1185,\n",
       "       1232, 1279, 1326, 1373, 1420, 1467, 1514, 1561, 1608, 1655, 1702,\n",
       "       1748, 1795, 1842, 1889, 1936, 198...175, 180]), 'criterion': ['mse'], 'bootstrap': [True], 'max_depth': array([2, 3, 4, 5, 6, 7, 8, 9])},\n",
       "          pre_dispatch='2*n_jobs', random_state=0, refit=True,\n",
       "          return_train_score=True, scoring='neg_mean_squared_error',\n",
       "          verbose=0)"
      ]
     },
     "execution_count": 31,
     "metadata": {},
     "output_type": "execute_result"
    }
   ],
   "source": [
    "%%time\n",
    "random_search.fit(x_train, y_train);"
   ]
  },
  {
   "cell_type": "code",
   "execution_count": 32,
   "metadata": {
    "collapsed": false
   },
   "outputs": [
    {
     "name": "stdout",
     "output_type": "stream",
     "text": [
      "{'min_samples_leaf': 246, 'max_features': 'auto', 'min_samples_split': 350, 'n_jobs': -1, 'n_estimators': 104, 'max_leaf_nodes': 149, 'criterion': 'mse', 'bootstrap': True, 'max_depth': 5}\n"
     ]
    }
   ],
   "source": [
    "best_params = random_search.cv_results_['params'][np.flatnonzero(random_search.cv_results_['rank_test_score']==1)[0]]\n",
    "print(best_params)"
   ]
  },
  {
   "cell_type": "code",
   "execution_count": 33,
   "metadata": {
    "collapsed": false
   },
   "outputs": [
    {
     "data": {
      "text/plain": [
       "RandomForestRegressor(bootstrap=True, criterion='mse', max_depth=5,\n",
       "           max_features='auto', max_leaf_nodes=149,\n",
       "           min_impurity_split=1e-07, min_samples_leaf=246,\n",
       "           min_samples_split=350, min_weight_fraction_leaf=0.0,\n",
       "           n_estimators=104, n_jobs=-1, oob_score=False, random_state=0,\n",
       "           verbose=0, warm_start=False)"
      ]
     },
     "execution_count": 33,
     "metadata": {},
     "output_type": "execute_result"
    }
   ],
   "source": [
    "rfr.set_params(**best_params, random_state=0)"
   ]
  },
  {
   "cell_type": "code",
   "execution_count": 39,
   "metadata": {
    "collapsed": false
   },
   "outputs": [
    {
     "name": "stdout",
     "output_type": "stream",
     "text": [
      "Mean absolute error: 5.4841 +- 0.1262\n",
      "Mean squared error: 71.7650 +- 8.0756\n"
     ]
    }
   ],
   "source": [
    "#CV with kfold=5\n",
    "kf = KFold(n_splits=5, random_state=0)\n",
    "\n",
    "CV_mse = list()\n",
    "CV_mae = list()\n",
    "\n",
    "for train_index, test_index in kf.split(x_train, y_train):\n",
    "    rfr.fit(x_train[train_index], y_train[train_index])\n",
    "    y_pred = rfr.predict(x_train[test_index])\n",
    "    CV_mae.append(mean_absolute_error(np.exp(y_train[test_index]), np.exp(y_pred)))\n",
    "    CV_mse.append(mean_squared_error(np.exp(y_train[test_index]), np.exp(y_pred)))\n",
    "    \n",
    "print('Mean absolute error: %0.4f +- %0.4f' %(np.mean(CV_mae), 2*np.std(CV_mae)))\n",
    "print('Mean squared error: %0.4f +- %0.4f' %(np.mean(CV_mse), 2*np.std(CV_mse)))"
   ]
  },
  {
   "cell_type": "code",
   "execution_count": 40,
   "metadata": {
    "collapsed": false
   },
   "outputs": [
    {
     "data": {
      "text/plain": [
       "([5.4252327363260031,\n",
       "  5.5584097078655006,\n",
       "  5.4504525723945436,\n",
       "  5.5625307562456312,\n",
       "  5.4238679150526448],\n",
       " [67.83331129191798,\n",
       "  74.280080064609237,\n",
       "  66.981019322891441,\n",
       "  77.833964937248254,\n",
       "  71.896860910513013])"
      ]
     },
     "execution_count": 40,
     "metadata": {},
     "output_type": "execute_result"
    }
   ],
   "source": [
    "CV_mae, CV_mse"
   ]
  },
  {
   "cell_type": "code",
   "execution_count": 41,
   "metadata": {
    "collapsed": false
   },
   "outputs": [
    {
     "data": {
      "text/plain": [
       "RandomForestRegressor(bootstrap=True, criterion='mse', max_depth=5,\n",
       "           max_features='auto', max_leaf_nodes=149,\n",
       "           min_impurity_split=1e-07, min_samples_leaf=246,\n",
       "           min_samples_split=350, min_weight_fraction_leaf=0.0,\n",
       "           n_estimators=104, n_jobs=-1, oob_score=False, random_state=0,\n",
       "           verbose=0, warm_start=False)"
      ]
     },
     "execution_count": 41,
     "metadata": {},
     "output_type": "execute_result"
    }
   ],
   "source": [
    "rfr.fit(x_train, y_train)"
   ]
  },
  {
   "cell_type": "code",
   "execution_count": 42,
   "metadata": {
    "collapsed": false
   },
   "outputs": [
    {
     "name": "stdout",
     "output_type": "stream",
     "text": [
      "Training MAE: 5.36168003756, Training MSE: 68.4824772971\n"
     ]
    }
   ],
   "source": [
    "print('Training MAE: ' +str(mean_absolute_error(np.exp(y_train), np.exp(rfr.predict(x_train))))+', Training MSE: ' +\n",
    "      str(mean_squared_error(np.exp(y_train), np.exp(rfr.predict(x_train)))))"
   ]
  },
  {
   "cell_type": "code",
   "execution_count": 38,
   "metadata": {
    "collapsed": false
   },
   "outputs": [
    {
     "name": "stdout",
     "output_type": "stream",
     "text": [
      "MAE: 5.29036110853, MSE: 66.8473291781\n"
     ]
    },
    {
     "data": {
      "text/html": [
       "<div>\n",
       "<table border=\"1\" class=\"dataframe\">\n",
       "  <thead>\n",
       "    <tr style=\"text-align: right;\">\n",
       "      <th></th>\n",
       "      <th>0</th>\n",
       "    </tr>\n",
       "  </thead>\n",
       "  <tbody>\n",
       "    <tr>\n",
       "      <th>spot</th>\n",
       "      <td>0.148761</td>\n",
       "    </tr>\n",
       "    <tr>\n",
       "      <th>demand</th>\n",
       "      <td>0.091712</td>\n",
       "    </tr>\n",
       "    <tr>\n",
       "      <th>off_peak</th>\n",
       "      <td>0.000010</td>\n",
       "    </tr>\n",
       "    <tr>\n",
       "      <th>Wd</th>\n",
       "      <td>0.033322</td>\n",
       "    </tr>\n",
       "    <tr>\n",
       "      <th>winter</th>\n",
       "      <td>0.000044</td>\n",
       "    </tr>\n",
       "    <tr>\n",
       "      <th>demand-1</th>\n",
       "      <td>0.000353</td>\n",
       "    </tr>\n",
       "    <tr>\n",
       "      <th>demand-24</th>\n",
       "      <td>0.016233</td>\n",
       "    </tr>\n",
       "    <tr>\n",
       "      <th>spot-1</th>\n",
       "      <td>0.010587</td>\n",
       "    </tr>\n",
       "    <tr>\n",
       "      <th>spot-24</th>\n",
       "      <td>0.033200</td>\n",
       "    </tr>\n",
       "    <tr>\n",
       "      <th>band-24</th>\n",
       "      <td>0.665779</td>\n",
       "    </tr>\n",
       "  </tbody>\n",
       "</table>\n",
       "</div>"
      ],
      "text/plain": [
       "                  0\n",
       "spot       0.148761\n",
       "demand     0.091712\n",
       "off_peak   0.000010\n",
       "Wd         0.033322\n",
       "winter     0.000044\n",
       "demand-1   0.000353\n",
       "demand-24  0.016233\n",
       "spot-1     0.010587\n",
       "spot-24    0.033200\n",
       "band-24    0.665779"
      ]
     },
     "execution_count": 38,
     "metadata": {},
     "output_type": "execute_result"
    }
   ],
   "source": [
    "#Print test error and feature importance\n",
    "print('MAE: ' +str(mean_absolute_error(np.exp(y_test), np.exp(rfr.predict(x_test))))+', MSE: ' +\n",
    "      str(mean_squared_error(np.exp(y_test), np.exp(rfr.predict(x_test)))))\n",
    "pd.DataFrame(data=rfr.feature_importances_, index=features_list)"
   ]
  },
  {
   "cell_type": "code",
   "execution_count": null,
   "metadata": {
    "collapsed": false,
    "scrolled": true
   },
   "outputs": [],
   "source": [
    "export_graphviz(rfr.estimators_[12], out_file=\"0.dot\", max_depth=None, feature_names=features_list, label='none',\n",
    "               filled=True, leaves_parallel=False, impurity=False, node_ids=False, proportion=False, rotate=False,\n",
    "               rounded=True, special_characters=False)\n",
    "with open(\"0.dot\") as f:\n",
    "    dot_graph = f.read()\n",
    "graphviz.Source(dot_graph)"
   ]
  },
  {
   "cell_type": "code",
   "execution_count": 56,
   "metadata": {
    "collapsed": true
   },
   "outputs": [],
   "source": [
    "# Customised random forest, this is the final model\n",
    "rfr = RandomForestRegressor(bootstrap=True, criterion='mse', max_depth=5,\n",
    "           max_features='auto', max_leaf_nodes=150,\n",
    "           min_impurity_split=1e-07, min_samples_leaf=250,\n",
    "           min_samples_split=500, min_weight_fraction_leaf=0.0,\n",
    "           n_estimators=100, n_jobs=-1, oob_score=False, random_state=0,\n",
    "           verbose=0, warm_start=False)"
   ]
  },
  {
   "cell_type": "code",
   "execution_count": 57,
   "metadata": {
    "collapsed": false,
    "scrolled": false
   },
   "outputs": [
    {
     "name": "stdout",
     "output_type": "stream",
     "text": [
      "Mean absolute error: 5.4495 +- 0.1220\n",
      "Mean squared error: 71.6048 +- 6.4518\n"
     ]
    }
   ],
   "source": [
    "rfr.fit(x_train, y_train)\n",
    "#CV with kfold=5\n",
    "kf = KFold(n_splits=5, random_state=0)\n",
    "\n",
    "CV_mse = list()\n",
    "CV_mae = list()\n",
    "\n",
    "for train_index, test_index in kf.split(x_train, y_train):\n",
    "    rfr.fit(x_train[train_index], y_train[train_index])\n",
    "    y_pred = rfr.predict(x_train[test_index])\n",
    "    CV_mae.append(mean_absolute_error(np.exp(y_train[test_index]), np.exp(y_pred)))\n",
    "    CV_mse.append(mean_squared_error(np.exp(y_train[test_index]), np.exp(y_pred)))\n",
    "    \n",
    "print('Mean absolute error: %0.4f +- %0.4f' %(np.mean(CV_mae), 2*np.std(CV_mae)))\n",
    "print('Mean squared error: %0.4f +- %0.4f' %(np.mean(CV_mse), 2*np.std(CV_mse)))"
   ]
  },
  {
   "cell_type": "code",
   "execution_count": 58,
   "metadata": {
    "collapsed": false
   },
   "outputs": [
    {
     "data": {
      "text/plain": [
       "([5.4781733744442844,\n",
       "  5.3826629287152663,\n",
       "  5.4504303779802408,\n",
       "  5.3885714917906915,\n",
       "  5.5475508906005571],\n",
       " [74.030576720959331,\n",
       "  72.729519789271833,\n",
       "  68.621324143623909,\n",
       "  67.089329293329243,\n",
       "  75.553460691601856])"
      ]
     },
     "execution_count": 58,
     "metadata": {},
     "output_type": "execute_result"
    }
   ],
   "source": [
    "CV_mae, CV_mse"
   ]
  },
  {
   "cell_type": "code",
   "execution_count": 59,
   "metadata": {
    "collapsed": false
   },
   "outputs": [
    {
     "data": {
      "text/plain": [
       "RandomForestRegressor(bootstrap=True, criterion='mse', max_depth=5,\n",
       "           max_features='auto', max_leaf_nodes=150,\n",
       "           min_impurity_split=1e-07, min_samples_leaf=250,\n",
       "           min_samples_split=500, min_weight_fraction_leaf=0.0,\n",
       "           n_estimators=100, n_jobs=-1, oob_score=False, random_state=0,\n",
       "           verbose=0, warm_start=False)"
      ]
     },
     "execution_count": 59,
     "metadata": {},
     "output_type": "execute_result"
    }
   ],
   "source": [
    "rfr.fit(x_train, y_train)"
   ]
  },
  {
   "cell_type": "code",
   "execution_count": 60,
   "metadata": {
    "collapsed": false
   },
   "outputs": [
    {
     "name": "stdout",
     "output_type": "stream",
     "text": [
      "Training MAE: 5.34723842403, Training MSE: 68.6166279102\n"
     ]
    }
   ],
   "source": [
    "print('Training MAE: ' +str(mean_absolute_error(np.exp(y_train), np.exp(rfr.predict(x_train))))+', Training MSE: ' +\n",
    "      str(mean_squared_error(np.exp(y_train), np.exp(rfr.predict(x_train)))))"
   ]
  },
  {
   "cell_type": "code",
   "execution_count": 61,
   "metadata": {
    "collapsed": false
   },
   "outputs": [
    {
     "name": "stdout",
     "output_type": "stream",
     "text": [
      "MAE: 5.50882564202, MSE: 67.013501059\n"
     ]
    },
    {
     "data": {
      "text/html": [
       "<div>\n",
       "<table border=\"1\" class=\"dataframe\">\n",
       "  <thead>\n",
       "    <tr style=\"text-align: right;\">\n",
       "      <th></th>\n",
       "      <th>0</th>\n",
       "    </tr>\n",
       "  </thead>\n",
       "  <tbody>\n",
       "    <tr>\n",
       "      <th>spot</th>\n",
       "      <td>0.173307</td>\n",
       "    </tr>\n",
       "    <tr>\n",
       "      <th>demand</th>\n",
       "      <td>0.076485</td>\n",
       "    </tr>\n",
       "    <tr>\n",
       "      <th>off_peak</th>\n",
       "      <td>0.000000</td>\n",
       "    </tr>\n",
       "    <tr>\n",
       "      <th>Wd</th>\n",
       "      <td>0.028990</td>\n",
       "    </tr>\n",
       "    <tr>\n",
       "      <th>winter</th>\n",
       "      <td>0.000000</td>\n",
       "    </tr>\n",
       "    <tr>\n",
       "      <th>demand-1</th>\n",
       "      <td>0.001642</td>\n",
       "    </tr>\n",
       "    <tr>\n",
       "      <th>demand-24</th>\n",
       "      <td>0.015751</td>\n",
       "    </tr>\n",
       "    <tr>\n",
       "      <th>spot-1</th>\n",
       "      <td>0.009788</td>\n",
       "    </tr>\n",
       "    <tr>\n",
       "      <th>spot-24</th>\n",
       "      <td>0.037599</td>\n",
       "    </tr>\n",
       "    <tr>\n",
       "      <th>band-24</th>\n",
       "      <td>0.656438</td>\n",
       "    </tr>\n",
       "  </tbody>\n",
       "</table>\n",
       "</div>"
      ],
      "text/plain": [
       "                  0\n",
       "spot       0.173307\n",
       "demand     0.076485\n",
       "off_peak   0.000000\n",
       "Wd         0.028990\n",
       "winter     0.000000\n",
       "demand-1   0.001642\n",
       "demand-24  0.015751\n",
       "spot-1     0.009788\n",
       "spot-24    0.037599\n",
       "band-24    0.656438"
      ]
     },
     "execution_count": 61,
     "metadata": {},
     "output_type": "execute_result"
    }
   ],
   "source": [
    "print('MAE: ' +str(mean_absolute_error((np.exp(y_test)), (np.exp(rfr.predict(x_test)))))+', MSE: ' +\n",
    "      str(mean_squared_error((np.exp(y_test)), (np.exp(rfr.predict(x_test))))))\n",
    "pd.DataFrame(data=rfr.feature_importances_, index=features_list)"
   ]
  },
  {
   "cell_type": "code",
   "execution_count": 62,
   "metadata": {
    "collapsed": false
   },
   "outputs": [],
   "source": [
    "#Fit the whole data set to obtain the residuals\n",
    "rfr.fit(X, Y)\n",
    "residuals = Y - rfr.predict(X)\n",
    "res_index = spot_band_demand.drop(labels=['hour', 'weekday','season', 'band'], axis=1).index"
   ]
  },
  {
   "cell_type": "code",
   "execution_count": 63,
   "metadata": {
    "collapsed": false
   },
   "outputs": [],
   "source": [
    "residuals_random_forest = pd.DataFrame(data=residuals, index=res_index, columns=['residuals'])\n",
    "residuals_random_forest.to_csv('Residuals_from_random_forest.csv')"
   ]
  },
  {
   "cell_type": "code",
   "execution_count": null,
   "metadata": {
    "collapsed": true
   },
   "outputs": [],
   "source": []
  }
 ],
 "metadata": {
  "anaconda-cloud": {},
  "kernelspec": {
   "display_name": "Python [Root]",
   "language": "python",
   "name": "Python [Root]"
  },
  "language_info": {
   "codemirror_mode": {
    "name": "ipython",
    "version": 3
   },
   "file_extension": ".py",
   "mimetype": "text/x-python",
   "name": "python",
   "nbconvert_exporter": "python",
   "pygments_lexer": "ipython3",
   "version": "3.5.2"
  }
 },
 "nbformat": 4,
 "nbformat_minor": 0
}
