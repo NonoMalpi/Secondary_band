{
 "cells": [
  {
   "cell_type": "code",
   "execution_count": 1,
   "metadata": {
    "collapsed": true
   },
   "outputs": [],
   "source": [
    "import pandas as pd\n",
    "import numpy as np\n",
    "import matplotlib.pyplot as plt\n",
    "import seaborn.apionly as sns\n",
    "import datetime\n",
    "import warnings\n",
    "%matplotlib inline\n",
    "plt.style.use('ggplot')\n",
    "warnings.filterwarnings('ignore')"
   ]
  },
  {
   "cell_type": "code",
   "execution_count": 2,
   "metadata": {
    "collapsed": true
   },
   "outputs": [],
   "source": [
    "def get_clean_data(df_original):\n",
    "    weekday_dict = {\n",
    "        0:'Wd', 1:'Wd', 2:'Wd', 3:'Wd', 4:'Wd', 5:'F', 6:'F' \n",
    "    }\n",
    "    \n",
    "    df = df_original.copy(deep=True)\n",
    "    df['date'] =  pd.to_datetime(df['datetime'].apply(lambda x: x[:10]), format='%Y-%m-%d')\n",
    "    df['year'] = df['date'].dt.year\n",
    "    df['time'] = pd.to_datetime(df['datetime'].apply(lambda x: x[:19])).dt.time\n",
    "    df['month'] = df['date'].dt.month\n",
    "    df['day'] = df['date'].dt.day\n",
    "    df['hour'] = df['datetime'].apply(lambda x: x[11:13]).astype(int)\n",
    "    df['minute'] = df['datetime'].apply(lambda x: x[14:16]).astype(int)\n",
    "    df['weekday'] = df['date'].dt.dayofweek\n",
    "    df.replace({'weekday':weekday_dict}, inplace=True)\n",
    "    df['season'] = np.where(df['month'].isin(list(range(4,10))), 'summer', 'winter')\n",
    "    df['date_hour'] = df.apply(lambda x: datetime.datetime.combine(x['date'], x['time']), axis=1)\n",
    "    df.set_index('date_hour', inplace=True)\n",
    "    df = df[df.index < '2017']\n",
    "    clean_df = df[['date', 'year', 'month', 'season', 'day','weekday','time', 'hour', 'minute', 'value']]\n",
    "    clean_df = clean_df[~clean_df.index.duplicated()]\n",
    "    clean_df['hour'] = np.where(clean_df['hour'].isin(np.arange(9,23)), 'Peak', 'off_peak')\n",
    "    #clean_df['value'] = np.log1p(clean_df['value'])\n",
    "    clean_df_freq = clean_df.asfreq('H')\n",
    "    \n",
    "    return clean_df_freq"
   ]
  },
  {
   "cell_type": "markdown",
   "metadata": {},
   "source": [
    "### df with secondary band, spot price and demand "
   ]
  },
  {
   "cell_type": "code",
   "execution_count": 3,
   "metadata": {
    "collapsed": false
   },
   "outputs": [],
   "source": [
    "raw_band_price = pd.read_csv('export_PrecioBandaDeRegulaciónSecundaria_2017-01-15_19-11.csv', encoding='latin1', delimiter=';')\n",
    "band_price = get_clean_data(raw_band_price)\n",
    "band_price = band_price.rename(columns={'value':'band'})"
   ]
  },
  {
   "cell_type": "code",
   "execution_count": 4,
   "metadata": {
    "collapsed": false
   },
   "outputs": [],
   "source": [
    "raw_spot_price = pd.read_csv('export_PrecioMercadoSPOTDiario_2017-02-02_09-47.csv', encoding='latin1', delimiter=';')\n",
    "raw_spot_price = raw_spot_price[raw_spot_price['geoid'] == 3]\n",
    "spot_price = get_clean_data(raw_spot_price)\n",
    "spot_price = spot_price.rename(columns={'value':'spot'})"
   ]
  },
  {
   "cell_type": "code",
   "execution_count": 5,
   "metadata": {
    "collapsed": true
   },
   "outputs": [],
   "source": [
    "raw_demand = pd.read_csv('export_DemandaProgramada_2017-02-02_09-45.csv', encoding='latin1', delimiter=';')\n",
    "demand = get_clean_data(raw_demand)\n",
    "demand = demand.rename(columns={'value':'demand'})"
   ]
  },
  {
   "cell_type": "code",
   "execution_count": 6,
   "metadata": {
    "collapsed": true
   },
   "outputs": [],
   "source": [
    "spot_band_demand = band_price.merge(spot_price[['spot']], how='left', left_index=True, right_index=True)\n",
    "spot_band_demand = spot_band_demand.merge(demand[['demand']], how='left', left_index=True, right_index=True)"
   ]
  },
  {
   "cell_type": "code",
   "execution_count": 7,
   "metadata": {
    "collapsed": false
   },
   "outputs": [],
   "source": [
    "spot_band_demand = spot_band_demand[['hour', 'weekday', 'season', 'spot','demand', 'band']]"
   ]
  },
  {
   "cell_type": "code",
   "execution_count": 8,
   "metadata": {
    "collapsed": true
   },
   "outputs": [],
   "source": [
    "for feature in ['hour', 'weekday', 'season']:\n",
    "    spot_band_demand[pd.get_dummies(spot_band_demand[feature], drop_first=True).columns.tolist()] = pd.get_dummies(spot_band_demand[feature], drop_first=True)"
   ]
  },
  {
   "cell_type": "code",
   "execution_count": 9,
   "metadata": {
    "collapsed": false
   },
   "outputs": [],
   "source": [
    "for feature in ['demand', 'spot']:\n",
    "    spot_band_demand[feature + '-1'] = spot_band_demand[feature].shift(periods=+1)\n",
    "    spot_band_demand[feature + '-24'] = spot_band_demand[feature].shift(periods=+24)\n",
    "spot_band_demand['band-24'] = spot_band_demand['band'].shift(periods=24)\n",
    "spot_band_demand.dropna(subset=['demand-1', 'spot-1', 'demand-24', 'spot-24', 'band-24'], inplace=True)"
   ]
  },
  {
   "cell_type": "markdown",
   "metadata": {},
   "source": [
    "### Preprocessing for Decision Tree"
   ]
  },
  {
   "cell_type": "code",
   "execution_count": 10,
   "metadata": {
    "collapsed": false
   },
   "outputs": [],
   "source": [
    "from sklearn.tree import DecisionTreeRegressor\n",
    "from sklearn.model_selection import KFold, train_test_split, RandomizedSearchCV, GridSearchCV\n",
    "from sklearn.metrics import mean_squared_error, mean_absolute_error\n",
    "from sklearn import tree as tree_m\n",
    "from sklearn.tree import export_graphviz\n",
    "import graphviz"
   ]
  },
  {
   "cell_type": "code",
   "execution_count": 11,
   "metadata": {
    "collapsed": true
   },
   "outputs": [],
   "source": [
    "#Set features and output\n",
    "X = spot_band_demand.drop(labels=['hour', 'weekday','season', 'band'], axis=1).values\n",
    "Y = spot_band_demand['band'].values"
   ]
  },
  {
   "cell_type": "code",
   "execution_count": 12,
   "metadata": {
    "collapsed": false
   },
   "outputs": [
    {
     "data": {
      "text/html": [
       "<div>\n",
       "<table border=\"1\" class=\"dataframe\">\n",
       "  <thead>\n",
       "    <tr style=\"text-align: right;\">\n",
       "      <th></th>\n",
       "      <th>spot</th>\n",
       "      <th>demand</th>\n",
       "      <th>off_peak</th>\n",
       "      <th>Wd</th>\n",
       "      <th>winter</th>\n",
       "      <th>demand-1</th>\n",
       "      <th>demand-24</th>\n",
       "      <th>spot-1</th>\n",
       "      <th>spot-24</th>\n",
       "      <th>band-24</th>\n",
       "    </tr>\n",
       "  </thead>\n",
       "  <tbody>\n",
       "    <tr>\n",
       "      <th>spot</th>\n",
       "      <td>1.000000</td>\n",
       "      <td>0.439271</td>\n",
       "      <td>-2.782497e-01</td>\n",
       "      <td>2.362048e-01</td>\n",
       "      <td>-3.455513e-02</td>\n",
       "      <td>0.404751</td>\n",
       "      <td>0.329684</td>\n",
       "      <td>0.966815</td>\n",
       "      <td>0.775220</td>\n",
       "      <td>-0.293587</td>\n",
       "    </tr>\n",
       "    <tr>\n",
       "      <th>demand</th>\n",
       "      <td>0.439271</td>\n",
       "      <td>1.000000</td>\n",
       "      <td>-6.632193e-01</td>\n",
       "      <td>3.911550e-01</td>\n",
       "      <td>8.202220e-02</td>\n",
       "      <td>0.950713</td>\n",
       "      <td>0.811719</td>\n",
       "      <td>0.418458</td>\n",
       "      <td>0.330222</td>\n",
       "      <td>-0.304035</td>\n",
       "    </tr>\n",
       "    <tr>\n",
       "      <th>off_peak</th>\n",
       "      <td>-0.278250</td>\n",
       "      <td>-0.663219</td>\n",
       "      <td>1.000000e+00</td>\n",
       "      <td>8.301321e-17</td>\n",
       "      <td>3.785815e-17</td>\n",
       "      <td>-0.630145</td>\n",
       "      <td>-0.662662</td>\n",
       "      <td>-0.259829</td>\n",
       "      <td>-0.277380</td>\n",
       "      <td>0.298587</td>\n",
       "    </tr>\n",
       "    <tr>\n",
       "      <th>Wd</th>\n",
       "      <td>0.236205</td>\n",
       "      <td>0.391155</td>\n",
       "      <td>8.301321e-17</td>\n",
       "      <td>1.000000e+00</td>\n",
       "      <td>-3.754593e-03</td>\n",
       "      <td>0.386605</td>\n",
       "      <td>0.060692</td>\n",
       "      <td>0.234965</td>\n",
       "      <td>0.021821</td>\n",
       "      <td>-0.031532</td>\n",
       "    </tr>\n",
       "    <tr>\n",
       "      <th>winter</th>\n",
       "      <td>-0.034555</td>\n",
       "      <td>0.082022</td>\n",
       "      <td>3.785815e-17</td>\n",
       "      <td>-3.754593e-03</td>\n",
       "      <td>1.000000e+00</td>\n",
       "      <td>0.081945</td>\n",
       "      <td>0.081045</td>\n",
       "      <td>-0.034386</td>\n",
       "      <td>-0.029929</td>\n",
       "      <td>0.135055</td>\n",
       "    </tr>\n",
       "    <tr>\n",
       "      <th>demand-1</th>\n",
       "      <td>0.404751</td>\n",
       "      <td>0.950713</td>\n",
       "      <td>-6.301450e-01</td>\n",
       "      <td>3.866047e-01</td>\n",
       "      <td>8.194535e-02</td>\n",
       "      <td>1.000000</td>\n",
       "      <td>0.772684</td>\n",
       "      <td>0.439311</td>\n",
       "      <td>0.303557</td>\n",
       "      <td>-0.281814</td>\n",
       "    </tr>\n",
       "    <tr>\n",
       "      <th>demand-24</th>\n",
       "      <td>0.329684</td>\n",
       "      <td>0.811719</td>\n",
       "      <td>-6.626618e-01</td>\n",
       "      <td>6.069245e-02</td>\n",
       "      <td>8.104539e-02</td>\n",
       "      <td>0.772684</td>\n",
       "      <td>1.000000</td>\n",
       "      <td>0.313280</td>\n",
       "      <td>0.440859</td>\n",
       "      <td>-0.402910</td>\n",
       "    </tr>\n",
       "    <tr>\n",
       "      <th>spot-1</th>\n",
       "      <td>0.966815</td>\n",
       "      <td>0.418458</td>\n",
       "      <td>-2.598290e-01</td>\n",
       "      <td>2.349651e-01</td>\n",
       "      <td>-3.438614e-02</td>\n",
       "      <td>0.439311</td>\n",
       "      <td>0.313280</td>\n",
       "      <td>1.000000</td>\n",
       "      <td>0.761822</td>\n",
       "      <td>-0.281421</td>\n",
       "    </tr>\n",
       "    <tr>\n",
       "      <th>spot-24</th>\n",
       "      <td>0.775220</td>\n",
       "      <td>0.330222</td>\n",
       "      <td>-2.773799e-01</td>\n",
       "      <td>2.182063e-02</td>\n",
       "      <td>-2.992868e-02</td>\n",
       "      <td>0.303557</td>\n",
       "      <td>0.440859</td>\n",
       "      <td>0.761822</td>\n",
       "      <td>1.000000</td>\n",
       "      <td>-0.481855</td>\n",
       "    </tr>\n",
       "    <tr>\n",
       "      <th>band-24</th>\n",
       "      <td>-0.293587</td>\n",
       "      <td>-0.304035</td>\n",
       "      <td>2.985872e-01</td>\n",
       "      <td>-3.153192e-02</td>\n",
       "      <td>1.350551e-01</td>\n",
       "      <td>-0.281814</td>\n",
       "      <td>-0.402910</td>\n",
       "      <td>-0.281421</td>\n",
       "      <td>-0.481855</td>\n",
       "      <td>1.000000</td>\n",
       "    </tr>\n",
       "  </tbody>\n",
       "</table>\n",
       "</div>"
      ],
      "text/plain": [
       "               spot    demand      off_peak            Wd        winter  \\\n",
       "spot       1.000000  0.439271 -2.782497e-01  2.362048e-01 -3.455513e-02   \n",
       "demand     0.439271  1.000000 -6.632193e-01  3.911550e-01  8.202220e-02   \n",
       "off_peak  -0.278250 -0.663219  1.000000e+00  8.301321e-17  3.785815e-17   \n",
       "Wd         0.236205  0.391155  8.301321e-17  1.000000e+00 -3.754593e-03   \n",
       "winter    -0.034555  0.082022  3.785815e-17 -3.754593e-03  1.000000e+00   \n",
       "demand-1   0.404751  0.950713 -6.301450e-01  3.866047e-01  8.194535e-02   \n",
       "demand-24  0.329684  0.811719 -6.626618e-01  6.069245e-02  8.104539e-02   \n",
       "spot-1     0.966815  0.418458 -2.598290e-01  2.349651e-01 -3.438614e-02   \n",
       "spot-24    0.775220  0.330222 -2.773799e-01  2.182063e-02 -2.992868e-02   \n",
       "band-24   -0.293587 -0.304035  2.985872e-01 -3.153192e-02  1.350551e-01   \n",
       "\n",
       "           demand-1  demand-24    spot-1   spot-24   band-24  \n",
       "spot       0.404751   0.329684  0.966815  0.775220 -0.293587  \n",
       "demand     0.950713   0.811719  0.418458  0.330222 -0.304035  \n",
       "off_peak  -0.630145  -0.662662 -0.259829 -0.277380  0.298587  \n",
       "Wd         0.386605   0.060692  0.234965  0.021821 -0.031532  \n",
       "winter     0.081945   0.081045 -0.034386 -0.029929  0.135055  \n",
       "demand-1   1.000000   0.772684  0.439311  0.303557 -0.281814  \n",
       "demand-24  0.772684   1.000000  0.313280  0.440859 -0.402910  \n",
       "spot-1     0.439311   0.313280  1.000000  0.761822 -0.281421  \n",
       "spot-24    0.303557   0.440859  0.761822  1.000000 -0.481855  \n",
       "band-24   -0.281814  -0.402910 -0.281421 -0.481855  1.000000  "
      ]
     },
     "execution_count": 12,
     "metadata": {},
     "output_type": "execute_result"
    }
   ],
   "source": [
    "spot_band_demand.drop(labels=['hour', 'weekday','season', 'band'], axis=1).corr()"
   ]
  },
  {
   "cell_type": "code",
   "execution_count": 13,
   "metadata": {
    "collapsed": true
   },
   "outputs": [],
   "source": [
    "features_list = spot_band_demand.drop(labels=['hour', 'weekday','season', 'band'], axis=1).columns.tolist()"
   ]
  },
  {
   "cell_type": "code",
   "execution_count": 14,
   "metadata": {
    "collapsed": true
   },
   "outputs": [],
   "source": [
    "#Split data set into train and test\n",
    "x_train, x_test, y_train, y_test = train_test_split(X, Y, train_size=0.8, \n",
    "                                                    test_size=0.2, random_state=1)"
   ]
  },
  {
   "cell_type": "markdown",
   "metadata": {
    "collapsed": false
   },
   "source": [
    "### Randomized Search CV"
   ]
  },
  {
   "cell_type": "code",
   "execution_count": 15,
   "metadata": {
    "collapsed": false
   },
   "outputs": [],
   "source": [
    "params = {\n",
    "    'criterion':['mse'],\n",
    "    'splitter':['best','random'],\n",
    "    'max_features':['auto','log2', 'sqrt'],\n",
    "    'max_depth':np.arange(2,10), 'min_samples_split':np.linspace(50, 1000, 200).astype(int),\n",
    "    'min_samples_leaf': np.linspace(200, 2500, 50).astype(int), 'max_leaf_nodes': np.linspace(10,180, 40).astype(int)\n",
    "}"
   ]
  },
  {
   "cell_type": "code",
   "execution_count": 16,
   "metadata": {
    "collapsed": false
   },
   "outputs": [],
   "source": [
    "#Random search, set up tree and cross-validation\n",
    "tree = DecisionTreeRegressor()\n",
    "kf = KFold(n_splits=5)\n",
    "\n",
    "#Randomized Search CV for tree\n",
    "random_search = RandomizedSearchCV(tree, param_distributions=params, n_jobs=-1, n_iter=350,\n",
    "                                scoring='neg_mean_squared_error', cv=list(kf.split(x_train,y_train)), random_state=0)"
   ]
  },
  {
   "cell_type": "code",
   "execution_count": 17,
   "metadata": {
    "collapsed": false
   },
   "outputs": [],
   "source": [
    "random_search.fit(x_train, y_train);"
   ]
  },
  {
   "cell_type": "code",
   "execution_count": 18,
   "metadata": {
    "collapsed": false
   },
   "outputs": [
    {
     "name": "stdout",
     "output_type": "stream",
     "text": [
      "{'max_leaf_nodes': 140, 'splitter': 'best', 'max_features': 'auto', 'min_samples_leaf': 293, 'max_depth': 6, 'min_samples_split': 408, 'criterion': 'mse'}\n"
     ]
    }
   ],
   "source": [
    "best_params = random_search.cv_results_['params'][np.flatnonzero(random_search.cv_results_['rank_test_score']==1)[0]]\n",
    "print(best_params)"
   ]
  },
  {
   "cell_type": "code",
   "execution_count": 19,
   "metadata": {
    "collapsed": false
   },
   "outputs": [
    {
     "data": {
      "text/plain": [
       "DecisionTreeRegressor(criterion='mse', max_depth=6, max_features='auto',\n",
       "           max_leaf_nodes=140, min_impurity_split=1e-07,\n",
       "           min_samples_leaf=293, min_samples_split=408,\n",
       "           min_weight_fraction_leaf=0.0, presort=False, random_state=0,\n",
       "           splitter='best')"
      ]
     },
     "execution_count": 19,
     "metadata": {},
     "output_type": "execute_result"
    }
   ],
   "source": [
    "tree.set_params(**best_params, random_state=0)"
   ]
  },
  {
   "cell_type": "code",
   "execution_count": 20,
   "metadata": {
    "collapsed": false
   },
   "outputs": [
    {
     "name": "stdout",
     "output_type": "stream",
     "text": [
      "Mean absolute error: 5.6245 +- 0.1562\n",
      "Mean squared error: 70.6660 +- 7.2539\n"
     ]
    }
   ],
   "source": [
    "#CV with kfold=5\n",
    "kf = KFold(n_splits=5, random_state=0)\n",
    "\n",
    "CV_mse = list()\n",
    "CV_mae = list()\n",
    "\n",
    "for train_index, test_index in kf.split(x_train, y_train):\n",
    "    tree.fit(x_train[train_index], y_train[train_index])\n",
    "    y_pred = tree.predict(x_train[test_index])\n",
    "    CV_mae.append(mean_absolute_error(y_train[test_index], y_pred))\n",
    "    CV_mse.append(mean_squared_error(y_train[test_index], y_pred))\n",
    "    \n",
    "print('Mean absolute error: %0.4f +- %0.4f' %(np.mean(CV_mae), 2*np.std(CV_mae)))\n",
    "print('Mean squared error: %0.4f +- %0.4f' %(np.mean(CV_mse), 2*np.std(CV_mse)))"
   ]
  },
  {
   "cell_type": "code",
   "execution_count": 21,
   "metadata": {
    "collapsed": false
   },
   "outputs": [
    {
     "data": {
      "text/plain": [
       "([5.6483176367792698,\n",
       "  5.6516878706406395,\n",
       "  5.6524523246030265,\n",
       "  5.4724808518472141,\n",
       "  5.6973343740178857],\n",
       " [73.044985030447634,\n",
       "  73.73185483890316,\n",
       "  68.649118572286881,\n",
       "  64.436846099798984,\n",
       "  73.46695041432325])"
      ]
     },
     "execution_count": 21,
     "metadata": {},
     "output_type": "execute_result"
    }
   ],
   "source": [
    "CV_mae, CV_mse"
   ]
  },
  {
   "cell_type": "code",
   "execution_count": 22,
   "metadata": {
    "collapsed": false
   },
   "outputs": [
    {
     "name": "stdout",
     "output_type": "stream",
     "text": [
      "MAE: 5.4443461512, MSE: 66.5193109854\n"
     ]
    }
   ],
   "source": [
    "tree.fit(x_train, y_train)\n",
    "print('MAE: ' +str(mean_absolute_error(y_train, tree.predict(x_train)))+', MSE: ' +\n",
    "      str(mean_squared_error(y_train, tree.predict(x_train))))"
   ]
  },
  {
   "cell_type": "code",
   "execution_count": 23,
   "metadata": {
    "collapsed": false
   },
   "outputs": [
    {
     "name": "stdout",
     "output_type": "stream",
     "text": [
      "MAE: 5.64976678096, MSE: 67.2140913528\n"
     ]
    },
    {
     "data": {
      "text/html": [
       "<div>\n",
       "<table border=\"1\" class=\"dataframe\">\n",
       "  <thead>\n",
       "    <tr style=\"text-align: right;\">\n",
       "      <th></th>\n",
       "      <th>0</th>\n",
       "    </tr>\n",
       "  </thead>\n",
       "  <tbody>\n",
       "    <tr>\n",
       "      <th>spot</th>\n",
       "      <td>0.257636</td>\n",
       "    </tr>\n",
       "    <tr>\n",
       "      <th>demand</th>\n",
       "      <td>0.041164</td>\n",
       "    </tr>\n",
       "    <tr>\n",
       "      <th>off_peak</th>\n",
       "      <td>0.002279</td>\n",
       "    </tr>\n",
       "    <tr>\n",
       "      <th>Wd</th>\n",
       "      <td>0.025763</td>\n",
       "    </tr>\n",
       "    <tr>\n",
       "      <th>winter</th>\n",
       "      <td>0.000000</td>\n",
       "    </tr>\n",
       "    <tr>\n",
       "      <th>demand-1</th>\n",
       "      <td>0.000000</td>\n",
       "    </tr>\n",
       "    <tr>\n",
       "      <th>demand-24</th>\n",
       "      <td>0.012536</td>\n",
       "    </tr>\n",
       "    <tr>\n",
       "      <th>spot-1</th>\n",
       "      <td>0.000000</td>\n",
       "    </tr>\n",
       "    <tr>\n",
       "      <th>spot-24</th>\n",
       "      <td>0.068105</td>\n",
       "    </tr>\n",
       "    <tr>\n",
       "      <th>band-24</th>\n",
       "      <td>0.592516</td>\n",
       "    </tr>\n",
       "  </tbody>\n",
       "</table>\n",
       "</div>"
      ],
      "text/plain": [
       "                  0\n",
       "spot       0.257636\n",
       "demand     0.041164\n",
       "off_peak   0.002279\n",
       "Wd         0.025763\n",
       "winter     0.000000\n",
       "demand-1   0.000000\n",
       "demand-24  0.012536\n",
       "spot-1     0.000000\n",
       "spot-24    0.068105\n",
       "band-24    0.592516"
      ]
     },
     "execution_count": 23,
     "metadata": {},
     "output_type": "execute_result"
    }
   ],
   "source": [
    "#Print test error and feature importance\n",
    "print('MAE: ' +str(mean_absolute_error(y_test, tree.predict(x_test)))+', MSE: ' +\n",
    "      str(mean_squared_error(y_test, tree.predict(x_test))))\n",
    "pd.DataFrame(data=tree.feature_importances_, index=features_list)"
   ]
  },
  {
   "cell_type": "code",
   "execution_count": null,
   "metadata": {
    "collapsed": false,
    "scrolled": true
   },
   "outputs": [],
   "source": [
    "#Plot tree with graphviz\n",
    "export_graphviz(tree, out_file=\"mytree.dot\", max_depth=None, feature_names=features_list, label='none',\n",
    "               filled=True, leaves_parallel=False, impurity=False, node_ids=False, proportion=False, rotate=False,\n",
    "               rounded=True, special_characters=False)\n",
    "with open(\"mytree.dot\") as f:\n",
    "    dot_graph = f.read()\n",
    "graphviz.Source(dot_graph)"
   ]
  },
  {
   "cell_type": "code",
   "execution_count": null,
   "metadata": {
    "collapsed": false
   },
   "outputs": [],
   "source": [
    "#Convert tree.dot into pdf\n",
    "#graphviz.render(engine='dot', format='pdf', filepath='C:\\\\Users\\\\Usuario\\\\Desktop\\\\Master_Thesis\\\\Secondary_reserve_TS\\\\mytree.dot')"
   ]
  },
  {
   "cell_type": "markdown",
   "metadata": {
    "collapsed": false
   },
   "source": [
    "### Random forest Regressor"
   ]
  },
  {
   "cell_type": "code",
   "execution_count": 24,
   "metadata": {
    "collapsed": true
   },
   "outputs": [],
   "source": [
    "from sklearn.ensemble import RandomForestRegressor"
   ]
  },
  {
   "cell_type": "code",
   "execution_count": 25,
   "metadata": {
    "collapsed": true
   },
   "outputs": [],
   "source": [
    "rfr = RandomForestRegressor()"
   ]
  },
  {
   "cell_type": "code",
   "execution_count": 26,
   "metadata": {
    "collapsed": false
   },
   "outputs": [],
   "source": [
    "params_forest = {\n",
    "    'n_estimators':np.linspace(5, 200, 50).astype(int),\n",
    "    'n_jobs':[-1],\n",
    "    'criterion':['mse'], 'bootstrap':[True],\n",
    "    'max_features':['auto','log2', 'sqrt'],\n",
    "    'max_depth':np.arange(2,10), 'min_samples_split':np.linspace(50, 1000, 200).astype(int),\n",
    "    'min_samples_leaf': np.linspace(200, 2500, 50).astype(int), 'max_leaf_nodes': np.linspace(10,180, 40).astype(int)\n",
    "}"
   ]
  },
  {
   "cell_type": "code",
   "execution_count": 27,
   "metadata": {
    "collapsed": true
   },
   "outputs": [],
   "source": [
    "kf = KFold(n_splits=5, random_state=0)\n",
    "\n",
    "#Randomized Search CV for random forest\n",
    "random_search = RandomizedSearchCV(rfr, param_distributions=params_forest, n_jobs=-1, n_iter=350,\n",
    "                                scoring='neg_mean_squared_error', cv=list(kf.split(x_train,y_train)), random_state=0)"
   ]
  },
  {
   "cell_type": "code",
   "execution_count": 28,
   "metadata": {
    "collapsed": false
   },
   "outputs": [
    {
     "name": "stdout",
     "output_type": "stream",
     "text": [
      "Wall time: 9min 54s\n"
     ]
    },
    {
     "data": {
      "text/plain": [
       "RandomizedSearchCV(cv=[(array([ 4205,  4206, ..., 21022, 21023]), array([   0,    1, ..., 4203, 4204])), (array([    0,     1, ..., 21022, 21023]), array([4205, 4206, ..., 8408, 8409])), (array([    0,     1, ..., 21022, 21023]), array([ 8410,  8411, ..., 12613, 12614])), (array([    0,     1, ..., 21022, 21023]), array([12615, 12616, ..., 16818, 16819])), (array([    0,     1, ..., 16818, 16819]), array([16820, 16821, ..., 21022, 21023]))],\n",
       "          error_score='raise',\n",
       "          estimator=RandomForestRegressor(bootstrap=True, criterion='mse', max_depth=None,\n",
       "           max_features='auto', max_leaf_nodes=None,\n",
       "           min_impurity_split=1e-07, min_samples_leaf=1,\n",
       "           min_samples_split=2, min_weight_fraction_leaf=0.0,\n",
       "           n_estimators=10, n_jobs=1, oob_score=False, random_state=None,\n",
       "           verbose=0, warm_start=False),\n",
       "          fit_params={}, iid=True, n_iter=350, n_jobs=-1,\n",
       "          param_distributions={'max_leaf_nodes': array([ 10,  14,  18,  23,  27,  31,  36,  40,  44,  49,  53,  57,  62,\n",
       "        66,  71,  75,  79,  84,  88,  92,  97, 101, 105, 110, 114, 118,\n",
       "       123, 127, 132, 136, 140, 145, 149, 153, 158, 162, 166, 171, 175, 180]), 'min_samples_leaf': array([ 200,  246,...8, 192, 196, 200]), 'min_samples_split': array([  50,   54, ...,  995, 1000]), 'criterion': ['mse']},\n",
       "          pre_dispatch='2*n_jobs', random_state=0, refit=True,\n",
       "          return_train_score=True, scoring='neg_mean_squared_error',\n",
       "          verbose=0)"
      ]
     },
     "execution_count": 28,
     "metadata": {},
     "output_type": "execute_result"
    }
   ],
   "source": [
    "%%time\n",
    "random_search.fit(x_train, y_train);"
   ]
  },
  {
   "cell_type": "code",
   "execution_count": 29,
   "metadata": {
    "collapsed": false
   },
   "outputs": [
    {
     "name": "stdout",
     "output_type": "stream",
     "text": [
      "{'max_leaf_nodes': 149, 'n_estimators': 104, 'max_features': 'auto', 'min_samples_leaf': 246, 'max_depth': 5, 'criterion': 'mse', 'n_jobs': -1, 'min_samples_split': 350, 'bootstrap': True}\n"
     ]
    }
   ],
   "source": [
    "best_params = random_search.cv_results_['params'][np.flatnonzero(random_search.cv_results_['rank_test_score']==1)[0]]\n",
    "print(best_params)"
   ]
  },
  {
   "cell_type": "code",
   "execution_count": 30,
   "metadata": {
    "collapsed": false
   },
   "outputs": [
    {
     "data": {
      "text/plain": [
       "RandomForestRegressor(bootstrap=True, criterion='mse', max_depth=5,\n",
       "           max_features='auto', max_leaf_nodes=149,\n",
       "           min_impurity_split=1e-07, min_samples_leaf=246,\n",
       "           min_samples_split=350, min_weight_fraction_leaf=0.0,\n",
       "           n_estimators=104, n_jobs=-1, oob_score=False, random_state=0,\n",
       "           verbose=0, warm_start=False)"
      ]
     },
     "execution_count": 30,
     "metadata": {},
     "output_type": "execute_result"
    }
   ],
   "source": [
    "rfr.set_params(**best_params, random_state=0)"
   ]
  },
  {
   "cell_type": "code",
   "execution_count": 31,
   "metadata": {
    "collapsed": false
   },
   "outputs": [
    {
     "name": "stdout",
     "output_type": "stream",
     "text": [
      "Mean absolute error: 5.4739 +- 0.1651\n",
      "Mean squared error: 67.3838 +- 7.8926\n"
     ]
    }
   ],
   "source": [
    "#CV with kfold=5\n",
    "kf = KFold(n_splits=5, random_state=0)\n",
    "\n",
    "CV_mse = list()\n",
    "CV_mae = list()\n",
    "\n",
    "for train_index, test_index in kf.split(x_train, y_train):\n",
    "    rfr.fit(x_train[train_index], y_train[train_index])\n",
    "    y_pred = rfr.predict(x_train[test_index])\n",
    "    CV_mae.append(mean_absolute_error(y_train[test_index], y_pred))\n",
    "    CV_mse.append(mean_squared_error(y_train[test_index], y_pred))\n",
    "    \n",
    "print('Mean absolute error: %0.4f +- %0.4f' %(np.mean(CV_mae), 2*np.std(CV_mae)))\n",
    "print('Mean squared error: %0.4f +- %0.4f' %(np.mean(CV_mse), 2*np.std(CV_mse)))"
   ]
  },
  {
   "cell_type": "code",
   "execution_count": 32,
   "metadata": {
    "collapsed": false
   },
   "outputs": [
    {
     "data": {
      "text/plain": [
       "([5.4726774861400829,\n",
       "  5.5215645700447498,\n",
       "  5.4848111785928646,\n",
       "  5.3227372319662898,\n",
       "  5.5677634135732141],\n",
       " [69.395101258852904,\n",
       "  71.169284744034428,\n",
       "  63.797995491156577,\n",
       "  61.577724703944952,\n",
       "  70.978659644128783])"
      ]
     },
     "execution_count": 32,
     "metadata": {},
     "output_type": "execute_result"
    }
   ],
   "source": [
    "CV_mae, CV_mse"
   ]
  },
  {
   "cell_type": "code",
   "execution_count": 33,
   "metadata": {
    "collapsed": false
   },
   "outputs": [
    {
     "data": {
      "text/plain": [
       "RandomForestRegressor(bootstrap=True, criterion='mse', max_depth=5,\n",
       "           max_features='auto', max_leaf_nodes=149,\n",
       "           min_impurity_split=1e-07, min_samples_leaf=246,\n",
       "           min_samples_split=350, min_weight_fraction_leaf=0.0,\n",
       "           n_estimators=104, n_jobs=-1, oob_score=False, random_state=0,\n",
       "           verbose=0, warm_start=False)"
      ]
     },
     "execution_count": 33,
     "metadata": {},
     "output_type": "execute_result"
    }
   ],
   "source": [
    "rfr.fit(x_train, y_train)"
   ]
  },
  {
   "cell_type": "code",
   "execution_count": 34,
   "metadata": {
    "collapsed": false
   },
   "outputs": [
    {
     "name": "stdout",
     "output_type": "stream",
     "text": [
      "Training MAE: 5.32773830882, Training MSE: 63.7361267729\n"
     ]
    }
   ],
   "source": [
    "print('Training MAE: ' +str(mean_absolute_error(y_train, rfr.predict(x_train)))+', Training MSE: ' +\n",
    "      str(mean_squared_error(y_train, rfr.predict(x_train))))"
   ]
  },
  {
   "cell_type": "code",
   "execution_count": 35,
   "metadata": {
    "collapsed": false
   },
   "outputs": [
    {
     "name": "stdout",
     "output_type": "stream",
     "text": [
      "MAE: 5.49424270586, MSE: 62.9732373884\n"
     ]
    },
    {
     "data": {
      "text/html": [
       "<div>\n",
       "<table border=\"1\" class=\"dataframe\">\n",
       "  <thead>\n",
       "    <tr style=\"text-align: right;\">\n",
       "      <th></th>\n",
       "      <th>0</th>\n",
       "    </tr>\n",
       "  </thead>\n",
       "  <tbody>\n",
       "    <tr>\n",
       "      <th>spot</th>\n",
       "      <td>0.234905</td>\n",
       "    </tr>\n",
       "    <tr>\n",
       "      <th>demand</th>\n",
       "      <td>0.055386</td>\n",
       "    </tr>\n",
       "    <tr>\n",
       "      <th>off_peak</th>\n",
       "      <td>0.000537</td>\n",
       "    </tr>\n",
       "    <tr>\n",
       "      <th>Wd</th>\n",
       "      <td>0.023064</td>\n",
       "    </tr>\n",
       "    <tr>\n",
       "      <th>winter</th>\n",
       "      <td>0.000131</td>\n",
       "    </tr>\n",
       "    <tr>\n",
       "      <th>demand-1</th>\n",
       "      <td>0.000225</td>\n",
       "    </tr>\n",
       "    <tr>\n",
       "      <th>demand-24</th>\n",
       "      <td>0.013748</td>\n",
       "    </tr>\n",
       "    <tr>\n",
       "      <th>spot-1</th>\n",
       "      <td>0.013360</td>\n",
       "    </tr>\n",
       "    <tr>\n",
       "      <th>spot-24</th>\n",
       "      <td>0.050829</td>\n",
       "    </tr>\n",
       "    <tr>\n",
       "      <th>band-24</th>\n",
       "      <td>0.607816</td>\n",
       "    </tr>\n",
       "  </tbody>\n",
       "</table>\n",
       "</div>"
      ],
      "text/plain": [
       "                  0\n",
       "spot       0.234905\n",
       "demand     0.055386\n",
       "off_peak   0.000537\n",
       "Wd         0.023064\n",
       "winter     0.000131\n",
       "demand-1   0.000225\n",
       "demand-24  0.013748\n",
       "spot-1     0.013360\n",
       "spot-24    0.050829\n",
       "band-24    0.607816"
      ]
     },
     "execution_count": 35,
     "metadata": {},
     "output_type": "execute_result"
    }
   ],
   "source": [
    "#Print test error and feature importance\n",
    "print('MAE: ' +str(mean_absolute_error(y_test, rfr.predict(x_test)))+', MSE: ' +\n",
    "      str(mean_squared_error(y_test, rfr.predict(x_test))))\n",
    "pd.DataFrame(data=rfr.feature_importances_, index=features_list)"
   ]
  },
  {
   "cell_type": "code",
   "execution_count": null,
   "metadata": {
    "collapsed": false,
    "scrolled": true
   },
   "outputs": [],
   "source": [
    "export_graphviz(rfr.estimators_[12], out_file=\"0.dot\", max_depth=None, feature_names=features_list, label='none',\n",
    "               filled=True, leaves_parallel=False, impurity=False, node_ids=False, proportion=False, rotate=False,\n",
    "               rounded=True, special_characters=False)\n",
    "with open(\"0.dot\") as f:\n",
    "    dot_graph = f.read()\n",
    "graphviz.Source(dot_graph)"
   ]
  },
  {
   "cell_type": "code",
   "execution_count": 46,
   "metadata": {
    "collapsed": true
   },
   "outputs": [],
   "source": [
    "# Customised random forest, this is the final model\n",
    "rfr = RandomForestRegressor(bootstrap=True, criterion='mse', max_depth=5,\n",
    "           max_features='auto', max_leaf_nodes=150,\n",
    "           min_impurity_split=1e-07, min_samples_leaf=250,\n",
    "           min_samples_split=500, min_weight_fraction_leaf=0.0,\n",
    "           n_estimators=120, n_jobs=-1, oob_score=False, random_state=0,\n",
    "           verbose=0, warm_start=False)"
   ]
  },
  {
   "cell_type": "code",
   "execution_count": 47,
   "metadata": {
    "collapsed": false,
    "scrolled": false
   },
   "outputs": [
    {
     "name": "stdout",
     "output_type": "stream",
     "text": [
      "Mean absolute error: 5.4830 +- 0.1651\n",
      "Mean squared error: 67.5827 +- 7.8584\n"
     ]
    }
   ],
   "source": [
    "rfr.fit(x_train, y_train)\n",
    "#CV with kfold=5\n",
    "kf = KFold(n_splits=5, random_state=0)\n",
    "\n",
    "CV_mse = list()\n",
    "CV_mae = list()\n",
    "\n",
    "for train_index, test_index in kf.split(x_train, y_train):\n",
    "    rfr.fit(x_train[train_index], y_train[train_index])\n",
    "    y_pred = rfr.predict(x_train[test_index])\n",
    "    CV_mae.append(mean_absolute_error(y_train[test_index], y_pred))\n",
    "    CV_mse.append(mean_squared_error(y_train[test_index], y_pred))\n",
    "    \n",
    "print('Mean absolute error: %0.4f +- %0.4f' %(np.mean(CV_mae), 2*np.std(CV_mae)))\n",
    "print('Mean squared error: %0.4f +- %0.4f' %(np.mean(CV_mse), 2*np.std(CV_mse)))"
   ]
  },
  {
   "cell_type": "code",
   "execution_count": 48,
   "metadata": {
    "collapsed": false
   },
   "outputs": [
    {
     "data": {
      "text/plain": [
       "([5.4826489746880469,\n",
       "  5.5281288971704861,\n",
       "  5.493963013059604,\n",
       "  5.3319063831053208,\n",
       "  5.578293252628189],\n",
       " [69.563844884928187,\n",
       "  71.285205383970947,\n",
       "  64.022371862281034,\n",
       "  61.797239773952853,\n",
       "  71.244932156114672])"
      ]
     },
     "execution_count": 48,
     "metadata": {},
     "output_type": "execute_result"
    }
   ],
   "source": [
    "CV_mae, CV_mse"
   ]
  },
  {
   "cell_type": "code",
   "execution_count": 49,
   "metadata": {
    "collapsed": false
   },
   "outputs": [
    {
     "data": {
      "text/plain": [
       "RandomForestRegressor(bootstrap=True, criterion='mse', max_depth=5,\n",
       "           max_features='auto', max_leaf_nodes=150,\n",
       "           min_impurity_split=1e-07, min_samples_leaf=250,\n",
       "           min_samples_split=500, min_weight_fraction_leaf=0.0,\n",
       "           n_estimators=120, n_jobs=-1, oob_score=False, random_state=0,\n",
       "           verbose=0, warm_start=False)"
      ]
     },
     "execution_count": 49,
     "metadata": {},
     "output_type": "execute_result"
    }
   ],
   "source": [
    "rfr.fit(x_train, y_train)"
   ]
  },
  {
   "cell_type": "code",
   "execution_count": 50,
   "metadata": {
    "collapsed": false
   },
   "outputs": [
    {
     "name": "stdout",
     "output_type": "stream",
     "text": [
      "Training MAE: 5.33193635007, Training MSE: 63.8359932336\n"
     ]
    }
   ],
   "source": [
    "print('Training MAE: ' +str(mean_absolute_error(y_train, rfr.predict(x_train)))+', Training MSE: ' +\n",
    "      str(mean_squared_error(y_train, rfr.predict(x_train))))"
   ]
  },
  {
   "cell_type": "code",
   "execution_count": 51,
   "metadata": {
    "collapsed": false
   },
   "outputs": [
    {
     "name": "stdout",
     "output_type": "stream",
     "text": [
      "MAE: 5.49698288024, MSE: 63.042333512\n"
     ]
    },
    {
     "data": {
      "text/html": [
       "<div>\n",
       "<table border=\"1\" class=\"dataframe\">\n",
       "  <thead>\n",
       "    <tr style=\"text-align: right;\">\n",
       "      <th></th>\n",
       "      <th>0</th>\n",
       "    </tr>\n",
       "  </thead>\n",
       "  <tbody>\n",
       "    <tr>\n",
       "      <th>spot</th>\n",
       "      <td>0.236223</td>\n",
       "    </tr>\n",
       "    <tr>\n",
       "      <th>demand</th>\n",
       "      <td>0.055719</td>\n",
       "    </tr>\n",
       "    <tr>\n",
       "      <th>off_peak</th>\n",
       "      <td>0.000657</td>\n",
       "    </tr>\n",
       "    <tr>\n",
       "      <th>Wd</th>\n",
       "      <td>0.022769</td>\n",
       "    </tr>\n",
       "    <tr>\n",
       "      <th>winter</th>\n",
       "      <td>0.000117</td>\n",
       "    </tr>\n",
       "    <tr>\n",
       "      <th>demand-1</th>\n",
       "      <td>0.000242</td>\n",
       "    </tr>\n",
       "    <tr>\n",
       "      <th>demand-24</th>\n",
       "      <td>0.013768</td>\n",
       "    </tr>\n",
       "    <tr>\n",
       "      <th>spot-1</th>\n",
       "      <td>0.012356</td>\n",
       "    </tr>\n",
       "    <tr>\n",
       "      <th>spot-24</th>\n",
       "      <td>0.050332</td>\n",
       "    </tr>\n",
       "    <tr>\n",
       "      <th>band-24</th>\n",
       "      <td>0.607816</td>\n",
       "    </tr>\n",
       "  </tbody>\n",
       "</table>\n",
       "</div>"
      ],
      "text/plain": [
       "                  0\n",
       "spot       0.236223\n",
       "demand     0.055719\n",
       "off_peak   0.000657\n",
       "Wd         0.022769\n",
       "winter     0.000117\n",
       "demand-1   0.000242\n",
       "demand-24  0.013768\n",
       "spot-1     0.012356\n",
       "spot-24    0.050332\n",
       "band-24    0.607816"
      ]
     },
     "execution_count": 51,
     "metadata": {},
     "output_type": "execute_result"
    }
   ],
   "source": [
    "print('MAE: ' +str(mean_absolute_error(y_test, rfr.predict(x_test)))+', MSE: ' +\n",
    "      str(mean_squared_error(y_test, rfr.predict(x_test))))\n",
    "pd.DataFrame(data=rfr.feature_importances_, index=features_list)"
   ]
  },
  {
   "cell_type": "code",
   "execution_count": 57,
   "metadata": {
    "collapsed": false
   },
   "outputs": [],
   "source": [
    "#Transform y_true and y_pred from last model into log scale for the residual fitting\n",
    "rfr.fit(X, Y)\n",
    "Y_log = np.log1p(Y)\n",
    "Y_pred_log = np.log1p(rfr.predict(X))\n",
    "residuals = Y_log - Y_pred_log\n",
    "res_index = spot_band_demand.drop(labels=['hour', 'weekday','season', 'band'], axis=1).index\n",
    "residuals_random_forest = pd.DataFrame(data=residuals, index=res_index, columns=['residuals'])\n",
    "residuals_random_forest.to_csv('Residuals_from_random_forest.csv')"
   ]
  }
 ],
 "metadata": {
  "anaconda-cloud": {},
  "kernelspec": {
   "display_name": "Python [Root]",
   "language": "python",
   "name": "Python [Root]"
  },
  "language_info": {
   "codemirror_mode": {
    "name": "ipython",
    "version": 3
   },
   "file_extension": ".py",
   "mimetype": "text/x-python",
   "name": "python",
   "nbconvert_exporter": "python",
   "pygments_lexer": "ipython3",
   "version": "3.5.2"
  }
 },
 "nbformat": 4,
 "nbformat_minor": 0
}
