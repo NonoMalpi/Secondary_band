{
 "cells": [
  {
   "cell_type": "code",
   "execution_count": null,
   "metadata": {
    "collapsed": true
   },
   "outputs": [],
   "source": [
    "import pandas as pd\n",
    "import numpy as np\n",
    "import matplotlib.pyplot as plt\n",
    "import seaborn.apionly as sns\n",
    "import datetime\n",
    "import warnings\n",
    "import json\n",
    "%matplotlib inline\n",
    "plt.style.use('ggplot')\n",
    "warnings.filterwarnings('ignore')"
   ]
  },
  {
   "cell_type": "markdown",
   "metadata": {},
   "source": [
    "### Z TS\n",
    "$$Z_{t} = Ln\\left (\\frac{S_{t}}{\\widehat{S_{t}}}\\right )$$"
   ]
  },
  {
   "cell_type": "code",
   "execution_count": null,
   "metadata": {
    "collapsed": false
   },
   "outputs": [],
   "source": [
    "#Load residuals as z and set index as datetime\n",
    "z_raw = pd.read_csv('Residuals_from_random_forest.csv', encoding='latin1', index_col='date_hour')\n",
    "z_raw.index = z_raw.index.to_datetime()\n",
    "z_df = z_raw.asfreq('H')"
   ]
  },
  {
   "cell_type": "code",
   "execution_count": null,
   "metadata": {
    "collapsed": false
   },
   "outputs": [],
   "source": [
    "#Plot Z TS\n",
    "fig, ax0 = plt.subplots(1,1, figsize=(20,7))\n",
    "z_df['residuals'].plot(ax=ax0, alpha=0.6);"
   ]
  },
  {
   "cell_type": "markdown",
   "metadata": {},
   "source": [
    "### Dick-Fuller test on stationarity"
   ]
  },
  {
   "cell_type": "code",
   "execution_count": null,
   "metadata": {
    "collapsed": true
   },
   "outputs": [],
   "source": [
    "from statsmodels.tsa.stattools import adfuller"
   ]
  },
  {
   "cell_type": "code",
   "execution_count": null,
   "metadata": {
    "collapsed": true
   },
   "outputs": [],
   "source": [
    "def perform_stationarity_test(timeseries):\n",
    "    print('Results of the Dickey-Fuller Test:')\n",
    "    dftest = adfuller(timeseries, autolag='AIC')\n",
    "    dfoutpout = pd.Series(dftest[0:4], index=['Test Statistic', 'p-value', '#Lags used',\n",
    "                                             'Number of observation used'])\n",
    "    for key, value in dftest[4].items():\n",
    "        dfoutpout['Critical value (%s)'%key] = value\n",
    "    print(dfoutpout)"
   ]
  },
  {
   "cell_type": "code",
   "execution_count": null,
   "metadata": {
    "collapsed": false
   },
   "outputs": [],
   "source": [
    "perform_stationarity_test(z_df['residuals'])"
   ]
  },
  {
   "cell_type": "markdown",
   "metadata": {},
   "source": [
    "### ACF and PACF"
   ]
  },
  {
   "cell_type": "code",
   "execution_count": null,
   "metadata": {
    "collapsed": false
   },
   "outputs": [],
   "source": [
    "from statsmodels.tsa.stattools import acf, pacf\n",
    "from statsmodels.graphics.tsaplots import plot_acf, plot_pacf"
   ]
  },
  {
   "cell_type": "code",
   "execution_count": null,
   "metadata": {
    "collapsed": true
   },
   "outputs": [],
   "source": [
    "def computer_acf_pacf(timeseries, acf_lags, pacf_lags):\n",
    "    lag_acf = acf(timeseries, nlags=acf_lags)\n",
    "    lag_acf_df = pd.DataFrame(lag_acf, columns=['ACF'])\n",
    "    lag_acf_df.index.name = 'Hour'\n",
    "    \n",
    "    lag_pacf = pacf(timeseries.dropna(), nlags=pacf_lags)\n",
    "    lag_pacf_df = pd.DataFrame(lag_pacf, columns=['PACF'])\n",
    "    lag_pacf_df.index.name = 'Hour'\n",
    "    \n",
    "    fig, (ax0, ax1) = plt.subplots(2, 1, figsize=(20,15))\n",
    "    lag_acf_df.iloc[:100].plot(kind='bar', ax=ax0)\n",
    "    ax0.axhline(y=-1.96/np.sqrt(len(lag_acf)), linestyle='--', color='blue')\n",
    "    ax0.axhline(y=+1.96/np.sqrt(len(lag_acf)), linestyle='--', color='blue')\n",
    "    lag_pacf_df.iloc[:100].plot(kind='bar', ax=ax1);\n",
    "    ax1.axhline(y=-1.96/np.sqrt(len(lag_pacf)), linestyle='--', color='blue')\n",
    "    ax1.axhline(y=+1.96/np.sqrt(len(lag_pacf)), linestyle='--', color='blue')"
   ]
  },
  {
   "cell_type": "code",
   "execution_count": null,
   "metadata": {
    "collapsed": false
   },
   "outputs": [],
   "source": [
    "#ACF and PACF suggest an ARMA model with p = 24 and q = 24, since Hour 0 to 23 cannot be used\n",
    "computer_acf_pacf(z_df['residuals'], 720, 720)"
   ]
  },
  {
   "cell_type": "markdown",
   "metadata": {},
   "source": [
    "### ARIMA model, p=3"
   ]
  },
  {
   "cell_type": "code",
   "execution_count": null,
   "metadata": {
    "collapsed": false
   },
   "outputs": [],
   "source": [
    "from statsmodels.tsa.arima_model import ARIMA\n",
    "from statsmodels.tsa.statespace.sarimax import SARIMAX\n",
    "from sklearn.model_selection import TimeSeriesSplit\n",
    "from sklearn.metrics import mean_squared_error"
   ]
  },
  {
   "cell_type": "code",
   "execution_count": null,
   "metadata": {
    "collapsed": false
   },
   "outputs": [],
   "source": [
    "model = SARIMAX(endog=z_df['residuals'].values, order=(3,0,0))"
   ]
  },
  {
   "cell_type": "code",
   "execution_count": null,
   "metadata": {
    "collapsed": false
   },
   "outputs": [],
   "source": [
    "%%time\n",
    "results = model.fit(maxiter=400, disp=-1)"
   ]
  },
  {
   "cell_type": "code",
   "execution_count": null,
   "metadata": {
    "collapsed": false
   },
   "outputs": [],
   "source": [
    "print(results.summary())"
   ]
  },
  {
   "cell_type": "code",
   "execution_count": null,
   "metadata": {
    "collapsed": true
   },
   "outputs": [],
   "source": [
    "def compute_SARIMAX_model(timeseries, p, d, q):\n",
    "    \"\"\"\n",
    "    Computes the SARIMAX model for a given timeseries with order p, d, q\n",
    "    \"\"\"\n",
    "    model = SARIMAX(endog=timeseries.values, order=(p,d,q))\n",
    "    fitted_model = model.fit(disp=-1, maxiter=400)\n",
    "    return fitted_model"
   ]
  },
  {
   "cell_type": "code",
   "execution_count": null,
   "metadata": {
    "collapsed": true
   },
   "outputs": [],
   "source": [
    "def check_cv_fold(timeseries, train_index, test_index, p, d, q):\n",
    "    \"\"\"\n",
    "    Computes the 24-hour following error for an specific CV fold \n",
    "    \"\"\"\n",
    "    model = compute_SARIMAX_model(timeseries.iloc[train_index], p, d, q)\n",
    "    y_pred = model.forecast(steps=24)\n",
    "    y_true = timeseries.iloc[test_index].values[:24]\n",
    "    error = mean_squared_error(y_true, y_pred)\n",
    "    train_residuals = np.mean(model.resid**2)\n",
    "    print('train length: %d, train MSE %.4f, test MSE %.4f' %(len(train_index), train_residuals, error))\n",
    "    return train_residuals, error"
   ]
  },
  {
   "cell_type": "code",
   "execution_count": null,
   "metadata": {
    "collapsed": false
   },
   "outputs": [],
   "source": [
    "%%time\n",
    "tscv = TimeSeriesSplit(n_splits=10)\n",
    "train_error = list()\n",
    "test_error = list()\n",
    "for train_index, test_index in tscv.split(z_df['residuals'].values):\n",
    "    tr_error, ts_error = check_cv_fold(z_df['residuals'], train_index, test_index, ar, 0, 0)\n",
    "    train_error.append(tr_error)\n",
    "    test_error.append(ts_error)\n",
    "print('CV Train MSE: %.4f, Test MSE: %.4f' %(np.mean(train_error), np.mean(test_error)))"
   ]
  },
  {
   "cell_type": "code",
   "execution_count": null,
   "metadata": {
    "collapsed": false
   },
   "outputs": [],
   "source": [
    "fitted_model = compute_SARIMAX_model(z_df['residuals'], 3, 0, 0)"
   ]
  },
  {
   "cell_type": "code",
   "execution_count": null,
   "metadata": {
    "collapsed": false
   },
   "outputs": [],
   "source": [
    "fitted_model.arparams"
   ]
  },
  {
   "cell_type": "code",
   "execution_count": null,
   "metadata": {
    "collapsed": false
   },
   "outputs": [],
   "source": [
    "fitted_model.resid.std()"
   ]
  },
  {
   "cell_type": "markdown",
   "metadata": {},
   "source": [
    "$$Z_{t} = \\alpha_{1} \\cdot Z_{t-1} + \\alpha_{2} \\cdot Z_{t-2} + \\alpha_{3} \\cdot Z_{t-3} +\\epsilon _{t}$$"
   ]
  },
  {
   "cell_type": "code",
   "execution_count": null,
   "metadata": {
    "collapsed": false
   },
   "outputs": [],
   "source": [
    "#Export armaparams into a json\n",
    "arima_parameters ={\n",
    "    'ar':fitted_model.arparams.tolist(),\n",
    "    'std':fitted_model.resid.std()\n",
    "}\n",
    "\n",
    "with open('arima_parameters.json', 'w') as f:\n",
    "     json.dump(arima_parameters, f)"
   ]
  }
 ],
 "metadata": {
  "anaconda-cloud": {},
  "kernelspec": {
   "display_name": "Python [Root]",
   "language": "python",
   "name": "Python [Root]"
  },
  "language_info": {
   "codemirror_mode": {
    "name": "ipython",
    "version": 3
   },
   "file_extension": ".py",
   "mimetype": "text/x-python",
   "name": "python",
   "nbconvert_exporter": "python",
   "pygments_lexer": "ipython3",
   "version": "3.5.2"
  }
 },
 "nbformat": 4,
 "nbformat_minor": 0
}
