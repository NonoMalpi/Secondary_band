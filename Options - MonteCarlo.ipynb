{
 "cells": [
  {
   "cell_type": "code",
   "execution_count": 1,
   "metadata": {
    "collapsed": false
   },
   "outputs": [],
   "source": [
    "import pandas as pd\n",
    "import numpy as np\n",
    "import warnings\n",
    "warnings.filterwarnings('ignore')\n",
    "import matplotlib.pyplot as plt\n",
    "% matplotlib inline"
   ]
  },
  {
   "cell_type": "code",
   "execution_count": 2,
   "metadata": {
    "collapsed": false
   },
   "outputs": [],
   "source": [
    "np.random.seed(1000)\n",
    "def gen_sn(M, I):\n",
    "    sn = np.random.standard_normal((M+1, I/2))\n",
    "    sn = np.concatenate((sn, -sn), axis=1)\n",
    "    sn = (sn - sn.mean()) / sn.std()\n",
    "    return sn"
   ]
  },
  {
   "cell_type": "code",
   "execution_count": 3,
   "metadata": {
    "collapsed": true
   },
   "outputs": [],
   "source": [
    "def gbm_mcs_amer(K, option='call'):\n",
    "    #Time step\n",
    "    dt = T/M\n",
    "    #discount factor\n",
    "    df = np.exp(-r*dt)\n",
    "    #Simulation of index level\n",
    "    S = np.zeros((M+1, I))\n",
    "    S[0] = S0\n",
    "    sn = gen_sn(M,I)\n",
    "    for t in range(1, M+1):\n",
    "        S[t] = S[t-1] * np.exp((r-0.5*sigma**2) * dt + sigma*np.sqrt(dt)*sn[t])\n",
    "    \n",
    "    #Case base simulation payoff\n",
    "    if option == 'call':\n",
    "        h = np.maximum(S-K, 0)\n",
    "    else:\n",
    "        h = np.maximum(K-S, 0)\n",
    "        \n",
    "    #LSM algorithm\n",
    "    V = np.copy(h)\n",
    "    #Iterate from  M-1 to 0\n",
    "    for t in range(M-1, 0, -1):\n",
    "        #Least-square regression to estimate V[t+1]*df based on S[t], level 7 of the polynomial\n",
    "        reg = np.polyfit(S[t], V[t+1]*df, 7)\n",
    "        if t == 30:\n",
    "            reg_acu = reg\n",
    "        # For the coefficients obtained, evaluate reg*S[t] to obtain an expectaction of the continuation value C\n",
    "        C = np.polyval(reg, S[t])\n",
    "        #Compute for each time stamp t, the value of the american option, as the maximum between the expected continuation value\n",
    "        # and the payoff h at t\n",
    "        V[t] = np.where(C>h[t], V[t+1]*df, h[t])\n",
    "        \n",
    "    #MCS estimator\n",
    "    C0 = df * 1/I * np.sum(V[1])\n",
    "    return C0, V, h, sn, S, reg, C, reg_acu"
   ]
  },
  {
   "cell_type": "code",
   "execution_count": 4,
   "metadata": {
    "collapsed": true
   },
   "outputs": [],
   "source": [
    "M=50\n",
    "I=50000\n",
    "S0 = 100\n",
    "r = 0.05\n",
    "sigma = 0.25\n",
    "T = 1"
   ]
  },
  {
   "cell_type": "code",
   "execution_count": 5,
   "metadata": {
    "collapsed": false
   },
   "outputs": [],
   "source": [
    "C0, V, h, sn, S, reg, C, reg_acu = gbm_mcs_amer(110., option='call')"
   ]
  },
  {
   "cell_type": "code",
   "execution_count": 6,
   "metadata": {
    "collapsed": false
   },
   "outputs": [
    {
     "data": {
      "text/plain": [
       "array([[ 100.        ,  100.        ,  100.        , ...,  100.        ,\n",
       "         100.        ,  100.        ],\n",
       "       [  97.53284455,   92.18118931,   87.62200211, ...,  101.01427171,\n",
       "         103.237074  ,   98.55789431],\n",
       "       [  96.82599963,   95.46681946,   89.71343461, ...,   97.32077671,\n",
       "         111.56238641,   96.83867064],\n",
       "       ..., \n",
       "       [  79.13245316,  114.3061148 ,   84.87802538, ...,  101.78766767,\n",
       "         122.71767645,  120.49993539],\n",
       "       [  75.53313939,  119.72277134,   89.81675334, ...,  103.39240353,\n",
       "         125.13986626,  117.8917837 ],\n",
       "       [  75.67523521,  121.95856592,   91.12880713, ...,  112.53447269,\n",
       "         132.70432859,  117.23937521]])"
      ]
     },
     "execution_count": 6,
     "metadata": {},
     "output_type": "execute_result"
    }
   ],
   "source": [
    "S"
   ]
  },
  {
   "cell_type": "code",
   "execution_count": null,
   "metadata": {
    "collapsed": false
   },
   "outputs": [],
   "source": [
    "V.shape"
   ]
  },
  {
   "cell_type": "code",
   "execution_count": 7,
   "metadata": {
    "collapsed": false
   },
   "outputs": [
    {
     "data": {
      "text/plain": [
       "array([  75.67523521,  121.95856592,   91.12880713, ...,  112.53447269,\n",
       "        132.70432859,  117.23937521])"
      ]
     },
     "execution_count": 7,
     "metadata": {},
     "output_type": "execute_result"
    }
   ],
   "source": [
    "S[-1]"
   ]
  },
  {
   "cell_type": "code",
   "execution_count": null,
   "metadata": {
    "collapsed": false
   },
   "outputs": [],
   "source": [
    "h[-1]"
   ]
  },
  {
   "cell_type": "code",
   "execution_count": null,
   "metadata": {
    "collapsed": false
   },
   "outputs": [],
   "source": [
    "plt.plot(S[:, :1000], alpha=0.2);\n",
    "plt.grid(True)"
   ]
  },
  {
   "cell_type": "code",
   "execution_count": null,
   "metadata": {
    "collapsed": false
   },
   "outputs": [],
   "source": [
    "plt.plot(h[:, :1000], alpha=0.2)\n",
    "plt.grid(True);"
   ]
  },
  {
   "cell_type": "code",
   "execution_count": null,
   "metadata": {
    "collapsed": false
   },
   "outputs": [],
   "source": [
    "plt.plot(V[:, :1000], alpha=0.2);\n",
    "plt.grid(True)"
   ]
  },
  {
   "cell_type": "code",
   "execution_count": null,
   "metadata": {
    "collapsed": false
   },
   "outputs": [],
   "source": [
    "V.shape"
   ]
  },
  {
   "cell_type": "code",
   "execution_count": null,
   "metadata": {
    "collapsed": true
   },
   "outputs": [],
   "source": []
  }
 ],
 "metadata": {
  "kernelspec": {
   "display_name": "Python [Root]",
   "language": "python",
   "name": "Python [Root]"
  },
  "language_info": {
   "codemirror_mode": {
    "name": "ipython",
    "version": 3
   },
   "file_extension": ".py",
   "mimetype": "text/x-python",
   "name": "python",
   "nbconvert_exporter": "python",
   "pygments_lexer": "ipython3",
   "version": "3.5.2"
  }
 },
 "nbformat": 4,
 "nbformat_minor": 0
}
