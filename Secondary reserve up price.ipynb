{
 "cells": [
  {
   "cell_type": "code",
   "execution_count": 13,
   "metadata": {
    "collapsed": true
   },
   "outputs": [],
   "source": [
    "import pandas as pd\n",
    "import numpy as np\n",
    "import matplotlib.pyplot as plt\n",
    "import warnings\n",
    "import json\n",
    "import datetime\n",
    "warnings.filterwarnings('ignore')"
   ]
  },
  {
   "cell_type": "code",
   "execution_count": 14,
   "metadata": {
    "collapsed": true
   },
   "outputs": [],
   "source": [
    "def get_clean_data(df_original):\n",
    "    weekday_dict = {\n",
    "        0:'Wd', 1:'Wd', 2:'Wd', 3:'Wd', 4:'Wd', 5:'F', 6:'F' \n",
    "    }\n",
    "    \n",
    "    df = df_original.copy(deep=True)\n",
    "    df['date'] =  pd.to_datetime(df['datetime'].apply(lambda x: x[:10]), format='%Y-%m-%d')\n",
    "    df['year'] = df['date'].dt.year\n",
    "    df['time'] = pd.to_datetime(df['datetime'].apply(lambda x: x[:19])).dt.time\n",
    "    df['month'] = df['date'].dt.month\n",
    "    df['day'] = df['date'].dt.day\n",
    "    df['hour'] = df['datetime'].apply(lambda x: x[11:13]).astype(int)\n",
    "    df['minute'] = df['datetime'].apply(lambda x: x[14:16]).astype(int)\n",
    "    df['weekday'] = df['date'].dt.dayofweek\n",
    "    df.replace({'weekday':weekday_dict}, inplace=True)\n",
    "    df['season'] = np.where(df['month'].isin(list(range(4,10))), 'summer', 'winter')\n",
    "    df['date_hour'] = df.apply(lambda x: datetime.datetime.combine(x['date'], x['time']), axis=1)\n",
    "    df.set_index('date_hour', inplace=True)\n",
    "    df = df[df.index < '2017']\n",
    "    clean_df = df[['date', 'year', 'month', 'season', 'day','weekday','time', 'hour', 'minute', 'value']]\n",
    "    clean_df = clean_df[~clean_df.index.duplicated()]\n",
    "    clean_df['hour'] = np.where(clean_df['hour'].isin(np.arange(9,23)), 'Peak', 'off_peak')\n",
    "    #clean_df['value'] = np.log1p(clean_df['value'])\n",
    "    clean_df_freq = clean_df.asfreq('H')\n",
    "    #clean_df_freq['value'] = np.where(clean_df_freq['value'].isnull(), 0, clean_df_freq['value'])\n",
    "    \n",
    "    return clean_df_freq"
   ]
  },
  {
   "cell_type": "markdown",
   "metadata": {},
   "source": [
    "### Price of secondary reserve up"
   ]
  },
  {
   "cell_type": "code",
   "execution_count": 15,
   "metadata": {
    "collapsed": false
   },
   "outputs": [],
   "source": [
    "raw_reserve_price = pd.read_csv('2014_2016_training_files/export_PrecioDeRegulaciónSecundariaSubir_2017-03-01_09-01.csv',\n",
    "                               encoding='latin1', delimiter=';')\n",
    "reserve_price = get_clean_data(raw_reserve_price).rename(columns={'value':'reserve'})"
   ]
  },
  {
   "cell_type": "code",
   "execution_count": 16,
   "metadata": {
    "collapsed": true
   },
   "outputs": [],
   "source": [
    "raw_spot_price = pd.read_csv('2014_2016_training_files/export_PrecioMercadoSPOTDiario_2017-02-02_09-47.csv', encoding='latin1', delimiter=';')\n",
    "raw_spot_price = raw_spot_price[raw_spot_price['geoid'] == 3]\n",
    "spot_price = get_clean_data(raw_spot_price)\n",
    "spot_price = spot_price.rename(columns={'value':'spot'})"
   ]
  },
  {
   "cell_type": "code",
   "execution_count": 17,
   "metadata": {
    "collapsed": true
   },
   "outputs": [],
   "source": [
    "raw_demand = pd.read_csv('2014_2016_training_files/export_DemandaProgramada_2017-02-02_09-45.csv', encoding='latin1', delimiter=';')\n",
    "demand = get_clean_data(raw_demand)\n",
    "demand = demand.rename(columns={'value':'demand'})"
   ]
  },
  {
   "cell_type": "code",
   "execution_count": 18,
   "metadata": {
    "collapsed": true
   },
   "outputs": [],
   "source": [
    "spot_res_demand = reserve_price.merge(spot_price[['spot']], how='left', left_index=True, right_index=True)\n",
    "spot_res_demand = spot_res_demand.merge(demand[['demand']], how='left', left_index=True, right_index=True)"
   ]
  },
  {
   "cell_type": "code",
   "execution_count": 7,
   "metadata": {
    "collapsed": true
   },
   "outputs": [],
   "source": [
    "spot_res_demand = spot_res_demand[['hour', 'weekday', 'season', 'spot','demand', 'reserve']]"
   ]
  },
  {
   "cell_type": "code",
   "execution_count": 8,
   "metadata": {
    "collapsed": false
   },
   "outputs": [],
   "source": [
    "for feature in ['hour', 'weekday', 'season']:\n",
    "    spot_res_demand[pd.get_dummies(spot_res_demand[feature], drop_first=True).columns.tolist()] = pd.get_dummies(spot_res_demand[feature], drop_first=True)"
   ]
  },
  {
   "cell_type": "code",
   "execution_count": 9,
   "metadata": {
    "collapsed": false
   },
   "outputs": [],
   "source": [
    "for feature in ['demand', 'spot']:\n",
    "    spot_res_demand[feature + '-1'] = spot_res_demand[feature].shift(periods=+1)\n",
    "    spot_res_demand[feature + '-24'] = spot_res_demand[feature].shift(periods=+24)\n",
    "spot_res_demand['reserve-24'] = spot_res_demand['reserve'].shift(periods=24)\n",
    "spot_res_demand.dropna(subset=['demand-1', 'spot-1', 'demand-24', 'spot-24', 'reserve-24'], inplace=True)"
   ]
  },
  {
   "cell_type": "markdown",
   "metadata": {
    "collapsed": true
   },
   "source": [
    "### Preprocessing for Decision Tree"
   ]
  },
  {
   "cell_type": "code",
   "execution_count": 10,
   "metadata": {
    "collapsed": true
   },
   "outputs": [],
   "source": [
    "from sklearn.tree import DecisionTreeRegressor\n",
    "from sklearn.model_selection import KFold, train_test_split, RandomizedSearchCV, GridSearchCV\n",
    "from sklearn.metrics import mean_squared_error, mean_absolute_error\n",
    "from sklearn.tree import export_graphviz\n",
    "import graphviz"
   ]
  },
  {
   "cell_type": "code",
   "execution_count": 11,
   "metadata": {
    "collapsed": false
   },
   "outputs": [],
   "source": [
    "#Set features and output\n",
    "X = spot_res_demand.drop(labels=['hour', 'weekday','season', 'reserve'], axis=1).values\n",
    "Y = spot_res_demand['reserve'].values"
   ]
  },
  {
   "cell_type": "code",
   "execution_count": 12,
   "metadata": {
    "collapsed": false
   },
   "outputs": [
    {
     "data": {
      "text/html": [
       "<div>\n",
       "<table border=\"1\" class=\"dataframe\">\n",
       "  <thead>\n",
       "    <tr style=\"text-align: right;\">\n",
       "      <th></th>\n",
       "      <th>spot</th>\n",
       "      <th>demand</th>\n",
       "      <th>off_peak</th>\n",
       "      <th>Wd</th>\n",
       "      <th>winter</th>\n",
       "      <th>demand-1</th>\n",
       "      <th>demand-24</th>\n",
       "      <th>spot-1</th>\n",
       "      <th>spot-24</th>\n",
       "      <th>reserve-24</th>\n",
       "    </tr>\n",
       "  </thead>\n",
       "  <tbody>\n",
       "    <tr>\n",
       "      <th>spot</th>\n",
       "      <td>1.000000</td>\n",
       "      <td>0.439271</td>\n",
       "      <td>-2.782497e-01</td>\n",
       "      <td>2.362048e-01</td>\n",
       "      <td>-3.455513e-02</td>\n",
       "      <td>0.404751</td>\n",
       "      <td>0.329684</td>\n",
       "      <td>0.966815</td>\n",
       "      <td>0.775220</td>\n",
       "      <td>0.376829</td>\n",
       "    </tr>\n",
       "    <tr>\n",
       "      <th>demand</th>\n",
       "      <td>0.439271</td>\n",
       "      <td>1.000000</td>\n",
       "      <td>-6.632193e-01</td>\n",
       "      <td>3.911550e-01</td>\n",
       "      <td>8.202220e-02</td>\n",
       "      <td>0.950713</td>\n",
       "      <td>0.811719</td>\n",
       "      <td>0.418458</td>\n",
       "      <td>0.330222</td>\n",
       "      <td>0.061926</td>\n",
       "    </tr>\n",
       "    <tr>\n",
       "      <th>off_peak</th>\n",
       "      <td>-0.278250</td>\n",
       "      <td>-0.663219</td>\n",
       "      <td>1.000000e+00</td>\n",
       "      <td>8.301321e-17</td>\n",
       "      <td>3.785815e-17</td>\n",
       "      <td>-0.630145</td>\n",
       "      <td>-0.662662</td>\n",
       "      <td>-0.259829</td>\n",
       "      <td>-0.277380</td>\n",
       "      <td>-0.003853</td>\n",
       "    </tr>\n",
       "    <tr>\n",
       "      <th>Wd</th>\n",
       "      <td>0.236205</td>\n",
       "      <td>0.391155</td>\n",
       "      <td>8.301321e-17</td>\n",
       "      <td>1.000000e+00</td>\n",
       "      <td>-3.754593e-03</td>\n",
       "      <td>0.386605</td>\n",
       "      <td>0.060692</td>\n",
       "      <td>0.234965</td>\n",
       "      <td>0.021821</td>\n",
       "      <td>0.012099</td>\n",
       "    </tr>\n",
       "    <tr>\n",
       "      <th>winter</th>\n",
       "      <td>-0.034555</td>\n",
       "      <td>0.082022</td>\n",
       "      <td>3.785815e-17</td>\n",
       "      <td>-3.754593e-03</td>\n",
       "      <td>1.000000e+00</td>\n",
       "      <td>0.081945</td>\n",
       "      <td>0.081045</td>\n",
       "      <td>-0.034386</td>\n",
       "      <td>-0.029929</td>\n",
       "      <td>0.041728</td>\n",
       "    </tr>\n",
       "    <tr>\n",
       "      <th>demand-1</th>\n",
       "      <td>0.404751</td>\n",
       "      <td>0.950713</td>\n",
       "      <td>-6.301450e-01</td>\n",
       "      <td>3.866047e-01</td>\n",
       "      <td>8.194535e-02</td>\n",
       "      <td>1.000000</td>\n",
       "      <td>0.772684</td>\n",
       "      <td>0.439311</td>\n",
       "      <td>0.303557</td>\n",
       "      <td>0.062900</td>\n",
       "    </tr>\n",
       "    <tr>\n",
       "      <th>demand-24</th>\n",
       "      <td>0.329684</td>\n",
       "      <td>0.811719</td>\n",
       "      <td>-6.626618e-01</td>\n",
       "      <td>6.069245e-02</td>\n",
       "      <td>8.104539e-02</td>\n",
       "      <td>0.772684</td>\n",
       "      <td>1.000000</td>\n",
       "      <td>0.313280</td>\n",
       "      <td>0.440859</td>\n",
       "      <td>0.086790</td>\n",
       "    </tr>\n",
       "    <tr>\n",
       "      <th>spot-1</th>\n",
       "      <td>0.966815</td>\n",
       "      <td>0.418458</td>\n",
       "      <td>-2.598290e-01</td>\n",
       "      <td>2.349651e-01</td>\n",
       "      <td>-3.438614e-02</td>\n",
       "      <td>0.439311</td>\n",
       "      <td>0.313280</td>\n",
       "      <td>1.000000</td>\n",
       "      <td>0.761822</td>\n",
       "      <td>0.375872</td>\n",
       "    </tr>\n",
       "    <tr>\n",
       "      <th>spot-24</th>\n",
       "      <td>0.775220</td>\n",
       "      <td>0.330222</td>\n",
       "      <td>-2.773799e-01</td>\n",
       "      <td>2.182063e-02</td>\n",
       "      <td>-2.992868e-02</td>\n",
       "      <td>0.303557</td>\n",
       "      <td>0.440859</td>\n",
       "      <td>0.761822</td>\n",
       "      <td>1.000000</td>\n",
       "      <td>0.437240</td>\n",
       "    </tr>\n",
       "    <tr>\n",
       "      <th>reserve-24</th>\n",
       "      <td>0.376829</td>\n",
       "      <td>0.061926</td>\n",
       "      <td>-3.852887e-03</td>\n",
       "      <td>1.209888e-02</td>\n",
       "      <td>4.172767e-02</td>\n",
       "      <td>0.062900</td>\n",
       "      <td>0.086790</td>\n",
       "      <td>0.375872</td>\n",
       "      <td>0.437240</td>\n",
       "      <td>1.000000</td>\n",
       "    </tr>\n",
       "  </tbody>\n",
       "</table>\n",
       "</div>"
      ],
      "text/plain": [
       "                spot    demand      off_peak            Wd        winter  \\\n",
       "spot        1.000000  0.439271 -2.782497e-01  2.362048e-01 -3.455513e-02   \n",
       "demand      0.439271  1.000000 -6.632193e-01  3.911550e-01  8.202220e-02   \n",
       "off_peak   -0.278250 -0.663219  1.000000e+00  8.301321e-17  3.785815e-17   \n",
       "Wd          0.236205  0.391155  8.301321e-17  1.000000e+00 -3.754593e-03   \n",
       "winter     -0.034555  0.082022  3.785815e-17 -3.754593e-03  1.000000e+00   \n",
       "demand-1    0.404751  0.950713 -6.301450e-01  3.866047e-01  8.194535e-02   \n",
       "demand-24   0.329684  0.811719 -6.626618e-01  6.069245e-02  8.104539e-02   \n",
       "spot-1      0.966815  0.418458 -2.598290e-01  2.349651e-01 -3.438614e-02   \n",
       "spot-24     0.775220  0.330222 -2.773799e-01  2.182063e-02 -2.992868e-02   \n",
       "reserve-24  0.376829  0.061926 -3.852887e-03  1.209888e-02  4.172767e-02   \n",
       "\n",
       "            demand-1  demand-24    spot-1   spot-24  reserve-24  \n",
       "spot        0.404751   0.329684  0.966815  0.775220    0.376829  \n",
       "demand      0.950713   0.811719  0.418458  0.330222    0.061926  \n",
       "off_peak   -0.630145  -0.662662 -0.259829 -0.277380   -0.003853  \n",
       "Wd          0.386605   0.060692  0.234965  0.021821    0.012099  \n",
       "winter      0.081945   0.081045 -0.034386 -0.029929    0.041728  \n",
       "demand-1    1.000000   0.772684  0.439311  0.303557    0.062900  \n",
       "demand-24   0.772684   1.000000  0.313280  0.440859    0.086790  \n",
       "spot-1      0.439311   0.313280  1.000000  0.761822    0.375872  \n",
       "spot-24     0.303557   0.440859  0.761822  1.000000    0.437240  \n",
       "reserve-24  0.062900   0.086790  0.375872  0.437240    1.000000  "
      ]
     },
     "execution_count": 12,
     "metadata": {},
     "output_type": "execute_result"
    }
   ],
   "source": [
    "spot_res_demand.drop(labels=['hour', 'weekday','season', 'reserve'], axis=1).corr()"
   ]
  },
  {
   "cell_type": "code",
   "execution_count": 13,
   "metadata": {
    "collapsed": true
   },
   "outputs": [],
   "source": [
    "features_list = spot_res_demand.drop(labels=['hour', 'weekday','season', 'reserve'], axis=1).columns.tolist()"
   ]
  },
  {
   "cell_type": "code",
   "execution_count": 14,
   "metadata": {
    "collapsed": true
   },
   "outputs": [],
   "source": [
    "#Split data set into train and test\n",
    "x_train, x_test, y_train, y_test = train_test_split(X, Y, train_size=0.8, \n",
    "                                                    test_size=0.2, random_state=0)"
   ]
  },
  {
   "cell_type": "markdown",
   "metadata": {},
   "source": [
    "### Randomized Search CV"
   ]
  },
  {
   "cell_type": "code",
   "execution_count": 15,
   "metadata": {
    "collapsed": true
   },
   "outputs": [],
   "source": [
    "params = {\n",
    "    'criterion':['mse'],\n",
    "    'splitter':['best','random'],\n",
    "    'max_features':['auto','log2', 'sqrt'],\n",
    "    'max_depth':np.arange(2,10), 'min_samples_split':np.linspace(50, 1000, 200).astype(int),\n",
    "    'min_samples_leaf': np.linspace(200, 2500, 50).astype(int), 'max_leaf_nodes': np.linspace(10,180, 40).astype(int)\n",
    "}"
   ]
  },
  {
   "cell_type": "code",
   "execution_count": 16,
   "metadata": {
    "collapsed": false
   },
   "outputs": [],
   "source": [
    "#Random search, set up tree and cross-validation\n",
    "tree = DecisionTreeRegressor()\n",
    "kf = KFold(n_splits=5)\n",
    "\n",
    "#Randomized Search CV for tree\n",
    "random_search = RandomizedSearchCV(tree, param_distributions=params, n_jobs=-1, n_iter=350,\n",
    "                                scoring='neg_mean_squared_error', cv=list(kf.split(x_train,y_train)), random_state=0)"
   ]
  },
  {
   "cell_type": "code",
   "execution_count": 17,
   "metadata": {
    "collapsed": false
   },
   "outputs": [
    {
     "name": "stdout",
     "output_type": "stream",
     "text": [
      "Wall time: 16.1 s\n"
     ]
    },
    {
     "data": {
      "text/plain": [
       "RandomizedSearchCV(cv=[(array([ 4205,  4206, ..., 21022, 21023]), array([   0,    1, ..., 4203, 4204])), (array([    0,     1, ..., 21022, 21023]), array([4205, 4206, ..., 8408, 8409])), (array([    0,     1, ..., 21022, 21023]), array([ 8410,  8411, ..., 12613, 12614])), (array([    0,     1, ..., 21022, 21023]), array([12615, 12616, ..., 16818, 16819])), (array([    0,     1, ..., 16818, 16819]), array([16820, 16821, ..., 21022, 21023]))],\n",
       "          error_score='raise',\n",
       "          estimator=DecisionTreeRegressor(criterion='mse', max_depth=None, max_features=None,\n",
       "           max_leaf_nodes=None, min_impurity_split=1e-07,\n",
       "           min_samples_leaf=1, min_samples_split=2,\n",
       "           min_weight_fraction_leaf=0.0, presort=False, random_state=None,\n",
       "           splitter='best'),\n",
       "          fit_params={}, iid=True, n_iter=350, n_jobs=-1,\n",
       "          param_distributions={'splitter': ['best', 'random'], 'max_leaf_nodes': array([ 10,  14,  18,  23,  27,  31,  36,  40,  44,  49,  53,  57,  62,\n",
       "        66,  71,  75,  79,  84,  88,  92,  97, 101, 105, 110, 114, 118,\n",
       "       123, 127, 132, 136, 140, 145, 149, 153, 158, 162, 166, 171, 175, 180]), 'min_s...4, 5, 6, 7, 8, 9]), 'min_samples_split': array([  50,   54, ...,  995, 1000]), 'criterion': ['mse']},\n",
       "          pre_dispatch='2*n_jobs', random_state=0, refit=True,\n",
       "          return_train_score=True, scoring='neg_mean_squared_error',\n",
       "          verbose=0)"
      ]
     },
     "execution_count": 17,
     "metadata": {},
     "output_type": "execute_result"
    }
   ],
   "source": [
    "%%time\n",
    "random_search.fit(x_train, y_train);"
   ]
  },
  {
   "cell_type": "code",
   "execution_count": 18,
   "metadata": {
    "collapsed": false
   },
   "outputs": [
    {
     "name": "stdout",
     "output_type": "stream",
     "text": [
      "{'splitter': 'best', 'max_leaf_nodes': 140, 'max_features': 'auto', 'min_samples_leaf': 293, 'max_depth': 6, 'min_samples_split': 408, 'criterion': 'mse'}\n"
     ]
    }
   ],
   "source": [
    "best_params = random_search.cv_results_['params'][np.flatnonzero(random_search.cv_results_['rank_test_score']==1)[0]]\n",
    "print(best_params)"
   ]
  },
  {
   "cell_type": "code",
   "execution_count": 19,
   "metadata": {
    "collapsed": false
   },
   "outputs": [
    {
     "data": {
      "text/plain": [
       "DecisionTreeRegressor(criterion='mse', max_depth=6, max_features='auto',\n",
       "           max_leaf_nodes=140, min_impurity_split=1e-07,\n",
       "           min_samples_leaf=293, min_samples_split=408,\n",
       "           min_weight_fraction_leaf=0.0, presort=False, random_state=0,\n",
       "           splitter='best')"
      ]
     },
     "execution_count": 19,
     "metadata": {},
     "output_type": "execute_result"
    }
   ],
   "source": [
    "tree.set_params(**best_params, random_state=0)"
   ]
  },
  {
   "cell_type": "code",
   "execution_count": 20,
   "metadata": {
    "collapsed": false
   },
   "outputs": [
    {
     "name": "stdout",
     "output_type": "stream",
     "text": [
      "Mean absolute error: 12.5237 +- 0.0913\n",
      "Mean squared error: 336.0224 +- 55.6867\n"
     ]
    }
   ],
   "source": [
    "#CV with kfold=5\n",
    "kf = KFold(n_splits=5, random_state=0)\n",
    "\n",
    "CV_mse = list()\n",
    "CV_mae = list()\n",
    "\n",
    "for train_index, test_index in kf.split(x_train, y_train):\n",
    "    tree.fit(x_train[train_index], y_train[train_index])\n",
    "    y_pred = tree.predict(x_train[test_index])\n",
    "    CV_mae.append(mean_absolute_error(y_train[test_index], y_pred))\n",
    "    CV_mse.append(mean_squared_error(y_train[test_index], y_pred))\n",
    "    \n",
    "print('Mean absolute error: %0.4f +- %0.4f' %(np.mean(CV_mae), 2*np.std(CV_mae)))\n",
    "print('Mean squared error: %0.4f +- %0.4f' %(np.mean(CV_mse), 2*np.std(CV_mse)))"
   ]
  },
  {
   "cell_type": "code",
   "execution_count": 21,
   "metadata": {
    "collapsed": false
   },
   "outputs": [
    {
     "data": {
      "text/plain": [
       "([12.495638764257393,\n",
       "  12.501391710409536,\n",
       "  12.568554189073113,\n",
       "  12.466804731371791,\n",
       "  12.586098683055601],\n",
       " [326.56764051320363,\n",
       "  317.24033099704116,\n",
       "  320.7218791207755,\n",
       "  391.34882721342422,\n",
       "  324.23348680834965])"
      ]
     },
     "execution_count": 21,
     "metadata": {},
     "output_type": "execute_result"
    }
   ],
   "source": [
    "CV_mae, CV_mse"
   ]
  },
  {
   "cell_type": "code",
   "execution_count": 22,
   "metadata": {
    "collapsed": false
   },
   "outputs": [
    {
     "name": "stdout",
     "output_type": "stream",
     "text": [
      "MAE: 12.3359899969, MSE: 325.927263754\n"
     ]
    }
   ],
   "source": [
    "tree.fit(x_train, y_train)\n",
    "print('MAE: ' +str(mean_absolute_error(y_train, tree.predict(x_train)))+', MSE: ' +\n",
    "      str(mean_squared_error(y_train, tree.predict(x_train))))"
   ]
  },
  {
   "cell_type": "code",
   "execution_count": 23,
   "metadata": {
    "collapsed": false
   },
   "outputs": [
    {
     "name": "stdout",
     "output_type": "stream",
     "text": [
      "MAE: 12.1928411523, MSE: 312.553840591\n"
     ]
    },
    {
     "data": {
      "text/html": [
       "<div>\n",
       "<table border=\"1\" class=\"dataframe\">\n",
       "  <thead>\n",
       "    <tr style=\"text-align: right;\">\n",
       "      <th></th>\n",
       "      <th>0</th>\n",
       "    </tr>\n",
       "  </thead>\n",
       "  <tbody>\n",
       "    <tr>\n",
       "      <th>spot</th>\n",
       "      <td>0.716757</td>\n",
       "    </tr>\n",
       "    <tr>\n",
       "      <th>demand</th>\n",
       "      <td>0.025510</td>\n",
       "    </tr>\n",
       "    <tr>\n",
       "      <th>off_peak</th>\n",
       "      <td>0.000000</td>\n",
       "    </tr>\n",
       "    <tr>\n",
       "      <th>Wd</th>\n",
       "      <td>0.000000</td>\n",
       "    </tr>\n",
       "    <tr>\n",
       "      <th>winter</th>\n",
       "      <td>0.003762</td>\n",
       "    </tr>\n",
       "    <tr>\n",
       "      <th>demand-1</th>\n",
       "      <td>0.003071</td>\n",
       "    </tr>\n",
       "    <tr>\n",
       "      <th>demand-24</th>\n",
       "      <td>0.037066</td>\n",
       "    </tr>\n",
       "    <tr>\n",
       "      <th>spot-1</th>\n",
       "      <td>0.031052</td>\n",
       "    </tr>\n",
       "    <tr>\n",
       "      <th>spot-24</th>\n",
       "      <td>0.004731</td>\n",
       "    </tr>\n",
       "    <tr>\n",
       "      <th>reserve-24</th>\n",
       "      <td>0.178050</td>\n",
       "    </tr>\n",
       "  </tbody>\n",
       "</table>\n",
       "</div>"
      ],
      "text/plain": [
       "                   0\n",
       "spot        0.716757\n",
       "demand      0.025510\n",
       "off_peak    0.000000\n",
       "Wd          0.000000\n",
       "winter      0.003762\n",
       "demand-1    0.003071\n",
       "demand-24   0.037066\n",
       "spot-1      0.031052\n",
       "spot-24     0.004731\n",
       "reserve-24  0.178050"
      ]
     },
     "execution_count": 23,
     "metadata": {},
     "output_type": "execute_result"
    }
   ],
   "source": [
    "#Print test error and feature importance\n",
    "print('MAE: ' +str(mean_absolute_error(y_test, tree.predict(x_test)))+', MSE: ' +\n",
    "      str(mean_squared_error(y_test, tree.predict(x_test))))\n",
    "pd.DataFrame(data=tree.feature_importances_, index=features_list)"
   ]
  },
  {
   "cell_type": "code",
   "execution_count": 24,
   "metadata": {
    "collapsed": false,
    "scrolled": true
   },
   "outputs": [
    {
     "data": {
      "image/svg+xml": [
       "<?xml version=\"1.0\" encoding=\"UTF-8\" standalone=\"no\"?>\r\n",
       "<!DOCTYPE svg PUBLIC \"-//W3C//DTD SVG 1.1//EN\"\r\n",
       " \"http://www.w3.org/Graphics/SVG/1.1/DTD/svg11.dtd\">\r\n",
       "<!-- Generated by graphviz version 2.38.0 (20140413.2041)\r\n",
       " -->\r\n",
       "<!-- Title: Tree Pages: 1 -->\r\n",
       "<svg width=\"3238pt\" height=\"669pt\"\r\n",
       " viewBox=\"0.00 0.00 3238.00 669.00\" xmlns=\"http://www.w3.org/2000/svg\" xmlns:xlink=\"http://www.w3.org/1999/xlink\">\r\n",
       "<g id=\"graph0\" class=\"graph\" transform=\"scale(1 1) rotate(0) translate(4 665)\">\r\n",
       "<title>Tree</title>\r\n",
       "<polygon fill=\"white\" stroke=\"none\" points=\"-4,4 -4,-665 3234,-665 3234,4 -4,4\"/>\r\n",
       "<!-- 0 -->\r\n",
       "<g id=\"node1\" class=\"node\"><title>0</title>\r\n",
       "<path fill=\"#e58139\" fill-opacity=\"0.592157\" stroke=\"black\" d=\"M1556.5,-661C1556.5,-661 1467.5,-661 1467.5,-661 1461.5,-661 1455.5,-655 1455.5,-649 1455.5,-649 1455.5,-620 1455.5,-620 1455.5,-614 1461.5,-608 1467.5,-608 1467.5,-608 1556.5,-608 1556.5,-608 1562.5,-608 1568.5,-614 1568.5,-620 1568.5,-620 1568.5,-649 1568.5,-649 1568.5,-655 1562.5,-661 1556.5,-661\"/>\r\n",
       "<text text-anchor=\"middle\" x=\"1512\" y=\"-645.8\" font-family=\"Helvetica,sans-Serif\" font-size=\"14.00\">spot &lt;= 44.845</text>\r\n",
       "<text text-anchor=\"middle\" x=\"1512\" y=\"-630.8\" font-family=\"Helvetica,sans-Serif\" font-size=\"14.00\">21024</text>\r\n",
       "<text text-anchor=\"middle\" x=\"1512\" y=\"-615.8\" font-family=\"Helvetica,sans-Serif\" font-size=\"14.00\">44.1062</text>\r\n",
       "</g>\r\n",
       "<!-- 1 -->\r\n",
       "<g id=\"node2\" class=\"node\"><title>1</title>\r\n",
       "<path fill=\"#e58139\" fill-opacity=\"0.443137\" stroke=\"black\" d=\"M943.5,-572C943.5,-572 854.5,-572 854.5,-572 848.5,-572 842.5,-566 842.5,-560 842.5,-560 842.5,-531 842.5,-531 842.5,-525 848.5,-519 854.5,-519 854.5,-519 943.5,-519 943.5,-519 949.5,-519 955.5,-525 955.5,-531 955.5,-531 955.5,-560 955.5,-560 955.5,-566 949.5,-572 943.5,-572\"/>\r\n",
       "<text text-anchor=\"middle\" x=\"899\" y=\"-556.8\" font-family=\"Helvetica,sans-Serif\" font-size=\"14.00\">spot &lt;= 18.985</text>\r\n",
       "<text text-anchor=\"middle\" x=\"899\" y=\"-541.8\" font-family=\"Helvetica,sans-Serif\" font-size=\"14.00\">10139</text>\r\n",
       "<text text-anchor=\"middle\" x=\"899\" y=\"-526.8\" font-family=\"Helvetica,sans-Serif\" font-size=\"14.00\">36.2414</text>\r\n",
       "</g>\r\n",
       "<!-- 0&#45;&gt;1 -->\r\n",
       "<g id=\"edge1\" class=\"edge\"><title>0&#45;&gt;1</title>\r\n",
       "<path fill=\"none\" stroke=\"black\" d=\"M1455.43,-625.471C1341.99,-609.371 1087.21,-573.212 965.796,-555.98\"/>\r\n",
       "<polygon fill=\"black\" stroke=\"black\" points=\"966.272,-552.513 955.879,-554.573 965.288,-559.443 966.272,-552.513\"/>\r\n",
       "<text text-anchor=\"middle\" x=\"970.897\" y=\"-570.859\" font-family=\"Helvetica,sans-Serif\" font-size=\"14.00\">True</text>\r\n",
       "</g>\r\n",
       "<!-- 2 -->\r\n",
       "<g id=\"node45\" class=\"node\"><title>2</title>\r\n",
       "<path fill=\"#e58139\" fill-opacity=\"0.729412\" stroke=\"black\" d=\"M2195.5,-572C2195.5,-572 2056.5,-572 2056.5,-572 2050.5,-572 2044.5,-566 2044.5,-560 2044.5,-560 2044.5,-531 2044.5,-531 2044.5,-525 2050.5,-519 2056.5,-519 2056.5,-519 2195.5,-519 2195.5,-519 2201.5,-519 2207.5,-525 2207.5,-531 2207.5,-531 2207.5,-560 2207.5,-560 2207.5,-566 2201.5,-572 2195.5,-572\"/>\r\n",
       "<text text-anchor=\"middle\" x=\"2126\" y=\"-556.8\" font-family=\"Helvetica,sans-Serif\" font-size=\"14.00\">reserve&#45;24 &lt;= 66.1294</text>\r\n",
       "<text text-anchor=\"middle\" x=\"2126\" y=\"-541.8\" font-family=\"Helvetica,sans-Serif\" font-size=\"14.00\">10885</text>\r\n",
       "<text text-anchor=\"middle\" x=\"2126\" y=\"-526.8\" font-family=\"Helvetica,sans-Serif\" font-size=\"14.00\">51.432</text>\r\n",
       "</g>\r\n",
       "<!-- 0&#45;&gt;2 -->\r\n",
       "<g id=\"edge44\" class=\"edge\"><title>0&#45;&gt;2</title>\r\n",
       "<path fill=\"none\" stroke=\"black\" d=\"M1568.66,-625.471C1675.03,-610.399 1905.47,-577.748 2034.23,-559.503\"/>\r\n",
       "<polygon fill=\"black\" stroke=\"black\" points=\"2035.06,-562.921 2044.47,-558.053 2034.07,-555.991 2035.06,-562.921\"/>\r\n",
       "<text text-anchor=\"middle\" x=\"2029.44\" y=\"-574.336\" font-family=\"Helvetica,sans-Serif\" font-size=\"14.00\">False</text>\r\n",
       "</g>\r\n",
       "<!-- 3 -->\r\n",
       "<g id=\"node3\" class=\"node\"><title>3</title>\r\n",
       "<path fill=\"#e58139\" fill-opacity=\"0.219608\" stroke=\"black\" d=\"M267.5,-483C267.5,-483 194.5,-483 194.5,-483 188.5,-483 182.5,-477 182.5,-471 182.5,-471 182.5,-442 182.5,-442 182.5,-436 188.5,-430 194.5,-430 194.5,-430 267.5,-430 267.5,-430 273.5,-430 279.5,-436 279.5,-442 279.5,-442 279.5,-471 279.5,-471 279.5,-477 273.5,-483 267.5,-483\"/>\r\n",
       "<text text-anchor=\"middle\" x=\"231\" y=\"-467.8\" font-family=\"Helvetica,sans-Serif\" font-size=\"14.00\">spot &lt;= 3.43</text>\r\n",
       "<text text-anchor=\"middle\" x=\"231\" y=\"-452.8\" font-family=\"Helvetica,sans-Serif\" font-size=\"14.00\">1729</text>\r\n",
       "<text text-anchor=\"middle\" x=\"231\" y=\"-437.8\" font-family=\"Helvetica,sans-Serif\" font-size=\"14.00\">24.3101</text>\r\n",
       "</g>\r\n",
       "<!-- 1&#45;&gt;3 -->\r\n",
       "<g id=\"edge2\" class=\"edge\"><title>1&#45;&gt;3</title>\r\n",
       "<path fill=\"none\" stroke=\"black\" d=\"M842.335,-537.12C716.886,-520.782 416.769,-481.694 289.571,-465.128\"/>\r\n",
       "<polygon fill=\"black\" stroke=\"black\" points=\"289.993,-461.654 279.625,-463.833 289.089,-468.595 289.993,-461.654\"/>\r\n",
       "</g>\r\n",
       "<!-- 4 -->\r\n",
       "<g id=\"node10\" class=\"node\"><title>4</title>\r\n",
       "<path fill=\"#e58139\" fill-opacity=\"0.490196\" stroke=\"black\" d=\"M964.5,-483C964.5,-483 833.5,-483 833.5,-483 827.5,-483 821.5,-477 821.5,-471 821.5,-471 821.5,-442 821.5,-442 821.5,-436 827.5,-430 833.5,-430 833.5,-430 964.5,-430 964.5,-430 970.5,-430 976.5,-436 976.5,-442 976.5,-442 976.5,-471 976.5,-471 976.5,-477 970.5,-483 964.5,-483\"/>\r\n",
       "<text text-anchor=\"middle\" x=\"899\" y=\"-467.8\" font-family=\"Helvetica,sans-Serif\" font-size=\"14.00\">reserve&#45;24 &lt;= 41.175</text>\r\n",
       "<text text-anchor=\"middle\" x=\"899\" y=\"-452.8\" font-family=\"Helvetica,sans-Serif\" font-size=\"14.00\">8410</text>\r\n",
       "<text text-anchor=\"middle\" x=\"899\" y=\"-437.8\" font-family=\"Helvetica,sans-Serif\" font-size=\"14.00\">38.6943</text>\r\n",
       "</g>\r\n",
       "<!-- 1&#45;&gt;4 -->\r\n",
       "<g id=\"edge9\" class=\"edge\"><title>1&#45;&gt;4</title>\r\n",
       "<path fill=\"none\" stroke=\"black\" d=\"M899,-518.868C899,-510.886 899,-501.932 899,-493.384\"/>\r\n",
       "<polygon fill=\"black\" stroke=\"black\" points=\"902.5,-493.25 899,-483.25 895.5,-493.25 902.5,-493.25\"/>\r\n",
       "</g>\r\n",
       "<!-- 9 -->\r\n",
       "<g id=\"node4\" class=\"node\"><title>9</title>\r\n",
       "<path fill=\"none\" stroke=\"black\" d=\"M128,-386.5C128,-386.5 82,-386.5 82,-386.5 76,-386.5 70,-380.5 70,-374.5 70,-374.5 70,-360.5 70,-360.5 70,-354.5 76,-348.5 82,-348.5 82,-348.5 128,-348.5 128,-348.5 134,-348.5 140,-354.5 140,-360.5 140,-360.5 140,-374.5 140,-374.5 140,-380.5 134,-386.5 128,-386.5\"/>\r\n",
       "<text text-anchor=\"middle\" x=\"105\" y=\"-371.3\" font-family=\"Helvetica,sans-Serif\" font-size=\"14.00\">368</text>\r\n",
       "<text text-anchor=\"middle\" x=\"105\" y=\"-356.3\" font-family=\"Helvetica,sans-Serif\" font-size=\"14.00\">12.6083</text>\r\n",
       "</g>\r\n",
       "<!-- 3&#45;&gt;9 -->\r\n",
       "<g id=\"edge3\" class=\"edge\"><title>3&#45;&gt;9</title>\r\n",
       "<path fill=\"none\" stroke=\"black\" d=\"M193.877,-429.868C176.692,-418.002 156.398,-403.989 139.544,-392.352\"/>\r\n",
       "<polygon fill=\"black\" stroke=\"black\" points=\"141.296,-389.308 131.079,-386.507 137.319,-395.069 141.296,-389.308\"/>\r\n",
       "</g>\r\n",
       "<!-- 10 -->\r\n",
       "<g id=\"node5\" class=\"node\"><title>10</title>\r\n",
       "<path fill=\"#e58139\" fill-opacity=\"0.278431\" stroke=\"black\" d=\"M292,-394C292,-394 170,-394 170,-394 164,-394 158,-388 158,-382 158,-382 158,-353 158,-353 158,-347 164,-341 170,-341 170,-341 292,-341 292,-341 298,-341 304,-347 304,-353 304,-353 304,-382 304,-382 304,-388 298,-394 292,-394\"/>\r\n",
       "<text text-anchor=\"middle\" x=\"231\" y=\"-378.8\" font-family=\"Helvetica,sans-Serif\" font-size=\"14.00\">reserve&#45;24 &lt;= 39.74</text>\r\n",
       "<text text-anchor=\"middle\" x=\"231\" y=\"-363.8\" font-family=\"Helvetica,sans-Serif\" font-size=\"14.00\">1361</text>\r\n",
       "<text text-anchor=\"middle\" x=\"231\" y=\"-348.8\" font-family=\"Helvetica,sans-Serif\" font-size=\"14.00\">27.4741</text>\r\n",
       "</g>\r\n",
       "<!-- 3&#45;&gt;10 -->\r\n",
       "<g id=\"edge4\" class=\"edge\"><title>3&#45;&gt;10</title>\r\n",
       "<path fill=\"none\" stroke=\"black\" d=\"M231,-429.868C231,-421.886 231,-412.932 231,-404.384\"/>\r\n",
       "<polygon fill=\"black\" stroke=\"black\" points=\"234.5,-404.25 231,-394.25 227.5,-404.25 234.5,-404.25\"/>\r\n",
       "</g>\r\n",
       "<!-- 15 -->\r\n",
       "<g id=\"node6\" class=\"node\"><title>15</title>\r\n",
       "<path fill=\"#e58139\" fill-opacity=\"0.223529\" stroke=\"black\" d=\"M159.5,-305C159.5,-305 70.5,-305 70.5,-305 64.5,-305 58.5,-299 58.5,-293 58.5,-293 58.5,-264 58.5,-264 58.5,-258 64.5,-252 70.5,-252 70.5,-252 159.5,-252 159.5,-252 165.5,-252 171.5,-258 171.5,-264 171.5,-264 171.5,-293 171.5,-293 171.5,-299 165.5,-305 159.5,-305\"/>\r\n",
       "<text text-anchor=\"middle\" x=\"115\" y=\"-289.8\" font-family=\"Helvetica,sans-Serif\" font-size=\"14.00\">spot &lt;= 10.105</text>\r\n",
       "<text text-anchor=\"middle\" x=\"115\" y=\"-274.8\" font-family=\"Helvetica,sans-Serif\" font-size=\"14.00\">991</text>\r\n",
       "<text text-anchor=\"middle\" x=\"115\" y=\"-259.8\" font-family=\"Helvetica,sans-Serif\" font-size=\"14.00\">24.5789</text>\r\n",
       "</g>\r\n",
       "<!-- 10&#45;&gt;15 -->\r\n",
       "<g id=\"edge5\" class=\"edge\"><title>10&#45;&gt;15</title>\r\n",
       "<path fill=\"none\" stroke=\"black\" d=\"M196.824,-340.868C184.544,-331.658 170.539,-321.154 157.629,-311.472\"/>\r\n",
       "<polygon fill=\"black\" stroke=\"black\" points=\"159.433,-308.45 149.333,-305.25 155.233,-314.05 159.433,-308.45\"/>\r\n",
       "</g>\r\n",
       "<!-- 16 -->\r\n",
       "<g id=\"node9\" class=\"node\"><title>16</title>\r\n",
       "<path fill=\"#e58139\" fill-opacity=\"0.423529\" stroke=\"black\" d=\"M254,-297.5C254,-297.5 208,-297.5 208,-297.5 202,-297.5 196,-291.5 196,-285.5 196,-285.5 196,-271.5 196,-271.5 196,-265.5 202,-259.5 208,-259.5 208,-259.5 254,-259.5 254,-259.5 260,-259.5 266,-265.5 266,-271.5 266,-271.5 266,-285.5 266,-285.5 266,-291.5 260,-297.5 254,-297.5\"/>\r\n",
       "<text text-anchor=\"middle\" x=\"231\" y=\"-282.3\" font-family=\"Helvetica,sans-Serif\" font-size=\"14.00\">370</text>\r\n",
       "<text text-anchor=\"middle\" x=\"231\" y=\"-267.3\" font-family=\"Helvetica,sans-Serif\" font-size=\"14.00\">35.2287</text>\r\n",
       "</g>\r\n",
       "<!-- 10&#45;&gt;16 -->\r\n",
       "<g id=\"edge8\" class=\"edge\"><title>10&#45;&gt;16</title>\r\n",
       "<path fill=\"none\" stroke=\"black\" d=\"M231,-340.868C231,-330.417 231,-318.301 231,-307.609\"/>\r\n",
       "<polygon fill=\"black\" stroke=\"black\" points=\"234.5,-307.507 231,-297.507 227.5,-307.507 234.5,-307.507\"/>\r\n",
       "</g>\r\n",
       "<!-- 39 -->\r\n",
       "<g id=\"node7\" class=\"node\"><title>39</title>\r\n",
       "<path fill=\"#e58139\" fill-opacity=\"0.160784\" stroke=\"black\" d=\"M50,-208.5C50,-208.5 12,-208.5 12,-208.5 6,-208.5 0,-202.5 0,-196.5 0,-196.5 0,-182.5 0,-182.5 0,-176.5 6,-170.5 12,-170.5 12,-170.5 50,-170.5 50,-170.5 56,-170.5 62,-176.5 62,-182.5 62,-182.5 62,-196.5 62,-196.5 62,-202.5 56,-208.5 50,-208.5\"/>\r\n",
       "<text text-anchor=\"middle\" x=\"31\" y=\"-193.3\" font-family=\"Helvetica,sans-Serif\" font-size=\"14.00\">462</text>\r\n",
       "<text text-anchor=\"middle\" x=\"31\" y=\"-178.3\" font-family=\"Helvetica,sans-Serif\" font-size=\"14.00\">21.284</text>\r\n",
       "</g>\r\n",
       "<!-- 15&#45;&gt;39 -->\r\n",
       "<g id=\"edge6\" class=\"edge\"><title>15&#45;&gt;39</title>\r\n",
       "<path fill=\"none\" stroke=\"black\" d=\"M90.2516,-251.868C79.3205,-240.546 66.5024,-227.27 55.5897,-215.968\"/>\r\n",
       "<polygon fill=\"black\" stroke=\"black\" points=\"57.8496,-213.27 48.3857,-208.507 52.8138,-218.132 57.8496,-213.27\"/>\r\n",
       "</g>\r\n",
       "<!-- 40 -->\r\n",
       "<g id=\"node8\" class=\"node\"><title>40</title>\r\n",
       "<path fill=\"#e58139\" fill-opacity=\"0.278431\" stroke=\"black\" d=\"M138,-208.5C138,-208.5 92,-208.5 92,-208.5 86,-208.5 80,-202.5 80,-196.5 80,-196.5 80,-182.5 80,-182.5 80,-176.5 86,-170.5 92,-170.5 92,-170.5 138,-170.5 138,-170.5 144,-170.5 150,-176.5 150,-182.5 150,-182.5 150,-196.5 150,-196.5 150,-202.5 144,-208.5 138,-208.5\"/>\r\n",
       "<text text-anchor=\"middle\" x=\"115\" y=\"-193.3\" font-family=\"Helvetica,sans-Serif\" font-size=\"14.00\">529</text>\r\n",
       "<text text-anchor=\"middle\" x=\"115\" y=\"-178.3\" font-family=\"Helvetica,sans-Serif\" font-size=\"14.00\">27.4564</text>\r\n",
       "</g>\r\n",
       "<!-- 15&#45;&gt;40 -->\r\n",
       "<g id=\"edge7\" class=\"edge\"><title>15&#45;&gt;40</title>\r\n",
       "<path fill=\"none\" stroke=\"black\" d=\"M115,-251.868C115,-241.417 115,-229.301 115,-218.609\"/>\r\n",
       "<polygon fill=\"black\" stroke=\"black\" points=\"118.5,-218.507 115,-208.507 111.5,-218.507 118.5,-218.507\"/>\r\n",
       "</g>\r\n",
       "<!-- 7 -->\r\n",
       "<g id=\"node11\" class=\"node\"><title>7</title>\r\n",
       "<path fill=\"#e58139\" fill-opacity=\"0.427451\" stroke=\"black\" d=\"M672.5,-394C672.5,-394 583.5,-394 583.5,-394 577.5,-394 571.5,-388 571.5,-382 571.5,-382 571.5,-353 571.5,-353 571.5,-347 577.5,-341 583.5,-341 583.5,-341 672.5,-341 672.5,-341 678.5,-341 684.5,-347 684.5,-353 684.5,-353 684.5,-382 684.5,-382 684.5,-388 678.5,-394 672.5,-394\"/>\r\n",
       "<text text-anchor=\"middle\" x=\"628\" y=\"-378.8\" font-family=\"Helvetica,sans-Serif\" font-size=\"14.00\">spot &lt;= 32.405</text>\r\n",
       "<text text-anchor=\"middle\" x=\"628\" y=\"-363.8\" font-family=\"Helvetica,sans-Serif\" font-size=\"14.00\">4204</text>\r\n",
       "<text text-anchor=\"middle\" x=\"628\" y=\"-348.8\" font-family=\"Helvetica,sans-Serif\" font-size=\"14.00\">35.3391</text>\r\n",
       "</g>\r\n",
       "<!-- 4&#45;&gt;7 -->\r\n",
       "<g id=\"edge10\" class=\"edge\"><title>4&#45;&gt;7</title>\r\n",
       "<path fill=\"none\" stroke=\"black\" d=\"M821.342,-430.569C781.114,-417.655 732.512,-402.052 694.101,-389.721\"/>\r\n",
       "<polygon fill=\"black\" stroke=\"black\" points=\"695.158,-386.384 684.567,-386.66 693.018,-393.049 695.158,-386.384\"/>\r\n",
       "</g>\r\n",
       "<!-- 8 -->\r\n",
       "<g id=\"node30\" class=\"node\"><title>8</title>\r\n",
       "<path fill=\"#e58139\" fill-opacity=\"0.552941\" stroke=\"black\" d=\"M1163,-394C1163,-394 1041,-394 1041,-394 1035,-394 1029,-388 1029,-382 1029,-382 1029,-353 1029,-353 1029,-347 1035,-341 1041,-341 1041,-341 1163,-341 1163,-341 1169,-341 1175,-347 1175,-353 1175,-353 1175,-382 1175,-382 1175,-388 1169,-394 1163,-394\"/>\r\n",
       "<text text-anchor=\"middle\" x=\"1102\" y=\"-378.8\" font-family=\"Helvetica,sans-Serif\" font-size=\"14.00\">reserve&#45;24 &lt;= 54.14</text>\r\n",
       "<text text-anchor=\"middle\" x=\"1102\" y=\"-363.8\" font-family=\"Helvetica,sans-Serif\" font-size=\"14.00\">4206</text>\r\n",
       "<text text-anchor=\"middle\" x=\"1102\" y=\"-348.8\" font-family=\"Helvetica,sans-Serif\" font-size=\"14.00\">42.048</text>\r\n",
       "</g>\r\n",
       "<!-- 4&#45;&gt;8 -->\r\n",
       "<g id=\"edge29\" class=\"edge\"><title>4&#45;&gt;8</title>\r\n",
       "<path fill=\"none\" stroke=\"black\" d=\"M958.535,-429.985C981.877,-419.981 1008.81,-408.438 1033,-398.073\"/>\r\n",
       "<polygon fill=\"black\" stroke=\"black\" points=\"1034.65,-401.171 1042.47,-394.015 1031.9,-394.737 1034.65,-401.171\"/>\r\n",
       "</g>\r\n",
       "<!-- 23 -->\r\n",
       "<g id=\"node12\" class=\"node\"><title>23</title>\r\n",
       "<path fill=\"#e58139\" fill-opacity=\"0.376471\" stroke=\"black\" d=\"M429,-305C429,-305 307,-305 307,-305 301,-305 295,-299 295,-293 295,-293 295,-264 295,-264 295,-258 301,-252 307,-252 307,-252 429,-252 429,-252 435,-252 441,-258 441,-264 441,-264 441,-293 441,-293 441,-299 435,-305 429,-305\"/>\r\n",
       "<text text-anchor=\"middle\" x=\"368\" y=\"-289.8\" font-family=\"Helvetica,sans-Serif\" font-size=\"14.00\">demand &lt;= 26372.0</text>\r\n",
       "<text text-anchor=\"middle\" x=\"368\" y=\"-274.8\" font-family=\"Helvetica,sans-Serif\" font-size=\"14.00\">1753</text>\r\n",
       "<text text-anchor=\"middle\" x=\"368\" y=\"-259.8\" font-family=\"Helvetica,sans-Serif\" font-size=\"14.00\">32.6556</text>\r\n",
       "</g>\r\n",
       "<!-- 7&#45;&gt;23 -->\r\n",
       "<g id=\"edge11\" class=\"edge\"><title>7&#45;&gt;23</title>\r\n",
       "<path fill=\"none\" stroke=\"black\" d=\"M571.263,-347.515C536.138,-335.762 490.418,-320.463 451.237,-307.352\"/>\r\n",
       "<polygon fill=\"black\" stroke=\"black\" points=\"452.021,-303.924 441.427,-304.07 449.8,-310.562 452.021,-303.924\"/>\r\n",
       "</g>\r\n",
       "<!-- 24 -->\r\n",
       "<g id=\"node19\" class=\"node\"><title>24</title>\r\n",
       "<path fill=\"#e58139\" fill-opacity=\"0.462745\" stroke=\"black\" d=\"M689,-305C689,-305 567,-305 567,-305 561,-305 555,-299 555,-293 555,-293 555,-264 555,-264 555,-258 561,-252 567,-252 567,-252 689,-252 689,-252 695,-252 701,-258 701,-264 701,-264 701,-293 701,-293 701,-299 695,-305 689,-305\"/>\r\n",
       "<text text-anchor=\"middle\" x=\"628\" y=\"-289.8\" font-family=\"Helvetica,sans-Serif\" font-size=\"14.00\">demand &lt;= 25571.0</text>\r\n",
       "<text text-anchor=\"middle\" x=\"628\" y=\"-274.8\" font-family=\"Helvetica,sans-Serif\" font-size=\"14.00\">2451</text>\r\n",
       "<text text-anchor=\"middle\" x=\"628\" y=\"-259.8\" font-family=\"Helvetica,sans-Serif\" font-size=\"14.00\">37.2584</text>\r\n",
       "</g>\r\n",
       "<!-- 7&#45;&gt;24 -->\r\n",
       "<g id=\"edge18\" class=\"edge\"><title>7&#45;&gt;24</title>\r\n",
       "<path fill=\"none\" stroke=\"black\" d=\"M628,-340.868C628,-332.886 628,-323.932 628,-315.384\"/>\r\n",
       "<polygon fill=\"black\" stroke=\"black\" points=\"631.5,-315.25 628,-305.25 624.5,-315.25 631.5,-315.25\"/>\r\n",
       "</g>\r\n",
       "<!-- 35 -->\r\n",
       "<g id=\"node13\" class=\"node\"><title>35</title>\r\n",
       "<path fill=\"#e58139\" fill-opacity=\"0.419608\" stroke=\"black\" d=\"M261.5,-216C261.5,-216 180.5,-216 180.5,-216 174.5,-216 168.5,-210 168.5,-204 168.5,-204 168.5,-175 168.5,-175 168.5,-169 174.5,-163 180.5,-163 180.5,-163 261.5,-163 261.5,-163 267.5,-163 273.5,-169 273.5,-175 273.5,-175 273.5,-204 273.5,-204 273.5,-210 267.5,-216 261.5,-216\"/>\r\n",
       "<text text-anchor=\"middle\" x=\"221\" y=\"-200.8\" font-family=\"Helvetica,sans-Serif\" font-size=\"14.00\">spot &lt;= 27.07</text>\r\n",
       "<text text-anchor=\"middle\" x=\"221\" y=\"-185.8\" font-family=\"Helvetica,sans-Serif\" font-size=\"14.00\">940</text>\r\n",
       "<text text-anchor=\"middle\" x=\"221\" y=\"-170.8\" font-family=\"Helvetica,sans-Serif\" font-size=\"14.00\">34.9614</text>\r\n",
       "</g>\r\n",
       "<!-- 23&#45;&gt;35 -->\r\n",
       "<g id=\"edge12\" class=\"edge\"><title>23&#45;&gt;35</title>\r\n",
       "<path fill=\"none\" stroke=\"black\" d=\"M324.69,-251.868C308.463,-242.264 289.861,-231.254 272.932,-221.235\"/>\r\n",
       "<polygon fill=\"black\" stroke=\"black\" points=\"274.642,-218.181 264.254,-216.099 271.077,-224.205 274.642,-218.181\"/>\r\n",
       "</g>\r\n",
       "<!-- 36 -->\r\n",
       "<g id=\"node16\" class=\"node\"><title>36</title>\r\n",
       "<path fill=\"#e58139\" fill-opacity=\"0.325490\" stroke=\"black\" d=\"M408.5,-216C408.5,-216 327.5,-216 327.5,-216 321.5,-216 315.5,-210 315.5,-204 315.5,-204 315.5,-175 315.5,-175 315.5,-169 321.5,-163 327.5,-163 327.5,-163 408.5,-163 408.5,-163 414.5,-163 420.5,-169 420.5,-175 420.5,-175 420.5,-204 420.5,-204 420.5,-210 414.5,-216 408.5,-216\"/>\r\n",
       "<text text-anchor=\"middle\" x=\"368\" y=\"-200.8\" font-family=\"Helvetica,sans-Serif\" font-size=\"14.00\">spot &lt;= 26.41</text>\r\n",
       "<text text-anchor=\"middle\" x=\"368\" y=\"-185.8\" font-family=\"Helvetica,sans-Serif\" font-size=\"14.00\">813</text>\r\n",
       "<text text-anchor=\"middle\" x=\"368\" y=\"-170.8\" font-family=\"Helvetica,sans-Serif\" font-size=\"14.00\">29.9895</text>\r\n",
       "</g>\r\n",
       "<!-- 23&#45;&gt;36 -->\r\n",
       "<g id=\"edge15\" class=\"edge\"><title>23&#45;&gt;36</title>\r\n",
       "<path fill=\"none\" stroke=\"black\" d=\"M368,-251.868C368,-243.886 368,-234.932 368,-226.384\"/>\r\n",
       "<polygon fill=\"black\" stroke=\"black\" points=\"371.5,-226.25 368,-216.25 364.5,-226.25 371.5,-226.25\"/>\r\n",
       "</g>\r\n",
       "<!-- 89 -->\r\n",
       "<g id=\"node14\" class=\"node\"><title>89</title>\r\n",
       "<path fill=\"#e58139\" fill-opacity=\"0.396078\" stroke=\"black\" d=\"M150,-119.5C150,-119.5 104,-119.5 104,-119.5 98,-119.5 92,-113.5 92,-107.5 92,-107.5 92,-93.5 92,-93.5 92,-87.5 98,-81.5 104,-81.5 104,-81.5 150,-81.5 150,-81.5 156,-81.5 162,-87.5 162,-93.5 162,-93.5 162,-107.5 162,-107.5 162,-113.5 156,-119.5 150,-119.5\"/>\r\n",
       "<text text-anchor=\"middle\" x=\"127\" y=\"-104.3\" font-family=\"Helvetica,sans-Serif\" font-size=\"14.00\">536</text>\r\n",
       "<text text-anchor=\"middle\" x=\"127\" y=\"-89.3\" font-family=\"Helvetica,sans-Serif\" font-size=\"14.00\">33.7451</text>\r\n",
       "</g>\r\n",
       "<!-- 35&#45;&gt;89 -->\r\n",
       "<g id=\"edge13\" class=\"edge\"><title>35&#45;&gt;89</title>\r\n",
       "<path fill=\"none\" stroke=\"black\" d=\"M193.305,-162.868C180.838,-151.328 166.176,-137.759 153.815,-126.318\"/>\r\n",
       "<polygon fill=\"black\" stroke=\"black\" points=\"156.172,-123.731 146.455,-119.507 151.417,-128.868 156.172,-123.731\"/>\r\n",
       "</g>\r\n",
       "<!-- 90 -->\r\n",
       "<g id=\"node15\" class=\"node\"><title>90</title>\r\n",
       "<path fill=\"#e58139\" fill-opacity=\"0.450980\" stroke=\"black\" d=\"M238,-119.5C238,-119.5 192,-119.5 192,-119.5 186,-119.5 180,-113.5 180,-107.5 180,-107.5 180,-93.5 180,-93.5 180,-87.5 186,-81.5 192,-81.5 192,-81.5 238,-81.5 238,-81.5 244,-81.5 250,-87.5 250,-93.5 250,-93.5 250,-107.5 250,-107.5 250,-113.5 244,-119.5 238,-119.5\"/>\r\n",
       "<text text-anchor=\"middle\" x=\"215\" y=\"-104.3\" font-family=\"Helvetica,sans-Serif\" font-size=\"14.00\">404</text>\r\n",
       "<text text-anchor=\"middle\" x=\"215\" y=\"-89.3\" font-family=\"Helvetica,sans-Serif\" font-size=\"14.00\">36.5752</text>\r\n",
       "</g>\r\n",
       "<!-- 35&#45;&gt;90 -->\r\n",
       "<g id=\"edge14\" class=\"edge\"><title>35&#45;&gt;90</title>\r\n",
       "<path fill=\"none\" stroke=\"black\" d=\"M219.232,-162.868C218.512,-152.417 217.676,-140.301 216.939,-129.609\"/>\r\n",
       "<polygon fill=\"black\" stroke=\"black\" points=\"220.422,-129.242 216.242,-119.507 213.438,-129.724 220.422,-129.242\"/>\r\n",
       "</g>\r\n",
       "<!-- 87 -->\r\n",
       "<g id=\"node17\" class=\"node\"><title>87</title>\r\n",
       "<path fill=\"#e58139\" fill-opacity=\"0.286275\" stroke=\"black\" d=\"M326,-119.5C326,-119.5 280,-119.5 280,-119.5 274,-119.5 268,-113.5 268,-107.5 268,-107.5 268,-93.5 268,-93.5 268,-87.5 274,-81.5 280,-81.5 280,-81.5 326,-81.5 326,-81.5 332,-81.5 338,-87.5 338,-93.5 338,-93.5 338,-107.5 338,-107.5 338,-113.5 332,-119.5 326,-119.5\"/>\r\n",
       "<text text-anchor=\"middle\" x=\"303\" y=\"-104.3\" font-family=\"Helvetica,sans-Serif\" font-size=\"14.00\">345</text>\r\n",
       "<text text-anchor=\"middle\" x=\"303\" y=\"-89.3\" font-family=\"Helvetica,sans-Serif\" font-size=\"14.00\">27.9628</text>\r\n",
       "</g>\r\n",
       "<!-- 36&#45;&gt;87 -->\r\n",
       "<g id=\"edge16\" class=\"edge\"><title>36&#45;&gt;87</title>\r\n",
       "<path fill=\"none\" stroke=\"black\" d=\"M348.849,-162.868C340.554,-151.764 330.853,-138.78 322.517,-127.622\"/>\r\n",
       "<polygon fill=\"black\" stroke=\"black\" points=\"325.242,-125.423 316.453,-119.507 319.635,-129.613 325.242,-125.423\"/>\r\n",
       "</g>\r\n",
       "<!-- 88 -->\r\n",
       "<g id=\"node18\" class=\"node\"><title>88</title>\r\n",
       "<path fill=\"#e58139\" fill-opacity=\"0.352941\" stroke=\"black\" d=\"M414,-119.5C414,-119.5 368,-119.5 368,-119.5 362,-119.5 356,-113.5 356,-107.5 356,-107.5 356,-93.5 356,-93.5 356,-87.5 362,-81.5 368,-81.5 368,-81.5 414,-81.5 414,-81.5 420,-81.5 426,-87.5 426,-93.5 426,-93.5 426,-107.5 426,-107.5 426,-113.5 420,-119.5 414,-119.5\"/>\r\n",
       "<text text-anchor=\"middle\" x=\"391\" y=\"-104.3\" font-family=\"Helvetica,sans-Serif\" font-size=\"14.00\">468</text>\r\n",
       "<text text-anchor=\"middle\" x=\"391\" y=\"-89.3\" font-family=\"Helvetica,sans-Serif\" font-size=\"14.00\">31.4836</text>\r\n",
       "</g>\r\n",
       "<!-- 36&#45;&gt;88 -->\r\n",
       "<g id=\"edge17\" class=\"edge\"><title>36&#45;&gt;88</title>\r\n",
       "<path fill=\"none\" stroke=\"black\" d=\"M374.776,-162.868C377.568,-152.308 380.809,-140.049 383.657,-129.276\"/>\r\n",
       "<polygon fill=\"black\" stroke=\"black\" points=\"387.067,-130.069 386.24,-119.507 380.3,-128.28 387.067,-130.069\"/>\r\n",
       "</g>\r\n",
       "<!-- 29 -->\r\n",
       "<g id=\"node20\" class=\"node\"><title>29</title>\r\n",
       "<path fill=\"#e58139\" fill-opacity=\"0.529412\" stroke=\"black\" d=\"M603.5,-216C603.5,-216 514.5,-216 514.5,-216 508.5,-216 502.5,-210 502.5,-204 502.5,-204 502.5,-175 502.5,-175 502.5,-169 508.5,-163 514.5,-163 514.5,-163 603.5,-163 603.5,-163 609.5,-163 615.5,-169 615.5,-175 615.5,-175 615.5,-204 615.5,-204 615.5,-210 609.5,-216 603.5,-216\"/>\r\n",
       "<text text-anchor=\"middle\" x=\"559\" y=\"-200.8\" font-family=\"Helvetica,sans-Serif\" font-size=\"14.00\">spot &lt;= 38.705</text>\r\n",
       "<text text-anchor=\"middle\" x=\"559\" y=\"-185.8\" font-family=\"Helvetica,sans-Serif\" font-size=\"14.00\">847</text>\r\n",
       "<text text-anchor=\"middle\" x=\"559\" y=\"-170.8\" font-family=\"Helvetica,sans-Serif\" font-size=\"14.00\">40.842</text>\r\n",
       "</g>\r\n",
       "<!-- 24&#45;&gt;29 -->\r\n",
       "<g id=\"edge19\" class=\"edge\"><title>24&#45;&gt;29</title>\r\n",
       "<path fill=\"none\" stroke=\"black\" d=\"M607.671,-251.868C600.784,-243.184 592.985,-233.35 585.68,-224.139\"/>\r\n",
       "<polygon fill=\"black\" stroke=\"black\" points=\"588.378,-221.91 579.422,-216.25 582.894,-226.26 588.378,-221.91\"/>\r\n",
       "</g>\r\n",
       "<!-- 30 -->\r\n",
       "<g id=\"node23\" class=\"node\"><title>30</title>\r\n",
       "<path fill=\"#e58139\" fill-opacity=\"0.427451\" stroke=\"black\" d=\"M733,-216C733,-216 659,-216 659,-216 653,-216 647,-210 647,-204 647,-204 647,-175 647,-175 647,-169 653,-163 659,-163 659,-163 733,-163 733,-163 739,-163 745,-169 745,-175 745,-175 745,-204 745,-204 745,-210 739,-216 733,-216\"/>\r\n",
       "<text text-anchor=\"middle\" x=\"696\" y=\"-200.8\" font-family=\"Helvetica,sans-Serif\" font-size=\"14.00\">winter &lt;= 0.5</text>\r\n",
       "<text text-anchor=\"middle\" x=\"696\" y=\"-185.8\" font-family=\"Helvetica,sans-Serif\" font-size=\"14.00\">1604</text>\r\n",
       "<text text-anchor=\"middle\" x=\"696\" y=\"-170.8\" font-family=\"Helvetica,sans-Serif\" font-size=\"14.00\">35.366</text>\r\n",
       "</g>\r\n",
       "<!-- 24&#45;&gt;30 -->\r\n",
       "<g id=\"edge22\" class=\"edge\"><title>24&#45;&gt;30</title>\r\n",
       "<path fill=\"none\" stroke=\"black\" d=\"M648.034,-251.868C654.822,-243.184 662.508,-233.35 669.707,-224.139\"/>\r\n",
       "<polygon fill=\"black\" stroke=\"black\" points=\"672.473,-226.284 675.874,-216.25 666.958,-221.973 672.473,-226.284\"/>\r\n",
       "</g>\r\n",
       "<!-- 83 -->\r\n",
       "<g id=\"node21\" class=\"node\"><title>83</title>\r\n",
       "<path fill=\"#e58139\" fill-opacity=\"0.498039\" stroke=\"black\" d=\"M494,-119.5C494,-119.5 456,-119.5 456,-119.5 450,-119.5 444,-113.5 444,-107.5 444,-107.5 444,-93.5 444,-93.5 444,-87.5 450,-81.5 456,-81.5 456,-81.5 494,-81.5 494,-81.5 500,-81.5 506,-87.5 506,-93.5 506,-93.5 506,-107.5 506,-107.5 506,-113.5 500,-119.5 494,-119.5\"/>\r\n",
       "<text text-anchor=\"middle\" x=\"475\" y=\"-104.3\" font-family=\"Helvetica,sans-Serif\" font-size=\"14.00\">460</text>\r\n",
       "<text text-anchor=\"middle\" x=\"475\" y=\"-89.3\" font-family=\"Helvetica,sans-Serif\" font-size=\"14.00\">39.267</text>\r\n",
       "</g>\r\n",
       "<!-- 29&#45;&gt;83 -->\r\n",
       "<g id=\"edge20\" class=\"edge\"><title>29&#45;&gt;83</title>\r\n",
       "<path fill=\"none\" stroke=\"black\" d=\"M534.252,-162.868C523.32,-151.546 510.502,-138.27 499.59,-126.968\"/>\r\n",
       "<polygon fill=\"black\" stroke=\"black\" points=\"501.85,-124.27 492.386,-119.507 496.814,-129.132 501.85,-124.27\"/>\r\n",
       "</g>\r\n",
       "<!-- 84 -->\r\n",
       "<g id=\"node22\" class=\"node\"><title>84</title>\r\n",
       "<path fill=\"#e58139\" fill-opacity=\"0.564706\" stroke=\"black\" d=\"M582,-119.5C582,-119.5 536,-119.5 536,-119.5 530,-119.5 524,-113.5 524,-107.5 524,-107.5 524,-93.5 524,-93.5 524,-87.5 530,-81.5 536,-81.5 536,-81.5 582,-81.5 582,-81.5 588,-81.5 594,-87.5 594,-93.5 594,-93.5 594,-107.5 594,-107.5 594,-113.5 588,-119.5 582,-119.5\"/>\r\n",
       "<text text-anchor=\"middle\" x=\"559\" y=\"-104.3\" font-family=\"Helvetica,sans-Serif\" font-size=\"14.00\">387</text>\r\n",
       "<text text-anchor=\"middle\" x=\"559\" y=\"-89.3\" font-family=\"Helvetica,sans-Serif\" font-size=\"14.00\">42.7142</text>\r\n",
       "</g>\r\n",
       "<!-- 29&#45;&gt;84 -->\r\n",
       "<g id=\"edge21\" class=\"edge\"><title>29&#45;&gt;84</title>\r\n",
       "<path fill=\"none\" stroke=\"black\" d=\"M559,-162.868C559,-152.417 559,-140.301 559,-129.609\"/>\r\n",
       "<polygon fill=\"black\" stroke=\"black\" points=\"562.5,-129.507 559,-119.507 555.5,-129.507 562.5,-129.507\"/>\r\n",
       "</g>\r\n",
       "<!-- 67 -->\r\n",
       "<g id=\"node24\" class=\"node\"><title>67</title>\r\n",
       "<path fill=\"#e58139\" fill-opacity=\"0.403922\" stroke=\"black\" d=\"M767.5,-127C767.5,-127 624.5,-127 624.5,-127 618.5,-127 612.5,-121 612.5,-115 612.5,-115 612.5,-86 612.5,-86 612.5,-80 618.5,-74 624.5,-74 624.5,-74 767.5,-74 767.5,-74 773.5,-74 779.5,-80 779.5,-86 779.5,-86 779.5,-115 779.5,-115 779.5,-121 773.5,-127 767.5,-127\"/>\r\n",
       "<text text-anchor=\"middle\" x=\"696\" y=\"-111.8\" font-family=\"Helvetica,sans-Serif\" font-size=\"14.00\">demand&#45;24 &lt;= 30942.0</text>\r\n",
       "<text text-anchor=\"middle\" x=\"696\" y=\"-96.8\" font-family=\"Helvetica,sans-Serif\" font-size=\"14.00\">987</text>\r\n",
       "<text text-anchor=\"middle\" x=\"696\" y=\"-81.8\" font-family=\"Helvetica,sans-Serif\" font-size=\"14.00\">34.1054</text>\r\n",
       "</g>\r\n",
       "<!-- 30&#45;&gt;67 -->\r\n",
       "<g id=\"edge23\" class=\"edge\"><title>30&#45;&gt;67</title>\r\n",
       "<path fill=\"none\" stroke=\"black\" d=\"M696,-162.868C696,-154.886 696,-145.932 696,-137.384\"/>\r\n",
       "<polygon fill=\"black\" stroke=\"black\" points=\"699.5,-137.25 696,-127.25 692.5,-137.25 699.5,-137.25\"/>\r\n",
       "</g>\r\n",
       "<!-- 68 -->\r\n",
       "<g id=\"node27\" class=\"node\"><title>68</title>\r\n",
       "<path fill=\"#e58139\" fill-opacity=\"0.462745\" stroke=\"black\" d=\"M890.5,-127C890.5,-127 809.5,-127 809.5,-127 803.5,-127 797.5,-121 797.5,-115 797.5,-115 797.5,-86 797.5,-86 797.5,-80 803.5,-74 809.5,-74 809.5,-74 890.5,-74 890.5,-74 896.5,-74 902.5,-80 902.5,-86 902.5,-86 902.5,-115 902.5,-115 902.5,-121 896.5,-127 890.5,-127\"/>\r\n",
       "<text text-anchor=\"middle\" x=\"850\" y=\"-111.8\" font-family=\"Helvetica,sans-Serif\" font-size=\"14.00\">spot &lt;= 38.45</text>\r\n",
       "<text text-anchor=\"middle\" x=\"850\" y=\"-96.8\" font-family=\"Helvetica,sans-Serif\" font-size=\"14.00\">617</text>\r\n",
       "<text text-anchor=\"middle\" x=\"850\" y=\"-81.8\" font-family=\"Helvetica,sans-Serif\" font-size=\"14.00\">37.3826</text>\r\n",
       "</g>\r\n",
       "<!-- 30&#45;&gt;68 -->\r\n",
       "<g id=\"edge26\" class=\"edge\"><title>30&#45;&gt;68</title>\r\n",
       "<path fill=\"none\" stroke=\"black\" d=\"M741.372,-162.868C758.372,-153.264 777.86,-142.254 795.595,-132.235\"/>\r\n",
       "<polygon fill=\"black\" stroke=\"black\" points=\"797.701,-135.065 804.686,-127.099 794.258,-128.971 797.701,-135.065\"/>\r\n",
       "</g>\r\n",
       "<!-- 79 -->\r\n",
       "<g id=\"node25\" class=\"node\"><title>79</title>\r\n",
       "<path fill=\"#e58139\" fill-opacity=\"0.427451\" stroke=\"black\" d=\"M647,-38C647,-38 601,-38 601,-38 595,-38 589,-32 589,-26 589,-26 589,-12 589,-12 589,-6 595,-0 601,-0 601,-0 647,-0 647,-0 653,-0 659,-6 659,-12 659,-12 659,-26 659,-26 659,-32 653,-38 647,-38\"/>\r\n",
       "<text text-anchor=\"middle\" x=\"624\" y=\"-22.8\" font-family=\"Helvetica,sans-Serif\" font-size=\"14.00\">635</text>\r\n",
       "<text text-anchor=\"middle\" x=\"624\" y=\"-7.8\" font-family=\"Helvetica,sans-Serif\" font-size=\"14.00\">35.3108</text>\r\n",
       "</g>\r\n",
       "<!-- 67&#45;&gt;79 -->\r\n",
       "<g id=\"edge24\" class=\"edge\"><title>67&#45;&gt;79</title>\r\n",
       "<path fill=\"none\" stroke=\"black\" d=\"M672.822,-73.9081C664.683,-64.9206 655.537,-54.8223 647.381,-45.8165\"/>\r\n",
       "<polygon fill=\"black\" stroke=\"black\" points=\"649.825,-43.3015 640.518,-38.2389 644.637,-48.0005 649.825,-43.3015\"/>\r\n",
       "</g>\r\n",
       "<!-- 80 -->\r\n",
       "<g id=\"node26\" class=\"node\"><title>80</title>\r\n",
       "<path fill=\"#e58139\" fill-opacity=\"0.360784\" stroke=\"black\" d=\"M735,-38C735,-38 689,-38 689,-38 683,-38 677,-32 677,-26 677,-26 677,-12 677,-12 677,-6 683,-0 689,-0 689,-0 735,-0 735,-0 741,-0 747,-6 747,-12 747,-12 747,-26 747,-26 747,-32 741,-38 735,-38\"/>\r\n",
       "<text text-anchor=\"middle\" x=\"712\" y=\"-22.8\" font-family=\"Helvetica,sans-Serif\" font-size=\"14.00\">352</text>\r\n",
       "<text text-anchor=\"middle\" x=\"712\" y=\"-7.8\" font-family=\"Helvetica,sans-Serif\" font-size=\"14.00\">31.9309</text>\r\n",
       "</g>\r\n",
       "<!-- 67&#45;&gt;80 -->\r\n",
       "<g id=\"edge25\" class=\"edge\"><title>67&#45;&gt;80</title>\r\n",
       "<path fill=\"none\" stroke=\"black\" d=\"M701.151,-73.9081C702.795,-65.7377 704.624,-56.6492 706.305,-48.2981\"/>\r\n",
       "<polygon fill=\"black\" stroke=\"black\" points=\"709.787,-48.7329 708.329,-38.2389 702.925,-47.3518 709.787,-48.7329\"/>\r\n",
       "</g>\r\n",
       "<!-- 91 -->\r\n",
       "<g id=\"node28\" class=\"node\"><title>91</title>\r\n",
       "<path fill=\"#e58139\" fill-opacity=\"0.435294\" stroke=\"black\" d=\"M840,-38C840,-38 794,-38 794,-38 788,-38 782,-32 782,-26 782,-26 782,-12 782,-12 782,-6 788,-0 794,-0 794,-0 840,-0 840,-0 846,-0 852,-6 852,-12 852,-12 852,-26 852,-26 852,-32 846,-38 840,-38\"/>\r\n",
       "<text text-anchor=\"middle\" x=\"817\" y=\"-22.8\" font-family=\"Helvetica,sans-Serif\" font-size=\"14.00\">313</text>\r\n",
       "<text text-anchor=\"middle\" x=\"817\" y=\"-7.8\" font-family=\"Helvetica,sans-Serif\" font-size=\"14.00\">35.7816</text>\r\n",
       "</g>\r\n",
       "<!-- 68&#45;&gt;91 -->\r\n",
       "<g id=\"edge27\" class=\"edge\"><title>68&#45;&gt;91</title>\r\n",
       "<path fill=\"none\" stroke=\"black\" d=\"M839.377,-73.9081C835.91,-65.5561 832.045,-56.2448 828.516,-47.7425\"/>\r\n",
       "<polygon fill=\"black\" stroke=\"black\" points=\"831.637,-46.133 824.571,-38.2389 825.172,-48.8167 831.637,-46.133\"/>\r\n",
       "</g>\r\n",
       "<!-- 92 -->\r\n",
       "<g id=\"node29\" class=\"node\"><title>92</title>\r\n",
       "<path fill=\"#e58139\" fill-opacity=\"0.494118\" stroke=\"black\" d=\"M920,-38C920,-38 882,-38 882,-38 876,-38 870,-32 870,-26 870,-26 870,-12 870,-12 870,-6 876,-0 882,-0 882,-0 920,-0 920,-0 926,-0 932,-6 932,-12 932,-12 932,-26 932,-26 932,-32 926,-38 920,-38\"/>\r\n",
       "<text text-anchor=\"middle\" x=\"901\" y=\"-22.8\" font-family=\"Helvetica,sans-Serif\" font-size=\"14.00\">304</text>\r\n",
       "<text text-anchor=\"middle\" x=\"901\" y=\"-7.8\" font-family=\"Helvetica,sans-Serif\" font-size=\"14.00\">39.031</text>\r\n",
       "</g>\r\n",
       "<!-- 68&#45;&gt;92 -->\r\n",
       "<g id=\"edge28\" class=\"edge\"><title>68&#45;&gt;92</title>\r\n",
       "<path fill=\"none\" stroke=\"black\" d=\"M866.417,-73.9081C871.95,-65.2837 878.139,-55.6366 883.735,-46.9133\"/>\r\n",
       "<polygon fill=\"black\" stroke=\"black\" points=\"886.846,-48.5457 889.3,-38.2389 880.954,-44.766 886.846,-48.5457\"/>\r\n",
       "</g>\r\n",
       "<!-- 13 -->\r\n",
       "<g id=\"node31\" class=\"node\"><title>13</title>\r\n",
       "<path fill=\"#e58139\" fill-opacity=\"0.521569\" stroke=\"black\" d=\"M1173.5,-305C1173.5,-305 1030.5,-305 1030.5,-305 1024.5,-305 1018.5,-299 1018.5,-293 1018.5,-293 1018.5,-264 1018.5,-264 1018.5,-258 1024.5,-252 1030.5,-252 1030.5,-252 1173.5,-252 1173.5,-252 1179.5,-252 1185.5,-258 1185.5,-264 1185.5,-264 1185.5,-293 1185.5,-293 1185.5,-299 1179.5,-305 1173.5,-305\"/>\r\n",
       "<text text-anchor=\"middle\" x=\"1102\" y=\"-289.8\" font-family=\"Helvetica,sans-Serif\" font-size=\"14.00\">demand&#45;24 &lt;= 29424.5</text>\r\n",
       "<text text-anchor=\"middle\" x=\"1102\" y=\"-274.8\" font-family=\"Helvetica,sans-Serif\" font-size=\"14.00\">3163</text>\r\n",
       "<text text-anchor=\"middle\" x=\"1102\" y=\"-259.8\" font-family=\"Helvetica,sans-Serif\" font-size=\"14.00\">40.4737</text>\r\n",
       "</g>\r\n",
       "<!-- 8&#45;&gt;13 -->\r\n",
       "<g id=\"edge30\" class=\"edge\"><title>8&#45;&gt;13</title>\r\n",
       "<path fill=\"none\" stroke=\"black\" d=\"M1102,-340.868C1102,-332.886 1102,-323.932 1102,-315.384\"/>\r\n",
       "<polygon fill=\"black\" stroke=\"black\" points=\"1105.5,-315.25 1102,-305.25 1098.5,-315.25 1105.5,-315.25\"/>\r\n",
       "</g>\r\n",
       "<!-- 14 -->\r\n",
       "<g id=\"node40\" class=\"node\"><title>14</title>\r\n",
       "<path fill=\"#e58139\" fill-opacity=\"0.643137\" stroke=\"black\" d=\"M1421.5,-305C1421.5,-305 1290.5,-305 1290.5,-305 1284.5,-305 1278.5,-299 1278.5,-293 1278.5,-293 1278.5,-264 1278.5,-264 1278.5,-258 1284.5,-252 1290.5,-252 1290.5,-252 1421.5,-252 1421.5,-252 1427.5,-252 1433.5,-258 1433.5,-264 1433.5,-264 1433.5,-293 1433.5,-293 1433.5,-299 1427.5,-305 1421.5,-305\"/>\r\n",
       "<text text-anchor=\"middle\" x=\"1356\" y=\"-289.8\" font-family=\"Helvetica,sans-Serif\" font-size=\"14.00\">reserve&#45;24 &lt;= 63.465</text>\r\n",
       "<text text-anchor=\"middle\" x=\"1356\" y=\"-274.8\" font-family=\"Helvetica,sans-Serif\" font-size=\"14.00\">1043</text>\r\n",
       "<text text-anchor=\"middle\" x=\"1356\" y=\"-259.8\" font-family=\"Helvetica,sans-Serif\" font-size=\"14.00\">46.8222</text>\r\n",
       "</g>\r\n",
       "<!-- 8&#45;&gt;14 -->\r\n",
       "<g id=\"edge39\" class=\"edge\"><title>8&#45;&gt;14</title>\r\n",
       "<path fill=\"none\" stroke=\"black\" d=\"M1175.13,-341.453C1205.28,-331.126 1240.4,-319.096 1271.63,-308.399\"/>\r\n",
       "<polygon fill=\"black\" stroke=\"black\" points=\"1272.86,-311.677 1281.19,-305.125 1270.59,-305.055 1272.86,-311.677\"/>\r\n",
       "</g>\r\n",
       "<!-- 17 -->\r\n",
       "<g id=\"node32\" class=\"node\"><title>17</title>\r\n",
       "<path fill=\"#e58139\" fill-opacity=\"0.556863\" stroke=\"black\" d=\"M1098.5,-216C1098.5,-216 955.5,-216 955.5,-216 949.5,-216 943.5,-210 943.5,-204 943.5,-204 943.5,-175 943.5,-175 943.5,-169 949.5,-163 955.5,-163 955.5,-163 1098.5,-163 1098.5,-163 1104.5,-163 1110.5,-169 1110.5,-175 1110.5,-175 1110.5,-204 1110.5,-204 1110.5,-210 1104.5,-216 1098.5,-216\"/>\r\n",
       "<text text-anchor=\"middle\" x=\"1027\" y=\"-200.8\" font-family=\"Helvetica,sans-Serif\" font-size=\"14.00\">demand&#45;24 &lt;= 22075.5</text>\r\n",
       "<text text-anchor=\"middle\" x=\"1027\" y=\"-185.8\" font-family=\"Helvetica,sans-Serif\" font-size=\"14.00\">2283</text>\r\n",
       "<text text-anchor=\"middle\" x=\"1027\" y=\"-170.8\" font-family=\"Helvetica,sans-Serif\" font-size=\"14.00\">42.3805</text>\r\n",
       "</g>\r\n",
       "<!-- 13&#45;&gt;17 -->\r\n",
       "<g id=\"edge31\" class=\"edge\"><title>13&#45;&gt;17</title>\r\n",
       "<path fill=\"none\" stroke=\"black\" d=\"M1079.9,-251.868C1072.34,-243.096 1063.77,-233.152 1055.76,-223.86\"/>\r\n",
       "<polygon fill=\"black\" stroke=\"black\" points=\"1058.38,-221.539 1049.2,-216.25 1053.08,-226.109 1058.38,-221.539\"/>\r\n",
       "</g>\r\n",
       "<!-- 18 -->\r\n",
       "<g id=\"node37\" class=\"node\"><title>18</title>\r\n",
       "<path fill=\"#e58139\" fill-opacity=\"0.431373\" stroke=\"black\" d=\"M1235,-216C1235,-216 1141,-216 1141,-216 1135,-216 1129,-210 1129,-204 1129,-204 1129,-175 1129,-175 1129,-169 1135,-163 1141,-163 1141,-163 1235,-163 1235,-163 1241,-163 1247,-169 1247,-175 1247,-175 1247,-204 1247,-204 1247,-210 1241,-216 1235,-216\"/>\r\n",
       "<text text-anchor=\"middle\" x=\"1188\" y=\"-200.8\" font-family=\"Helvetica,sans-Serif\" font-size=\"14.00\">spot&#45;1 &lt;= 38.39</text>\r\n",
       "<text text-anchor=\"middle\" x=\"1188\" y=\"-185.8\" font-family=\"Helvetica,sans-Serif\" font-size=\"14.00\">880</text>\r\n",
       "<text text-anchor=\"middle\" x=\"1188\" y=\"-170.8\" font-family=\"Helvetica,sans-Serif\" font-size=\"14.00\">35.5268</text>\r\n",
       "</g>\r\n",
       "<!-- 13&#45;&gt;18 -->\r\n",
       "<g id=\"edge36\" class=\"edge\"><title>13&#45;&gt;18</title>\r\n",
       "<path fill=\"none\" stroke=\"black\" d=\"M1127.34,-251.868C1136.1,-243.008 1146.04,-232.953 1155.3,-223.582\"/>\r\n",
       "<polygon fill=\"black\" stroke=\"black\" points=\"1158.01,-225.822 1162.55,-216.25 1153.03,-220.901 1158.01,-225.822\"/>\r\n",
       "</g>\r\n",
       "<!-- 51 -->\r\n",
       "<g id=\"node33\" class=\"node\"><title>51</title>\r\n",
       "<path fill=\"#e58139\" fill-opacity=\"0.607843\" stroke=\"black\" d=\"M979,-119.5C979,-119.5 933,-119.5 933,-119.5 927,-119.5 921,-113.5 921,-107.5 921,-107.5 921,-93.5 921,-93.5 921,-87.5 927,-81.5 933,-81.5 933,-81.5 979,-81.5 979,-81.5 985,-81.5 991,-87.5 991,-93.5 991,-93.5 991,-107.5 991,-107.5 991,-113.5 985,-119.5 979,-119.5\"/>\r\n",
       "<text text-anchor=\"middle\" x=\"956\" y=\"-104.3\" font-family=\"Helvetica,sans-Serif\" font-size=\"14.00\">552</text>\r\n",
       "<text text-anchor=\"middle\" x=\"956\" y=\"-89.3\" font-family=\"Helvetica,sans-Serif\" font-size=\"14.00\">45.1029</text>\r\n",
       "</g>\r\n",
       "<!-- 17&#45;&gt;51 -->\r\n",
       "<g id=\"edge32\" class=\"edge\"><title>17&#45;&gt;51</title>\r\n",
       "<path fill=\"none\" stroke=\"black\" d=\"M1006.08,-162.868C996.931,-151.655 986.216,-138.525 977.051,-127.294\"/>\r\n",
       "<polygon fill=\"black\" stroke=\"black\" points=\"979.729,-125.041 970.695,-119.507 974.306,-129.467 979.729,-125.041\"/>\r\n",
       "</g>\r\n",
       "<!-- 52 -->\r\n",
       "<g id=\"node34\" class=\"node\"><title>52</title>\r\n",
       "<path fill=\"#e58139\" fill-opacity=\"0.541176\" stroke=\"black\" d=\"M1115,-127C1115,-127 1021,-127 1021,-127 1015,-127 1009,-121 1009,-115 1009,-115 1009,-86 1009,-86 1009,-80 1015,-74 1021,-74 1021,-74 1115,-74 1115,-74 1121,-74 1127,-80 1127,-86 1127,-86 1127,-115 1127,-115 1127,-121 1121,-127 1115,-127\"/>\r\n",
       "<text text-anchor=\"middle\" x=\"1068\" y=\"-111.8\" font-family=\"Helvetica,sans-Serif\" font-size=\"14.00\">spot&#45;1 &lt;= 38.28</text>\r\n",
       "<text text-anchor=\"middle\" x=\"1068\" y=\"-96.8\" font-family=\"Helvetica,sans-Serif\" font-size=\"14.00\">1731</text>\r\n",
       "<text text-anchor=\"middle\" x=\"1068\" y=\"-81.8\" font-family=\"Helvetica,sans-Serif\" font-size=\"14.00\">41.5123</text>\r\n",
       "</g>\r\n",
       "<!-- 17&#45;&gt;52 -->\r\n",
       "<g id=\"edge33\" class=\"edge\"><title>17&#45;&gt;52</title>\r\n",
       "<path fill=\"none\" stroke=\"black\" d=\"M1039.08,-162.868C1042.97,-154.622 1047.34,-145.341 1051.49,-136.54\"/>\r\n",
       "<polygon fill=\"black\" stroke=\"black\" points=\"1054.77,-137.788 1055.87,-127.25 1048.44,-134.804 1054.77,-137.788\"/>\r\n",
       "</g>\r\n",
       "<!-- 71 -->\r\n",
       "<g id=\"node35\" class=\"node\"><title>71</title>\r\n",
       "<path fill=\"#e58139\" fill-opacity=\"0.509804\" stroke=\"black\" d=\"M1066,-38C1066,-38 1020,-38 1020,-38 1014,-38 1008,-32 1008,-26 1008,-26 1008,-12 1008,-12 1008,-6 1014,-0 1020,-0 1020,-0 1066,-0 1066,-0 1072,-0 1078,-6 1078,-12 1078,-12 1078,-26 1078,-26 1078,-32 1072,-38 1066,-38\"/>\r\n",
       "<text text-anchor=\"middle\" x=\"1043\" y=\"-22.8\" font-family=\"Helvetica,sans-Serif\" font-size=\"14.00\">774</text>\r\n",
       "<text text-anchor=\"middle\" x=\"1043\" y=\"-7.8\" font-family=\"Helvetica,sans-Serif\" font-size=\"14.00\">39.8236</text>\r\n",
       "</g>\r\n",
       "<!-- 52&#45;&gt;71 -->\r\n",
       "<g id=\"edge34\" class=\"edge\"><title>52&#45;&gt;71</title>\r\n",
       "<path fill=\"none\" stroke=\"black\" d=\"M1059.95,-73.9081C1057.35,-65.6469 1054.46,-56.4471 1051.81,-48.02\"/>\r\n",
       "<polygon fill=\"black\" stroke=\"black\" points=\"1055.07,-46.7284 1048.74,-38.2389 1048.4,-48.8283 1055.07,-46.7284\"/>\r\n",
       "</g>\r\n",
       "<!-- 72 -->\r\n",
       "<g id=\"node36\" class=\"node\"><title>72</title>\r\n",
       "<path fill=\"#e58139\" fill-opacity=\"0.568627\" stroke=\"black\" d=\"M1154,-38C1154,-38 1108,-38 1108,-38 1102,-38 1096,-32 1096,-26 1096,-26 1096,-12 1096,-12 1096,-6 1102,-0 1108,-0 1108,-0 1154,-0 1154,-0 1160,-0 1166,-6 1166,-12 1166,-12 1166,-26 1166,-26 1166,-32 1160,-38 1154,-38\"/>\r\n",
       "<text text-anchor=\"middle\" x=\"1131\" y=\"-22.8\" font-family=\"Helvetica,sans-Serif\" font-size=\"14.00\">957</text>\r\n",
       "<text text-anchor=\"middle\" x=\"1131\" y=\"-7.8\" font-family=\"Helvetica,sans-Serif\" font-size=\"14.00\">42.8781</text>\r\n",
       "</g>\r\n",
       "<!-- 52&#45;&gt;72 -->\r\n",
       "<g id=\"edge35\" class=\"edge\"><title>52&#45;&gt;72</title>\r\n",
       "<path fill=\"none\" stroke=\"black\" d=\"M1088.28,-73.9081C1095.33,-65.0114 1103.24,-55.0262 1110.33,-46.0898\"/>\r\n",
       "<polygon fill=\"black\" stroke=\"black\" points=\"1113.08,-48.2502 1116.55,-38.2389 1107.59,-43.9026 1113.08,-48.2502\"/>\r\n",
       "</g>\r\n",
       "<!-- 49 -->\r\n",
       "<g id=\"node38\" class=\"node\"><title>49</title>\r\n",
       "<path fill=\"#e58139\" fill-opacity=\"0.372549\" stroke=\"black\" d=\"M1203,-119.5C1203,-119.5 1157,-119.5 1157,-119.5 1151,-119.5 1145,-113.5 1145,-107.5 1145,-107.5 1145,-93.5 1145,-93.5 1145,-87.5 1151,-81.5 1157,-81.5 1157,-81.5 1203,-81.5 1203,-81.5 1209,-81.5 1215,-87.5 1215,-93.5 1215,-93.5 1215,-107.5 1215,-107.5 1215,-113.5 1209,-119.5 1203,-119.5\"/>\r\n",
       "<text text-anchor=\"middle\" x=\"1180\" y=\"-104.3\" font-family=\"Helvetica,sans-Serif\" font-size=\"14.00\">355</text>\r\n",
       "<text text-anchor=\"middle\" x=\"1180\" y=\"-89.3\" font-family=\"Helvetica,sans-Serif\" font-size=\"14.00\">32.4351</text>\r\n",
       "</g>\r\n",
       "<!-- 18&#45;&gt;49 -->\r\n",
       "<g id=\"edge37\" class=\"edge\"><title>18&#45;&gt;49</title>\r\n",
       "<path fill=\"none\" stroke=\"black\" d=\"M1185.64,-162.868C1184.68,-152.417 1183.57,-140.301 1182.58,-129.609\"/>\r\n",
       "<polygon fill=\"black\" stroke=\"black\" points=\"1186.06,-129.144 1181.66,-119.507 1179.09,-129.785 1186.06,-129.144\"/>\r\n",
       "</g>\r\n",
       "<!-- 50 -->\r\n",
       "<g id=\"node39\" class=\"node\"><title>50</title>\r\n",
       "<path fill=\"#e58139\" fill-opacity=\"0.470588\" stroke=\"black\" d=\"M1291,-119.5C1291,-119.5 1245,-119.5 1245,-119.5 1239,-119.5 1233,-113.5 1233,-107.5 1233,-107.5 1233,-93.5 1233,-93.5 1233,-87.5 1239,-81.5 1245,-81.5 1245,-81.5 1291,-81.5 1291,-81.5 1297,-81.5 1303,-87.5 1303,-93.5 1303,-93.5 1303,-107.5 1303,-107.5 1303,-113.5 1297,-119.5 1291,-119.5\"/>\r\n",
       "<text text-anchor=\"middle\" x=\"1268\" y=\"-104.3\" font-family=\"Helvetica,sans-Serif\" font-size=\"14.00\">525</text>\r\n",
       "<text text-anchor=\"middle\" x=\"1268\" y=\"-89.3\" font-family=\"Helvetica,sans-Serif\" font-size=\"14.00\">37.6174</text>\r\n",
       "</g>\r\n",
       "<!-- 18&#45;&gt;50 -->\r\n",
       "<g id=\"edge38\" class=\"edge\"><title>18&#45;&gt;50</title>\r\n",
       "<path fill=\"none\" stroke=\"black\" d=\"M1211.57,-162.868C1221.98,-151.546 1234.19,-138.27 1244.58,-126.968\"/>\r\n",
       "<polygon fill=\"black\" stroke=\"black\" points=\"1247.25,-129.237 1251.44,-119.507 1242.1,-124.499 1247.25,-129.237\"/>\r\n",
       "</g>\r\n",
       "<!-- 75 -->\r\n",
       "<g id=\"node41\" class=\"node\"><title>75</title>\r\n",
       "<path fill=\"#e58139\" fill-opacity=\"0.619608\" stroke=\"black\" d=\"M1427.5,-216C1427.5,-216 1284.5,-216 1284.5,-216 1278.5,-216 1272.5,-210 1272.5,-204 1272.5,-204 1272.5,-175 1272.5,-175 1272.5,-169 1278.5,-163 1284.5,-163 1284.5,-163 1427.5,-163 1427.5,-163 1433.5,-163 1439.5,-169 1439.5,-175 1439.5,-175 1439.5,-204 1439.5,-204 1439.5,-210 1433.5,-216 1427.5,-216\"/>\r\n",
       "<text text-anchor=\"middle\" x=\"1356\" y=\"-200.8\" font-family=\"Helvetica,sans-Serif\" font-size=\"14.00\">demand&#45;24 &lt;= 27014.0</text>\r\n",
       "<text text-anchor=\"middle\" x=\"1356\" y=\"-185.8\" font-family=\"Helvetica,sans-Serif\" font-size=\"14.00\">634</text>\r\n",
       "<text text-anchor=\"middle\" x=\"1356\" y=\"-170.8\" font-family=\"Helvetica,sans-Serif\" font-size=\"14.00\">45.5415</text>\r\n",
       "</g>\r\n",
       "<!-- 14&#45;&gt;75 -->\r\n",
       "<g id=\"edge40\" class=\"edge\"><title>14&#45;&gt;75</title>\r\n",
       "<path fill=\"none\" stroke=\"black\" d=\"M1356,-251.868C1356,-243.886 1356,-234.932 1356,-226.384\"/>\r\n",
       "<polygon fill=\"black\" stroke=\"black\" points=\"1359.5,-226.25 1356,-216.25 1352.5,-226.25 1359.5,-226.25\"/>\r\n",
       "</g>\r\n",
       "<!-- 76 -->\r\n",
       "<g id=\"node44\" class=\"node\"><title>76</title>\r\n",
       "<path fill=\"#e58139\" fill-opacity=\"0.678431\" stroke=\"black\" d=\"M1516,-208.5C1516,-208.5 1470,-208.5 1470,-208.5 1464,-208.5 1458,-202.5 1458,-196.5 1458,-196.5 1458,-182.5 1458,-182.5 1458,-176.5 1464,-170.5 1470,-170.5 1470,-170.5 1516,-170.5 1516,-170.5 1522,-170.5 1528,-176.5 1528,-182.5 1528,-182.5 1528,-196.5 1528,-196.5 1528,-202.5 1522,-208.5 1516,-208.5\"/>\r\n",
       "<text text-anchor=\"middle\" x=\"1493\" y=\"-193.3\" font-family=\"Helvetica,sans-Serif\" font-size=\"14.00\">409</text>\r\n",
       "<text text-anchor=\"middle\" x=\"1493\" y=\"-178.3\" font-family=\"Helvetica,sans-Serif\" font-size=\"14.00\">48.8075</text>\r\n",
       "</g>\r\n",
       "<!-- 14&#45;&gt;76 -->\r\n",
       "<g id=\"edge43\" class=\"edge\"><title>14&#45;&gt;76</title>\r\n",
       "<path fill=\"none\" stroke=\"black\" d=\"M1396.36,-251.868C1415.31,-239.839 1437.72,-225.603 1456.19,-213.873\"/>\r\n",
       "<polygon fill=\"black\" stroke=\"black\" points=\"1458.08,-216.822 1464.64,-208.507 1454.33,-210.913 1458.08,-216.822\"/>\r\n",
       "</g>\r\n",
       "<!-- 77 -->\r\n",
       "<g id=\"node42\" class=\"node\"><title>77</title>\r\n",
       "<path fill=\"#e58139\" fill-opacity=\"0.658824\" stroke=\"black\" d=\"M1379,-119.5C1379,-119.5 1333,-119.5 1333,-119.5 1327,-119.5 1321,-113.5 1321,-107.5 1321,-107.5 1321,-93.5 1321,-93.5 1321,-87.5 1327,-81.5 1333,-81.5 1333,-81.5 1379,-81.5 1379,-81.5 1385,-81.5 1391,-87.5 1391,-93.5 1391,-93.5 1391,-107.5 1391,-107.5 1391,-113.5 1385,-119.5 1379,-119.5\"/>\r\n",
       "<text text-anchor=\"middle\" x=\"1356\" y=\"-104.3\" font-family=\"Helvetica,sans-Serif\" font-size=\"14.00\">340</text>\r\n",
       "<text text-anchor=\"middle\" x=\"1356\" y=\"-89.3\" font-family=\"Helvetica,sans-Serif\" font-size=\"14.00\">47.6319</text>\r\n",
       "</g>\r\n",
       "<!-- 75&#45;&gt;77 -->\r\n",
       "<g id=\"edge41\" class=\"edge\"><title>75&#45;&gt;77</title>\r\n",
       "<path fill=\"none\" stroke=\"black\" d=\"M1356,-162.868C1356,-152.417 1356,-140.301 1356,-129.609\"/>\r\n",
       "<polygon fill=\"black\" stroke=\"black\" points=\"1359.5,-129.507 1356,-119.507 1352.5,-129.507 1359.5,-129.507\"/>\r\n",
       "</g>\r\n",
       "<!-- 78 -->\r\n",
       "<g id=\"node43\" class=\"node\"><title>78</title>\r\n",
       "<path fill=\"#e58139\" fill-opacity=\"0.572549\" stroke=\"black\" d=\"M1467,-119.5C1467,-119.5 1421,-119.5 1421,-119.5 1415,-119.5 1409,-113.5 1409,-107.5 1409,-107.5 1409,-93.5 1409,-93.5 1409,-87.5 1415,-81.5 1421,-81.5 1421,-81.5 1467,-81.5 1467,-81.5 1473,-81.5 1479,-87.5 1479,-93.5 1479,-93.5 1479,-107.5 1479,-107.5 1479,-113.5 1473,-119.5 1467,-119.5\"/>\r\n",
       "<text text-anchor=\"middle\" x=\"1444\" y=\"-104.3\" font-family=\"Helvetica,sans-Serif\" font-size=\"14.00\">294</text>\r\n",
       "<text text-anchor=\"middle\" x=\"1444\" y=\"-89.3\" font-family=\"Helvetica,sans-Serif\" font-size=\"14.00\">43.1241</text>\r\n",
       "</g>\r\n",
       "<!-- 75&#45;&gt;78 -->\r\n",
       "<g id=\"edge42\" class=\"edge\"><title>75&#45;&gt;78</title>\r\n",
       "<path fill=\"none\" stroke=\"black\" d=\"M1381.93,-162.868C1393.49,-151.437 1407.07,-138.015 1418.57,-126.642\"/>\r\n",
       "<polygon fill=\"black\" stroke=\"black\" points=\"1421.14,-129.026 1425.79,-119.507 1416.21,-124.048 1421.14,-129.026\"/>\r\n",
       "</g>\r\n",
       "<!-- 5 -->\r\n",
       "<g id=\"node46\" class=\"node\"><title>5</title>\r\n",
       "<path fill=\"#e58139\" fill-opacity=\"0.686275\" stroke=\"black\" d=\"M2195.5,-483C2195.5,-483 2056.5,-483 2056.5,-483 2050.5,-483 2044.5,-477 2044.5,-471 2044.5,-471 2044.5,-442 2044.5,-442 2044.5,-436 2050.5,-430 2056.5,-430 2056.5,-430 2195.5,-430 2195.5,-430 2201.5,-430 2207.5,-436 2207.5,-442 2207.5,-442 2207.5,-471 2207.5,-471 2207.5,-477 2201.5,-483 2195.5,-483\"/>\r\n",
       "<text text-anchor=\"middle\" x=\"2126\" y=\"-467.8\" font-family=\"Helvetica,sans-Serif\" font-size=\"14.00\">reserve&#45;24 &lt;= 48.1349</text>\r\n",
       "<text text-anchor=\"middle\" x=\"2126\" y=\"-452.8\" font-family=\"Helvetica,sans-Serif\" font-size=\"14.00\">8377</text>\r\n",
       "<text text-anchor=\"middle\" x=\"2126\" y=\"-437.8\" font-family=\"Helvetica,sans-Serif\" font-size=\"14.00\">49.2656</text>\r\n",
       "</g>\r\n",
       "<!-- 2&#45;&gt;5 -->\r\n",
       "<g id=\"edge45\" class=\"edge\"><title>2&#45;&gt;5</title>\r\n",
       "<path fill=\"none\" stroke=\"black\" d=\"M2126,-518.868C2126,-510.886 2126,-501.932 2126,-493.384\"/>\r\n",
       "<polygon fill=\"black\" stroke=\"black\" points=\"2129.5,-493.25 2126,-483.25 2122.5,-493.25 2129.5,-493.25\"/>\r\n",
       "</g>\r\n",
       "<!-- 6 -->\r\n",
       "<g id=\"node81\" class=\"node\"><title>6</title>\r\n",
       "<path fill=\"#e58139\" fill-opacity=\"0.862745\" stroke=\"black\" d=\"M2765,-483C2765,-483 2663,-483 2663,-483 2657,-483 2651,-477 2651,-471 2651,-471 2651,-442 2651,-442 2651,-436 2657,-430 2663,-430 2663,-430 2765,-430 2765,-430 2771,-430 2777,-436 2777,-442 2777,-442 2777,-471 2777,-471 2777,-477 2771,-483 2765,-483\"/>\r\n",
       "<text text-anchor=\"middle\" x=\"2714\" y=\"-467.8\" font-family=\"Helvetica,sans-Serif\" font-size=\"14.00\">spot&#45;1 &lt;= 58.065</text>\r\n",
       "<text text-anchor=\"middle\" x=\"2714\" y=\"-452.8\" font-family=\"Helvetica,sans-Serif\" font-size=\"14.00\">2508</text>\r\n",
       "<text text-anchor=\"middle\" x=\"2714\" y=\"-437.8\" font-family=\"Helvetica,sans-Serif\" font-size=\"14.00\">58.6679</text>\r\n",
       "</g>\r\n",
       "<!-- 2&#45;&gt;6 -->\r\n",
       "<g id=\"edge80\" class=\"edge\"><title>2&#45;&gt;6</title>\r\n",
       "<path fill=\"none\" stroke=\"black\" d=\"M2207.76,-532.403C2322.82,-515.379 2530.74,-484.615 2640.91,-468.315\"/>\r\n",
       "<polygon fill=\"black\" stroke=\"black\" points=\"2641.55,-471.757 2650.93,-466.831 2640.53,-464.833 2641.55,-471.757\"/>\r\n",
       "</g>\r\n",
       "<!-- 11 -->\r\n",
       "<g id=\"node47\" class=\"node\"><title>11</title>\r\n",
       "<path fill=\"#e58139\" fill-opacity=\"0.639216\" stroke=\"black\" d=\"M2087.5,-394C2087.5,-394 1998.5,-394 1998.5,-394 1992.5,-394 1986.5,-388 1986.5,-382 1986.5,-382 1986.5,-353 1986.5,-353 1986.5,-347 1992.5,-341 1998.5,-341 1998.5,-341 2087.5,-341 2087.5,-341 2093.5,-341 2099.5,-347 2099.5,-353 2099.5,-353 2099.5,-382 2099.5,-382 2099.5,-388 2093.5,-394 2087.5,-394\"/>\r\n",
       "<text text-anchor=\"middle\" x=\"2043\" y=\"-378.8\" font-family=\"Helvetica,sans-Serif\" font-size=\"14.00\">spot &lt;= 64.025</text>\r\n",
       "<text text-anchor=\"middle\" x=\"2043\" y=\"-363.8\" font-family=\"Helvetica,sans-Serif\" font-size=\"14.00\">3894</text>\r\n",
       "<text text-anchor=\"middle\" x=\"2043\" y=\"-348.8\" font-family=\"Helvetica,sans-Serif\" font-size=\"14.00\">46.6832</text>\r\n",
       "</g>\r\n",
       "<!-- 5&#45;&gt;11 -->\r\n",
       "<g id=\"edge46\" class=\"edge\"><title>5&#45;&gt;11</title>\r\n",
       "<path fill=\"none\" stroke=\"black\" d=\"M2101.55,-429.868C2093.09,-421.008 2083.5,-410.953 2074.56,-401.582\"/>\r\n",
       "<polygon fill=\"black\" stroke=\"black\" points=\"2077,-399.069 2067.57,-394.25 2071.94,-403.901 2077,-399.069\"/>\r\n",
       "</g>\r\n",
       "<!-- 12 -->\r\n",
       "<g id=\"node62\" class=\"node\"><title>12</title>\r\n",
       "<path fill=\"#e58139\" fill-opacity=\"0.729412\" stroke=\"black\" d=\"M2332,-394C2332,-394 2230,-394 2230,-394 2224,-394 2218,-388 2218,-382 2218,-382 2218,-353 2218,-353 2218,-347 2224,-341 2230,-341 2230,-341 2332,-341 2332,-341 2338,-341 2344,-347 2344,-353 2344,-353 2344,-382 2344,-382 2344,-388 2338,-394 2332,-394\"/>\r\n",
       "<text text-anchor=\"middle\" x=\"2281\" y=\"-378.8\" font-family=\"Helvetica,sans-Serif\" font-size=\"14.00\">spot&#45;1 &lt;= 59.585</text>\r\n",
       "<text text-anchor=\"middle\" x=\"2281\" y=\"-363.8\" font-family=\"Helvetica,sans-Serif\" font-size=\"14.00\">4483</text>\r\n",
       "<text text-anchor=\"middle\" x=\"2281\" y=\"-348.8\" font-family=\"Helvetica,sans-Serif\" font-size=\"14.00\">51.5087</text>\r\n",
       "</g>\r\n",
       "<!-- 5&#45;&gt;12 -->\r\n",
       "<g id=\"edge61\" class=\"edge\"><title>5&#45;&gt;12</title>\r\n",
       "<path fill=\"none\" stroke=\"black\" d=\"M2171.67,-429.868C2188.78,-420.264 2208.39,-409.254 2226.24,-399.235\"/>\r\n",
       "<polygon fill=\"black\" stroke=\"black\" points=\"2228.38,-402.046 2235.39,-394.099 2224.96,-395.942 2228.38,-402.046\"/>\r\n",
       "</g>\r\n",
       "<!-- 19 -->\r\n",
       "<g id=\"node48\" class=\"node\"><title>19</title>\r\n",
       "<path fill=\"#e58139\" fill-opacity=\"0.619608\" stroke=\"black\" d=\"M1954,-305C1954,-305 1832,-305 1832,-305 1826,-305 1820,-299 1820,-293 1820,-293 1820,-264 1820,-264 1820,-258 1826,-252 1832,-252 1832,-252 1954,-252 1954,-252 1960,-252 1966,-258 1966,-264 1966,-264 1966,-293 1966,-293 1966,-299 1960,-305 1954,-305\"/>\r\n",
       "<text text-anchor=\"middle\" x=\"1893\" y=\"-289.8\" font-family=\"Helvetica,sans-Serif\" font-size=\"14.00\">demand &lt;= 28171.5</text>\r\n",
       "<text text-anchor=\"middle\" x=\"1893\" y=\"-274.8\" font-family=\"Helvetica,sans-Serif\" font-size=\"14.00\">3373</text>\r\n",
       "<text text-anchor=\"middle\" x=\"1893\" y=\"-259.8\" font-family=\"Helvetica,sans-Serif\" font-size=\"14.00\">45.7154</text>\r\n",
       "</g>\r\n",
       "<!-- 11&#45;&gt;19 -->\r\n",
       "<g id=\"edge47\" class=\"edge\"><title>11&#45;&gt;19</title>\r\n",
       "<path fill=\"none\" stroke=\"black\" d=\"M1998.81,-340.868C1982.25,-331.264 1963.27,-320.254 1945.99,-310.235\"/>\r\n",
       "<polygon fill=\"black\" stroke=\"black\" points=\"1947.54,-307.089 1937.14,-305.099 1944.03,-313.144 1947.54,-307.089\"/>\r\n",
       "</g>\r\n",
       "<!-- 20 -->\r\n",
       "<g id=\"node61\" class=\"node\"><title>20</title>\r\n",
       "<path fill=\"#e58139\" fill-opacity=\"0.756863\" stroke=\"black\" d=\"M2062,-297.5C2062,-297.5 2024,-297.5 2024,-297.5 2018,-297.5 2012,-291.5 2012,-285.5 2012,-285.5 2012,-271.5 2012,-271.5 2012,-265.5 2018,-259.5 2024,-259.5 2024,-259.5 2062,-259.5 2062,-259.5 2068,-259.5 2074,-265.5 2074,-271.5 2074,-271.5 2074,-285.5 2074,-285.5 2074,-291.5 2068,-297.5 2062,-297.5\"/>\r\n",
       "<text text-anchor=\"middle\" x=\"2043\" y=\"-282.3\" font-family=\"Helvetica,sans-Serif\" font-size=\"14.00\">521</text>\r\n",
       "<text text-anchor=\"middle\" x=\"2043\" y=\"-267.3\" font-family=\"Helvetica,sans-Serif\" font-size=\"14.00\">52.949</text>\r\n",
       "</g>\r\n",
       "<!-- 11&#45;&gt;20 -->\r\n",
       "<g id=\"edge60\" class=\"edge\"><title>11&#45;&gt;20</title>\r\n",
       "<path fill=\"none\" stroke=\"black\" d=\"M2043,-340.868C2043,-330.417 2043,-318.301 2043,-307.609\"/>\r\n",
       "<polygon fill=\"black\" stroke=\"black\" points=\"2046.5,-307.507 2043,-297.507 2039.5,-307.507 2046.5,-307.507\"/>\r\n",
       "</g>\r\n",
       "<!-- 21 -->\r\n",
       "<g id=\"node49\" class=\"node\"><title>21</title>\r\n",
       "<path fill=\"#e58139\" fill-opacity=\"0.701961\" stroke=\"black\" d=\"M1747.5,-216C1747.5,-216 1604.5,-216 1604.5,-216 1598.5,-216 1592.5,-210 1592.5,-204 1592.5,-204 1592.5,-175 1592.5,-175 1592.5,-169 1598.5,-163 1604.5,-163 1604.5,-163 1747.5,-163 1747.5,-163 1753.5,-163 1759.5,-169 1759.5,-175 1759.5,-175 1759.5,-204 1759.5,-204 1759.5,-210 1753.5,-216 1747.5,-216\"/>\r\n",
       "<text text-anchor=\"middle\" x=\"1676\" y=\"-200.8\" font-family=\"Helvetica,sans-Serif\" font-size=\"14.00\">demand&#45;24 &lt;= 27476.5</text>\r\n",
       "<text text-anchor=\"middle\" x=\"1676\" y=\"-185.8\" font-family=\"Helvetica,sans-Serif\" font-size=\"14.00\">1105</text>\r\n",
       "<text text-anchor=\"middle\" x=\"1676\" y=\"-170.8\" font-family=\"Helvetica,sans-Serif\" font-size=\"14.00\">50.0445</text>\r\n",
       "</g>\r\n",
       "<!-- 19&#45;&gt;21 -->\r\n",
       "<g id=\"edge48\" class=\"edge\"><title>19&#45;&gt;21</title>\r\n",
       "<path fill=\"none\" stroke=\"black\" d=\"M1829.36,-251.985C1804.19,-241.893 1775.1,-230.233 1749.08,-219.798\"/>\r\n",
       "<polygon fill=\"black\" stroke=\"black\" points=\"1750.22,-216.487 1739.64,-216.015 1747.62,-222.985 1750.22,-216.487\"/>\r\n",
       "</g>\r\n",
       "<!-- 22 -->\r\n",
       "<g id=\"node54\" class=\"node\"><title>22</title>\r\n",
       "<path fill=\"#e58139\" fill-opacity=\"0.580392\" stroke=\"black\" d=\"M1940,-216C1940,-216 1846,-216 1846,-216 1840,-216 1834,-210 1834,-204 1834,-204 1834,-175 1834,-175 1834,-169 1840,-163 1846,-163 1846,-163 1940,-163 1940,-163 1946,-163 1952,-169 1952,-175 1952,-175 1952,-204 1952,-204 1952,-210 1946,-216 1940,-216\"/>\r\n",
       "<text text-anchor=\"middle\" x=\"1893\" y=\"-200.8\" font-family=\"Helvetica,sans-Serif\" font-size=\"14.00\">spot&#45;1 &lt;= 48.67</text>\r\n",
       "<text text-anchor=\"middle\" x=\"1893\" y=\"-185.8\" font-family=\"Helvetica,sans-Serif\" font-size=\"14.00\">2268</text>\r\n",
       "<text text-anchor=\"middle\" x=\"1893\" y=\"-170.8\" font-family=\"Helvetica,sans-Serif\" font-size=\"14.00\">43.6062</text>\r\n",
       "</g>\r\n",
       "<!-- 19&#45;&gt;22 -->\r\n",
       "<g id=\"edge53\" class=\"edge\"><title>19&#45;&gt;22</title>\r\n",
       "<path fill=\"none\" stroke=\"black\" d=\"M1893,-251.868C1893,-243.886 1893,-234.932 1893,-226.384\"/>\r\n",
       "<polygon fill=\"black\" stroke=\"black\" points=\"1896.5,-226.25 1893,-216.25 1889.5,-226.25 1896.5,-226.25\"/>\r\n",
       "</g>\r\n",
       "<!-- 63 -->\r\n",
       "<g id=\"node50\" class=\"node\"><title>63</title>\r\n",
       "<path fill=\"#e58139\" fill-opacity=\"0.725490\" stroke=\"black\" d=\"M1611,-127C1611,-127 1509,-127 1509,-127 1503,-127 1497,-121 1497,-115 1497,-115 1497,-86 1497,-86 1497,-80 1503,-74 1509,-74 1509,-74 1611,-74 1611,-74 1617,-74 1623,-80 1623,-86 1623,-86 1623,-115 1623,-115 1623,-121 1617,-127 1611,-127\"/>\r\n",
       "<text text-anchor=\"middle\" x=\"1560\" y=\"-111.8\" font-family=\"Helvetica,sans-Serif\" font-size=\"14.00\">spot&#45;1 &lt;= 50.005</text>\r\n",
       "<text text-anchor=\"middle\" x=\"1560\" y=\"-96.8\" font-family=\"Helvetica,sans-Serif\" font-size=\"14.00\">809</text>\r\n",
       "<text text-anchor=\"middle\" x=\"1560\" y=\"-81.8\" font-family=\"Helvetica,sans-Serif\" font-size=\"14.00\">51.2372</text>\r\n",
       "</g>\r\n",
       "<!-- 21&#45;&gt;63 -->\r\n",
       "<g id=\"edge49\" class=\"edge\"><title>21&#45;&gt;63</title>\r\n",
       "<path fill=\"none\" stroke=\"black\" d=\"M1641.82,-162.868C1629.54,-153.658 1615.54,-143.154 1602.63,-133.472\"/>\r\n",
       "<polygon fill=\"black\" stroke=\"black\" points=\"1604.43,-130.45 1594.33,-127.25 1600.23,-136.05 1604.43,-130.45\"/>\r\n",
       "</g>\r\n",
       "<!-- 64 -->\r\n",
       "<g id=\"node53\" class=\"node\"><title>64</title>\r\n",
       "<path fill=\"#e58139\" fill-opacity=\"0.639216\" stroke=\"black\" d=\"M1699,-119.5C1699,-119.5 1653,-119.5 1653,-119.5 1647,-119.5 1641,-113.5 1641,-107.5 1641,-107.5 1641,-93.5 1641,-93.5 1641,-87.5 1647,-81.5 1653,-81.5 1653,-81.5 1699,-81.5 1699,-81.5 1705,-81.5 1711,-87.5 1711,-93.5 1711,-93.5 1711,-107.5 1711,-107.5 1711,-113.5 1705,-119.5 1699,-119.5\"/>\r\n",
       "<text text-anchor=\"middle\" x=\"1676\" y=\"-104.3\" font-family=\"Helvetica,sans-Serif\" font-size=\"14.00\">296</text>\r\n",
       "<text text-anchor=\"middle\" x=\"1676\" y=\"-89.3\" font-family=\"Helvetica,sans-Serif\" font-size=\"14.00\">46.7848</text>\r\n",
       "</g>\r\n",
       "<!-- 21&#45;&gt;64 -->\r\n",
       "<g id=\"edge52\" class=\"edge\"><title>21&#45;&gt;64</title>\r\n",
       "<path fill=\"none\" stroke=\"black\" d=\"M1676,-162.868C1676,-152.417 1676,-140.301 1676,-129.609\"/>\r\n",
       "<polygon fill=\"black\" stroke=\"black\" points=\"1679.5,-129.507 1676,-119.507 1672.5,-129.507 1679.5,-129.507\"/>\r\n",
       "</g>\r\n",
       "<!-- 85 -->\r\n",
       "<g id=\"node51\" class=\"node\"><title>85</title>\r\n",
       "<path fill=\"#e58139\" fill-opacity=\"0.698039\" stroke=\"black\" d=\"M1539,-38C1539,-38 1493,-38 1493,-38 1487,-38 1481,-32 1481,-26 1481,-26 1481,-12 1481,-12 1481,-6 1487,-0 1493,-0 1493,-0 1539,-0 1539,-0 1545,-0 1551,-6 1551,-12 1551,-12 1551,-26 1551,-26 1551,-32 1545,-38 1539,-38\"/>\r\n",
       "<text text-anchor=\"middle\" x=\"1516\" y=\"-22.8\" font-family=\"Helvetica,sans-Serif\" font-size=\"14.00\">486</text>\r\n",
       "<text text-anchor=\"middle\" x=\"1516\" y=\"-7.8\" font-family=\"Helvetica,sans-Serif\" font-size=\"14.00\">49.8072</text>\r\n",
       "</g>\r\n",
       "<!-- 63&#45;&gt;85 -->\r\n",
       "<g id=\"edge50\" class=\"edge\"><title>63&#45;&gt;85</title>\r\n",
       "<path fill=\"none\" stroke=\"black\" d=\"M1545.84,-73.9081C1541.11,-65.3745 1535.84,-55.8395 1531.05,-47.1891\"/>\r\n",
       "<polygon fill=\"black\" stroke=\"black\" points=\"1534,-45.2934 1526.09,-38.2389 1527.87,-48.6831 1534,-45.2934\"/>\r\n",
       "</g>\r\n",
       "<!-- 86 -->\r\n",
       "<g id=\"node52\" class=\"node\"><title>86</title>\r\n",
       "<path fill=\"#e58139\" fill-opacity=\"0.764706\" stroke=\"black\" d=\"M1627,-38C1627,-38 1581,-38 1581,-38 1575,-38 1569,-32 1569,-26 1569,-26 1569,-12 1569,-12 1569,-6 1575,-0 1581,-0 1581,-0 1627,-0 1627,-0 1633,-0 1639,-6 1639,-12 1639,-12 1639,-26 1639,-26 1639,-32 1633,-38 1627,-38\"/>\r\n",
       "<text text-anchor=\"middle\" x=\"1604\" y=\"-22.8\" font-family=\"Helvetica,sans-Serif\" font-size=\"14.00\">323</text>\r\n",
       "<text text-anchor=\"middle\" x=\"1604\" y=\"-7.8\" font-family=\"Helvetica,sans-Serif\" font-size=\"14.00\">53.3889</text>\r\n",
       "</g>\r\n",
       "<!-- 63&#45;&gt;86 -->\r\n",
       "<g id=\"edge51\" class=\"edge\"><title>63&#45;&gt;86</title>\r\n",
       "<path fill=\"none\" stroke=\"black\" d=\"M1574.16,-73.9081C1578.89,-65.3745 1584.16,-55.8395 1588.95,-47.1891\"/>\r\n",
       "<polygon fill=\"black\" stroke=\"black\" points=\"1592.13,-48.6831 1593.91,-38.2389 1586,-45.2934 1592.13,-48.6831\"/>\r\n",
       "</g>\r\n",
       "<!-- 33 -->\r\n",
       "<g id=\"node55\" class=\"node\"><title>33</title>\r\n",
       "<path fill=\"#e58139\" fill-opacity=\"0.513725\" stroke=\"black\" d=\"M1884.5,-127C1884.5,-127 1741.5,-127 1741.5,-127 1735.5,-127 1729.5,-121 1729.5,-115 1729.5,-115 1729.5,-86 1729.5,-86 1729.5,-80 1735.5,-74 1741.5,-74 1741.5,-74 1884.5,-74 1884.5,-74 1890.5,-74 1896.5,-80 1896.5,-86 1896.5,-86 1896.5,-115 1896.5,-115 1896.5,-121 1890.5,-127 1884.5,-127\"/>\r\n",
       "<text text-anchor=\"middle\" x=\"1813\" y=\"-111.8\" font-family=\"Helvetica,sans-Serif\" font-size=\"14.00\">demand&#45;24 &lt;= 30650.0</text>\r\n",
       "<text text-anchor=\"middle\" x=\"1813\" y=\"-96.8\" font-family=\"Helvetica,sans-Serif\" font-size=\"14.00\">717</text>\r\n",
       "<text text-anchor=\"middle\" x=\"1813\" y=\"-81.8\" font-family=\"Helvetica,sans-Serif\" font-size=\"14.00\">40.0044</text>\r\n",
       "</g>\r\n",
       "<!-- 22&#45;&gt;33 -->\r\n",
       "<g id=\"edge54\" class=\"edge\"><title>22&#45;&gt;33</title>\r\n",
       "<path fill=\"none\" stroke=\"black\" d=\"M1869.43,-162.868C1861.36,-154.096 1852.22,-144.152 1843.68,-134.86\"/>\r\n",
       "<polygon fill=\"black\" stroke=\"black\" points=\"1846.02,-132.242 1836.68,-127.25 1840.87,-136.98 1846.02,-132.242\"/>\r\n",
       "</g>\r\n",
       "<!-- 34 -->\r\n",
       "<g id=\"node58\" class=\"node\"><title>34</title>\r\n",
       "<path fill=\"#e58139\" fill-opacity=\"0.611765\" stroke=\"black\" d=\"M2041,-127C2041,-127 1927,-127 1927,-127 1921,-127 1915,-121 1915,-115 1915,-115 1915,-86 1915,-86 1915,-80 1921,-74 1927,-74 1927,-74 2041,-74 2041,-74 2047,-74 2053,-80 2053,-86 2053,-86 2053,-115 2053,-115 2053,-121 2047,-127 2041,-127\"/>\r\n",
       "<text text-anchor=\"middle\" x=\"1984\" y=\"-111.8\" font-family=\"Helvetica,sans-Serif\" font-size=\"14.00\">reserve&#45;24 &lt;= 43.0</text>\r\n",
       "<text text-anchor=\"middle\" x=\"1984\" y=\"-96.8\" font-family=\"Helvetica,sans-Serif\" font-size=\"14.00\">1551</text>\r\n",
       "<text text-anchor=\"middle\" x=\"1984\" y=\"-81.8\" font-family=\"Helvetica,sans-Serif\" font-size=\"14.00\">45.2712</text>\r\n",
       "</g>\r\n",
       "<!-- 22&#45;&gt;34 -->\r\n",
       "<g id=\"edge57\" class=\"edge\"><title>22&#45;&gt;34</title>\r\n",
       "<path fill=\"none\" stroke=\"black\" d=\"M1919.81,-162.868C1929.17,-153.921 1939.8,-143.753 1949.69,-134.304\"/>\r\n",
       "<polygon fill=\"black\" stroke=\"black\" points=\"1952.26,-136.69 1957.07,-127.25 1947.42,-131.63 1952.26,-136.69\"/>\r\n",
       "</g>\r\n",
       "<!-- 81 -->\r\n",
       "<g id=\"node56\" class=\"node\"><title>81</title>\r\n",
       "<path fill=\"#e58139\" fill-opacity=\"0.556863\" stroke=\"black\" d=\"M1763,-38C1763,-38 1717,-38 1717,-38 1711,-38 1705,-32 1705,-26 1705,-26 1705,-12 1705,-12 1705,-6 1711,-0 1717,-0 1717,-0 1763,-0 1763,-0 1769,-0 1775,-6 1775,-12 1775,-12 1775,-26 1775,-26 1775,-32 1769,-38 1763,-38\"/>\r\n",
       "<text text-anchor=\"middle\" x=\"1740\" y=\"-22.8\" font-family=\"Helvetica,sans-Serif\" font-size=\"14.00\">293</text>\r\n",
       "<text text-anchor=\"middle\" x=\"1740\" y=\"-7.8\" font-family=\"Helvetica,sans-Serif\" font-size=\"14.00\">42.2665</text>\r\n",
       "</g>\r\n",
       "<!-- 33&#45;&gt;81 -->\r\n",
       "<g id=\"edge55\" class=\"edge\"><title>33&#45;&gt;81</title>\r\n",
       "<path fill=\"none\" stroke=\"black\" d=\"M1789.5,-73.9081C1781.25,-64.9206 1771.98,-54.8223 1763.71,-45.8165\"/>\r\n",
       "<polygon fill=\"black\" stroke=\"black\" points=\"1766.09,-43.2375 1756.75,-38.2389 1760.93,-47.972 1766.09,-43.2375\"/>\r\n",
       "</g>\r\n",
       "<!-- 82 -->\r\n",
       "<g id=\"node57\" class=\"node\"><title>82</title>\r\n",
       "<path fill=\"#e58139\" fill-opacity=\"0.486275\" stroke=\"black\" d=\"M1851,-38C1851,-38 1805,-38 1805,-38 1799,-38 1793,-32 1793,-26 1793,-26 1793,-12 1793,-12 1793,-6 1799,-0 1805,-0 1805,-0 1851,-0 1851,-0 1857,-0 1863,-6 1863,-12 1863,-12 1863,-26 1863,-26 1863,-32 1857,-38 1851,-38\"/>\r\n",
       "<text text-anchor=\"middle\" x=\"1828\" y=\"-22.8\" font-family=\"Helvetica,sans-Serif\" font-size=\"14.00\">424</text>\r\n",
       "<text text-anchor=\"middle\" x=\"1828\" y=\"-7.8\" font-family=\"Helvetica,sans-Serif\" font-size=\"14.00\">38.4412</text>\r\n",
       "</g>\r\n",
       "<!-- 33&#45;&gt;82 -->\r\n",
       "<g id=\"edge56\" class=\"edge\"><title>33&#45;&gt;82</title>\r\n",
       "<path fill=\"none\" stroke=\"black\" d=\"M1817.83,-73.9081C1819.37,-65.7377 1821.09,-56.6492 1822.66,-48.2981\"/>\r\n",
       "<polygon fill=\"black\" stroke=\"black\" points=\"1826.14,-48.7145 1824.56,-38.2389 1819.27,-47.4166 1826.14,-48.7145\"/>\r\n",
       "</g>\r\n",
       "<!-- 41 -->\r\n",
       "<g id=\"node59\" class=\"node\"><title>41</title>\r\n",
       "<path fill=\"#e58139\" fill-opacity=\"0.584314\" stroke=\"black\" d=\"M1965,-38C1965,-38 1919,-38 1919,-38 1913,-38 1907,-32 1907,-26 1907,-26 1907,-12 1907,-12 1907,-6 1913,-0 1919,-0 1919,-0 1965,-0 1965,-0 1971,-0 1977,-6 1977,-12 1977,-12 1977,-26 1977,-26 1977,-32 1971,-38 1965,-38\"/>\r\n",
       "<text text-anchor=\"middle\" x=\"1942\" y=\"-22.8\" font-family=\"Helvetica,sans-Serif\" font-size=\"14.00\">1159</text>\r\n",
       "<text text-anchor=\"middle\" x=\"1942\" y=\"-7.8\" font-family=\"Helvetica,sans-Serif\" font-size=\"14.00\">43.8585</text>\r\n",
       "</g>\r\n",
       "<!-- 34&#45;&gt;41 -->\r\n",
       "<g id=\"edge58\" class=\"edge\"><title>34&#45;&gt;41</title>\r\n",
       "<path fill=\"none\" stroke=\"black\" d=\"M1970.48,-73.9081C1965.97,-65.3745 1960.93,-55.8395 1956.36,-47.1891\"/>\r\n",
       "<polygon fill=\"black\" stroke=\"black\" points=\"1959.4,-45.4459 1951.64,-38.2389 1953.21,-48.7158 1959.4,-45.4459\"/>\r\n",
       "</g>\r\n",
       "<!-- 42 -->\r\n",
       "<g id=\"node60\" class=\"node\"><title>42</title>\r\n",
       "<path fill=\"#e58139\" fill-opacity=\"0.690196\" stroke=\"black\" d=\"M2053,-38C2053,-38 2007,-38 2007,-38 2001,-38 1995,-32 1995,-26 1995,-26 1995,-12 1995,-12 1995,-6 2001,-0 2007,-0 2007,-0 2053,-0 2053,-0 2059,-0 2065,-6 2065,-12 2065,-12 2065,-26 2065,-26 2065,-32 2059,-38 2053,-38\"/>\r\n",
       "<text text-anchor=\"middle\" x=\"2030\" y=\"-22.8\" font-family=\"Helvetica,sans-Serif\" font-size=\"14.00\">392</text>\r\n",
       "<text text-anchor=\"middle\" x=\"2030\" y=\"-7.8\" font-family=\"Helvetica,sans-Serif\" font-size=\"14.00\">49.4481</text>\r\n",
       "</g>\r\n",
       "<!-- 34&#45;&gt;42 -->\r\n",
       "<g id=\"edge59\" class=\"edge\"><title>34&#45;&gt;42</title>\r\n",
       "<path fill=\"none\" stroke=\"black\" d=\"M1998.81,-73.9081C2003.8,-65.2837 2009.38,-55.6366 2014.43,-46.9133\"/>\r\n",
       "<polygon fill=\"black\" stroke=\"black\" points=\"2017.47,-48.6473 2019.45,-38.2389 2011.41,-45.1415 2017.47,-48.6473\"/>\r\n",
       "</g>\r\n",
       "<!-- 25 -->\r\n",
       "<g id=\"node63\" class=\"node\"><title>25</title>\r\n",
       "<path fill=\"#e58139\" fill-opacity=\"0.705882\" stroke=\"black\" d=\"M2352.5,-305C2352.5,-305 2209.5,-305 2209.5,-305 2203.5,-305 2197.5,-299 2197.5,-293 2197.5,-293 2197.5,-264 2197.5,-264 2197.5,-258 2203.5,-252 2209.5,-252 2209.5,-252 2352.5,-252 2352.5,-252 2358.5,-252 2364.5,-258 2364.5,-264 2364.5,-264 2364.5,-293 2364.5,-293 2364.5,-299 2358.5,-305 2352.5,-305\"/>\r\n",
       "<text text-anchor=\"middle\" x=\"2281\" y=\"-289.8\" font-family=\"Helvetica,sans-Serif\" font-size=\"14.00\">demand&#45;24 &lt;= 27973.5</text>\r\n",
       "<text text-anchor=\"middle\" x=\"2281\" y=\"-274.8\" font-family=\"Helvetica,sans-Serif\" font-size=\"14.00\">3205</text>\r\n",
       "<text text-anchor=\"middle\" x=\"2281\" y=\"-259.8\" font-family=\"Helvetica,sans-Serif\" font-size=\"14.00\">50.1847</text>\r\n",
       "</g>\r\n",
       "<!-- 12&#45;&gt;25 -->\r\n",
       "<g id=\"edge62\" class=\"edge\"><title>12&#45;&gt;25</title>\r\n",
       "<path fill=\"none\" stroke=\"black\" d=\"M2281,-340.868C2281,-332.886 2281,-323.932 2281,-315.384\"/>\r\n",
       "<polygon fill=\"black\" stroke=\"black\" points=\"2284.5,-315.25 2281,-305.25 2277.5,-315.25 2284.5,-315.25\"/>\r\n",
       "</g>\r\n",
       "<!-- 26 -->\r\n",
       "<g id=\"node76\" class=\"node\"><title>26</title>\r\n",
       "<path fill=\"#e58139\" fill-opacity=\"0.792157\" stroke=\"black\" d=\"M2627,-305C2627,-305 2493,-305 2493,-305 2487,-305 2481,-299 2481,-293 2481,-293 2481,-264 2481,-264 2481,-258 2487,-252 2493,-252 2493,-252 2627,-252 2627,-252 2633,-252 2639,-258 2639,-264 2639,-264 2639,-293 2639,-293 2639,-299 2633,-305 2627,-305\"/>\r\n",
       "<text text-anchor=\"middle\" x=\"2560\" y=\"-289.8\" font-family=\"Helvetica,sans-Serif\" font-size=\"14.00\">demand&#45;1 &lt;= 33588.0</text>\r\n",
       "<text text-anchor=\"middle\" x=\"2560\" y=\"-274.8\" font-family=\"Helvetica,sans-Serif\" font-size=\"14.00\">1278</text>\r\n",
       "<text text-anchor=\"middle\" x=\"2560\" y=\"-259.8\" font-family=\"Helvetica,sans-Serif\" font-size=\"14.00\">54.8289</text>\r\n",
       "</g>\r\n",
       "<!-- 12&#45;&gt;26 -->\r\n",
       "<g id=\"edge75\" class=\"edge\"><title>12&#45;&gt;26</title>\r\n",
       "<path fill=\"none\" stroke=\"black\" d=\"M2344.31,-346.758C2381.82,-335.062 2429.93,-320.061 2471.19,-307.194\"/>\r\n",
       "<polygon fill=\"black\" stroke=\"black\" points=\"2472.47,-310.462 2480.97,-304.144 2470.38,-303.779 2472.47,-310.462\"/>\r\n",
       "</g>\r\n",
       "<!-- 27 -->\r\n",
       "<g id=\"node64\" class=\"node\"><title>27</title>\r\n",
       "<path fill=\"#e58139\" fill-opacity=\"0.752941\" stroke=\"black\" d=\"M2260,-216C2260,-216 2158,-216 2158,-216 2152,-216 2146,-210 2146,-204 2146,-204 2146,-175 2146,-175 2146,-169 2152,-163 2158,-163 2158,-163 2260,-163 2260,-163 2266,-163 2272,-169 2272,-175 2272,-175 2272,-204 2272,-204 2272,-210 2266,-216 2260,-216\"/>\r\n",
       "<text text-anchor=\"middle\" x=\"2209\" y=\"-200.8\" font-family=\"Helvetica,sans-Serif\" font-size=\"14.00\">spot&#45;24 &lt;= 44.16</text>\r\n",
       "<text text-anchor=\"middle\" x=\"2209\" y=\"-185.8\" font-family=\"Helvetica,sans-Serif\" font-size=\"14.00\">1456</text>\r\n",
       "<text text-anchor=\"middle\" x=\"2209\" y=\"-170.8\" font-family=\"Helvetica,sans-Serif\" font-size=\"14.00\">52.743</text>\r\n",
       "</g>\r\n",
       "<!-- 25&#45;&gt;27 -->\r\n",
       "<g id=\"edge63\" class=\"edge\"><title>25&#45;&gt;27</title>\r\n",
       "<path fill=\"none\" stroke=\"black\" d=\"M2259.79,-251.868C2252.6,-243.184 2244.46,-233.35 2236.84,-224.139\"/>\r\n",
       "<polygon fill=\"black\" stroke=\"black\" points=\"2239.38,-221.722 2230.31,-216.25 2233.99,-226.185 2239.38,-221.722\"/>\r\n",
       "</g>\r\n",
       "<!-- 28 -->\r\n",
       "<g id=\"node69\" class=\"node\"><title>28</title>\r\n",
       "<path fill=\"#e58139\" fill-opacity=\"0.666667\" stroke=\"black\" d=\"M2404,-216C2404,-216 2302,-216 2302,-216 2296,-216 2290,-210 2290,-204 2290,-204 2290,-175 2290,-175 2290,-169 2296,-163 2302,-163 2302,-163 2404,-163 2404,-163 2410,-163 2416,-169 2416,-175 2416,-175 2416,-204 2416,-204 2416,-210 2410,-216 2404,-216\"/>\r\n",
       "<text text-anchor=\"middle\" x=\"2353\" y=\"-200.8\" font-family=\"Helvetica,sans-Serif\" font-size=\"14.00\">spot&#45;1 &lt;= 51.395</text>\r\n",
       "<text text-anchor=\"middle\" x=\"2353\" y=\"-185.8\" font-family=\"Helvetica,sans-Serif\" font-size=\"14.00\">1749</text>\r\n",
       "<text text-anchor=\"middle\" x=\"2353\" y=\"-170.8\" font-family=\"Helvetica,sans-Serif\" font-size=\"14.00\">48.055</text>\r\n",
       "</g>\r\n",
       "<!-- 25&#45;&gt;28 -->\r\n",
       "<g id=\"edge68\" class=\"edge\"><title>25&#45;&gt;28</title>\r\n",
       "<path fill=\"none\" stroke=\"black\" d=\"M2302.21,-251.868C2309.4,-243.184 2317.54,-233.35 2325.16,-224.139\"/>\r\n",
       "<polygon fill=\"black\" stroke=\"black\" points=\"2328.01,-226.185 2331.69,-216.25 2322.62,-221.722 2328.01,-226.185\"/>\r\n",
       "</g>\r\n",
       "<!-- 55 -->\r\n",
       "<g id=\"node65\" class=\"node\"><title>55</title>\r\n",
       "<path fill=\"#e58139\" fill-opacity=\"0.819608\" stroke=\"black\" d=\"M2129,-119.5C2129,-119.5 2083,-119.5 2083,-119.5 2077,-119.5 2071,-113.5 2071,-107.5 2071,-107.5 2071,-93.5 2071,-93.5 2071,-87.5 2077,-81.5 2083,-81.5 2083,-81.5 2129,-81.5 2129,-81.5 2135,-81.5 2141,-87.5 2141,-93.5 2141,-93.5 2141,-107.5 2141,-107.5 2141,-113.5 2135,-119.5 2129,-119.5\"/>\r\n",
       "<text text-anchor=\"middle\" x=\"2106\" y=\"-104.3\" font-family=\"Helvetica,sans-Serif\" font-size=\"14.00\">305</text>\r\n",
       "<text text-anchor=\"middle\" x=\"2106\" y=\"-89.3\" font-family=\"Helvetica,sans-Serif\" font-size=\"14.00\">56.2362</text>\r\n",
       "</g>\r\n",
       "<!-- 27&#45;&gt;55 -->\r\n",
       "<g id=\"edge64\" class=\"edge\"><title>27&#45;&gt;55</title>\r\n",
       "<path fill=\"none\" stroke=\"black\" d=\"M2178.65,-162.868C2164.86,-151.22 2148.62,-137.503 2135,-125.995\"/>\r\n",
       "<polygon fill=\"black\" stroke=\"black\" points=\"2137.22,-123.286 2127.32,-119.507 2132.7,-128.633 2137.22,-123.286\"/>\r\n",
       "</g>\r\n",
       "<!-- 56 -->\r\n",
       "<g id=\"node66\" class=\"node\"><title>56</title>\r\n",
       "<path fill=\"#e58139\" fill-opacity=\"0.737255\" stroke=\"black\" d=\"M2265,-127C2265,-127 2171,-127 2171,-127 2165,-127 2159,-121 2159,-115 2159,-115 2159,-86 2159,-86 2159,-80 2165,-74 2171,-74 2171,-74 2265,-74 2265,-74 2271,-74 2277,-80 2277,-86 2277,-86 2277,-115 2277,-115 2277,-121 2271,-127 2265,-127\"/>\r\n",
       "<text text-anchor=\"middle\" x=\"2218\" y=\"-111.8\" font-family=\"Helvetica,sans-Serif\" font-size=\"14.00\">spot&#45;1 &lt;= 48.18</text>\r\n",
       "<text text-anchor=\"middle\" x=\"2218\" y=\"-96.8\" font-family=\"Helvetica,sans-Serif\" font-size=\"14.00\">1151</text>\r\n",
       "<text text-anchor=\"middle\" x=\"2218\" y=\"-81.8\" font-family=\"Helvetica,sans-Serif\" font-size=\"14.00\">51.8174</text>\r\n",
       "</g>\r\n",
       "<!-- 27&#45;&gt;56 -->\r\n",
       "<g id=\"edge65\" class=\"edge\"><title>27&#45;&gt;56</title>\r\n",
       "<path fill=\"none\" stroke=\"black\" d=\"M2211.65,-162.868C2212.48,-154.886 2213.4,-145.932 2214.29,-137.384\"/>\r\n",
       "<polygon fill=\"black\" stroke=\"black\" points=\"2217.79,-137.557 2215.34,-127.25 2210.83,-136.836 2217.79,-137.557\"/>\r\n",
       "</g>\r\n",
       "<!-- 69 -->\r\n",
       "<g id=\"node67\" class=\"node\"><title>69</title>\r\n",
       "<path fill=\"#e58139\" fill-opacity=\"0.682353\" stroke=\"black\" d=\"M2154,-38C2154,-38 2108,-38 2108,-38 2102,-38 2096,-32 2096,-26 2096,-26 2096,-12 2096,-12 2096,-6 2102,-0 2108,-0 2108,-0 2154,-0 2154,-0 2160,-0 2166,-6 2166,-12 2166,-12 2166,-26 2166,-26 2166,-32 2160,-38 2154,-38\"/>\r\n",
       "<text text-anchor=\"middle\" x=\"2131\" y=\"-22.8\" font-family=\"Helvetica,sans-Serif\" font-size=\"14.00\">350</text>\r\n",
       "<text text-anchor=\"middle\" x=\"2131\" y=\"-7.8\" font-family=\"Helvetica,sans-Serif\" font-size=\"14.00\">48.9711</text>\r\n",
       "</g>\r\n",
       "<!-- 56&#45;&gt;69 -->\r\n",
       "<g id=\"edge66\" class=\"edge\"><title>56&#45;&gt;69</title>\r\n",
       "<path fill=\"none\" stroke=\"black\" d=\"M2189.99,-73.9081C2179.86,-64.6483 2168.44,-54.2093 2158.36,-45.0009\"/>\r\n",
       "<polygon fill=\"black\" stroke=\"black\" points=\"2160.7,-42.4009 2150.96,-38.2389 2155.98,-47.5684 2160.7,-42.4009\"/>\r\n",
       "</g>\r\n",
       "<!-- 70 -->\r\n",
       "<g id=\"node68\" class=\"node\"><title>70</title>\r\n",
       "<path fill=\"#e58139\" fill-opacity=\"0.756863\" stroke=\"black\" d=\"M2242,-38C2242,-38 2196,-38 2196,-38 2190,-38 2184,-32 2184,-26 2184,-26 2184,-12 2184,-12 2184,-6 2190,-0 2196,-0 2196,-0 2242,-0 2242,-0 2248,-0 2254,-6 2254,-12 2254,-12 2254,-26 2254,-26 2254,-32 2248,-38 2242,-38\"/>\r\n",
       "<text text-anchor=\"middle\" x=\"2219\" y=\"-22.8\" font-family=\"Helvetica,sans-Serif\" font-size=\"14.00\">801</text>\r\n",
       "<text text-anchor=\"middle\" x=\"2219\" y=\"-7.8\" font-family=\"Helvetica,sans-Serif\" font-size=\"14.00\">53.0611</text>\r\n",
       "</g>\r\n",
       "<!-- 56&#45;&gt;70 -->\r\n",
       "<g id=\"edge67\" class=\"edge\"><title>56&#45;&gt;70</title>\r\n",
       "<path fill=\"none\" stroke=\"black\" d=\"M2218.32,-73.9081C2218.42,-65.7377 2218.54,-56.6492 2218.64,-48.2981\"/>\r\n",
       "<polygon fill=\"black\" stroke=\"black\" points=\"2222.14,-48.2822 2218.77,-38.2389 2215.14,-48.1941 2222.14,-48.2822\"/>\r\n",
       "</g>\r\n",
       "<!-- 53 -->\r\n",
       "<g id=\"node70\" class=\"node\"><title>53</title>\r\n",
       "<path fill=\"#e58139\" fill-opacity=\"0.631373\" stroke=\"black\" d=\"M2381,-127C2381,-127 2307,-127 2307,-127 2301,-127 2295,-121 2295,-115 2295,-115 2295,-86 2295,-86 2295,-80 2301,-74 2307,-74 2307,-74 2381,-74 2381,-74 2387,-74 2393,-80 2393,-86 2393,-86 2393,-115 2393,-115 2393,-121 2387,-127 2381,-127\"/>\r\n",
       "<text text-anchor=\"middle\" x=\"2344\" y=\"-111.8\" font-family=\"Helvetica,sans-Serif\" font-size=\"14.00\">winter &lt;= 0.5</text>\r\n",
       "<text text-anchor=\"middle\" x=\"2344\" y=\"-96.8\" font-family=\"Helvetica,sans-Serif\" font-size=\"14.00\">814</text>\r\n",
       "<text text-anchor=\"middle\" x=\"2344\" y=\"-81.8\" font-family=\"Helvetica,sans-Serif\" font-size=\"14.00\">46.1899</text>\r\n",
       "</g>\r\n",
       "<!-- 28&#45;&gt;53 -->\r\n",
       "<g id=\"edge69\" class=\"edge\"><title>28&#45;&gt;53</title>\r\n",
       "<path fill=\"none\" stroke=\"black\" d=\"M2350.35,-162.868C2349.52,-154.886 2348.6,-145.932 2347.71,-137.384\"/>\r\n",
       "<polygon fill=\"black\" stroke=\"black\" points=\"2351.17,-136.836 2346.66,-127.25 2344.21,-137.557 2351.17,-136.836\"/>\r\n",
       "</g>\r\n",
       "<!-- 54 -->\r\n",
       "<g id=\"node73\" class=\"node\"><title>54</title>\r\n",
       "<path fill=\"#e58139\" fill-opacity=\"0.694118\" stroke=\"black\" d=\"M2562.5,-127C2562.5,-127 2423.5,-127 2423.5,-127 2417.5,-127 2411.5,-121 2411.5,-115 2411.5,-115 2411.5,-86 2411.5,-86 2411.5,-80 2417.5,-74 2423.5,-74 2423.5,-74 2562.5,-74 2562.5,-74 2568.5,-74 2574.5,-80 2574.5,-86 2574.5,-86 2574.5,-115 2574.5,-115 2574.5,-121 2568.5,-127 2562.5,-127\"/>\r\n",
       "<text text-anchor=\"middle\" x=\"2493\" y=\"-111.8\" font-family=\"Helvetica,sans-Serif\" font-size=\"14.00\">reserve&#45;24 &lt;= 57.0002</text>\r\n",
       "<text text-anchor=\"middle\" x=\"2493\" y=\"-96.8\" font-family=\"Helvetica,sans-Serif\" font-size=\"14.00\">935</text>\r\n",
       "<text text-anchor=\"middle\" x=\"2493\" y=\"-81.8\" font-family=\"Helvetica,sans-Serif\" font-size=\"14.00\">49.6788</text>\r\n",
       "</g>\r\n",
       "<!-- 28&#45;&gt;54 -->\r\n",
       "<g id=\"edge72\" class=\"edge\"><title>28&#45;&gt;54</title>\r\n",
       "<path fill=\"none\" stroke=\"black\" d=\"M2394.25,-162.868C2409.49,-153.394 2426.94,-142.553 2442.88,-132.644\"/>\r\n",
       "<polygon fill=\"black\" stroke=\"black\" points=\"2444.92,-135.501 2451.56,-127.25 2441.22,-129.555 2444.92,-135.501\"/>\r\n",
       "</g>\r\n",
       "<!-- 61 -->\r\n",
       "<g id=\"node71\" class=\"node\"><title>61</title>\r\n",
       "<path fill=\"#e58139\" fill-opacity=\"0.584314\" stroke=\"black\" d=\"M2335,-38C2335,-38 2289,-38 2289,-38 2283,-38 2277,-32 2277,-26 2277,-26 2277,-12 2277,-12 2277,-6 2283,-0 2289,-0 2289,-0 2335,-0 2335,-0 2341,-0 2347,-6 2347,-12 2347,-12 2347,-26 2347,-26 2347,-32 2341,-38 2335,-38\"/>\r\n",
       "<text text-anchor=\"middle\" x=\"2312\" y=\"-22.8\" font-family=\"Helvetica,sans-Serif\" font-size=\"14.00\">405</text>\r\n",
       "<text text-anchor=\"middle\" x=\"2312\" y=\"-7.8\" font-family=\"Helvetica,sans-Serif\" font-size=\"14.00\">43.8259</text>\r\n",
       "</g>\r\n",
       "<!-- 53&#45;&gt;61 -->\r\n",
       "<g id=\"edge70\" class=\"edge\"><title>53&#45;&gt;61</title>\r\n",
       "<path fill=\"none\" stroke=\"black\" d=\"M2333.7,-73.9081C2330.34,-65.5561 2326.59,-56.2448 2323.17,-47.7425\"/>\r\n",
       "<polygon fill=\"black\" stroke=\"black\" points=\"2326.32,-46.2087 2319.34,-38.2389 2319.83,-48.8225 2326.32,-46.2087\"/>\r\n",
       "</g>\r\n",
       "<!-- 62 -->\r\n",
       "<g id=\"node72\" class=\"node\"><title>62</title>\r\n",
       "<path fill=\"#e58139\" fill-opacity=\"0.674510\" stroke=\"black\" d=\"M2423,-38C2423,-38 2377,-38 2377,-38 2371,-38 2365,-32 2365,-26 2365,-26 2365,-12 2365,-12 2365,-6 2371,-0 2377,-0 2377,-0 2423,-0 2423,-0 2429,-0 2435,-6 2435,-12 2435,-12 2435,-26 2435,-26 2435,-32 2429,-38 2423,-38\"/>\r\n",
       "<text text-anchor=\"middle\" x=\"2400\" y=\"-22.8\" font-family=\"Helvetica,sans-Serif\" font-size=\"14.00\">409</text>\r\n",
       "<text text-anchor=\"middle\" x=\"2400\" y=\"-7.8\" font-family=\"Helvetica,sans-Serif\" font-size=\"14.00\">48.5308</text>\r\n",
       "</g>\r\n",
       "<!-- 53&#45;&gt;62 -->\r\n",
       "<g id=\"edge71\" class=\"edge\"><title>53&#45;&gt;62</title>\r\n",
       "<path fill=\"none\" stroke=\"black\" d=\"M2362.03,-73.9081C2368.17,-65.193 2375.04,-55.4333 2381.24,-46.6382\"/>\r\n",
       "<polygon fill=\"black\" stroke=\"black\" points=\"2384.26,-48.4299 2387.15,-38.2389 2378.53,-44.3987 2384.26,-48.4299\"/>\r\n",
       "</g>\r\n",
       "<!-- 73 -->\r\n",
       "<g id=\"node74\" class=\"node\"><title>73</title>\r\n",
       "<path fill=\"#e58139\" fill-opacity=\"0.654902\" stroke=\"black\" d=\"M2514,-38C2514,-38 2468,-38 2468,-38 2462,-38 2456,-32 2456,-26 2456,-26 2456,-12 2456,-12 2456,-6 2462,-0 2468,-0 2468,-0 2514,-0 2514,-0 2520,-0 2526,-6 2526,-12 2526,-12 2526,-26 2526,-26 2526,-32 2520,-38 2514,-38\"/>\r\n",
       "<text text-anchor=\"middle\" x=\"2491\" y=\"-22.8\" font-family=\"Helvetica,sans-Serif\" font-size=\"14.00\">370</text>\r\n",
       "<text text-anchor=\"middle\" x=\"2491\" y=\"-7.8\" font-family=\"Helvetica,sans-Serif\" font-size=\"14.00\">47.4843</text>\r\n",
       "</g>\r\n",
       "<!-- 54&#45;&gt;73 -->\r\n",
       "<g id=\"edge73\" class=\"edge\"><title>54&#45;&gt;73</title>\r\n",
       "<path fill=\"none\" stroke=\"black\" d=\"M2492.36,-73.9081C2492.15,-65.7377 2491.92,-56.6492 2491.71,-48.2981\"/>\r\n",
       "<polygon fill=\"black\" stroke=\"black\" points=\"2495.21,-48.1477 2491.46,-38.2389 2488.21,-48.3238 2495.21,-48.1477\"/>\r\n",
       "</g>\r\n",
       "<!-- 74 -->\r\n",
       "<g id=\"node75\" class=\"node\"><title>74</title>\r\n",
       "<path fill=\"#e58139\" fill-opacity=\"0.721569\" stroke=\"black\" d=\"M2602,-38C2602,-38 2556,-38 2556,-38 2550,-38 2544,-32 2544,-26 2544,-26 2544,-12 2544,-12 2544,-6 2550,-0 2556,-0 2556,-0 2602,-0 2602,-0 2608,-0 2614,-6 2614,-12 2614,-12 2614,-26 2614,-26 2614,-32 2608,-38 2602,-38\"/>\r\n",
       "<text text-anchor=\"middle\" x=\"2579\" y=\"-22.8\" font-family=\"Helvetica,sans-Serif\" font-size=\"14.00\">565</text>\r\n",
       "<text text-anchor=\"middle\" x=\"2579\" y=\"-7.8\" font-family=\"Helvetica,sans-Serif\" font-size=\"14.00\">51.1158</text>\r\n",
       "</g>\r\n",
       "<!-- 54&#45;&gt;74 -->\r\n",
       "<g id=\"edge74\" class=\"edge\"><title>54&#45;&gt;74</title>\r\n",
       "<path fill=\"none\" stroke=\"black\" d=\"M2520.68,-73.9081C2530.6,-64.739 2541.77,-54.4139 2551.66,-45.2721\"/>\r\n",
       "<polygon fill=\"black\" stroke=\"black\" points=\"2554.3,-47.5972 2559.27,-38.2389 2549.55,-42.457 2554.3,-47.5972\"/>\r\n",
       "</g>\r\n",
       "<!-- 43 -->\r\n",
       "<g id=\"node77\" class=\"node\"><title>43</title>\r\n",
       "<path fill=\"#e58139\" fill-opacity=\"0.764706\" stroke=\"black\" d=\"M2644.5,-216C2644.5,-216 2501.5,-216 2501.5,-216 2495.5,-216 2489.5,-210 2489.5,-204 2489.5,-204 2489.5,-175 2489.5,-175 2489.5,-169 2495.5,-163 2501.5,-163 2501.5,-163 2644.5,-163 2644.5,-163 2650.5,-163 2656.5,-169 2656.5,-175 2656.5,-175 2656.5,-204 2656.5,-204 2656.5,-210 2650.5,-216 2644.5,-216\"/>\r\n",
       "<text text-anchor=\"middle\" x=\"2573\" y=\"-200.8\" font-family=\"Helvetica,sans-Serif\" font-size=\"14.00\">demand&#45;24 &lt;= 30769.0</text>\r\n",
       "<text text-anchor=\"middle\" x=\"2573\" y=\"-185.8\" font-family=\"Helvetica,sans-Serif\" font-size=\"14.00\">953</text>\r\n",
       "<text text-anchor=\"middle\" x=\"2573\" y=\"-170.8\" font-family=\"Helvetica,sans-Serif\" font-size=\"14.00\">53.4615</text>\r\n",
       "</g>\r\n",
       "<!-- 26&#45;&gt;43 -->\r\n",
       "<g id=\"edge76\" class=\"edge\"><title>26&#45;&gt;43</title>\r\n",
       "<path fill=\"none\" stroke=\"black\" d=\"M2563.83,-251.868C2565.02,-243.886 2566.36,-234.932 2567.64,-226.384\"/>\r\n",
       "<polygon fill=\"black\" stroke=\"black\" points=\"2571.14,-226.657 2569.15,-216.25 2564.21,-225.623 2571.14,-226.657\"/>\r\n",
       "</g>\r\n",
       "<!-- 44 -->\r\n",
       "<g id=\"node80\" class=\"node\"><title>44</title>\r\n",
       "<path fill=\"#e58139\" fill-opacity=\"0.866667\" stroke=\"black\" d=\"M2733,-208.5C2733,-208.5 2687,-208.5 2687,-208.5 2681,-208.5 2675,-202.5 2675,-196.5 2675,-196.5 2675,-182.5 2675,-182.5 2675,-176.5 2681,-170.5 2687,-170.5 2687,-170.5 2733,-170.5 2733,-170.5 2739,-170.5 2745,-176.5 2745,-182.5 2745,-182.5 2745,-196.5 2745,-196.5 2745,-202.5 2739,-208.5 2733,-208.5\"/>\r\n",
       "<text text-anchor=\"middle\" x=\"2710\" y=\"-193.3\" font-family=\"Helvetica,sans-Serif\" font-size=\"14.00\">325</text>\r\n",
       "<text text-anchor=\"middle\" x=\"2710\" y=\"-178.3\" font-family=\"Helvetica,sans-Serif\" font-size=\"14.00\">58.8385</text>\r\n",
       "</g>\r\n",
       "<!-- 26&#45;&gt;44 -->\r\n",
       "<g id=\"edge79\" class=\"edge\"><title>26&#45;&gt;44</title>\r\n",
       "<path fill=\"none\" stroke=\"black\" d=\"M2604.19,-251.868C2625.12,-239.73 2649.92,-225.345 2670.25,-213.555\"/>\r\n",
       "<polygon fill=\"black\" stroke=\"black\" points=\"2672.06,-216.552 2678.95,-208.507 2668.55,-210.496 2672.06,-216.552\"/>\r\n",
       "</g>\r\n",
       "<!-- 45 -->\r\n",
       "<g id=\"node78\" class=\"node\"><title>45</title>\r\n",
       "<path fill=\"#e58139\" fill-opacity=\"0.815686\" stroke=\"black\" d=\"M2651,-119.5C2651,-119.5 2605,-119.5 2605,-119.5 2599,-119.5 2593,-113.5 2593,-107.5 2593,-107.5 2593,-93.5 2593,-93.5 2593,-87.5 2599,-81.5 2605,-81.5 2605,-81.5 2651,-81.5 2651,-81.5 2657,-81.5 2663,-87.5 2663,-93.5 2663,-93.5 2663,-107.5 2663,-107.5 2663,-113.5 2657,-119.5 2651,-119.5\"/>\r\n",
       "<text text-anchor=\"middle\" x=\"2628\" y=\"-104.3\" font-family=\"Helvetica,sans-Serif\" font-size=\"14.00\">585</text>\r\n",
       "<text text-anchor=\"middle\" x=\"2628\" y=\"-89.3\" font-family=\"Helvetica,sans-Serif\" font-size=\"14.00\">55.9998</text>\r\n",
       "</g>\r\n",
       "<!-- 43&#45;&gt;45 -->\r\n",
       "<g id=\"edge77\" class=\"edge\"><title>43&#45;&gt;45</title>\r\n",
       "<path fill=\"none\" stroke=\"black\" d=\"M2589.2,-162.868C2596.09,-151.982 2604.11,-139.289 2611.07,-128.281\"/>\r\n",
       "<polygon fill=\"black\" stroke=\"black\" points=\"2614.23,-129.83 2616.62,-119.507 2608.31,-126.089 2614.23,-129.83\"/>\r\n",
       "</g>\r\n",
       "<!-- 46 -->\r\n",
       "<g id=\"node79\" class=\"node\"><title>46</title>\r\n",
       "<path fill=\"#e58139\" fill-opacity=\"0.690196\" stroke=\"black\" d=\"M2739,-119.5C2739,-119.5 2693,-119.5 2693,-119.5 2687,-119.5 2681,-113.5 2681,-107.5 2681,-107.5 2681,-93.5 2681,-93.5 2681,-87.5 2687,-81.5 2693,-81.5 2693,-81.5 2739,-81.5 2739,-81.5 2745,-81.5 2751,-87.5 2751,-93.5 2751,-93.5 2751,-107.5 2751,-107.5 2751,-113.5 2745,-119.5 2739,-119.5\"/>\r\n",
       "<text text-anchor=\"middle\" x=\"2716\" y=\"-104.3\" font-family=\"Helvetica,sans-Serif\" font-size=\"14.00\">368</text>\r\n",
       "<text text-anchor=\"middle\" x=\"2716\" y=\"-89.3\" font-family=\"Helvetica,sans-Serif\" font-size=\"14.00\">49.4263</text>\r\n",
       "</g>\r\n",
       "<!-- 43&#45;&gt;46 -->\r\n",
       "<g id=\"edge78\" class=\"edge\"><title>43&#45;&gt;46</title>\r\n",
       "<path fill=\"none\" stroke=\"black\" d=\"M2615.13,-162.868C2634.99,-150.784 2658.51,-136.474 2677.84,-124.714\"/>\r\n",
       "<polygon fill=\"black\" stroke=\"black\" points=\"2679.68,-127.694 2686.4,-119.507 2676.04,-121.714 2679.68,-127.694\"/>\r\n",
       "</g>\r\n",
       "<!-- 31 -->\r\n",
       "<g id=\"node82\" class=\"node\"><title>31</title>\r\n",
       "<path fill=\"#e58139\" fill-opacity=\"0.796078\" stroke=\"black\" d=\"M2779.5,-394C2779.5,-394 2648.5,-394 2648.5,-394 2642.5,-394 2636.5,-388 2636.5,-382 2636.5,-382 2636.5,-353 2636.5,-353 2636.5,-347 2642.5,-341 2648.5,-341 2648.5,-341 2779.5,-341 2779.5,-341 2785.5,-341 2791.5,-347 2791.5,-353 2791.5,-353 2791.5,-382 2791.5,-382 2791.5,-388 2785.5,-394 2779.5,-394\"/>\r\n",
       "<text text-anchor=\"middle\" x=\"2714\" y=\"-378.8\" font-family=\"Helvetica,sans-Serif\" font-size=\"14.00\">reserve&#45;24 &lt;= 70.005</text>\r\n",
       "<text text-anchor=\"middle\" x=\"2714\" y=\"-363.8\" font-family=\"Helvetica,sans-Serif\" font-size=\"14.00\">845</text>\r\n",
       "<text text-anchor=\"middle\" x=\"2714\" y=\"-348.8\" font-family=\"Helvetica,sans-Serif\" font-size=\"14.00\">55.1254</text>\r\n",
       "</g>\r\n",
       "<!-- 6&#45;&gt;31 -->\r\n",
       "<g id=\"edge81\" class=\"edge\"><title>6&#45;&gt;31</title>\r\n",
       "<path fill=\"none\" stroke=\"black\" d=\"M2714,-429.868C2714,-421.886 2714,-412.932 2714,-404.384\"/>\r\n",
       "<polygon fill=\"black\" stroke=\"black\" points=\"2717.5,-404.25 2714,-394.25 2710.5,-404.25 2717.5,-404.25\"/>\r\n",
       "</g>\r\n",
       "<!-- 32 -->\r\n",
       "<g id=\"node85\" class=\"node\"><title>32</title>\r\n",
       "<path fill=\"#e58139\" fill-opacity=\"0.898039\" stroke=\"black\" d=\"M2986.5,-394C2986.5,-394 2843.5,-394 2843.5,-394 2837.5,-394 2831.5,-388 2831.5,-382 2831.5,-382 2831.5,-353 2831.5,-353 2831.5,-347 2837.5,-341 2843.5,-341 2843.5,-341 2986.5,-341 2986.5,-341 2992.5,-341 2998.5,-347 2998.5,-353 2998.5,-353 2998.5,-382 2998.5,-382 2998.5,-388 2992.5,-394 2986.5,-394\"/>\r\n",
       "<text text-anchor=\"middle\" x=\"2915\" y=\"-378.8\" font-family=\"Helvetica,sans-Serif\" font-size=\"14.00\">demand&#45;24 &lt;= 30914.5</text>\r\n",
       "<text text-anchor=\"middle\" x=\"2915\" y=\"-363.8\" font-family=\"Helvetica,sans-Serif\" font-size=\"14.00\">1663</text>\r\n",
       "<text text-anchor=\"middle\" x=\"2915\" y=\"-348.8\" font-family=\"Helvetica,sans-Serif\" font-size=\"14.00\">60.468</text>\r\n",
       "</g>\r\n",
       "<!-- 6&#45;&gt;32 -->\r\n",
       "<g id=\"edge84\" class=\"edge\"><title>6&#45;&gt;32</title>\r\n",
       "<path fill=\"none\" stroke=\"black\" d=\"M2772.95,-429.985C2796.06,-419.981 2822.73,-408.438 2846.68,-398.073\"/>\r\n",
       "<polygon fill=\"black\" stroke=\"black\" points=\"2848.27,-401.199 2856.05,-394.015 2845.49,-394.775 2848.27,-401.199\"/>\r\n",
       "</g>\r\n",
       "<!-- 47 -->\r\n",
       "<g id=\"node83\" class=\"node\"><title>47</title>\r\n",
       "<path fill=\"#e58139\" fill-opacity=\"0.737255\" stroke=\"black\" d=\"M2715,-297.5C2715,-297.5 2669,-297.5 2669,-297.5 2663,-297.5 2657,-291.5 2657,-285.5 2657,-285.5 2657,-271.5 2657,-271.5 2657,-265.5 2663,-259.5 2669,-259.5 2669,-259.5 2715,-259.5 2715,-259.5 2721,-259.5 2727,-265.5 2727,-271.5 2727,-271.5 2727,-285.5 2727,-285.5 2727,-291.5 2721,-297.5 2715,-297.5\"/>\r\n",
       "<text text-anchor=\"middle\" x=\"2692\" y=\"-282.3\" font-family=\"Helvetica,sans-Serif\" font-size=\"14.00\">371</text>\r\n",
       "<text text-anchor=\"middle\" x=\"2692\" y=\"-267.3\" font-family=\"Helvetica,sans-Serif\" font-size=\"14.00\">51.9057</text>\r\n",
       "</g>\r\n",
       "<!-- 31&#45;&gt;47 -->\r\n",
       "<g id=\"edge82\" class=\"edge\"><title>31&#45;&gt;47</title>\r\n",
       "<path fill=\"none\" stroke=\"black\" d=\"M2707.52,-340.868C2704.85,-330.308 2701.75,-318.049 2699.02,-307.276\"/>\r\n",
       "<polygon fill=\"black\" stroke=\"black\" points=\"2702.4,-306.343 2696.55,-297.507 2695.61,-308.06 2702.4,-306.343\"/>\r\n",
       "</g>\r\n",
       "<!-- 48 -->\r\n",
       "<g id=\"node84\" class=\"node\"><title>48</title>\r\n",
       "<path fill=\"#e58139\" fill-opacity=\"0.843137\" stroke=\"black\" d=\"M2803,-297.5C2803,-297.5 2757,-297.5 2757,-297.5 2751,-297.5 2745,-291.5 2745,-285.5 2745,-285.5 2745,-271.5 2745,-271.5 2745,-265.5 2751,-259.5 2757,-259.5 2757,-259.5 2803,-259.5 2803,-259.5 2809,-259.5 2815,-265.5 2815,-271.5 2815,-271.5 2815,-285.5 2815,-285.5 2815,-291.5 2809,-297.5 2803,-297.5\"/>\r\n",
       "<text text-anchor=\"middle\" x=\"2780\" y=\"-282.3\" font-family=\"Helvetica,sans-Serif\" font-size=\"14.00\">474</text>\r\n",
       "<text text-anchor=\"middle\" x=\"2780\" y=\"-267.3\" font-family=\"Helvetica,sans-Serif\" font-size=\"14.00\">57.6454</text>\r\n",
       "</g>\r\n",
       "<!-- 31&#45;&gt;48 -->\r\n",
       "<g id=\"edge83\" class=\"edge\"><title>31&#45;&gt;48</title>\r\n",
       "<path fill=\"none\" stroke=\"black\" d=\"M2733.45,-340.868C2741.87,-329.764 2751.72,-316.78 2760.18,-305.622\"/>\r\n",
       "<polygon fill=\"black\" stroke=\"black\" points=\"2763.08,-307.589 2766.34,-297.507 2757.51,-303.358 2763.08,-307.589\"/>\r\n",
       "</g>\r\n",
       "<!-- 37 -->\r\n",
       "<g id=\"node86\" class=\"node\"><title>37</title>\r\n",
       "<path fill=\"#e58139\" fill-opacity=\"0.956863\" stroke=\"black\" d=\"M2984.5,-305C2984.5,-305 2845.5,-305 2845.5,-305 2839.5,-305 2833.5,-299 2833.5,-293 2833.5,-293 2833.5,-264 2833.5,-264 2833.5,-258 2839.5,-252 2845.5,-252 2845.5,-252 2984.5,-252 2984.5,-252 2990.5,-252 2996.5,-258 2996.5,-264 2996.5,-264 2996.5,-293 2996.5,-293 2996.5,-299 2990.5,-305 2984.5,-305\"/>\r\n",
       "<text text-anchor=\"middle\" x=\"2915\" y=\"-289.8\" font-family=\"Helvetica,sans-Serif\" font-size=\"14.00\">reserve&#45;24 &lt;= 71.1009</text>\r\n",
       "<text text-anchor=\"middle\" x=\"2915\" y=\"-274.8\" font-family=\"Helvetica,sans-Serif\" font-size=\"14.00\">628</text>\r\n",
       "<text text-anchor=\"middle\" x=\"2915\" y=\"-259.8\" font-family=\"Helvetica,sans-Serif\" font-size=\"14.00\">63.5335</text>\r\n",
       "</g>\r\n",
       "<!-- 32&#45;&gt;37 -->\r\n",
       "<g id=\"edge85\" class=\"edge\"><title>32&#45;&gt;37</title>\r\n",
       "<path fill=\"none\" stroke=\"black\" d=\"M2915,-340.868C2915,-332.886 2915,-323.932 2915,-315.384\"/>\r\n",
       "<polygon fill=\"black\" stroke=\"black\" points=\"2918.5,-315.25 2915,-305.25 2911.5,-315.25 2918.5,-315.25\"/>\r\n",
       "</g>\r\n",
       "<!-- 38 -->\r\n",
       "<g id=\"node89\" class=\"node\"><title>38</title>\r\n",
       "<path fill=\"#e58139\" fill-opacity=\"0.862745\" stroke=\"black\" d=\"M3157.5,-305C3157.5,-305 3026.5,-305 3026.5,-305 3020.5,-305 3014.5,-299 3014.5,-293 3014.5,-293 3014.5,-264 3014.5,-264 3014.5,-258 3020.5,-252 3026.5,-252 3026.5,-252 3157.5,-252 3157.5,-252 3163.5,-252 3169.5,-258 3169.5,-264 3169.5,-264 3169.5,-293 3169.5,-293 3169.5,-299 3163.5,-305 3157.5,-305\"/>\r\n",
       "<text text-anchor=\"middle\" x=\"3092\" y=\"-289.8\" font-family=\"Helvetica,sans-Serif\" font-size=\"14.00\">reserve&#45;24 &lt;= 74.875</text>\r\n",
       "<text text-anchor=\"middle\" x=\"3092\" y=\"-274.8\" font-family=\"Helvetica,sans-Serif\" font-size=\"14.00\">1035</text>\r\n",
       "<text text-anchor=\"middle\" x=\"3092\" y=\"-259.8\" font-family=\"Helvetica,sans-Serif\" font-size=\"14.00\">58.6079</text>\r\n",
       "</g>\r\n",
       "<!-- 32&#45;&gt;38 -->\r\n",
       "<g id=\"edge88\" class=\"edge\"><title>32&#45;&gt;38</title>\r\n",
       "<path fill=\"none\" stroke=\"black\" d=\"M2967.15,-340.868C2987.13,-331.044 3010.12,-319.748 3030.87,-309.548\"/>\r\n",
       "<polygon fill=\"black\" stroke=\"black\" points=\"3032.49,-312.652 3039.92,-305.099 3029.4,-306.369 3032.49,-312.652\"/>\r\n",
       "</g>\r\n",
       "<!-- 65 -->\r\n",
       "<g id=\"node87\" class=\"node\"><title>65</title>\r\n",
       "<path fill=\"#e58139\" fill-opacity=\"0.905882\" stroke=\"black\" d=\"M2872,-208.5C2872,-208.5 2826,-208.5 2826,-208.5 2820,-208.5 2814,-202.5 2814,-196.5 2814,-196.5 2814,-182.5 2814,-182.5 2814,-176.5 2820,-170.5 2826,-170.5 2826,-170.5 2872,-170.5 2872,-170.5 2878,-170.5 2884,-176.5 2884,-182.5 2884,-182.5 2884,-196.5 2884,-196.5 2884,-202.5 2878,-208.5 2872,-208.5\"/>\r\n",
       "<text text-anchor=\"middle\" x=\"2849\" y=\"-193.3\" font-family=\"Helvetica,sans-Serif\" font-size=\"14.00\">294</text>\r\n",
       "<text text-anchor=\"middle\" x=\"2849\" y=\"-178.3\" font-family=\"Helvetica,sans-Serif\" font-size=\"14.00\">60.8149</text>\r\n",
       "</g>\r\n",
       "<!-- 37&#45;&gt;65 -->\r\n",
       "<g id=\"edge86\" class=\"edge\"><title>37&#45;&gt;65</title>\r\n",
       "<path fill=\"none\" stroke=\"black\" d=\"M2895.55,-251.868C2887.13,-240.764 2877.28,-227.78 2868.82,-216.622\"/>\r\n",
       "<polygon fill=\"black\" stroke=\"black\" points=\"2871.49,-214.358 2862.66,-208.507 2865.92,-218.589 2871.49,-214.358\"/>\r\n",
       "</g>\r\n",
       "<!-- 66 -->\r\n",
       "<g id=\"node88\" class=\"node\"><title>66</title>\r\n",
       "<path fill=\"#e58139\" stroke=\"black\" d=\"M2960,-208.5C2960,-208.5 2914,-208.5 2914,-208.5 2908,-208.5 2902,-202.5 2902,-196.5 2902,-196.5 2902,-182.5 2902,-182.5 2902,-176.5 2908,-170.5 2914,-170.5 2914,-170.5 2960,-170.5 2960,-170.5 2966,-170.5 2972,-176.5 2972,-182.5 2972,-182.5 2972,-196.5 2972,-196.5 2972,-202.5 2966,-208.5 2960,-208.5\"/>\r\n",
       "<text text-anchor=\"middle\" x=\"2937\" y=\"-193.3\" font-family=\"Helvetica,sans-Serif\" font-size=\"14.00\">334</text>\r\n",
       "<text text-anchor=\"middle\" x=\"2937\" y=\"-178.3\" font-family=\"Helvetica,sans-Serif\" font-size=\"14.00\">65.9266</text>\r\n",
       "</g>\r\n",
       "<!-- 37&#45;&gt;66 -->\r\n",
       "<g id=\"edge87\" class=\"edge\"><title>37&#45;&gt;66</title>\r\n",
       "<path fill=\"none\" stroke=\"black\" d=\"M2921.48,-251.868C2924.15,-241.308 2927.25,-229.049 2929.98,-218.276\"/>\r\n",
       "<polygon fill=\"black\" stroke=\"black\" points=\"2933.39,-219.06 2932.45,-208.507 2926.6,-217.343 2933.39,-219.06\"/>\r\n",
       "</g>\r\n",
       "<!-- 57 -->\r\n",
       "<g id=\"node90\" class=\"node\"><title>57</title>\r\n",
       "<path fill=\"#e58139\" fill-opacity=\"0.835294\" stroke=\"black\" d=\"M3130,-216C3130,-216 3028,-216 3028,-216 3022,-216 3016,-210 3016,-204 3016,-204 3016,-175 3016,-175 3016,-169 3022,-163 3028,-163 3028,-163 3130,-163 3130,-163 3136,-163 3142,-169 3142,-175 3142,-175 3142,-204 3142,-204 3142,-210 3136,-216 3130,-216\"/>\r\n",
       "<text text-anchor=\"middle\" x=\"3079\" y=\"-200.8\" font-family=\"Helvetica,sans-Serif\" font-size=\"14.00\">spot&#45;24 &lt;= 66.51</text>\r\n",
       "<text text-anchor=\"middle\" x=\"3079\" y=\"-185.8\" font-family=\"Helvetica,sans-Serif\" font-size=\"14.00\">715</text>\r\n",
       "<text text-anchor=\"middle\" x=\"3079\" y=\"-170.8\" font-family=\"Helvetica,sans-Serif\" font-size=\"14.00\">57.2067</text>\r\n",
       "</g>\r\n",
       "<!-- 38&#45;&gt;57 -->\r\n",
       "<g id=\"edge89\" class=\"edge\"><title>38&#45;&gt;57</title>\r\n",
       "<path fill=\"none\" stroke=\"black\" d=\"M3088.17,-251.868C3086.98,-243.886 3085.64,-234.932 3084.36,-226.384\"/>\r\n",
       "<polygon fill=\"black\" stroke=\"black\" points=\"3087.79,-225.623 3082.85,-216.25 3080.86,-226.657 3087.79,-225.623\"/>\r\n",
       "</g>\r\n",
       "<!-- 58 -->\r\n",
       "<g id=\"node93\" class=\"node\"><title>58</title>\r\n",
       "<path fill=\"#e58139\" fill-opacity=\"0.921569\" stroke=\"black\" d=\"M3218,-208.5C3218,-208.5 3172,-208.5 3172,-208.5 3166,-208.5 3160,-202.5 3160,-196.5 3160,-196.5 3160,-182.5 3160,-182.5 3160,-176.5 3166,-170.5 3172,-170.5 3172,-170.5 3218,-170.5 3218,-170.5 3224,-170.5 3230,-176.5 3230,-182.5 3230,-182.5 3230,-196.5 3230,-196.5 3230,-202.5 3224,-208.5 3218,-208.5\"/>\r\n",
       "<text text-anchor=\"middle\" x=\"3195\" y=\"-193.3\" font-family=\"Helvetica,sans-Serif\" font-size=\"14.00\">320</text>\r\n",
       "<text text-anchor=\"middle\" x=\"3195\" y=\"-178.3\" font-family=\"Helvetica,sans-Serif\" font-size=\"14.00\">61.7387</text>\r\n",
       "</g>\r\n",
       "<!-- 38&#45;&gt;58 -->\r\n",
       "<g id=\"edge92\" class=\"edge\"><title>38&#45;&gt;58</title>\r\n",
       "<path fill=\"none\" stroke=\"black\" d=\"M3122.35,-251.868C3136.14,-240.22 3152.38,-226.503 3166,-214.995\"/>\r\n",
       "<polygon fill=\"black\" stroke=\"black\" points=\"3168.3,-217.633 3173.68,-208.507 3163.78,-212.286 3168.3,-217.633\"/>\r\n",
       "</g>\r\n",
       "<!-- 59 -->\r\n",
       "<g id=\"node91\" class=\"node\"><title>59</title>\r\n",
       "<path fill=\"#e58139\" fill-opacity=\"0.882353\" stroke=\"black\" d=\"M3058,-119.5C3058,-119.5 3012,-119.5 3012,-119.5 3006,-119.5 3000,-113.5 3000,-107.5 3000,-107.5 3000,-93.5 3000,-93.5 3000,-87.5 3006,-81.5 3012,-81.5 3012,-81.5 3058,-81.5 3058,-81.5 3064,-81.5 3070,-87.5 3070,-93.5 3070,-93.5 3070,-107.5 3070,-107.5 3070,-113.5 3064,-119.5 3058,-119.5\"/>\r\n",
       "<text text-anchor=\"middle\" x=\"3035\" y=\"-104.3\" font-family=\"Helvetica,sans-Serif\" font-size=\"14.00\">413</text>\r\n",
       "<text text-anchor=\"middle\" x=\"3035\" y=\"-89.3\" font-family=\"Helvetica,sans-Serif\" font-size=\"14.00\">59.7012</text>\r\n",
       "</g>\r\n",
       "<!-- 57&#45;&gt;59 -->\r\n",
       "<g id=\"edge90\" class=\"edge\"><title>57&#45;&gt;59</title>\r\n",
       "<path fill=\"none\" stroke=\"black\" d=\"M3066.04,-162.868C3060.59,-152.091 3054.24,-139.542 3048.71,-128.611\"/>\r\n",
       "<polygon fill=\"black\" stroke=\"black\" points=\"3051.74,-126.851 3044.11,-119.507 3045.5,-130.01 3051.74,-126.851\"/>\r\n",
       "</g>\r\n",
       "<!-- 60 -->\r\n",
       "<g id=\"node92\" class=\"node\"><title>60</title>\r\n",
       "<path fill=\"#e58139\" fill-opacity=\"0.772549\" stroke=\"black\" d=\"M3146,-119.5C3146,-119.5 3100,-119.5 3100,-119.5 3094,-119.5 3088,-113.5 3088,-107.5 3088,-107.5 3088,-93.5 3088,-93.5 3088,-87.5 3094,-81.5 3100,-81.5 3100,-81.5 3146,-81.5 3146,-81.5 3152,-81.5 3158,-87.5 3158,-93.5 3158,-93.5 3158,-107.5 3158,-107.5 3158,-113.5 3152,-119.5 3146,-119.5\"/>\r\n",
       "<text text-anchor=\"middle\" x=\"3123\" y=\"-104.3\" font-family=\"Helvetica,sans-Serif\" font-size=\"14.00\">302</text>\r\n",
       "<text text-anchor=\"middle\" x=\"3123\" y=\"-89.3\" font-family=\"Helvetica,sans-Serif\" font-size=\"14.00\">53.7953</text>\r\n",
       "</g>\r\n",
       "<!-- 57&#45;&gt;60 -->\r\n",
       "<g id=\"edge91\" class=\"edge\"><title>57&#45;&gt;60</title>\r\n",
       "<path fill=\"none\" stroke=\"black\" d=\"M3091.96,-162.868C3097.41,-152.091 3103.76,-139.542 3109.29,-128.611\"/>\r\n",
       "<polygon fill=\"black\" stroke=\"black\" points=\"3112.5,-130.01 3113.89,-119.507 3106.26,-126.851 3112.5,-130.01\"/>\r\n",
       "</g>\r\n",
       "</g>\r\n",
       "</svg>\r\n"
      ],
      "text/plain": [
       "<graphviz.files.Source at 0x25306b8b1d0>"
      ]
     },
     "execution_count": 24,
     "metadata": {},
     "output_type": "execute_result"
    }
   ],
   "source": [
    "#Plot tree with graphviz\n",
    "export_graphviz(tree, out_file=\"mytree.dot\", max_depth=None, feature_names=features_list, label='none',\n",
    "               filled=True, leaves_parallel=False, impurity=False, node_ids=False, proportion=False, rotate=False,\n",
    "               rounded=True, special_characters=False)\n",
    "with open(\"mytree.dot\") as f:\n",
    "    dot_graph = f.read()\n",
    "graphviz.Source(dot_graph)"
   ]
  },
  {
   "cell_type": "markdown",
   "metadata": {},
   "source": [
    "### Random Forest Regressor"
   ]
  },
  {
   "cell_type": "code",
   "execution_count": 28,
   "metadata": {
    "collapsed": true
   },
   "outputs": [],
   "source": [
    "from sklearn.ensemble import RandomForestRegressor"
   ]
  },
  {
   "cell_type": "code",
   "execution_count": 29,
   "metadata": {
    "collapsed": true
   },
   "outputs": [],
   "source": [
    "rfr = RandomForestRegressor()"
   ]
  },
  {
   "cell_type": "code",
   "execution_count": 30,
   "metadata": {
    "collapsed": true
   },
   "outputs": [],
   "source": [
    "params_forest = {\n",
    "    'n_estimators':np.linspace(5, 200, 50).astype(int),\n",
    "    'n_jobs':[-1],\n",
    "    'criterion':['mse'], 'bootstrap':[True],\n",
    "    'max_features':['log2', 'sqrt'],\n",
    "    'max_depth':np.arange(2,10), 'min_samples_split':np.linspace(50, 1000, 200).astype(int),\n",
    "    'min_samples_leaf': np.linspace(200, 2500, 50).astype(int), 'max_leaf_nodes': np.linspace(10,180, 40).astype(int)\n",
    "}"
   ]
  },
  {
   "cell_type": "code",
   "execution_count": 31,
   "metadata": {
    "collapsed": true
   },
   "outputs": [],
   "source": [
    "kf = KFold(n_splits=5, random_state=0)\n",
    "\n",
    "#Randomized Search CV for random forest\n",
    "random_search = RandomizedSearchCV(rfr, param_distributions=params_forest, n_jobs=-1, n_iter=350,\n",
    "                                scoring='neg_mean_squared_error', cv=list(kf.split(x_train,y_train)), random_state=0)"
   ]
  },
  {
   "cell_type": "code",
   "execution_count": 32,
   "metadata": {
    "collapsed": false
   },
   "outputs": [
    {
     "name": "stdout",
     "output_type": "stream",
     "text": [
      "Wall time: 11min 54s\n"
     ]
    },
    {
     "data": {
      "text/plain": [
       "RandomizedSearchCV(cv=[(array([ 4205,  4206, ..., 21022, 21023]), array([   0,    1, ..., 4203, 4204])), (array([    0,     1, ..., 21022, 21023]), array([4205, 4206, ..., 8408, 8409])), (array([    0,     1, ..., 21022, 21023]), array([ 8410,  8411, ..., 12613, 12614])), (array([    0,     1, ..., 21022, 21023]), array([12615, 12616, ..., 16818, 16819])), (array([    0,     1, ..., 16818, 16819]), array([16820, 16821, ..., 21022, 21023]))],\n",
       "          error_score='raise',\n",
       "          estimator=RandomForestRegressor(bootstrap=True, criterion='mse', max_depth=None,\n",
       "           max_features='auto', max_leaf_nodes=None,\n",
       "           min_impurity_split=1e-07, min_samples_leaf=1,\n",
       "           min_samples_split=2, min_weight_fraction_leaf=0.0,\n",
       "           n_estimators=10, n_jobs=1, oob_score=False, random_state=None,\n",
       "           verbose=0, warm_start=False),\n",
       "          fit_params={}, iid=True, n_iter=350, n_jobs=-1,\n",
       "          param_distributions={'n_estimators': array([  5,   8,  12,  16,  20,  24,  28,  32,  36,  40,  44,  48,  52,\n",
       "        56,  60,  64,  68,  72,  76,  80,  84,  88,  92,  96, 100, 104,\n",
       "       108, 112, 116, 120, 124, 128, 132, 136, 140, 144, 148, 152, 156,\n",
       "       160, 164, 168, 172, 176, 180, 184, 188, ...bootstrap': [True], 'criterion': ['mse'], 'min_samples_split': array([  50,   54, ...,  995, 1000])},\n",
       "          pre_dispatch='2*n_jobs', random_state=0, refit=True,\n",
       "          return_train_score=True, scoring='neg_mean_squared_error',\n",
       "          verbose=0)"
      ]
     },
     "execution_count": 32,
     "metadata": {},
     "output_type": "execute_result"
    }
   ],
   "source": [
    "%%time\n",
    "random_search.fit(x_train, y_train);"
   ]
  },
  {
   "cell_type": "code",
   "execution_count": 33,
   "metadata": {
    "collapsed": false
   },
   "outputs": [
    {
     "name": "stdout",
     "output_type": "stream",
     "text": [
      "{'bootstrap': True, 'n_estimators': 80, 'max_leaf_nodes': 136, 'n_jobs': -1, 'min_samples_leaf': 200, 'max_depth': 9, 'min_samples_split': 183, 'criterion': 'mse', 'max_features': 'log2'}\n"
     ]
    }
   ],
   "source": [
    "best_params = random_search.cv_results_['params'][np.flatnonzero(random_search.cv_results_['rank_test_score']==1)[0]]\n",
    "print(best_params)"
   ]
  },
  {
   "cell_type": "code",
   "execution_count": 34,
   "metadata": {
    "collapsed": false
   },
   "outputs": [
    {
     "data": {
      "text/plain": [
       "RandomForestRegressor(bootstrap=True, criterion='mse', max_depth=9,\n",
       "           max_features='log2', max_leaf_nodes=136,\n",
       "           min_impurity_split=1e-07, min_samples_leaf=200,\n",
       "           min_samples_split=183, min_weight_fraction_leaf=0.0,\n",
       "           n_estimators=80, n_jobs=-1, oob_score=False, random_state=0,\n",
       "           verbose=0, warm_start=False)"
      ]
     },
     "execution_count": 34,
     "metadata": {},
     "output_type": "execute_result"
    }
   ],
   "source": [
    "rfr.set_params(**best_params, random_state=0)"
   ]
  },
  {
   "cell_type": "code",
   "execution_count": 35,
   "metadata": {
    "collapsed": false
   },
   "outputs": [
    {
     "name": "stdout",
     "output_type": "stream",
     "text": [
      "Mean absolute error: 12.3761 +- 0.1000\n",
      "Mean squared error: 329.9217 +- 54.7895\n"
     ]
    }
   ],
   "source": [
    "#CV with kfold=5\n",
    "kf = KFold(n_splits=5, random_state=0)\n",
    "\n",
    "CV_mse = list()\n",
    "CV_mae = list()\n",
    "\n",
    "for train_index, test_index in kf.split(x_train, y_train):\n",
    "    rfr.fit(x_train[train_index], y_train[train_index])\n",
    "    y_pred = rfr.predict(x_train[test_index])\n",
    "    CV_mae.append(mean_absolute_error(y_train[test_index], y_pred))\n",
    "    CV_mse.append(mean_squared_error(y_train[test_index], y_pred))\n",
    "    \n",
    "print('Mean absolute error: %0.4f +- %0.4f' %(np.mean(CV_mae), 2*np.std(CV_mae)))\n",
    "print('Mean squared error: %0.4f +- %0.4f' %(np.mean(CV_mse), 2*np.std(CV_mse)))"
   ]
  },
  {
   "cell_type": "code",
   "execution_count": 36,
   "metadata": {
    "collapsed": false
   },
   "outputs": [
    {
     "data": {
      "text/plain": [
       "([12.370737507284678,\n",
       "  12.42297648826235,\n",
       "  12.435135814391513,\n",
       "  12.296252551775908,\n",
       "  12.355590482061242],\n",
       " [322.6717675151138,\n",
       "  311.11002803260789,\n",
       "  314.50549644279965,\n",
       "  384.18711488501475,\n",
       "  317.13410139930869])"
      ]
     },
     "execution_count": 36,
     "metadata": {},
     "output_type": "execute_result"
    }
   ],
   "source": [
    "CV_mae, CV_mse"
   ]
  },
  {
   "cell_type": "code",
   "execution_count": 37,
   "metadata": {
    "collapsed": false
   },
   "outputs": [
    {
     "data": {
      "text/plain": [
       "RandomForestRegressor(bootstrap=True, criterion='mse', max_depth=9,\n",
       "           max_features='log2', max_leaf_nodes=136,\n",
       "           min_impurity_split=1e-07, min_samples_leaf=200,\n",
       "           min_samples_split=183, min_weight_fraction_leaf=0.0,\n",
       "           n_estimators=80, n_jobs=-1, oob_score=False, random_state=0,\n",
       "           verbose=0, warm_start=False)"
      ]
     },
     "execution_count": 37,
     "metadata": {},
     "output_type": "execute_result"
    }
   ],
   "source": [
    "rfr.fit(x_train, y_train)"
   ]
  },
  {
   "cell_type": "code",
   "execution_count": 38,
   "metadata": {
    "collapsed": false
   },
   "outputs": [
    {
     "name": "stdout",
     "output_type": "stream",
     "text": [
      "Training MAE: 12.2136644426, Training MSE: 322.356562324\n"
     ]
    }
   ],
   "source": [
    "print('Training MAE: ' +str(mean_absolute_error(y_train, rfr.predict(x_train)))+', Training MSE: ' +\n",
    "      str(mean_squared_error(y_train, rfr.predict(x_train))))"
   ]
  },
  {
   "cell_type": "code",
   "execution_count": 39,
   "metadata": {
    "collapsed": false
   },
   "outputs": [
    {
     "name": "stdout",
     "output_type": "stream",
     "text": [
      "MAE: 12.0581252338, MSE: 306.585430029\n"
     ]
    },
    {
     "data": {
      "text/html": [
       "<div>\n",
       "<table border=\"1\" class=\"dataframe\">\n",
       "  <thead>\n",
       "    <tr style=\"text-align: right;\">\n",
       "      <th></th>\n",
       "      <th>0</th>\n",
       "    </tr>\n",
       "  </thead>\n",
       "  <tbody>\n",
       "    <tr>\n",
       "      <th>spot</th>\n",
       "      <td>0.305548</td>\n",
       "    </tr>\n",
       "    <tr>\n",
       "      <th>demand</th>\n",
       "      <td>0.017494</td>\n",
       "    </tr>\n",
       "    <tr>\n",
       "      <th>off_peak</th>\n",
       "      <td>0.012211</td>\n",
       "    </tr>\n",
       "    <tr>\n",
       "      <th>Wd</th>\n",
       "      <td>0.002564</td>\n",
       "    </tr>\n",
       "    <tr>\n",
       "      <th>winter</th>\n",
       "      <td>0.003737</td>\n",
       "    </tr>\n",
       "    <tr>\n",
       "      <th>demand-1</th>\n",
       "      <td>0.020845</td>\n",
       "    </tr>\n",
       "    <tr>\n",
       "      <th>demand-24</th>\n",
       "      <td>0.025283</td>\n",
       "    </tr>\n",
       "    <tr>\n",
       "      <th>spot-1</th>\n",
       "      <td>0.269372</td>\n",
       "    </tr>\n",
       "    <tr>\n",
       "      <th>spot-24</th>\n",
       "      <td>0.121340</td>\n",
       "    </tr>\n",
       "    <tr>\n",
       "      <th>reserve-24</th>\n",
       "      <td>0.221605</td>\n",
       "    </tr>\n",
       "  </tbody>\n",
       "</table>\n",
       "</div>"
      ],
      "text/plain": [
       "                   0\n",
       "spot        0.305548\n",
       "demand      0.017494\n",
       "off_peak    0.012211\n",
       "Wd          0.002564\n",
       "winter      0.003737\n",
       "demand-1    0.020845\n",
       "demand-24   0.025283\n",
       "spot-1      0.269372\n",
       "spot-24     0.121340\n",
       "reserve-24  0.221605"
      ]
     },
     "execution_count": 39,
     "metadata": {},
     "output_type": "execute_result"
    }
   ],
   "source": [
    "#Print test error and feature importance\n",
    "print('MAE: ' +str(mean_absolute_error(y_test, rfr.predict(x_test)))+', MSE: ' +\n",
    "      str(mean_squared_error(y_test, rfr.predict(x_test))))\n",
    "pd.DataFrame(data=rfr.feature_importances_, index=features_list)"
   ]
  },
  {
   "cell_type": "code",
   "execution_count": 40,
   "metadata": {
    "collapsed": true
   },
   "outputs": [],
   "source": [
    "# Customised random forest, this is the final model\n",
    "rfr = RandomForestRegressor(bootstrap=True, criterion='mse', max_depth=9,\n",
    "           max_features='log2', max_leaf_nodes=130,\n",
    "           min_impurity_split=1e-07, min_samples_leaf=250,\n",
    "           min_samples_split=500, min_weight_fraction_leaf=0.0,\n",
    "           n_estimators=80, n_jobs=-1, oob_score=False, random_state=0,\n",
    "           verbose=0, warm_start=False)"
   ]
  },
  {
   "cell_type": "code",
   "execution_count": 41,
   "metadata": {
    "collapsed": false
   },
   "outputs": [
    {
     "name": "stdout",
     "output_type": "stream",
     "text": [
      "Mean absolute error: 12.4054 +- 0.1164\n",
      "Mean squared error: 331.0829 +- 54.5041\n"
     ]
    }
   ],
   "source": [
    "rfr.fit(x_train, y_train)\n",
    "#CV with kfold=5\n",
    "kf = KFold(n_splits=5, random_state=0)\n",
    "\n",
    "CV_mse = list()\n",
    "CV_mae = list()\n",
    "\n",
    "for train_index, test_index in kf.split(x_train, y_train):\n",
    "    rfr.fit(x_train[train_index], y_train[train_index])\n",
    "    y_pred = rfr.predict(x_train[test_index])\n",
    "    CV_mae.append(mean_absolute_error(y_train[test_index], y_pred))\n",
    "    CV_mse.append(mean_squared_error(y_train[test_index], y_pred))\n",
    "    \n",
    "print('Mean absolute error: %0.4f +- %0.4f' %(np.mean(CV_mae), 2*np.std(CV_mae)))\n",
    "print('Mean squared error: %0.4f +- %0.4f' %(np.mean(CV_mse), 2*np.std(CV_mse)))"
   ]
  },
  {
   "cell_type": "code",
   "execution_count": 42,
   "metadata": {
    "collapsed": false
   },
   "outputs": [
    {
     "data": {
      "text/plain": [
       "RandomForestRegressor(bootstrap=True, criterion='mse', max_depth=9,\n",
       "           max_features='log2', max_leaf_nodes=130,\n",
       "           min_impurity_split=1e-07, min_samples_leaf=250,\n",
       "           min_samples_split=500, min_weight_fraction_leaf=0.0,\n",
       "           n_estimators=80, n_jobs=-1, oob_score=False, random_state=0,\n",
       "           verbose=0, warm_start=False)"
      ]
     },
     "execution_count": 42,
     "metadata": {},
     "output_type": "execute_result"
    }
   ],
   "source": [
    "rfr.fit(x_train, y_train)"
   ]
  },
  {
   "cell_type": "code",
   "execution_count": 43,
   "metadata": {
    "collapsed": false
   },
   "outputs": [
    {
     "name": "stdout",
     "output_type": "stream",
     "text": [
      "Training MAE: 12.2598791404, Training MSE: 324.491079508\n"
     ]
    }
   ],
   "source": [
    "print('Training MAE: ' +str(mean_absolute_error(y_train, rfr.predict(x_train)))+', Training MSE: ' +\n",
    "      str(mean_squared_error(y_train, rfr.predict(x_train))))"
   ]
  },
  {
   "cell_type": "code",
   "execution_count": 44,
   "metadata": {
    "collapsed": false
   },
   "outputs": [
    {
     "name": "stdout",
     "output_type": "stream",
     "text": [
      "MAE: 12.0763512461, MSE: 307.568616576\n"
     ]
    },
    {
     "data": {
      "text/html": [
       "<div>\n",
       "<table border=\"1\" class=\"dataframe\">\n",
       "  <thead>\n",
       "    <tr style=\"text-align: right;\">\n",
       "      <th></th>\n",
       "      <th>0</th>\n",
       "    </tr>\n",
       "  </thead>\n",
       "  <tbody>\n",
       "    <tr>\n",
       "      <th>spot</th>\n",
       "      <td>0.305957</td>\n",
       "    </tr>\n",
       "    <tr>\n",
       "      <th>demand</th>\n",
       "      <td>0.015243</td>\n",
       "    </tr>\n",
       "    <tr>\n",
       "      <th>off_peak</th>\n",
       "      <td>0.010892</td>\n",
       "    </tr>\n",
       "    <tr>\n",
       "      <th>Wd</th>\n",
       "      <td>0.002264</td>\n",
       "    </tr>\n",
       "    <tr>\n",
       "      <th>winter</th>\n",
       "      <td>0.003317</td>\n",
       "    </tr>\n",
       "    <tr>\n",
       "      <th>demand-1</th>\n",
       "      <td>0.019297</td>\n",
       "    </tr>\n",
       "    <tr>\n",
       "      <th>demand-24</th>\n",
       "      <td>0.023349</td>\n",
       "    </tr>\n",
       "    <tr>\n",
       "      <th>spot-1</th>\n",
       "      <td>0.274193</td>\n",
       "    </tr>\n",
       "    <tr>\n",
       "      <th>spot-24</th>\n",
       "      <td>0.116955</td>\n",
       "    </tr>\n",
       "    <tr>\n",
       "      <th>reserve-24</th>\n",
       "      <td>0.228532</td>\n",
       "    </tr>\n",
       "  </tbody>\n",
       "</table>\n",
       "</div>"
      ],
      "text/plain": [
       "                   0\n",
       "spot        0.305957\n",
       "demand      0.015243\n",
       "off_peak    0.010892\n",
       "Wd          0.002264\n",
       "winter      0.003317\n",
       "demand-1    0.019297\n",
       "demand-24   0.023349\n",
       "spot-1      0.274193\n",
       "spot-24     0.116955\n",
       "reserve-24  0.228532"
      ]
     },
     "execution_count": 44,
     "metadata": {},
     "output_type": "execute_result"
    }
   ],
   "source": [
    "print('MAE: ' +str(mean_absolute_error(y_test, rfr.predict(x_test)))+', MSE: ' +\n",
    "      str(mean_squared_error(y_test, rfr.predict(x_test))))\n",
    "pd.DataFrame(data=rfr.feature_importances_, index=features_list)"
   ]
  },
  {
   "cell_type": "markdown",
   "metadata": {},
   "source": [
    "### Gradient Boosting"
   ]
  },
  {
   "cell_type": "code",
   "execution_count": 45,
   "metadata": {
    "collapsed": true
   },
   "outputs": [],
   "source": [
    "from sklearn.ensemble import GradientBoostingRegressor"
   ]
  },
  {
   "cell_type": "code",
   "execution_count": 46,
   "metadata": {
    "collapsed": true
   },
   "outputs": [],
   "source": [
    "gbr = GradientBoostingRegressor()"
   ]
  },
  {
   "cell_type": "code",
   "execution_count": 61,
   "metadata": {
    "collapsed": true
   },
   "outputs": [],
   "source": [
    "params_boosting = {\n",
    "    'learning_rate': np.linspace(0.01, 0.1, 10).astype(float),\n",
    "    'n_estimators':np.linspace(10, 200, 50).astype(int),\n",
    "    'criterion':['mse', 'friedman_mse'],\n",
    "    'max_features':['log2', 'sqrt', 'auto'],\n",
    "    'max_depth':np.arange(2,10), 'min_samples_split':np.linspace(50, 1000, 20).astype(int),\n",
    "    'min_samples_leaf': np.linspace(200, 2500, 50).astype(int), 'max_leaf_nodes': np.linspace(10,180, 40).astype(int)\n",
    "}"
   ]
  },
  {
   "cell_type": "code",
   "execution_count": 62,
   "metadata": {
    "collapsed": true
   },
   "outputs": [],
   "source": [
    "kf= KFold(n_splits=5, random_state=0)\n",
    "\n",
    "random_search = RandomizedSearchCV(gbr, param_distributions=params_boosting, n_jobs=-1, n_iter=350,\n",
    "                                scoring='neg_mean_squared_error', cv=list(kf.split(x_train,y_train)), random_state=0)"
   ]
  },
  {
   "cell_type": "code",
   "execution_count": 63,
   "metadata": {
    "collapsed": false
   },
   "outputs": [
    {
     "name": "stdout",
     "output_type": "stream",
     "text": [
      "Wall time: 11min 15s\n"
     ]
    },
    {
     "data": {
      "text/plain": [
       "RandomizedSearchCV(cv=[(array([ 4205,  4206, ..., 21022, 21023]), array([   0,    1, ..., 4203, 4204])), (array([    0,     1, ..., 21022, 21023]), array([4205, 4206, ..., 8408, 8409])), (array([    0,     1, ..., 21022, 21023]), array([ 8410,  8411, ..., 12613, 12614])), (array([    0,     1, ..., 21022, 21023]), array([12615, 12616, ..., 16818, 16819])), (array([    0,     1, ..., 16818, 16819]), array([16820, 16821, ..., 21022, 21023]))],\n",
       "          error_score='raise',\n",
       "          estimator=GradientBoostingRegressor(alpha=0.9, criterion='friedman_mse', init=None,\n",
       "             learning_rate=0.1, loss='ls', max_depth=3, max_features=None,\n",
       "             max_leaf_nodes=None, min_impurity_split=1e-07,\n",
       "             min_samples_leaf=1, min_samples_split=2,\n",
       "             min_weight_fraction_leaf=0.0, n_estimators=100,\n",
       "             presort='auto', random_state=None, subsample=1.0, verbose=0,\n",
       "             warm_start=False),\n",
       "          fit_params={}, iid=True, n_iter=350, n_jobs=-1,\n",
       "          param_distributions={'n_estimators': array([ 10,  13,  17,  21,  25,  29,  33,  37,  41,  44,  48,  52,  56,\n",
       "        60,  64,  68,  72,  75,  79,  83,  87,  91,  95,  99, 103, 106,\n",
       "       110, 114, 118, 122, 126, 130, 134, 137, 141, 145, 149, 153, 157,\n",
       "       161, 165, 168, 172, 176, 180, 184, 188, ...        600,  650,  700,  750,  800,  850,  900,  950, 1000]), 'criterion': ['mse', 'friedman_mse']},\n",
       "          pre_dispatch='2*n_jobs', random_state=0, refit=True,\n",
       "          return_train_score=True, scoring='neg_mean_squared_error',\n",
       "          verbose=0)"
      ]
     },
     "execution_count": 63,
     "metadata": {},
     "output_type": "execute_result"
    }
   ],
   "source": [
    "%%time\n",
    "random_search.fit(x_train, y_train);"
   ]
  },
  {
   "cell_type": "code",
   "execution_count": 64,
   "metadata": {
    "collapsed": false
   },
   "outputs": [
    {
     "name": "stdout",
     "output_type": "stream",
     "text": [
      "{'n_estimators': 110, 'criterion': 'mse', 'max_features': 'sqrt', 'min_samples_leaf': 200, 'max_depth': 7, 'learning_rate': 0.040000000000000008, 'min_samples_split': 350, 'max_leaf_nodes': 101}\n"
     ]
    }
   ],
   "source": [
    "best_params = random_search.cv_results_['params'][np.flatnonzero(random_search.cv_results_['rank_test_score']==1)[0]]\n",
    "print(best_params)"
   ]
  },
  {
   "cell_type": "code",
   "execution_count": 65,
   "metadata": {
    "collapsed": false
   },
   "outputs": [
    {
     "data": {
      "text/plain": [
       "GradientBoostingRegressor(alpha=0.9, criterion='mse', init=None,\n",
       "             learning_rate=0.040000000000000008, loss='ls', max_depth=7,\n",
       "             max_features='sqrt', max_leaf_nodes=101,\n",
       "             min_impurity_split=1e-07, min_samples_leaf=200,\n",
       "             min_samples_split=350, min_weight_fraction_leaf=0.0,\n",
       "             n_estimators=110, presort='auto', random_state=0,\n",
       "             subsample=1.0, verbose=0, warm_start=False)"
      ]
     },
     "execution_count": 65,
     "metadata": {},
     "output_type": "execute_result"
    }
   ],
   "source": [
    "gbr.set_params(**best_params, random_state=0)"
   ]
  },
  {
   "cell_type": "code",
   "execution_count": 66,
   "metadata": {
    "collapsed": false
   },
   "outputs": [
    {
     "name": "stdout",
     "output_type": "stream",
     "text": [
      "Mean absolute error: 12.2004 +- 0.0651\n",
      "Mean squared error: 323.4099 +- 58.4713\n"
     ]
    }
   ],
   "source": [
    "#CV with kfold=5\n",
    "kf = KFold(n_splits=5, random_state=0)\n",
    "\n",
    "CV_mse = list()\n",
    "CV_mae = list()\n",
    "\n",
    "for train_index, test_index in kf.split(x_train, y_train):\n",
    "    gbr.fit(x_train[train_index], y_train[train_index])\n",
    "    y_pred = gbr.predict(x_train[test_index])\n",
    "    CV_mae.append(mean_absolute_error(y_train[test_index], y_pred))\n",
    "    CV_mse.append(mean_squared_error(y_train[test_index], y_pred))\n",
    "    \n",
    "print('Mean absolute error: %0.4f +- %0.4f' %(np.mean(CV_mae), 2*np.std(CV_mae)))\n",
    "print('Mean squared error: %0.4f +- %0.4f' %(np.mean(CV_mse), 2*np.std(CV_mse)))"
   ]
  },
  {
   "cell_type": "code",
   "execution_count": 67,
   "metadata": {
    "collapsed": false
   },
   "outputs": [
    {
     "data": {
      "text/plain": [
       "GradientBoostingRegressor(alpha=0.9, criterion='mse', init=None,\n",
       "             learning_rate=0.040000000000000008, loss='ls', max_depth=7,\n",
       "             max_features='sqrt', max_leaf_nodes=101,\n",
       "             min_impurity_split=1e-07, min_samples_leaf=200,\n",
       "             min_samples_split=350, min_weight_fraction_leaf=0.0,\n",
       "             n_estimators=110, presort='auto', random_state=0,\n",
       "             subsample=1.0, verbose=0, warm_start=False)"
      ]
     },
     "execution_count": 67,
     "metadata": {},
     "output_type": "execute_result"
    }
   ],
   "source": [
    "gbr.fit(x_train, y_train)"
   ]
  },
  {
   "cell_type": "code",
   "execution_count": 69,
   "metadata": {
    "collapsed": false
   },
   "outputs": [
    {
     "name": "stdout",
     "output_type": "stream",
     "text": [
      "Training MAE: 11.7325274555, Training MSE: 300.323927117\n"
     ]
    }
   ],
   "source": [
    "print('Training MAE: ' +str(mean_absolute_error(y_train, gbr.predict(x_train)))+', Training MSE: ' +\n",
    "      str(mean_squared_error(y_train, gbr.predict(x_train))))"
   ]
  },
  {
   "cell_type": "code",
   "execution_count": 70,
   "metadata": {
    "collapsed": false
   },
   "outputs": [
    {
     "name": "stdout",
     "output_type": "stream",
     "text": [
      "MAE: 11.8695324733, MSE: 299.588861019\n"
     ]
    },
    {
     "data": {
      "text/html": [
       "<div>\n",
       "<table border=\"1\" class=\"dataframe\">\n",
       "  <thead>\n",
       "    <tr style=\"text-align: right;\">\n",
       "      <th></th>\n",
       "      <th>0</th>\n",
       "    </tr>\n",
       "  </thead>\n",
       "  <tbody>\n",
       "    <tr>\n",
       "      <th>spot</th>\n",
       "      <td>0.216250</td>\n",
       "    </tr>\n",
       "    <tr>\n",
       "      <th>demand</th>\n",
       "      <td>0.074978</td>\n",
       "    </tr>\n",
       "    <tr>\n",
       "      <th>off_peak</th>\n",
       "      <td>0.012095</td>\n",
       "    </tr>\n",
       "    <tr>\n",
       "      <th>Wd</th>\n",
       "      <td>0.008047</td>\n",
       "    </tr>\n",
       "    <tr>\n",
       "      <th>winter</th>\n",
       "      <td>0.018160</td>\n",
       "    </tr>\n",
       "    <tr>\n",
       "      <th>demand-1</th>\n",
       "      <td>0.086925</td>\n",
       "    </tr>\n",
       "    <tr>\n",
       "      <th>demand-24</th>\n",
       "      <td>0.089541</td>\n",
       "    </tr>\n",
       "    <tr>\n",
       "      <th>spot-1</th>\n",
       "      <td>0.199167</td>\n",
       "    </tr>\n",
       "    <tr>\n",
       "      <th>spot-24</th>\n",
       "      <td>0.126100</td>\n",
       "    </tr>\n",
       "    <tr>\n",
       "      <th>reserve-24</th>\n",
       "      <td>0.168738</td>\n",
       "    </tr>\n",
       "  </tbody>\n",
       "</table>\n",
       "</div>"
      ],
      "text/plain": [
       "                   0\n",
       "spot        0.216250\n",
       "demand      0.074978\n",
       "off_peak    0.012095\n",
       "Wd          0.008047\n",
       "winter      0.018160\n",
       "demand-1    0.086925\n",
       "demand-24   0.089541\n",
       "spot-1      0.199167\n",
       "spot-24     0.126100\n",
       "reserve-24  0.168738"
      ]
     },
     "execution_count": 70,
     "metadata": {},
     "output_type": "execute_result"
    }
   ],
   "source": [
    "print('MAE: ' +str(mean_absolute_error(y_test, gbr.predict(x_test)))+', MSE: ' +\n",
    "      str(mean_squared_error(y_test, gbr.predict(x_test))))\n",
    "pd.DataFrame(data=gbr.feature_importances_, index=features_list)"
   ]
  },
  {
   "cell_type": "code",
   "execution_count": 122,
   "metadata": {
    "collapsed": false
   },
   "outputs": [],
   "source": [
    "#Customized Gradient Boosting\n",
    "gbr = GradientBoostingRegressor(n_estimators=1000, criterion='mse', max_features=None,\n",
    "                               min_samples_leaf=10, max_depth=7, learning_rate=0.02,\n",
    "                                max_leaf_nodes=100, random_state=0)"
   ]
  },
  {
   "cell_type": "code",
   "execution_count": 123,
   "metadata": {
    "collapsed": false
   },
   "outputs": [
    {
     "name": "stdout",
     "output_type": "stream",
     "text": [
      "Mean absolute error: 12.2644 +- 0.1356\n",
      "Mean squared error: 329.7125 +- 58.4854\n"
     ]
    }
   ],
   "source": [
    "kf = KFold(n_splits=5, random_state=0)\n",
    "\n",
    "CV_mse = list()\n",
    "CV_mae = list()\n",
    "\n",
    "for train_index, test_index in kf.split(x_train, y_train):\n",
    "    gbr.fit(x_train[train_index], y_train[train_index])\n",
    "    y_pred = gbr.predict(x_train[test_index])\n",
    "    CV_mae.append(mean_absolute_error(y_train[test_index], y_pred))\n",
    "    CV_mse.append(mean_squared_error(y_train[test_index], y_pred))\n",
    "    \n",
    "print('Mean absolute error: %0.4f +- %0.4f' %(np.mean(CV_mae), 2*np.std(CV_mae)))\n",
    "print('Mean squared error: %0.4f +- %0.4f' %(np.mean(CV_mse), 2*np.std(CV_mse)))"
   ]
  },
  {
   "cell_type": "code",
   "execution_count": null,
   "metadata": {
    "collapsed": true
   },
   "outputs": [],
   "source": []
  },
  {
   "cell_type": "code",
   "execution_count": null,
   "metadata": {
    "collapsed": true
   },
   "outputs": [],
   "source": []
  },
  {
   "cell_type": "code",
   "execution_count": null,
   "metadata": {
    "collapsed": true
   },
   "outputs": [],
   "source": []
  },
  {
   "cell_type": "code",
   "execution_count": null,
   "metadata": {
    "collapsed": true
   },
   "outputs": [],
   "source": []
  },
  {
   "cell_type": "code",
   "execution_count": null,
   "metadata": {
    "collapsed": true
   },
   "outputs": [],
   "source": []
  }
 ],
 "metadata": {
  "kernelspec": {
   "display_name": "Python [Root]",
   "language": "python",
   "name": "Python [Root]"
  },
  "language_info": {
   "codemirror_mode": {
    "name": "ipython",
    "version": 3
   },
   "file_extension": ".py",
   "mimetype": "text/x-python",
   "name": "python",
   "nbconvert_exporter": "python",
   "pygments_lexer": "ipython3",
   "version": "3.5.2"
  }
 },
 "nbformat": 4,
 "nbformat_minor": 0
}
